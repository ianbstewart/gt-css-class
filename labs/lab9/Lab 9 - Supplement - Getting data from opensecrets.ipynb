{
 "cells": [
  {
   "cell_type": "markdown",
   "metadata": {},
   "source": [
    "# Lab 9: Social Network Analysis\n",
    "\n",
    "In this lab, we'll build a social network of US congressional representatives and their major donors.\n",
    "\n",
    "To do this, we'll use the API from https://www.opensecrets.org/, which collects public records on campaign donations to congressional representatives. To query their API, you'll need an API key. \n",
    "\n",
    "- Sign up for an account: https://www.opensecrets.org/api/admin/index.php?function=signup\n",
    "- Then get your API key here: https://www.opensecrets.org/api/admin/index.php?function=user_data\n",
    "- Check the documentation here: https://www.opensecrets.org/api/admin/index.php?function=user_api_list\n",
    "\n",
    "API requests are executed through HTTP, so we'll import urllib and urllib3. Unfortunately, this code might be pretty different in python2. If you can't run it, you can skip ahead and load the CSV file."
   ]
  },
  {
   "cell_type": "code",
   "execution_count": 1,
   "metadata": {
    "collapsed": true
   },
   "outputs": [],
   "source": [
    "import urllib, urllib3"
   ]
  },
  {
   "cell_type": "code",
   "execution_count": 2,
   "metadata": {
    "collapsed": true
   },
   "outputs": [],
   "source": [
    "# generate the URL for an API call\n",
    "def get_url(func,apikey,params):\n",
    "    url = 'http://www.opensecrets.org/api/?method=%s&output=json&apikey=%s&%s' % \\\n",
    "    (func, apikey, urllib.parse.urlencode(params))\n",
    "    return url"
   ]
  },
  {
   "cell_type": "markdown",
   "metadata": {},
   "source": [
    "Sign up with an account on opensecrets.org (free) to get your own API key."
   ]
  },
  {
   "cell_type": "code",
   "execution_count": 3,
   "metadata": {
    "collapsed": true
   },
   "outputs": [],
   "source": [
    "apikey='your key goes here'"
   ]
  },
  {
   "cell_type": "markdown",
   "metadata": {},
   "source": [
    "Let's start by checking out our Georgia legislators."
   ]
  },
  {
   "cell_type": "code",
   "execution_count": 4,
   "metadata": {
    "collapsed": true
   },
   "outputs": [],
   "source": [
    "url=get_url('getLegislators',apikey,{'id':'GA'})"
   ]
  },
  {
   "cell_type": "code",
   "execution_count": 6,
   "metadata": {
    "collapsed": true
   },
   "outputs": [],
   "source": [
    "# in urllib3, you create a PoolManager to make calls \n",
    "http = urllib3.PoolManager()"
   ]
  },
  {
   "cell_type": "code",
   "execution_count": 7,
   "metadata": {
    "collapsed": true
   },
   "outputs": [],
   "source": [
    "response =http.request('GET',url)"
   ]
  },
  {
   "cell_type": "code",
   "execution_count": 8,
   "metadata": {},
   "outputs": [
    {
     "data": {
      "text/plain": [
       "b'{\"response\":{\"legislator\":[{\"@attributes\":{\"cid\":\"N00035346\",\"firstlast\":\"Buddy Carter\",\"lastname\":\"CARTER\",\"party\":\"R\",\"office\":\"GA01\",\"gender\":\"M\",\"first_elected\":\"2014\",\"exit_code\":\"0\",\"comments\":\"\",\"phone\":\"202-225-5831\",\"fax\":\"202-226-2269\",\"website\":\"http:\\\\/\\\\/buddycarter.house.gov\",\"webform\":\"\",\"congress_office\":\"432 Cannon House Office Building\",\"bioguide_id\":\"C001103\",\"votesmart_id\":\"\",\"feccandid\":\"H4GA01039\",\"twitter_id\":\"RepBuddyCarter\",\"youtube_url\":\"\",\"facebook_id\":\"congressmanbuddycarter\",\"birthdate\":\"1957-09-06\"}},{\"@attributes\":{\"cid\":\"N00002674\",\"firstlast\":\"Sanford Bishop\",\"lastname\":\"BISHOP\",\"party\":\"D\",\"office\":\"GA02\",\"gender\":\"M\",\"first_elected\":\"1992\",\"exit_code\":\"0\",\"comments\":\"\",\"phone\":\"202-225-3631\",\"fax\":\"202-225-2203\",\"website\":\"http:\\\\/\\\\/bishop.house.gov\",\"webform\":\"http:\\\\/\\\\/bishop.house.gov\\\\/contact\",\"congress_office\":\"2407 Rayburn House Office Building\",\"bioguide_id\":\"B000490\",\"votesmart_id\":\"26817\",\"feccandid\":\"H2GA02031\",\"twitter_id\":\"SanfordBishop\",\"youtube_url\":\"https:\\\\/\\\\/youtube.com\\\\/RepSanfordBishop\",\"facebook_id\":\"sanfordbishop\",\"birthdate\":\"1947-02-04\"}},{\"@attributes\":{\"cid\":\"N00026163\",\"firstlast\":\"Lynn A Westmoreland\",\"lastname\":\"WESTMORELAND\",\"party\":\"R\",\"office\":\"GA03\",\"gender\":\"M\",\"first_elected\":\"2004\",\"exit_code\":\"4\",\"comments\":\"Retired at end of 114th\",\"phone\":\"202-225-5901\",\"fax\":\"202-225-2515\",\"website\":\"http:\\\\/\\\\/westmoreland.house.gov\",\"webform\":\"https:\\\\/\\\\/westmoreland.house.gov\\\\/email-me\",\"congress_office\":\"2202 Rayburn House Office Building\",\"bioguide_id\":\"W000796\",\"votesmart_id\":\"8001\",\"feccandid\":\"H4GA08067\",\"twitter_id\":\"RepWestmoreland\",\"youtube_url\":\"http:\\\\/\\\\/youtube.com\\\\/RepLynnWestmoreland\",\"facebook_id\":\"pages\\\\/foo\\\\/71389451419\",\"birthdate\":\"1950-04-02\"}},{\"@attributes\":{\"cid\":\"N00027848\",\"firstlast\":\"Hank Johnson\",\"lastname\":\"JOHNSON\",\"party\":\"D\",\"office\":\"GA04\",\"gender\":\"M\",\"first_elected\":\"2006\",\"exit_code\":\"0\",\"comments\":\"\",\"phone\":\"202-225-1605\",\"fax\":\"202-226-0691\",\"website\":\"https:\\\\/\\\\/hankjohnson.house.gov\",\"webform\":\"https:\\\\/\\\\/hankjohnson.house.gov\\\\/contact-me\\\\/email-me\",\"congress_office\":\"2240 Rayburn House Office Building\",\"bioguide_id\":\"J000288\",\"votesmart_id\":\"68070\",\"feccandid\":\"H6GA04129\",\"twitter_id\":\"RepHankJohnson\",\"youtube_url\":\"https:\\\\/\\\\/youtube.com\\\\/RepHankJohnson\",\"facebook_id\":\"115356957005\",\"birthdate\":\"1954-10-02\"}},{\"@attributes\":{\"cid\":\"N00002577\",\"firstlast\":\"John Lewis\",\"lastname\":\"LEWIS\",\"party\":\"D\",\"office\":\"GA05\",\"gender\":\"M\",\"first_elected\":\"1986\",\"exit_code\":\"0\",\"comments\":\"\",\"phone\":\"202-225-3801\",\"fax\":\"202-225-0351\",\"website\":\"https:\\\\/\\\\/johnlewis.house.gov\",\"webform\":\"https:\\\\/\\\\/johnlewis.house.gov\\\\/contact-me\\\\/email-me-zip\",\"congress_office\":\"343 Cannon House Office Building\",\"bioguide_id\":\"L000287\",\"votesmart_id\":\"26820\",\"feccandid\":\"H6GA05217\",\"twitter_id\":\"RepJohnLewis\",\"youtube_url\":\"https:\\\\/\\\\/youtube.com\\\\/repjohnlewis\",\"facebook_id\":\"RepJohnLewis\",\"birthdate\":\"1940-02-21\"}},{\"@attributes\":{\"cid\":\"N00026160\",\"firstlast\":\"Tom Price\",\"lastname\":\"PRICE\",\"party\":\"R\",\"office\":\"GA06\",\"gender\":\"M\",\"first_elected\":\"2004\",\"exit_code\":\"0\",\"comments\":\"\",\"phone\":\"202-225-4501\",\"fax\":\"202-225-4656\",\"website\":\"https:\\\\/\\\\/tomprice.house.gov\",\"webform\":\"https:\\\\/\\\\/tomprice.house.gov\\\\/contact-me\",\"congress_office\":\"100 Cannon House Office Building\",\"bioguide_id\":\"P000591\",\"votesmart_id\":\"11853\",\"feccandid\":\"H4GA06087\",\"twitter_id\":\"RepTomPrice\",\"youtube_url\":\"https:\\\\/\\\\/youtube.com\\\\/RepTomPrice\",\"facebook_id\":\"reptomprice\",\"birthdate\":\"1954-10-08\"}},{\"@attributes\":{\"cid\":\"N00032416\",\"firstlast\":\"Rob Woodall\",\"lastname\":\"WOODALL\",\"party\":\"R\",\"office\":\"GA07\",\"gender\":\"M\",\"first_elected\":\"2010\",\"exit_code\":\"0\",\"comments\":\"\",\"phone\":\"202-225-4272\",\"fax\":\"202-225-4696\",\"website\":\"https:\\\\/\\\\/woodall.house.gov\",\"webform\":\"https:\\\\/\\\\/woodall.house.gov\\\\/contact-me\\\\/email-me\",\"congress_office\":\"1724 Longworth House Office Building\",\"bioguide_id\":\"W000810\",\"votesmart_id\":\"122251\",\"feccandid\":\"H0GA07133\",\"twitter_id\":\"RepRobWoodall\",\"youtube_url\":\"https:\\\\/\\\\/youtube.com\\\\/RobWoodallGA07\",\"facebook_id\":\"RepRobWoodall\",\"birthdate\":\"1970-02-11\"}},{\"@attributes\":{\"cid\":\"N00032457\",\"firstlast\":\"Austin Scott\",\"lastname\":\"SCOTT\",\"party\":\"R\",\"office\":\"GA08\",\"gender\":\"M\",\"first_elected\":\"2010\",\"exit_code\":\"0\",\"comments\":\"\",\"phone\":\"202-225-6531\",\"fax\":\"202-225-3013\",\"website\":\"https:\\\\/\\\\/austinscott.house.gov\",\"webform\":\"https:\\\\/\\\\/austinscott.house.gov\\\\/email-me\\\\/\",\"congress_office\":\"2417 Rayburn House Office Building\",\"bioguide_id\":\"S001189\",\"votesmart_id\":\"11812\",\"feccandid\":\"H0GA08099\",\"twitter_id\":\"AustinScottGA08\",\"youtube_url\":\"https:\\\\/\\\\/youtube.com\\\\/RepAustinScott\",\"facebook_id\":\"RepAustinScott\",\"birthdate\":\"1969-12-10\"}},{\"@attributes\":{\"cid\":\"N00033518\",\"firstlast\":\"Doug Collins\",\"lastname\":\"COLLINS\",\"party\":\"R\",\"office\":\"GA09\",\"gender\":\"M\",\"first_elected\":\"2012\",\"exit_code\":\"0\",\"comments\":\"\",\"phone\":\"202-225-9893\",\"fax\":\"202-226-1224\",\"website\":\"https:\\\\/\\\\/dougcollins.house.gov\",\"webform\":\"https:\\\\/\\\\/dougcollins.house.gov\\\\/email-me\",\"congress_office\":\"1504 Longworth House Office Building\",\"bioguide_id\":\"C001093\",\"votesmart_id\":\"67851\",\"feccandid\":\"H2GA09150\",\"twitter_id\":\"RepDougCollins\",\"youtube_url\":\"https:\\\\/\\\\/youtube.com\\\\/repdougcollins\",\"facebook_id\":\"RepresentativeDougCollins\",\"birthdate\":\"1966-08-16\"}},{\"@attributes\":{\"cid\":\"N00032243\",\"firstlast\":\"Jody B Hice\",\"lastname\":\"HICE\",\"party\":\"R\",\"office\":\"GA10\",\"gender\":\"M\",\"first_elected\":\"2014\",\"exit_code\":\"0\",\"comments\":\"\",\"phone\":\"202-225-4101\",\"fax\":\"202-226-0776\",\"website\":\"https:\\\\/\\\\/hice.house.gov\",\"webform\":\"\",\"congress_office\":\"324 Cannon House Office Building\",\"bioguide_id\":\"H001071\",\"votesmart_id\":\"\",\"feccandid\":\"H0GA07125\",\"twitter_id\":\"congressmanhice\",\"youtube_url\":\"\",\"facebook_id\":\"CongressmanJodyHice\",\"birthdate\":\"1960-04-22\"}},{\"@attributes\":{\"cid\":\"N00035347\",\"firstlast\":\"Barry Loudermilk\",\"lastname\":\"LOUDERMILK\",\"party\":\"R\",\"office\":\"GA11\",\"gender\":\"M\",\"first_elected\":\"2014\",\"exit_code\":\"0\",\"comments\":\"\",\"phone\":\"202-225-2931\",\"fax\":\"202-225-2944\",\"website\":\"http:\\\\/\\\\/loudermilk.house.gov\",\"webform\":\"\",\"congress_office\":\"329 Cannon House Office Building\",\"bioguide_id\":\"L000583\",\"votesmart_id\":\"\",\"feccandid\":\"H4GA11061\",\"twitter_id\":\"RepLoudermilk\",\"youtube_url\":\"\",\"facebook_id\":\"reploudermilk\",\"birthdate\":\"1963-12-22\"}},{\"@attributes\":{\"cid\":\"N00033720\",\"firstlast\":\"Richard W Allen\",\"lastname\":\"ALLEN\",\"party\":\"R\",\"office\":\"GA12\",\"gender\":\"M\",\"first_elected\":\"2014\",\"exit_code\":\"0\",\"comments\":\"\",\"phone\":\"202-225-2823\",\"fax\":\"202-225-3377\",\"website\":\"http:\\\\/\\\\/allen.house.gov\",\"webform\":\"\",\"congress_office\":\"426 Cannon House Office Building\",\"bioguide_id\":\"A000372\",\"votesmart_id\":\"\",\"feccandid\":\"H0GA02241\",\"twitter_id\":\"reprickallen\",\"youtube_url\":\"\",\"facebook_id\":\"CongressmanRickAllen\",\"birthdate\":\"1951-11-07\"}},{\"@attributes\":{\"cid\":\"N00024871\",\"firstlast\":\"David Scott\",\"lastname\":\"SCOTT\",\"party\":\"D\",\"office\":\"GA13\",\"gender\":\"M\",\"first_elected\":\"2002\",\"exit_code\":\"0\",\"comments\":\"\",\"phone\":\"202-225-2939\",\"fax\":\"202-225-4628\",\"website\":\"http:\\\\/\\\\/davidscott.house.gov\",\"webform\":\"https:\\\\/\\\\/davidscott.house.gov\\\\/contact\\\\/contactform.htm\",\"congress_office\":\"225 Cannon House Office Building\",\"bioguide_id\":\"S001157\",\"votesmart_id\":\"7826\",\"feccandid\":\"H2GA13012\",\"twitter_id\":\"RepDavidScott\",\"youtube_url\":\"https:\\\\/\\\\/youtube.com\\\\/RepDavidScott\",\"facebook_id\":\"113303673339\",\"birthdate\":\"1945-06-27\"}},{\"@attributes\":{\"cid\":\"N00030788\",\"firstlast\":\"Tom Graves\",\"lastname\":\"GRAVES\",\"party\":\"R\",\"office\":\"GA14\",\"gender\":\"M\",\"first_elected\":\"2010\",\"exit_code\":\"0\",\"comments\":\"\",\"phone\":\"202-225-5211\",\"fax\":\"202-225-8272\",\"website\":\"http:\\\\/\\\\/tomgraves.house.gov\",\"webform\":\"http:\\\\/\\\\/tomgraves.house.gov\\\\/contact\\\\/\",\"congress_office\":\"2078 Rayburn House Office Building\",\"bioguide_id\":\"G000560\",\"votesmart_id\":\"31969\",\"feccandid\":\"H0GA09030\",\"twitter_id\":\"RepTomGraves\",\"youtube_url\":\"https:\\\\/\\\\/youtube.com\\\\/CongressmanGraves\",\"facebook_id\":\"reptomgraves\",\"birthdate\":\"1970-02-03\"}},{\"@attributes\":{\"cid\":\"N00035516\",\"firstlast\":\"David Perdue\",\"lastname\":\"PERDUE\",\"party\":\"R\",\"office\":\"GAS1\",\"gender\":\"M\",\"first_elected\":\"2014\",\"exit_code\":\"0\",\"comments\":\"\",\"phone\":\"202-224-3521\",\"fax\":\"\",\"website\":\"https:\\\\/\\\\/www.perdue.senate.gov\",\"webform\":\"https:\\\\/\\\\/www.perdue.senate.gov\\\\/connect\\\\/email\",\"congress_office\":\"383 Russell Senate Office Building\",\"bioguide_id\":\"P000612\",\"votesmart_id\":\"\",\"feccandid\":\"S4GA11285\",\"twitter_id\":\"sendavidperdue\",\"youtube_url\":\"\",\"facebook_id\":\"SenatorDavidPerdue\",\"birthdate\":\"1949-12-10\"}},{\"@attributes\":{\"cid\":\"N00002593\",\"firstlast\":\"Johnny Isakson\",\"lastname\":\"ISAKSON\",\"party\":\"R\",\"office\":\"GAS2\",\"gender\":\"M\",\"first_elected\":\"2004\",\"exit_code\":\"0\",\"comments\":\"\",\"phone\":\"202-224-3643\",\"fax\":\"202-228-0724\",\"website\":\"https:\\\\/\\\\/www.isakson.senate.gov\",\"webform\":\"https:\\\\/\\\\/www.isakson.senate.gov\\\\/public\\\\/index.cfm\\\\/email-me\",\"congress_office\":\"131 Russell Senate Office Building\",\"bioguide_id\":\"I000055\",\"votesmart_id\":\"1721\",\"feccandid\":\"S6GA00119\",\"twitter_id\":\"SenatorIsakson\",\"youtube_url\":\"https:\\\\/\\\\/youtube.com\\\\/SenatorIsakson\",\"facebook_id\":\"\",\"birthdate\":\"1944-12-28\"}}]}}'"
      ]
     },
     "execution_count": 8,
     "metadata": {},
     "output_type": "execute_result"
    }
   ],
   "source": [
    "response.data"
   ]
  },
  {
   "cell_type": "markdown",
   "metadata": {},
   "source": [
    "Looks like JSON! Let's import the JSON library and create a decoders."
   ]
  },
  {
   "cell_type": "code",
   "execution_count": 9,
   "metadata": {
    "collapsed": true
   },
   "outputs": [],
   "source": [
    "import json"
   ]
  },
  {
   "cell_type": "code",
   "execution_count": 10,
   "metadata": {
    "collapsed": true
   },
   "outputs": [],
   "source": [
    "dec = json.JSONDecoder()"
   ]
  },
  {
   "cell_type": "code",
   "execution_count": 11,
   "metadata": {
    "collapsed": true
   },
   "outputs": [],
   "source": [
    "# have to decode from utf-8 first\n",
    "response_json = dec.decode(response.data.decode('utf-8'))"
   ]
  },
  {
   "cell_type": "code",
   "execution_count": 12,
   "metadata": {},
   "outputs": [
    {
     "data": {
      "text/plain": [
       "dict_keys(['response'])"
      ]
     },
     "execution_count": 12,
     "metadata": {},
     "output_type": "execute_result"
    }
   ],
   "source": [
    "response_json.keys()"
   ]
  },
  {
   "cell_type": "code",
   "execution_count": 13,
   "metadata": {
    "collapsed": true
   },
   "outputs": [],
   "source": [
    "ga_leg = response_json['response']"
   ]
  },
  {
   "cell_type": "code",
   "execution_count": 14,
   "metadata": {},
   "outputs": [
    {
     "data": {
      "text/plain": [
       "16"
      ]
     },
     "execution_count": 14,
     "metadata": {},
     "output_type": "execute_result"
    }
   ],
   "source": [
    "len(ga_leg['legislator'])"
   ]
  },
  {
   "cell_type": "code",
   "execution_count": 15,
   "metadata": {},
   "outputs": [
    {
     "name": "stdout",
     "output_type": "stream",
     "text": [
      "{'@attributes': {'office': 'GA03', 'fax': '202-225-2515', 'facebook_id': 'pages/foo/71389451419', 'website': 'http://westmoreland.house.gov', 'comments': 'Retired at end of 114th', 'feccandid': 'H4GA08067', 'birthdate': '1950-04-02', 'webform': 'https://westmoreland.house.gov/email-me', 'youtube_url': 'http://youtube.com/RepLynnWestmoreland', 'votesmart_id': '8001', 'phone': '202-225-5901', 'congress_office': '2202 Rayburn House Office Building', 'exit_code': '4', 'twitter_id': 'RepWestmoreland', 'party': 'R', 'firstlast': 'Lynn A Westmoreland', 'bioguide_id': 'W000796', 'cid': 'N00026163', 'lastname': 'WESTMORELAND', 'first_elected': '2004', 'gender': 'M'}}\n"
     ]
    }
   ],
   "source": [
    "print(ga_leg['legislator'][2])"
   ]
  },
  {
   "cell_type": "code",
   "execution_count": 16,
   "metadata": {},
   "outputs": [
    {
     "name": "stdout",
     "output_type": "stream",
     "text": [
      "Buddy Carter GA01\n",
      "Sanford Bishop GA02\n",
      "Lynn A Westmoreland GA03\n",
      "Hank Johnson GA04\n",
      "John Lewis GA05\n",
      "Tom Price GA06\n",
      "Rob Woodall GA07\n",
      "Austin Scott GA08\n",
      "Doug Collins GA09\n",
      "Jody B Hice GA10\n",
      "Barry Loudermilk GA11\n",
      "Richard W Allen GA12\n",
      "David Scott GA13\n",
      "Tom Graves GA14\n",
      "David Perdue GAS1\n",
      "Johnny Isakson GAS2\n"
     ]
    }
   ],
   "source": [
    "for leg in ga_leg['legislator']:\n",
    "    print (leg['@attributes']['firstlast'],leg['@attributes']['office'])"
   ]
  },
  {
   "cell_type": "markdown",
   "metadata": {},
   "source": [
    "Now, to get the contributors for each of these candidates, we need another call, `candContrib`, https://www.opensecrets.org/api/?output=doc&method=candContrib.\n",
    "\n",
    "The input to this call is the `cid` attribute of the legislator."
   ]
  },
  {
   "cell_type": "code",
   "execution_count": 17,
   "metadata": {
    "collapsed": true
   },
   "outputs": [],
   "source": [
    "response =http.request('GET',get_url('candContrib',\n",
    "                                     apikey,\n",
    "                                     {'cid':ga_leg['legislator'][0]['@attributes']['cid']}))"
   ]
  },
  {
   "cell_type": "code",
   "execution_count": 18,
   "metadata": {},
   "outputs": [
    {
     "data": {
      "text/plain": [
       "b'{\"response\":{\"contributors\":{\"@attributes\":{\"cand_name\":\"Buddy Carter (R)\",\"cid\":\"N00035346\",\"cycle\":\"2016\",\"origin\":\"Center for Responsive Politics\",\"source\":\"http:\\\\/\\\\/www.opensecrets.org\\\\/politicians\\\\/contrib.php?cid=N00035346&cycle=2016\",\"notice\":\"The organizations themselves did not donate, rather the money came from the organization\\'s PAC, its individual members or employees or owners, and those individuals\\' immediate families.\"},\"contributor\":[{\"@attributes\":{\"org_name\":\"Rite Aid Corp\",\"total\":\"24250\",\"pacs\":\"5000\",\"indivs\":\"19250\"}},{\"@attributes\":{\"org_name\":\"Professional Compounding Centers of America\",\"total\":\"18500\",\"pacs\":\"18500\",\"indivs\":\"0\"}},{\"@attributes\":{\"org_name\":\"General Dynamics\",\"total\":\"17000\",\"pacs\":\"10000\",\"indivs\":\"7000\"}},{\"@attributes\":{\"org_name\":\"American Optometric Assn\",\"total\":\"16000\",\"pacs\":\"16000\",\"indivs\":\"0\"}},{\"@attributes\":{\"org_name\":\"United Parcel Service\",\"total\":\"12500\",\"pacs\":\"12500\",\"indivs\":\"0\"}},{\"@attributes\":{\"org_name\":\"AmerisourceBergen Corp\",\"total\":\"10700\",\"pacs\":\"8000\",\"indivs\":\"2700\"}},{\"@attributes\":{\"org_name\":\"Southern Co\",\"total\":\"10500\",\"pacs\":\"10000\",\"indivs\":\"500\"}},{\"@attributes\":{\"org_name\":\"National Community Pharmacists Assn\",\"total\":\"10250\",\"pacs\":\"10000\",\"indivs\":\"250\"}},{\"@attributes\":{\"org_name\":\"American Dental Assn\",\"total\":\"10000\",\"pacs\":\"10000\",\"indivs\":\"0\"}},{\"@attributes\":{\"org_name\":\"American Pharmacists Assn\",\"total\":\"10000\",\"pacs\":\"10000\",\"indivs\":\"0\"}}]}}}'"
      ]
     },
     "execution_count": 18,
     "metadata": {},
     "output_type": "execute_result"
    }
   ],
   "source": [
    "response.data"
   ]
  },
  {
   "cell_type": "code",
   "execution_count": 19,
   "metadata": {
    "collapsed": true
   },
   "outputs": [],
   "source": [
    "response_json = dec.decode(response.data.decode('utf-8'))['response']"
   ]
  },
  {
   "cell_type": "code",
   "execution_count": 20,
   "metadata": {},
   "outputs": [
    {
     "data": {
      "text/plain": [
       "[{'@attributes': {'indivs': '19250',\n",
       "   'org_name': 'Rite Aid Corp',\n",
       "   'pacs': '5000',\n",
       "   'total': '24250'}},\n",
       " {'@attributes': {'indivs': '0',\n",
       "   'org_name': 'Professional Compounding Centers of America',\n",
       "   'pacs': '18500',\n",
       "   'total': '18500'}},\n",
       " {'@attributes': {'indivs': '7000',\n",
       "   'org_name': 'General Dynamics',\n",
       "   'pacs': '10000',\n",
       "   'total': '17000'}}]"
      ]
     },
     "execution_count": 20,
     "metadata": {},
     "output_type": "execute_result"
    }
   ],
   "source": [
    "response_json['contributors']['contributor'][:3]"
   ]
  },
  {
   "cell_type": "markdown",
   "metadata": {},
   "source": [
    "Now we'll just create a social network between legislators and the top donors, ignoring the dollar amounts. In the terminology of [Easley and Kleinberg](https://www.cs.cornell.edu/home/kleinber/networks-book/networks-book.pdf), this is an **affiliation network**, because it's a bipartite network between individuals and affiliations that they share."
   ]
  },
  {
   "cell_type": "code",
   "execution_count": 23,
   "metadata": {
    "collapsed": true
   },
   "outputs": [],
   "source": [
    "import networkx as nx"
   ]
  },
  {
   "cell_type": "code",
   "execution_count": 24,
   "metadata": {
    "collapsed": true
   },
   "outputs": [],
   "source": [
    "G = nx.Graph()"
   ]
  },
  {
   "cell_type": "code",
   "execution_count": 25,
   "metadata": {},
   "outputs": [
    {
     "data": {
      "text/plain": [
       "{'@attributes': {'bioguide_id': 'C001103',\n",
       "  'birthdate': '1957-09-06',\n",
       "  'cid': 'N00035346',\n",
       "  'comments': '',\n",
       "  'congress_office': '432 Cannon House Office Building',\n",
       "  'exit_code': '0',\n",
       "  'facebook_id': 'congressmanbuddycarter',\n",
       "  'fax': '202-226-2269',\n",
       "  'feccandid': 'H4GA01039',\n",
       "  'first_elected': '2014',\n",
       "  'firstlast': 'Buddy Carter',\n",
       "  'gender': 'M',\n",
       "  'lastname': 'CARTER',\n",
       "  'office': 'GA01',\n",
       "  'party': 'R',\n",
       "  'phone': '202-225-5831',\n",
       "  'twitter_id': 'RepBuddyCarter',\n",
       "  'votesmart_id': '',\n",
       "  'webform': '',\n",
       "  'website': 'http://buddycarter.house.gov',\n",
       "  'youtube_url': ''}}"
      ]
     },
     "execution_count": 25,
     "metadata": {},
     "output_type": "execute_result"
    }
   ],
   "source": [
    "ga_leg['legislator'][0]"
   ]
  },
  {
   "cell_type": "code",
   "execution_count": 124,
   "metadata": {
    "collapsed": true
   },
   "outputs": [],
   "source": [
    "for legislator in ga_leg['legislator']:\n",
    "    # we'll add each legislator as a node, with additional attributes for the political party\n",
    "    G.add_node(legislator['@attributes']['firstlast'],\n",
    "               attr={'party':legislator['@attributes']['party'],\n",
    "               'office':legislator['@attributes']['office']})\n",
    "    response =http.request('GET',get_url('candContrib',\n",
    "                                     apikey,\n",
    "                                     {'cid':legislator['@attributes']['cid']}))\n",
    "    response_json = dec.decode(response.data.decode('utf-8'))['response']\n",
    "    for contributor in response_json['contributors']['contributor']:\n",
    "        G.add_edge(legislator['@attributes']['firstlast'],\n",
    "                  contributor['@attributes']['org_name'])"
   ]
  },
  {
   "cell_type": "code",
   "execution_count": 199,
   "metadata": {
    "collapsed": true
   },
   "outputs": [],
   "source": [
    "nx.write_gexf(G,'ga-reps.xml')"
   ]
  },
  {
   "cell_type": "markdown",
   "metadata": {},
   "source": [
    "# Building the complete network\n",
    "\n",
    "Now we'll get all representatives from all states. This requires a few more API calls than the 200 that you get per day from opensecrets."
   ]
  },
  {
   "cell_type": "code",
   "execution_count": 26,
   "metadata": {
    "collapsed": true
   },
   "outputs": [],
   "source": [
    "import pandas as pd"
   ]
  },
  {
   "cell_type": "markdown",
   "metadata": {},
   "source": [
    "First we need to know all the possible state abbreviations."
   ]
  },
  {
   "cell_type": "code",
   "execution_count": 31,
   "metadata": {},
   "outputs": [
    {
     "data": {
      "text/html": [
       "<div>\n",
       "<style>\n",
       "    .dataframe thead tr:only-child th {\n",
       "        text-align: right;\n",
       "    }\n",
       "\n",
       "    .dataframe thead th {\n",
       "        text-align: left;\n",
       "    }\n",
       "\n",
       "    .dataframe tbody tr th {\n",
       "        vertical-align: top;\n",
       "    }\n",
       "</style>\n",
       "<table border=\"1\" class=\"dataframe\">\n",
       "  <thead>\n",
       "    <tr style=\"text-align: right;\">\n",
       "      <th></th>\n",
       "      <th>State</th>\n",
       "      <th>Abbreviation</th>\n",
       "    </tr>\n",
       "  </thead>\n",
       "  <tbody>\n",
       "    <tr>\n",
       "      <th>46</th>\n",
       "      <td>Virginia</td>\n",
       "      <td>VA</td>\n",
       "    </tr>\n",
       "    <tr>\n",
       "      <th>47</th>\n",
       "      <td>Washington</td>\n",
       "      <td>WA</td>\n",
       "    </tr>\n",
       "    <tr>\n",
       "      <th>48</th>\n",
       "      <td>West Virginia</td>\n",
       "      <td>WV</td>\n",
       "    </tr>\n",
       "    <tr>\n",
       "      <th>49</th>\n",
       "      <td>Wisconsin</td>\n",
       "      <td>WI</td>\n",
       "    </tr>\n",
       "    <tr>\n",
       "      <th>50</th>\n",
       "      <td>Wyoming</td>\n",
       "      <td>WY</td>\n",
       "    </tr>\n",
       "  </tbody>\n",
       "</table>\n",
       "</div>"
      ],
      "text/plain": [
       "            State Abbreviation\n",
       "46       Virginia           VA\n",
       "47     Washington           WA\n",
       "48  West Virginia           WV\n",
       "49      Wisconsin           WI\n",
       "50        Wyoming           WY"
      ]
     },
     "execution_count": 31,
     "metadata": {},
     "output_type": "execute_result"
    }
   ],
   "source": [
    "df_codes = pd.read_csv('states.csv')\n",
    "df_codes.tail()"
   ]
  },
  {
   "cell_type": "code",
   "execution_count": null,
   "metadata": {
    "collapsed": true
   },
   "outputs": [],
   "source": [
    "legislators = dict()\n",
    "for code in df_codes['Abbreviation']:\n",
    "    url=get_url('getLegislators',apikey,{'id':code})\n",
    "    response =http.request('GET',url)\n",
    "    legislators[code] = dec.decode(response.data.decode('utf-8'))['response']\n",
    "    print(code,end=' ')"
   ]
  },
  {
   "cell_type": "markdown",
   "metadata": {},
   "source": [
    "Now to convert this to a dataframe, and save it as CSV. This took a minute to figure out."
   ]
  },
  {
   "cell_type": "code",
   "execution_count": 241,
   "metadata": {
    "collapsed": true
   },
   "outputs": [],
   "source": [
    "import itertools"
   ]
  },
  {
   "cell_type": "code",
   "execution_count": 267,
   "metadata": {
    "collapsed": true
   },
   "outputs": [],
   "source": [
    "delegations = [x['legislator'] for x in legislators.values()]"
   ]
  },
  {
   "cell_type": "code",
   "execution_count": 305,
   "metadata": {
    "collapsed": true
   },
   "outputs": [],
   "source": [
    "# delegations is a list of lists. this will flatten it\n",
    "all_legislators = itertools.chain.from_iterable(delegations)"
   ]
  },
  {
   "cell_type": "code",
   "execution_count": 306,
   "metadata": {},
   "outputs": [
    {
     "data": {
      "text/plain": [
       "{dict, str}"
      ]
     },
     "execution_count": 306,
     "metadata": {},
     "output_type": "execute_result"
    }
   ],
   "source": [
    "set([type(atts) for atts in all_legislators])"
   ]
  },
  {
   "cell_type": "code",
   "execution_count": 308,
   "metadata": {
    "collapsed": true
   },
   "outputs": [],
   "source": [
    "leg_df = pd.DataFrame([atts['@attributes'] \n",
    "              for atts \n",
    "              in itertools.chain.from_iterable(delegations) \n",
    "              if type(atts)==dict])"
   ]
  },
  {
   "cell_type": "code",
   "execution_count": 311,
   "metadata": {},
   "outputs": [
    {
     "data": {
      "text/html": [
       "<div>\n",
       "<style>\n",
       "    .dataframe thead tr:only-child th {\n",
       "        text-align: right;\n",
       "    }\n",
       "\n",
       "    .dataframe thead th {\n",
       "        text-align: left;\n",
       "    }\n",
       "\n",
       "    .dataframe tbody tr th {\n",
       "        vertical-align: top;\n",
       "    }\n",
       "</style>\n",
       "<table border=\"1\" class=\"dataframe\">\n",
       "  <thead>\n",
       "    <tr style=\"text-align: right;\">\n",
       "      <th></th>\n",
       "      <th>bioguide_id</th>\n",
       "      <th>birthdate</th>\n",
       "      <th>cid</th>\n",
       "      <th>comments</th>\n",
       "      <th>congress_office</th>\n",
       "      <th>exit_code</th>\n",
       "      <th>facebook_id</th>\n",
       "      <th>fax</th>\n",
       "      <th>feccandid</th>\n",
       "      <th>first_elected</th>\n",
       "      <th>...</th>\n",
       "      <th>gender</th>\n",
       "      <th>lastname</th>\n",
       "      <th>office</th>\n",
       "      <th>party</th>\n",
       "      <th>phone</th>\n",
       "      <th>twitter_id</th>\n",
       "      <th>votesmart_id</th>\n",
       "      <th>webform</th>\n",
       "      <th>website</th>\n",
       "      <th>youtube_url</th>\n",
       "    </tr>\n",
       "  </thead>\n",
       "  <tbody>\n",
       "    <tr>\n",
       "      <th>0</th>\n",
       "      <td>L000578</td>\n",
       "      <td>1960-07-02</td>\n",
       "      <td>N00033987</td>\n",
       "      <td></td>\n",
       "      <td>322 Cannon House Office Building</td>\n",
       "      <td>0</td>\n",
       "      <td>RepLaMalfa</td>\n",
       "      <td>530-534-7800</td>\n",
       "      <td>H2CA02142</td>\n",
       "      <td>2012</td>\n",
       "      <td>...</td>\n",
       "      <td>M</td>\n",
       "      <td>LAMALFA</td>\n",
       "      <td>CA01</td>\n",
       "      <td>R</td>\n",
       "      <td>202-225-3076</td>\n",
       "      <td>RepLaMalfa</td>\n",
       "      <td>29713</td>\n",
       "      <td>https://lamalfa.house.gov/contact/email-me</td>\n",
       "      <td>http://lamalfa.house.gov</td>\n",
       "      <td>https://youtube.com/RepLaMalfa</td>\n",
       "    </tr>\n",
       "    <tr>\n",
       "      <th>1</th>\n",
       "      <td>H001068</td>\n",
       "      <td>1964-02-18</td>\n",
       "      <td>N00033030</td>\n",
       "      <td></td>\n",
       "      <td>1406 Longworth House Office Building</td>\n",
       "      <td>0</td>\n",
       "      <td>RepHuffman</td>\n",
       "      <td>202-225-5163</td>\n",
       "      <td>H2CA06259</td>\n",
       "      <td>2012</td>\n",
       "      <td>...</td>\n",
       "      <td>M</td>\n",
       "      <td>HUFFMAN</td>\n",
       "      <td>CA02</td>\n",
       "      <td>D</td>\n",
       "      <td>202-225-5161</td>\n",
       "      <td>RepHuffman</td>\n",
       "      <td>59849</td>\n",
       "      <td>https://huffman.house.gov/contact/email-me</td>\n",
       "      <td>http://huffman.house.gov</td>\n",
       "      <td>https://youtube.com/rephuffman</td>\n",
       "    </tr>\n",
       "    <tr>\n",
       "      <th>2</th>\n",
       "      <td>G000559</td>\n",
       "      <td>1945-01-24</td>\n",
       "      <td>N00030856</td>\n",
       "      <td></td>\n",
       "      <td>2438 Rayburn House Office Building</td>\n",
       "      <td>0</td>\n",
       "      <td>repgaramendi</td>\n",
       "      <td>202-225-5914</td>\n",
       "      <td>H0CA10149</td>\n",
       "      <td>2009</td>\n",
       "      <td>...</td>\n",
       "      <td>M</td>\n",
       "      <td>GARAMENDI</td>\n",
       "      <td>CA03</td>\n",
       "      <td>D</td>\n",
       "      <td>202-225-1880</td>\n",
       "      <td>RepGaramendi</td>\n",
       "      <td>29664</td>\n",
       "      <td>https://garamendi.house.gov/contact-me/email-me</td>\n",
       "      <td>http://garamendi.house.gov</td>\n",
       "      <td>https://youtube.com/garamendiCA10</td>\n",
       "    </tr>\n",
       "  </tbody>\n",
       "</table>\n",
       "<p>3 rows × 21 columns</p>\n",
       "</div>"
      ],
      "text/plain": [
       "  bioguide_id   birthdate        cid comments  \\\n",
       "0     L000578  1960-07-02  N00033987            \n",
       "1     H001068  1964-02-18  N00033030            \n",
       "2     G000559  1945-01-24  N00030856            \n",
       "\n",
       "                        congress_office exit_code   facebook_id           fax  \\\n",
       "0      322 Cannon House Office Building         0    RepLaMalfa  530-534-7800   \n",
       "1  1406 Longworth House Office Building         0    RepHuffman  202-225-5163   \n",
       "2    2438 Rayburn House Office Building         0  repgaramendi  202-225-5914   \n",
       "\n",
       "   feccandid first_elected                ...                 gender  \\\n",
       "0  H2CA02142          2012                ...                      M   \n",
       "1  H2CA06259          2012                ...                      M   \n",
       "2  H0CA10149          2009                ...                      M   \n",
       "\n",
       "    lastname office party         phone    twitter_id votesmart_id  \\\n",
       "0    LAMALFA   CA01     R  202-225-3076    RepLaMalfa        29713   \n",
       "1    HUFFMAN   CA02     D  202-225-5161    RepHuffman        59849   \n",
       "2  GARAMENDI   CA03     D  202-225-1880  RepGaramendi        29664   \n",
       "\n",
       "                                           webform  \\\n",
       "0       https://lamalfa.house.gov/contact/email-me   \n",
       "1       https://huffman.house.gov/contact/email-me   \n",
       "2  https://garamendi.house.gov/contact-me/email-me   \n",
       "\n",
       "                      website                        youtube_url  \n",
       "0    http://lamalfa.house.gov     https://youtube.com/RepLaMalfa  \n",
       "1    http://huffman.house.gov     https://youtube.com/rephuffman  \n",
       "2  http://garamendi.house.gov  https://youtube.com/garamendiCA10  \n",
       "\n",
       "[3 rows x 21 columns]"
      ]
     },
     "execution_count": 311,
     "metadata": {},
     "output_type": "execute_result"
    }
   ],
   "source": [
    "leg_df.head(3)"
   ]
  },
  {
   "cell_type": "code",
   "execution_count": 309,
   "metadata": {
    "collapsed": true
   },
   "outputs": [],
   "source": [
    "leg_df.to_csv('legislators.csv')"
   ]
  },
  {
   "cell_type": "code",
   "execution_count": 32,
   "metadata": {
    "collapsed": true
   },
   "outputs": [],
   "source": [
    "leg_df = pd.read_csv('legislators.csv',index_col=0)"
   ]
  },
  {
   "cell_type": "code",
   "execution_count": 33,
   "metadata": {},
   "outputs": [
    {
     "data": {
      "text/html": [
       "<div>\n",
       "<style>\n",
       "    .dataframe thead tr:only-child th {\n",
       "        text-align: right;\n",
       "    }\n",
       "\n",
       "    .dataframe thead th {\n",
       "        text-align: left;\n",
       "    }\n",
       "\n",
       "    .dataframe tbody tr th {\n",
       "        vertical-align: top;\n",
       "    }\n",
       "</style>\n",
       "<table border=\"1\" class=\"dataframe\">\n",
       "  <thead>\n",
       "    <tr style=\"text-align: right;\">\n",
       "      <th></th>\n",
       "      <th>bioguide_id</th>\n",
       "      <th>birthdate</th>\n",
       "      <th>cid</th>\n",
       "      <th>comments</th>\n",
       "      <th>congress_office</th>\n",
       "      <th>exit_code</th>\n",
       "      <th>facebook_id</th>\n",
       "      <th>fax</th>\n",
       "      <th>feccandid</th>\n",
       "      <th>first_elected</th>\n",
       "      <th>...</th>\n",
       "      <th>gender</th>\n",
       "      <th>lastname</th>\n",
       "      <th>office</th>\n",
       "      <th>party</th>\n",
       "      <th>phone</th>\n",
       "      <th>twitter_id</th>\n",
       "      <th>votesmart_id</th>\n",
       "      <th>webform</th>\n",
       "      <th>website</th>\n",
       "      <th>youtube_url</th>\n",
       "    </tr>\n",
       "  </thead>\n",
       "  <tbody>\n",
       "    <tr>\n",
       "      <th>0</th>\n",
       "      <td>L000578</td>\n",
       "      <td>1960-07-02</td>\n",
       "      <td>N00033987</td>\n",
       "      <td>NaN</td>\n",
       "      <td>322 Cannon House Office Building</td>\n",
       "      <td>0</td>\n",
       "      <td>RepLaMalfa</td>\n",
       "      <td>530-534-7800</td>\n",
       "      <td>H2CA02142</td>\n",
       "      <td>2012</td>\n",
       "      <td>...</td>\n",
       "      <td>M</td>\n",
       "      <td>LAMALFA</td>\n",
       "      <td>CA01</td>\n",
       "      <td>R</td>\n",
       "      <td>202-225-3076</td>\n",
       "      <td>RepLaMalfa</td>\n",
       "      <td>29713.0</td>\n",
       "      <td>https://lamalfa.house.gov/contact/email-me</td>\n",
       "      <td>http://lamalfa.house.gov</td>\n",
       "      <td>https://youtube.com/RepLaMalfa</td>\n",
       "    </tr>\n",
       "    <tr>\n",
       "      <th>1</th>\n",
       "      <td>H001068</td>\n",
       "      <td>1964-02-18</td>\n",
       "      <td>N00033030</td>\n",
       "      <td>NaN</td>\n",
       "      <td>1406 Longworth House Office Building</td>\n",
       "      <td>0</td>\n",
       "      <td>RepHuffman</td>\n",
       "      <td>202-225-5163</td>\n",
       "      <td>H2CA06259</td>\n",
       "      <td>2012</td>\n",
       "      <td>...</td>\n",
       "      <td>M</td>\n",
       "      <td>HUFFMAN</td>\n",
       "      <td>CA02</td>\n",
       "      <td>D</td>\n",
       "      <td>202-225-5161</td>\n",
       "      <td>RepHuffman</td>\n",
       "      <td>59849.0</td>\n",
       "      <td>https://huffman.house.gov/contact/email-me</td>\n",
       "      <td>http://huffman.house.gov</td>\n",
       "      <td>https://youtube.com/rephuffman</td>\n",
       "    </tr>\n",
       "    <tr>\n",
       "      <th>2</th>\n",
       "      <td>G000559</td>\n",
       "      <td>1945-01-24</td>\n",
       "      <td>N00030856</td>\n",
       "      <td>NaN</td>\n",
       "      <td>2438 Rayburn House Office Building</td>\n",
       "      <td>0</td>\n",
       "      <td>repgaramendi</td>\n",
       "      <td>202-225-5914</td>\n",
       "      <td>H0CA10149</td>\n",
       "      <td>2009</td>\n",
       "      <td>...</td>\n",
       "      <td>M</td>\n",
       "      <td>GARAMENDI</td>\n",
       "      <td>CA03</td>\n",
       "      <td>D</td>\n",
       "      <td>202-225-1880</td>\n",
       "      <td>RepGaramendi</td>\n",
       "      <td>29664.0</td>\n",
       "      <td>https://garamendi.house.gov/contact-me/email-me</td>\n",
       "      <td>http://garamendi.house.gov</td>\n",
       "      <td>https://youtube.com/garamendiCA10</td>\n",
       "    </tr>\n",
       "  </tbody>\n",
       "</table>\n",
       "<p>3 rows × 21 columns</p>\n",
       "</div>"
      ],
      "text/plain": [
       "  bioguide_id   birthdate        cid comments  \\\n",
       "0     L000578  1960-07-02  N00033987      NaN   \n",
       "1     H001068  1964-02-18  N00033030      NaN   \n",
       "2     G000559  1945-01-24  N00030856      NaN   \n",
       "\n",
       "                        congress_office  exit_code   facebook_id  \\\n",
       "0      322 Cannon House Office Building          0    RepLaMalfa   \n",
       "1  1406 Longworth House Office Building          0    RepHuffman   \n",
       "2    2438 Rayburn House Office Building          0  repgaramendi   \n",
       "\n",
       "            fax  feccandid  first_elected                ...                  \\\n",
       "0  530-534-7800  H2CA02142           2012                ...                   \n",
       "1  202-225-5163  H2CA06259           2012                ...                   \n",
       "2  202-225-5914  H0CA10149           2009                ...                   \n",
       "\n",
       "  gender   lastname office party         phone    twitter_id votesmart_id  \\\n",
       "0      M    LAMALFA   CA01     R  202-225-3076    RepLaMalfa      29713.0   \n",
       "1      M    HUFFMAN   CA02     D  202-225-5161    RepHuffman      59849.0   \n",
       "2      M  GARAMENDI   CA03     D  202-225-1880  RepGaramendi      29664.0   \n",
       "\n",
       "                                           webform  \\\n",
       "0       https://lamalfa.house.gov/contact/email-me   \n",
       "1       https://huffman.house.gov/contact/email-me   \n",
       "2  https://garamendi.house.gov/contact-me/email-me   \n",
       "\n",
       "                      website                        youtube_url  \n",
       "0    http://lamalfa.house.gov     https://youtube.com/RepLaMalfa  \n",
       "1    http://huffman.house.gov     https://youtube.com/rephuffman  \n",
       "2  http://garamendi.house.gov  https://youtube.com/garamendiCA10  \n",
       "\n",
       "[3 rows x 21 columns]"
      ]
     },
     "execution_count": 33,
     "metadata": {},
     "output_type": "execute_result"
    }
   ],
   "source": [
    "leg_df.head(3)"
   ]
  },
  {
   "cell_type": "code",
   "execution_count": 34,
   "metadata": {},
   "outputs": [
    {
     "data": {
      "text/html": [
       "<div>\n",
       "<style>\n",
       "    .dataframe thead tr:only-child th {\n",
       "        text-align: right;\n",
       "    }\n",
       "\n",
       "    .dataframe thead th {\n",
       "        text-align: left;\n",
       "    }\n",
       "\n",
       "    .dataframe tbody tr th {\n",
       "        vertical-align: top;\n",
       "    }\n",
       "</style>\n",
       "<table border=\"1\" class=\"dataframe\">\n",
       "  <thead>\n",
       "    <tr style=\"text-align: right;\">\n",
       "      <th></th>\n",
       "      <th>bioguide_id</th>\n",
       "      <th>birthdate</th>\n",
       "      <th>cid</th>\n",
       "      <th>comments</th>\n",
       "      <th>congress_office</th>\n",
       "      <th>exit_code</th>\n",
       "      <th>facebook_id</th>\n",
       "      <th>fax</th>\n",
       "      <th>feccandid</th>\n",
       "      <th>first_elected</th>\n",
       "      <th>...</th>\n",
       "      <th>gender</th>\n",
       "      <th>lastname</th>\n",
       "      <th>office</th>\n",
       "      <th>party</th>\n",
       "      <th>phone</th>\n",
       "      <th>twitter_id</th>\n",
       "      <th>votesmart_id</th>\n",
       "      <th>webform</th>\n",
       "      <th>website</th>\n",
       "      <th>youtube_url</th>\n",
       "    </tr>\n",
       "  </thead>\n",
       "  <tbody>\n",
       "    <tr>\n",
       "      <th>536</th>\n",
       "      <td>H001064</td>\n",
       "      <td>1952-07-29</td>\n",
       "      <td>N00031557</td>\n",
       "      <td>NaN</td>\n",
       "      <td>425 Cannon House Office Building</td>\n",
       "      <td>0</td>\n",
       "      <td>CongressmanDennyHeck</td>\n",
       "      <td>202-225-0129</td>\n",
       "      <td>H0WA03161</td>\n",
       "      <td>2012</td>\n",
       "      <td>...</td>\n",
       "      <td>M</td>\n",
       "      <td>HECK</td>\n",
       "      <td>WA10</td>\n",
       "      <td>D</td>\n",
       "      <td>202-225-9740</td>\n",
       "      <td>RepDennyHeck</td>\n",
       "      <td>126058.0</td>\n",
       "      <td>https://dennyheck.house.gov/contact/email-me</td>\n",
       "      <td>http://dennyheck.house.gov</td>\n",
       "      <td>https://youtube.com/RepDennyHeck</td>\n",
       "    </tr>\n",
       "    <tr>\n",
       "      <th>537</th>\n",
       "      <td>C000127</td>\n",
       "      <td>1958-10-13</td>\n",
       "      <td>N00007836</td>\n",
       "      <td>NaN</td>\n",
       "      <td>511 Hart Senate Office Building</td>\n",
       "      <td>0</td>\n",
       "      <td>senatorcantwell</td>\n",
       "      <td>202-228-0514</td>\n",
       "      <td>S8WA00194</td>\n",
       "      <td>2000</td>\n",
       "      <td>...</td>\n",
       "      <td>F</td>\n",
       "      <td>CANTWELL</td>\n",
       "      <td>WAS1</td>\n",
       "      <td>D</td>\n",
       "      <td>202-224-3441</td>\n",
       "      <td>SenatorCantwell</td>\n",
       "      <td>27122.0</td>\n",
       "      <td>http://www.cantwell.senate.gov/public/index.cf...</td>\n",
       "      <td>https://www.cantwell.senate.gov</td>\n",
       "      <td>https://youtube.com/SenatorCantwell</td>\n",
       "    </tr>\n",
       "    <tr>\n",
       "      <th>538</th>\n",
       "      <td>M001111</td>\n",
       "      <td>1950-10-11</td>\n",
       "      <td>N00007876</td>\n",
       "      <td>NaN</td>\n",
       "      <td>154 Russell Senate Office Building</td>\n",
       "      <td>0</td>\n",
       "      <td>NaN</td>\n",
       "      <td>202-224-0238</td>\n",
       "      <td>S2WA00189</td>\n",
       "      <td>1992</td>\n",
       "      <td>...</td>\n",
       "      <td>F</td>\n",
       "      <td>MURRAY</td>\n",
       "      <td>WAS2</td>\n",
       "      <td>D</td>\n",
       "      <td>202-224-2621</td>\n",
       "      <td>PattyMurray</td>\n",
       "      <td>53358.0</td>\n",
       "      <td>http://www.murray.senate.gov/public/index.cfm/...</td>\n",
       "      <td>https://www.murray.senate.gov/public</td>\n",
       "      <td>https://youtube.com/SenatorPattyMurray</td>\n",
       "    </tr>\n",
       "  </tbody>\n",
       "</table>\n",
       "<p>3 rows × 21 columns</p>\n",
       "</div>"
      ],
      "text/plain": [
       "    bioguide_id   birthdate        cid comments  \\\n",
       "536     H001064  1952-07-29  N00031557      NaN   \n",
       "537     C000127  1958-10-13  N00007836      NaN   \n",
       "538     M001111  1950-10-11  N00007876      NaN   \n",
       "\n",
       "                        congress_office  exit_code           facebook_id  \\\n",
       "536    425 Cannon House Office Building          0  CongressmanDennyHeck   \n",
       "537     511 Hart Senate Office Building          0       senatorcantwell   \n",
       "538  154 Russell Senate Office Building          0                   NaN   \n",
       "\n",
       "              fax  feccandid  first_elected  \\\n",
       "536  202-225-0129  H0WA03161           2012   \n",
       "537  202-228-0514  S8WA00194           2000   \n",
       "538  202-224-0238  S2WA00189           1992   \n",
       "\n",
       "                      ...                   gender  lastname office party  \\\n",
       "536                   ...                        M      HECK   WA10     D   \n",
       "537                   ...                        F  CANTWELL   WAS1     D   \n",
       "538                   ...                        F    MURRAY   WAS2     D   \n",
       "\n",
       "            phone       twitter_id votesmart_id  \\\n",
       "536  202-225-9740     RepDennyHeck     126058.0   \n",
       "537  202-224-3441  SenatorCantwell      27122.0   \n",
       "538  202-224-2621      PattyMurray      53358.0   \n",
       "\n",
       "                                               webform  \\\n",
       "536       https://dennyheck.house.gov/contact/email-me   \n",
       "537  http://www.cantwell.senate.gov/public/index.cf...   \n",
       "538  http://www.murray.senate.gov/public/index.cfm/...   \n",
       "\n",
       "                                  website  \\\n",
       "536            http://dennyheck.house.gov   \n",
       "537       https://www.cantwell.senate.gov   \n",
       "538  https://www.murray.senate.gov/public   \n",
       "\n",
       "                                youtube_url  \n",
       "536        https://youtube.com/RepDennyHeck  \n",
       "537     https://youtube.com/SenatorCantwell  \n",
       "538  https://youtube.com/SenatorPattyMurray  \n",
       "\n",
       "[3 rows x 21 columns]"
      ]
     },
     "execution_count": 34,
     "metadata": {},
     "output_type": "execute_result"
    }
   ],
   "source": [
    "leg_df.tail(3)"
   ]
  },
  {
   "cell_type": "markdown",
   "metadata": {},
   "source": [
    "Now we have to get the contributors for each of these guys"
   ]
  },
  {
   "cell_type": "code",
   "execution_count": 35,
   "metadata": {
    "collapsed": true
   },
   "outputs": [],
   "source": [
    "G = nx.Graph()"
   ]
  },
  {
   "cell_type": "markdown",
   "metadata": {},
   "source": [
    "The following code block will query for contributions all 500+ legislators in `leg_df`.\n",
    "\n",
    "However, there's a rate limit of 200 queries per day, so you won't actually be able to run this all the way through."
   ]
  },
  {
   "cell_type": "code",
   "execution_count": 39,
   "metadata": {},
   "outputs": [
    {
     "name": "stdout",
     "output_type": "stream",
     "text": [
      "Failed on bioguide_id                                           G000556\n",
      "birthdate                                          1958-03-13\n",
      "cid                                                 N00028418\n",
      "comments                                  Lost Senate primary\n",
      "congress_office              303 Cannon House Office Building\n",
      "exit_code                                                  20\n",
      "facebook_id                                               NaN\n",
      "fax                                              202-225-9742\n",
      "feccandid                                           H6FL08213\n",
      "first_elected                                            2012\n",
      "firstlast                                        Alan Grayson\n",
      "gender                                                      M\n",
      "lastname                                              GRAYSON\n",
      "office                                                   FL09\n",
      "party                                                       D\n",
      "phone                                            202-225-9889\n",
      "twitter_id                                                NaN\n",
      "votesmart_id                                            68184\n",
      "webform            https://grayson.house.gov/contact/email-me\n",
      "website                              http://grayson.house.gov\n",
      "youtube_url                                               NaN\n",
      "Name: 173, dtype: object\n",
      "Failed on bioguide_id                                       S001188\n",
      "birthdate                                      1976-08-31\n",
      "cid                                             N00030891\n",
      "comments                              Lost Senate primary\n",
      "congress_office        2418 Rayburn House Office Building\n",
      "exit_code                                              20\n",
      "facebook_id                     pages/foo/109067049164902\n",
      "fax                                          202-226-9870\n",
      "feccandid                                       H0IN03198\n",
      "first_elected                                        2010\n",
      "firstlast                                 Marlin Stutzman\n",
      "gender                                                  M\n",
      "lastname                                         STUTZMAN\n",
      "office                                               IN03\n",
      "party                                                   R\n",
      "phone                                        202-225-4436\n",
      "twitter_id                                    RepStutzman\n",
      "votesmart_id                                        34230\n",
      "webform            http://stutzman.house.gov/contacts/new\n",
      "website                         http://stutzman.house.gov\n",
      "youtube_url                http://youtube.com/repstutzman\n",
      "Name: 412, dtype: object\n"
     ]
    }
   ],
   "source": [
    "failure_cases = list()\n",
    "for _,legislator in leg_df.iterrows():\n",
    "    # query for the contribution\n",
    "    try:\n",
    "        response =http.request('GET',get_url('candContrib',\n",
    "                                             apikey,\n",
    "                                             {'cid':legislator['cid']}))\n",
    "        # decode and parse\n",
    "        response_json = dec.decode(response.data.decode('utf-8'))['response']\n",
    "        # iterate through contributors\n",
    "        for contributor in response_json['contributors']['contributor']:\n",
    "            # add labeled edges to network\n",
    "            G.add_edge(legislator['cid'],\n",
    "                       contributor['@attributes']['org_name'],\n",
    "                       amount=contributor['@attributes']['total'])\n",
    "    except:\n",
    "        print(\"Failed on\",legislator)\n",
    "        failure_cases.append(legislator)"
   ]
  },
  {
   "cell_type": "code",
   "execution_count": 41,
   "metadata": {},
   "outputs": [
    {
     "data": {
      "text/plain": [
       "5349"
      ]
     },
     "execution_count": 41,
     "metadata": {},
     "output_type": "execute_result"
    }
   ],
   "source": [
    "len(list(nx.get_edge_attributes(G,'amount').items()))"
   ]
  },
  {
   "cell_type": "code",
   "execution_count": 42,
   "metadata": {
    "collapsed": true
   },
   "outputs": [],
   "source": [
    "nx.write_gexf(G,'contributions.xml')"
   ]
  },
  {
   "cell_type": "markdown",
   "metadata": {},
   "source": [
    "Check out `Lab 9 - Social network analysis.ipynb` to see what we can do with this network."
   ]
  }
 ],
 "metadata": {
  "kernelspec": {
   "display_name": "Python 3",
   "language": "python",
   "name": "python3"
  },
  "language_info": {
   "codemirror_mode": {
    "name": "ipython",
    "version": 3
   },
   "file_extension": ".py",
   "mimetype": "text/x-python",
   "name": "python",
   "nbconvert_exporter": "python",
   "pygments_lexer": "ipython3",
   "version": "3.5.2"
  }
 },
 "nbformat": 4,
 "nbformat_minor": 2
}
