{
 "cells": [
  {
   "cell_type": "markdown",
   "metadata": {},
   "source": [
    "# Lab 9: Social Network Analysis\n",
    "\n",
    "In this lab, we will explore a social network of legislators and the organizations that contribute to their campaigns.\n",
    "\n",
    "The data is from [opensecrets.org](opensecrets.org), which collects public records about campaign finance in the United States.\n",
    "\n",
    "We'll use `networkx`, a python package for social network analysis."
   ]
  },
  {
   "cell_type": "code",
   "execution_count": 1,
   "metadata": {
    "collapsed": true
   },
   "outputs": [],
   "source": [
    "import pandas as pd\n",
    "import networkx as nx\n",
    "import numpy as np\n",
    "%matplotlib inline\n",
    "import matplotlib.pyplot as plt"
   ]
  },
  {
   "cell_type": "markdown",
   "metadata": {},
   "source": [
    "## The legislators\n",
    "\n",
    "Information about each of the legislators (in the US Congress and Senate) is stored in `legislators.csv`. We'll use Pandas to read it into a dataframe."
   ]
  },
  {
   "cell_type": "code",
   "execution_count": 2,
   "metadata": {
    "collapsed": true
   },
   "outputs": [],
   "source": [
    "df = pd.read_csv('legislators.csv',index_col=0)"
   ]
  },
  {
   "cell_type": "markdown",
   "metadata": {},
   "source": [
    "## Exploring the legislators data frame"
   ]
  },
  {
   "cell_type": "code",
   "execution_count": 3,
   "metadata": {},
   "outputs": [
    {
     "data": {
      "text/html": [
       "<div>\n",
       "<table border=\"1\" class=\"dataframe\">\n",
       "  <thead>\n",
       "    <tr style=\"text-align: right;\">\n",
       "      <th></th>\n",
       "      <th>bioguide_id</th>\n",
       "      <th>birthdate</th>\n",
       "      <th>cid</th>\n",
       "      <th>comments</th>\n",
       "      <th>congress_office</th>\n",
       "      <th>exit_code</th>\n",
       "      <th>facebook_id</th>\n",
       "      <th>fax</th>\n",
       "      <th>feccandid</th>\n",
       "      <th>first_elected</th>\n",
       "      <th>...</th>\n",
       "      <th>gender</th>\n",
       "      <th>lastname</th>\n",
       "      <th>office</th>\n",
       "      <th>party</th>\n",
       "      <th>phone</th>\n",
       "      <th>twitter_id</th>\n",
       "      <th>votesmart_id</th>\n",
       "      <th>webform</th>\n",
       "      <th>website</th>\n",
       "      <th>youtube_url</th>\n",
       "    </tr>\n",
       "  </thead>\n",
       "  <tbody>\n",
       "    <tr>\n",
       "      <th>0</th>\n",
       "      <td>L000578</td>\n",
       "      <td>1960-07-02</td>\n",
       "      <td>N00033987</td>\n",
       "      <td>NaN</td>\n",
       "      <td>322 Cannon House Office Building</td>\n",
       "      <td>0</td>\n",
       "      <td>RepLaMalfa</td>\n",
       "      <td>530-534-7800</td>\n",
       "      <td>H2CA02142</td>\n",
       "      <td>2012</td>\n",
       "      <td>...</td>\n",
       "      <td>M</td>\n",
       "      <td>LAMALFA</td>\n",
       "      <td>CA01</td>\n",
       "      <td>R</td>\n",
       "      <td>202-225-3076</td>\n",
       "      <td>RepLaMalfa</td>\n",
       "      <td>29713</td>\n",
       "      <td>https://lamalfa.house.gov/contact/email-me</td>\n",
       "      <td>http://lamalfa.house.gov</td>\n",
       "      <td>https://youtube.com/RepLaMalfa</td>\n",
       "    </tr>\n",
       "    <tr>\n",
       "      <th>1</th>\n",
       "      <td>H001068</td>\n",
       "      <td>1964-02-18</td>\n",
       "      <td>N00033030</td>\n",
       "      <td>NaN</td>\n",
       "      <td>1406 Longworth House Office Building</td>\n",
       "      <td>0</td>\n",
       "      <td>RepHuffman</td>\n",
       "      <td>202-225-5163</td>\n",
       "      <td>H2CA06259</td>\n",
       "      <td>2012</td>\n",
       "      <td>...</td>\n",
       "      <td>M</td>\n",
       "      <td>HUFFMAN</td>\n",
       "      <td>CA02</td>\n",
       "      <td>D</td>\n",
       "      <td>202-225-5161</td>\n",
       "      <td>RepHuffman</td>\n",
       "      <td>59849</td>\n",
       "      <td>https://huffman.house.gov/contact/email-me</td>\n",
       "      <td>http://huffman.house.gov</td>\n",
       "      <td>https://youtube.com/rephuffman</td>\n",
       "    </tr>\n",
       "    <tr>\n",
       "      <th>2</th>\n",
       "      <td>G000559</td>\n",
       "      <td>1945-01-24</td>\n",
       "      <td>N00030856</td>\n",
       "      <td>NaN</td>\n",
       "      <td>2438 Rayburn House Office Building</td>\n",
       "      <td>0</td>\n",
       "      <td>repgaramendi</td>\n",
       "      <td>202-225-5914</td>\n",
       "      <td>H0CA10149</td>\n",
       "      <td>2009</td>\n",
       "      <td>...</td>\n",
       "      <td>M</td>\n",
       "      <td>GARAMENDI</td>\n",
       "      <td>CA03</td>\n",
       "      <td>D</td>\n",
       "      <td>202-225-1880</td>\n",
       "      <td>RepGaramendi</td>\n",
       "      <td>29664</td>\n",
       "      <td>https://garamendi.house.gov/contact-me/email-me</td>\n",
       "      <td>http://garamendi.house.gov</td>\n",
       "      <td>https://youtube.com/garamendiCA10</td>\n",
       "    </tr>\n",
       "  </tbody>\n",
       "</table>\n",
       "<p>3 rows × 21 columns</p>\n",
       "</div>"
      ],
      "text/plain": [
       "  bioguide_id   birthdate        cid comments  \\\n",
       "0     L000578  1960-07-02  N00033987      NaN   \n",
       "1     H001068  1964-02-18  N00033030      NaN   \n",
       "2     G000559  1945-01-24  N00030856      NaN   \n",
       "\n",
       "                        congress_office  exit_code   facebook_id  \\\n",
       "0      322 Cannon House Office Building          0    RepLaMalfa   \n",
       "1  1406 Longworth House Office Building          0    RepHuffman   \n",
       "2    2438 Rayburn House Office Building          0  repgaramendi   \n",
       "\n",
       "            fax  feccandid  first_elected                ...                  \\\n",
       "0  530-534-7800  H2CA02142           2012                ...                   \n",
       "1  202-225-5163  H2CA06259           2012                ...                   \n",
       "2  202-225-5914  H0CA10149           2009                ...                   \n",
       "\n",
       "  gender   lastname office party         phone    twitter_id votesmart_id  \\\n",
       "0      M    LAMALFA   CA01     R  202-225-3076    RepLaMalfa        29713   \n",
       "1      M    HUFFMAN   CA02     D  202-225-5161    RepHuffman        59849   \n",
       "2      M  GARAMENDI   CA03     D  202-225-1880  RepGaramendi        29664   \n",
       "\n",
       "                                           webform  \\\n",
       "0       https://lamalfa.house.gov/contact/email-me   \n",
       "1       https://huffman.house.gov/contact/email-me   \n",
       "2  https://garamendi.house.gov/contact-me/email-me   \n",
       "\n",
       "                      website                        youtube_url  \n",
       "0    http://lamalfa.house.gov     https://youtube.com/RepLaMalfa  \n",
       "1    http://huffman.house.gov     https://youtube.com/rephuffman  \n",
       "2  http://garamendi.house.gov  https://youtube.com/garamendiCA10  \n",
       "\n",
       "[3 rows x 21 columns]"
      ]
     },
     "execution_count": 3,
     "metadata": {},
     "output_type": "execute_result"
    }
   ],
   "source": [
    "df.head(3)"
   ]
  },
  {
   "cell_type": "markdown",
   "metadata": {},
   "source": [
    "Let's look at Atlanta's congressional representative, John Lewis."
   ]
  },
  {
   "cell_type": "code",
   "execution_count": 5,
   "metadata": {},
   "outputs": [
    {
     "data": {
      "text/html": [
       "<div>\n",
       "<table border=\"1\" class=\"dataframe\">\n",
       "  <thead>\n",
       "    <tr style=\"text-align: right;\">\n",
       "      <th></th>\n",
       "      <th>bioguide_id</th>\n",
       "      <th>birthdate</th>\n",
       "      <th>cid</th>\n",
       "      <th>comments</th>\n",
       "      <th>congress_office</th>\n",
       "      <th>exit_code</th>\n",
       "      <th>facebook_id</th>\n",
       "      <th>fax</th>\n",
       "      <th>feccandid</th>\n",
       "      <th>first_elected</th>\n",
       "      <th>...</th>\n",
       "      <th>gender</th>\n",
       "      <th>lastname</th>\n",
       "      <th>office</th>\n",
       "      <th>party</th>\n",
       "      <th>phone</th>\n",
       "      <th>twitter_id</th>\n",
       "      <th>votesmart_id</th>\n",
       "      <th>webform</th>\n",
       "      <th>website</th>\n",
       "      <th>youtube_url</th>\n",
       "    </tr>\n",
       "  </thead>\n",
       "  <tbody>\n",
       "    <tr>\n",
       "      <th>203</th>\n",
       "      <td>L000287</td>\n",
       "      <td>1940-02-21</td>\n",
       "      <td>N00002577</td>\n",
       "      <td>NaN</td>\n",
       "      <td>343 Cannon House Office Building</td>\n",
       "      <td>0</td>\n",
       "      <td>RepJohnLewis</td>\n",
       "      <td>202-225-0351</td>\n",
       "      <td>H6GA05217</td>\n",
       "      <td>1986</td>\n",
       "      <td>...</td>\n",
       "      <td>M</td>\n",
       "      <td>LEWIS</td>\n",
       "      <td>GA05</td>\n",
       "      <td>D</td>\n",
       "      <td>202-225-3801</td>\n",
       "      <td>RepJohnLewis</td>\n",
       "      <td>26820</td>\n",
       "      <td>https://johnlewis.house.gov/contact-me/email-m...</td>\n",
       "      <td>https://johnlewis.house.gov</td>\n",
       "      <td>https://youtube.com/repjohnlewis</td>\n",
       "    </tr>\n",
       "  </tbody>\n",
       "</table>\n",
       "<p>1 rows × 21 columns</p>\n",
       "</div>"
      ],
      "text/plain": [
       "    bioguide_id   birthdate        cid comments  \\\n",
       "203     L000287  1940-02-21  N00002577      NaN   \n",
       "\n",
       "                      congress_office  exit_code   facebook_id           fax  \\\n",
       "203  343 Cannon House Office Building          0  RepJohnLewis  202-225-0351   \n",
       "\n",
       "     feccandid  first_elected                ...                gender  \\\n",
       "203  H6GA05217           1986                ...                     M   \n",
       "\n",
       "    lastname office party         phone    twitter_id votesmart_id  \\\n",
       "203    LEWIS   GA05     D  202-225-3801  RepJohnLewis        26820   \n",
       "\n",
       "                                               webform  \\\n",
       "203  https://johnlewis.house.gov/contact-me/email-m...   \n",
       "\n",
       "                         website                       youtube_url  \n",
       "203  https://johnlewis.house.gov  https://youtube.com/repjohnlewis  \n",
       "\n",
       "[1 rows x 21 columns]"
      ]
     },
     "execution_count": 5,
     "metadata": {},
     "output_type": "execute_result"
    }
   ],
   "source": [
    "df.loc[df['firstlast']=='John Lewis']"
   ]
  },
  {
   "cell_type": "markdown",
   "metadata": {},
   "source": [
    "To facilitate looking up legislators, here are some helper functions. The `cid` is a unique identifier per candidate."
   ]
  },
  {
   "cell_type": "code",
   "execution_count": 10,
   "metadata": {
    "collapsed": true
   },
   "outputs": [],
   "source": [
    "get_leg_by_name = lambda name : df.loc[df['firstlast']==name]\n",
    "get_leg_by_cid = lambda cid : df.loc[df['cid']==cid]"
   ]
  },
  {
   "cell_type": "code",
   "execution_count": 11,
   "metadata": {},
   "outputs": [
    {
     "data": {
      "text/html": [
       "<div>\n",
       "<table border=\"1\" class=\"dataframe\">\n",
       "  <thead>\n",
       "    <tr style=\"text-align: right;\">\n",
       "      <th></th>\n",
       "      <th>bioguide_id</th>\n",
       "      <th>birthdate</th>\n",
       "      <th>cid</th>\n",
       "      <th>comments</th>\n",
       "      <th>congress_office</th>\n",
       "      <th>exit_code</th>\n",
       "      <th>facebook_id</th>\n",
       "      <th>fax</th>\n",
       "      <th>feccandid</th>\n",
       "      <th>first_elected</th>\n",
       "      <th>...</th>\n",
       "      <th>gender</th>\n",
       "      <th>lastname</th>\n",
       "      <th>office</th>\n",
       "      <th>party</th>\n",
       "      <th>phone</th>\n",
       "      <th>twitter_id</th>\n",
       "      <th>votesmart_id</th>\n",
       "      <th>webform</th>\n",
       "      <th>website</th>\n",
       "      <th>youtube_url</th>\n",
       "    </tr>\n",
       "  </thead>\n",
       "  <tbody>\n",
       "    <tr>\n",
       "      <th>203</th>\n",
       "      <td>L000287</td>\n",
       "      <td>1940-02-21</td>\n",
       "      <td>N00002577</td>\n",
       "      <td>NaN</td>\n",
       "      <td>343 Cannon House Office Building</td>\n",
       "      <td>0</td>\n",
       "      <td>RepJohnLewis</td>\n",
       "      <td>202-225-0351</td>\n",
       "      <td>H6GA05217</td>\n",
       "      <td>1986</td>\n",
       "      <td>...</td>\n",
       "      <td>M</td>\n",
       "      <td>LEWIS</td>\n",
       "      <td>GA05</td>\n",
       "      <td>D</td>\n",
       "      <td>202-225-3801</td>\n",
       "      <td>RepJohnLewis</td>\n",
       "      <td>26820</td>\n",
       "      <td>https://johnlewis.house.gov/contact-me/email-m...</td>\n",
       "      <td>https://johnlewis.house.gov</td>\n",
       "      <td>https://youtube.com/repjohnlewis</td>\n",
       "    </tr>\n",
       "  </tbody>\n",
       "</table>\n",
       "<p>1 rows × 21 columns</p>\n",
       "</div>"
      ],
      "text/plain": [
       "    bioguide_id   birthdate        cid comments  \\\n",
       "203     L000287  1940-02-21  N00002577      NaN   \n",
       "\n",
       "                      congress_office  exit_code   facebook_id           fax  \\\n",
       "203  343 Cannon House Office Building          0  RepJohnLewis  202-225-0351   \n",
       "\n",
       "     feccandid  first_elected                ...                gender  \\\n",
       "203  H6GA05217           1986                ...                     M   \n",
       "\n",
       "    lastname office party         phone    twitter_id votesmart_id  \\\n",
       "203    LEWIS   GA05     D  202-225-3801  RepJohnLewis        26820   \n",
       "\n",
       "                                               webform  \\\n",
       "203  https://johnlewis.house.gov/contact-me/email-m...   \n",
       "\n",
       "                         website                       youtube_url  \n",
       "203  https://johnlewis.house.gov  https://youtube.com/repjohnlewis  \n",
       "\n",
       "[1 rows x 21 columns]"
      ]
     },
     "execution_count": 11,
     "metadata": {},
     "output_type": "execute_result"
    }
   ],
   "source": [
    "get_leg_by_name('John Lewis')"
   ]
  },
  {
   "cell_type": "markdown",
   "metadata": {},
   "source": [
    "**Your turn** Find the record of the youngest legislator in the data. (Hint: use the field `birthdate`.)"
   ]
  },
  {
   "cell_type": "code",
   "execution_count": 12,
   "metadata": {},
   "outputs": [
    {
     "data": {
      "text/html": [
       "<div>\n",
       "<table border=\"1\" class=\"dataframe\">\n",
       "  <thead>\n",
       "    <tr style=\"text-align: right;\">\n",
       "      <th></th>\n",
       "      <th>bioguide_id</th>\n",
       "      <th>birthdate</th>\n",
       "      <th>cid</th>\n",
       "      <th>comments</th>\n",
       "      <th>congress_office</th>\n",
       "      <th>exit_code</th>\n",
       "      <th>facebook_id</th>\n",
       "      <th>fax</th>\n",
       "      <th>feccandid</th>\n",
       "      <th>first_elected</th>\n",
       "      <th>...</th>\n",
       "      <th>gender</th>\n",
       "      <th>lastname</th>\n",
       "      <th>office</th>\n",
       "      <th>party</th>\n",
       "      <th>phone</th>\n",
       "      <th>twitter_id</th>\n",
       "      <th>votesmart_id</th>\n",
       "      <th>webform</th>\n",
       "      <th>website</th>\n",
       "      <th>youtube_url</th>\n",
       "    </tr>\n",
       "  </thead>\n",
       "  <tbody>\n",
       "    <tr>\n",
       "      <th>75</th>\n",
       "      <td>S001196</td>\n",
       "      <td>1984-07-02</td>\n",
       "      <td>N00035523</td>\n",
       "      <td>NaN</td>\n",
       "      <td>318 Cannon House Office Building</td>\n",
       "      <td>0</td>\n",
       "      <td>RepEliseStefanik</td>\n",
       "      <td>202-226-0621</td>\n",
       "      <td>H4NY21079</td>\n",
       "      <td>2014</td>\n",
       "      <td>...</td>\n",
       "      <td>F</td>\n",
       "      <td>STEFANIK</td>\n",
       "      <td>NY21</td>\n",
       "      <td>R</td>\n",
       "      <td>202-225-4611</td>\n",
       "      <td>RepStefanik</td>\n",
       "      <td>NaN</td>\n",
       "      <td>NaN</td>\n",
       "      <td>https://stefanik.house.gov</td>\n",
       "      <td>NaN</td>\n",
       "    </tr>\n",
       "  </tbody>\n",
       "</table>\n",
       "<p>1 rows × 21 columns</p>\n",
       "</div>"
      ],
      "text/plain": [
       "   bioguide_id   birthdate        cid comments  \\\n",
       "75     S001196  1984-07-02  N00035523      NaN   \n",
       "\n",
       "                     congress_office  exit_code       facebook_id  \\\n",
       "75  318 Cannon House Office Building          0  RepEliseStefanik   \n",
       "\n",
       "             fax  feccandid  first_elected     ...     gender  lastname  \\\n",
       "75  202-226-0621  H4NY21079           2014     ...          F  STEFANIK   \n",
       "\n",
       "   office party         phone   twitter_id votesmart_id  webform  \\\n",
       "75   NY21     R  202-225-4611  RepStefanik          NaN      NaN   \n",
       "\n",
       "                       website youtube_url  \n",
       "75  https://stefanik.house.gov         NaN  \n",
       "\n",
       "[1 rows x 21 columns]"
      ]
     },
     "execution_count": 12,
     "metadata": {},
     "output_type": "execute_result"
    }
   ],
   "source": [
    "# your code here\n",
    "youngest_leg_data = df[df.loc[:, 'birthdate'] == df.loc[:, 'birthdate'].max()]\n",
    "youngest_leg_data"
   ]
  },
  {
   "cell_type": "markdown",
   "metadata": {},
   "source": [
    "## Exploring the social network\n",
    "\n",
    "Now let's load in the social network between legislators and contributors. It's stored as an XML file; see the github repository for another notebook that shows how this data was acquired from opensecret's API."
   ]
  },
  {
   "cell_type": "code",
   "execution_count": 6,
   "metadata": {
    "collapsed": true
   },
   "outputs": [],
   "source": [
    "G = nx.read_gexf('contributions.xml')"
   ]
  },
  {
   "cell_type": "markdown",
   "metadata": {},
   "source": [
    "Let's look at some properties of the network. First we will check if it is **bipartite**. This means that the nodes can be divided into two sets, and all edges include exactly one node from each set. This should be true by construction, since each edge indicates one contributor and one legislator."
   ]
  },
  {
   "cell_type": "code",
   "execution_count": 12,
   "metadata": {},
   "outputs": [
    {
     "data": {
      "text/plain": [
       "True"
      ]
     },
     "execution_count": 12,
     "metadata": {},
     "output_type": "execute_result"
    }
   ],
   "source": [
    "nx.is_bipartite(G)"
   ]
  },
  {
   "cell_type": "markdown",
   "metadata": {},
   "source": [
    "Now let's check if the network is connected (remember what this means from class and the readings?)"
   ]
  },
  {
   "cell_type": "code",
   "execution_count": 13,
   "metadata": {},
   "outputs": [
    {
     "data": {
      "text/plain": [
       "False"
      ]
     },
     "execution_count": 13,
     "metadata": {},
     "output_type": "execute_result"
    }
   ],
   "source": [
    "nx.is_connected(G)"
   ]
  },
  {
   "cell_type": "markdown",
   "metadata": {},
   "source": [
    "The fact that the network is not connected means that there are pairs of nodes between whom there is no path. Let's see if it is nearly connected."
   ]
  },
  {
   "cell_type": "code",
   "execution_count": 14,
   "metadata": {},
   "outputs": [
    {
     "name": "stdout",
     "output_type": "stream",
     "text": [
      "Number of nodes: 2413\n",
      "Largest component: 2401\n"
     ]
    }
   ],
   "source": [
    "print('Number of nodes: %d'%len(G.nodes()))\n",
    "print('Largest component: %d'%len(max(nx.connected_components(G))))"
   ]
  },
  {
   "cell_type": "markdown",
   "metadata": {},
   "source": [
    "Although the network isn't connected, 954 of the nodes are in the single largest component. \n",
    "This indicates that there is a path between nearly every pair of nodes in the network.\n",
    "\n",
    "Now let's compute the **transitivity**. This is the fraction of triads $(a,b,c)$ which are connected but are not **cliques**: edges $(a,b)$ and $(b,c)$ exist, but $(a,c)$ does not exist."
   ]
  },
  {
   "cell_type": "code",
   "execution_count": 15,
   "metadata": {},
   "outputs": [
    {
     "data": {
      "text/plain": [
       "0"
      ]
     },
     "execution_count": 15,
     "metadata": {},
     "output_type": "execute_result"
    }
   ],
   "source": [
    "nx.transitivity(G)"
   ]
  },
  {
   "cell_type": "markdown",
   "metadata": {},
   "source": [
    "**Discuss**: Make sure you understand why the transitivity must be zero in a bipartite graph."
   ]
  },
  {
   "cell_type": "markdown",
   "metadata": {},
   "source": [
    "## Neighbors"
   ]
  },
  {
   "cell_type": "markdown",
   "metadata": {},
   "source": [
    "It will be helpful to differentiate all nodes that are legislators and nodes that are contributors."
   ]
  },
  {
   "cell_type": "code",
   "execution_count": 7,
   "metadata": {
    "collapsed": true
   },
   "outputs": [],
   "source": [
    "all_cid = list(df['cid'])\n",
    "leg_nodes = [node for node in G.nodes() if node in all_cid]\n",
    "contrib_nodes = G.nodes() - leg_nodes"
   ]
  },
  {
   "cell_type": "code",
   "execution_count": 8,
   "metadata": {},
   "outputs": [
    {
     "name": "stdout",
     "output_type": "stream",
     "text": [
      "537 1876 2413\n"
     ]
    }
   ],
   "source": [
    "print(len(leg_nodes),len(contrib_nodes),len(G.nodes()))"
   ]
  },
  {
   "cell_type": "markdown",
   "metadata": {},
   "source": [
    "### Finding contributors to a specific candidate\n",
    "\n",
    "Let's look at the donors to Georgia Senator David Perdue.\n",
    "\n",
    "The legislators are nodes in the network, and are indexed by the `cid`, which is a unique identifier."
   ]
  },
  {
   "cell_type": "code",
   "execution_count": 13,
   "metadata": {},
   "outputs": [
    {
     "data": {
      "text/plain": [
       "213    N00035516\n",
       "Name: cid, dtype: object"
      ]
     },
     "execution_count": 13,
     "metadata": {},
     "output_type": "execute_result"
    }
   ],
   "source": [
    "get_leg_by_name('David Perdue')['cid']"
   ]
  },
  {
   "cell_type": "markdown",
   "metadata": {},
   "source": [
    "We can find the neighbors using `nx.neighbors`"
   ]
  },
  {
   "cell_type": "code",
   "execution_count": 14,
   "metadata": {},
   "outputs": [
    {
     "data": {
      "text/plain": [
       "<dict_keyiterator at 0x1099a8138>"
      ]
     },
     "execution_count": 14,
     "metadata": {},
     "output_type": "execute_result"
    }
   ],
   "source": [
    "nx.neighbors(G,'N00035516')"
   ]
  },
  {
   "cell_type": "code",
   "execution_count": 20,
   "metadata": {},
   "outputs": [
    {
     "name": "stdout",
     "output_type": "stream",
     "text": [
      "['Koch Industries', 'Home Depot', 'Cox Enterprises', 'AFLAC Inc', 'Club for Growth', 'KPMG LLP', \"Wendy's Co\", 'Southeastern Minerals', 'Southern Co', 'Delta Air Lines']\n"
     ]
    }
   ],
   "source": [
    "print([_ for _ in nx.neighbors(G,'N00035516')])"
   ]
  },
  {
   "cell_type": "markdown",
   "metadata": {},
   "source": [
    "Unfortunately, Pandas makes the `cid` a weird structured object, so we have to call `.values[0]` to get the actual string. Let's just write another function."
   ]
  },
  {
   "cell_type": "code",
   "execution_count": 20,
   "metadata": {
    "collapsed": true
   },
   "outputs": [],
   "source": [
    "leg_attr = lambda leg, attr : leg[attr].values[0]\n",
    "\n",
    "# might break if two legislators have the same name\n",
    "name_to_cid = lambda name : leg_attr(get_leg_by_name(name),'cid')\n",
    "\n",
    "cid_to_name = lambda cid : leg_attr(get_leg_by_cid(cid),'firstlast')"
   ]
  },
  {
   "cell_type": "code",
   "execution_count": 21,
   "metadata": {},
   "outputs": [
    {
     "name": "stdout",
     "output_type": "stream",
     "text": [
      "N00035516\n",
      "David Perdue\n",
      "['Club for Growth', 'Delta Air Lines', 'Southern Co', \"Wendy's Co\", 'Koch Industries', 'KPMG LLP', 'Southeastern Minerals', 'Cox Enterprises', 'AFLAC Inc', 'Home Depot']\n"
     ]
    }
   ],
   "source": [
    "print(name_to_cid('David Perdue'))\n",
    "print(cid_to_name(name_to_cid('David Perdue')))\n",
    "print([_ for _ in nx.neighbors(G,name_to_cid(\"David Perdue\"))])"
   ]
  },
  {
   "cell_type": "markdown",
   "metadata": {},
   "source": [
    "Let's see who else got donations from Delta Air Lines"
   ]
  },
  {
   "cell_type": "code",
   "execution_count": 33,
   "metadata": {},
   "outputs": [
    {
     "name": "stdout",
     "output_type": "stream",
     "text": [
      "['N00007781', 'N00031412', 'N00030980', 'N00032243', 'N00002593', 'N00028958', 'N00035516', 'N00029391', 'N00027500']\n",
      "['Peter DeFazio', 'Mick Mulvaney', 'Kelly Ayotte', 'Jody B Hice', 'Johnny Isakson', 'Jason Chaffetz', 'David Perdue', 'Erik Paulsen', 'Amy Klobuchar']\n"
     ]
    }
   ],
   "source": [
    "print([_ for _ in nx.neighbors(G,'Delta Air Lines')])\n",
    "print([cid_to_name(cid) for cid in nx.neighbors(G,'Delta Air Lines')])"
   ]
  },
  {
   "cell_type": "markdown",
   "metadata": {},
   "source": [
    "Let's see what political party each of these legislators is from."
   ]
  },
  {
   "cell_type": "code",
   "execution_count": 39,
   "metadata": {},
   "outputs": [
    {
     "name": "stdout",
     "output_type": "stream",
     "text": [
      "['D', 'R', 'R', 'R', 'R', 'R', 'R', 'R', 'D']\n"
     ]
    }
   ],
   "source": [
    "print([leg_attr(get_leg_by_cid(cid),\n",
    "                'party')\n",
    "       for cid in nx.neighbors(G,'Delta Air Lines')])"
   ]
  },
  {
   "cell_type": "markdown",
   "metadata": {},
   "source": [
    "**Your turn**: Find out what state each of these legislators is from. \n",
    "\n",
    "To do this, use the `office` attribute. The first two characters of the `office` indicate the state. If the second two characters are digits, then they indicate a district in the house of representatives; if second two characters are 'S1' or 'S2' then the legislator is a senator."
   ]
  },
  {
   "cell_type": "code",
   "execution_count": 22,
   "metadata": {},
   "outputs": [
    {
     "name": "stdout",
     "output_type": "stream",
     "text": [
      "['SC', 'GA', 'GA', 'MN', 'OR', 'MN', 'NH', 'UT', 'GA']\n"
     ]
    }
   ],
   "source": [
    "# your code here\n",
    "leg_states = [leg_attr(get_leg_by_cid(cid), 'office')[:2] for cid in nx.neighbors(G, 'Delta Air Lines')]\n",
    "print(leg_states)"
   ]
  },
  {
   "cell_type": "markdown",
   "metadata": {},
   "source": [
    "## Degree distributions\n",
    "\n",
    "The degree of a node is the number of neighbors that the node has in the graph.\n",
    "\n",
    "By construction, we can see only the top 10 contributors to each legislator. So their degree should always be 10. But for the contributors, there should be more diversity.\n",
    "\n",
    "You can compute the degree for any node by calling `nx.degree(G,node)`"
   ]
  },
  {
   "cell_type": "code",
   "execution_count": 25,
   "metadata": {},
   "outputs": [
    {
     "data": {
      "text/plain": [
       "5"
      ]
     },
     "execution_count": 25,
     "metadata": {},
     "output_type": "execute_result"
    }
   ],
   "source": [
    "nx.degree(G,'Facebook Inc')"
   ]
  },
  {
   "cell_type": "markdown",
   "metadata": {},
   "source": [
    "Which contributor donates to the most legislators?"
   ]
  },
  {
   "cell_type": "code",
   "execution_count": 26,
   "metadata": {},
   "outputs": [
    {
     "data": {
      "text/plain": [
       "'Blue Cross/Blue Shield'"
      ]
     },
     "execution_count": 26,
     "metadata": {},
     "output_type": "execute_result"
    }
   ],
   "source": [
    "# dictionary of contributors and their degrees\n",
    "degrees = {contrib:nx.degree(G,contrib) for contrib in contrib_nodes}\n",
    "\n",
    "# useful code for getting the key in a dict with the maximum value\n",
    "max(degrees,key=degrees.get)"
   ]
  },
  {
   "cell_type": "code",
   "execution_count": 27,
   "metadata": {},
   "outputs": [
    {
     "data": {
      "text/plain": [
       "90"
      ]
     },
     "execution_count": 27,
     "metadata": {},
     "output_type": "execute_result"
    }
   ],
   "source": [
    "nx.degree(G,'Blue Cross/Blue Shield')"
   ]
  },
  {
   "cell_type": "markdown",
   "metadata": {},
   "source": [
    "Let's plot a degree distribution"
   ]
  },
  {
   "cell_type": "code",
   "execution_count": 28,
   "metadata": {},
   "outputs": [
    {
     "data": {
      "image/png": "[encoded data removed]",
      "text/plain": [
       "<matplotlib.figure.Figure at 0x10a1c05c0>"
      ]
     },
     "metadata": {},
     "output_type": "display_data"
    }
   ],
   "source": [
    "fig,ax=plt.subplots(1,2,figsize=[11,3])\n",
    "ax[0].plot(sorted(degrees.values(),reverse=True))\n",
    "ax[0].set_ylabel('degree')\n",
    "ax[1].loglog(sorted(degrees.values(),reverse=True))\n",
    "ax[1].set_ylabel('log degree');"
   ]
  },
  {
   "cell_type": "markdown",
   "metadata": {},
   "source": [
    "The log-log plot is nearly linear, after the top 10 or 12 contributors. This means that this part of the distribution is approximated by a **power law**. We have observed a similar distribution over the frequencies of words. When a network's degree distribution follows a power law, the network is said to be [scale-free](https://en.wikipedia.org/wiki/Scale-free_network).\n",
    "\n",
    "Scale-free networks can arise from a generative process featuring [preferential attachment](https://en.wikipedia.org/wiki/Barab%C3%A1si%E2%80%93Albert_model): as new nodes are added to the graph, their likelihood of linking to some existing node is proportional to the degree of that node. \n",
    "\n",
    "**Discuss**: Do you think preferential attachment (PA) describes the process by which campaign contributions are made to legislators? What are some possible mechanisms that are consistent with PA? Why might contributors *not* behave according to PA?"
   ]
  },
  {
   "cell_type": "markdown",
   "metadata": {},
   "source": [
    "## Betweenness\n",
    "\n",
    "As described at the end of chapter 3 of the reading from [Networks Crowds and Markets](https://www.cs.cornell.edu/home/kleinber/networks-book/networks-book-ch03.pdf), the quantity of **betweenness** measures the extent to which a given edge can partition the graph. Betweenness centrality is the fraction of shortest paths on which each node sits."
   ]
  },
  {
   "cell_type": "code",
   "execution_count": 15,
   "metadata": {},
   "outputs": [
    {
     "ename": "KeyboardInterrupt",
     "evalue": "",
     "output_type": "error",
     "traceback": [
      "\u001b[0;31m---------------------------------------------------------------------------\u001b[0m",
      "\u001b[0;31mKeyboardInterrupt\u001b[0m                         Traceback (most recent call last)",
      "\u001b[0;32m<ipython-input-15-1781f5ddff3a>\u001b[0m in \u001b[0;36m<module>\u001b[0;34m()\u001b[0m\n\u001b[1;32m      1\u001b[0m \u001b[0;31m# this takes a little while\u001b[0m\u001b[0;34m\u001b[0m\u001b[0;34m\u001b[0m\u001b[0m\n\u001b[0;32m----> 2\u001b[0;31m \u001b[0mbtw_centrality\u001b[0m \u001b[0;34m=\u001b[0m \u001b[0mnx\u001b[0m\u001b[0;34m.\u001b[0m\u001b[0mbipartite\u001b[0m\u001b[0;34m.\u001b[0m\u001b[0mcentrality\u001b[0m\u001b[0;34m.\u001b[0m\u001b[0mbetweenness_centrality\u001b[0m\u001b[0;34m(\u001b[0m\u001b[0mG\u001b[0m\u001b[0;34m,\u001b[0m\u001b[0mleg_nodes\u001b[0m\u001b[0;34m)\u001b[0m\u001b[0;34m\u001b[0m\u001b[0m\n\u001b[0m",
      "\u001b[0;32m/Library/Frameworks/Python.framework/Versions/3.4/lib/python3.4/site-packages/networkx/algorithms/bipartite/centrality.py\u001b[0m in \u001b[0;36mbetweenness_centrality\u001b[0;34m(G, nodes)\u001b[0m\n\u001b[1;32m    167\u001b[0m                    (r * ((2 * p) - r + 3))) / 2.0\n\u001b[1;32m    168\u001b[0m     betweenness = nx.betweenness_centrality(G, normalized=False,\n\u001b[0;32m--> 169\u001b[0;31m                                             weight=None)\n\u001b[0m\u001b[1;32m    170\u001b[0m     \u001b[0;32mfor\u001b[0m \u001b[0mnode\u001b[0m \u001b[0;32min\u001b[0m \u001b[0mtop\u001b[0m\u001b[0;34m:\u001b[0m\u001b[0;34m\u001b[0m\u001b[0m\n\u001b[1;32m    171\u001b[0m         \u001b[0mbetweenness\u001b[0m\u001b[0;34m[\u001b[0m\u001b[0mnode\u001b[0m\u001b[0;34m]\u001b[0m \u001b[0;34m/=\u001b[0m \u001b[0mbet_max_top\u001b[0m\u001b[0;34m\u001b[0m\u001b[0m\n",
      "\u001b[0;32m/Library/Frameworks/Python.framework/Versions/3.4/lib/python3.4/site-packages/networkx/algorithms/centrality/betweenness.py\u001b[0m in \u001b[0;36mbetweenness_centrality\u001b[0;34m(G, k, normalized, weight, endpoints, seed)\u001b[0m\n\u001b[1;32m    118\u001b[0m             \u001b[0mbetweenness\u001b[0m \u001b[0;34m=\u001b[0m \u001b[0m_accumulate_endpoints\u001b[0m\u001b[0;34m(\u001b[0m\u001b[0mbetweenness\u001b[0m\u001b[0;34m,\u001b[0m \u001b[0mS\u001b[0m\u001b[0;34m,\u001b[0m \u001b[0mP\u001b[0m\u001b[0;34m,\u001b[0m \u001b[0msigma\u001b[0m\u001b[0;34m,\u001b[0m \u001b[0ms\u001b[0m\u001b[0;34m)\u001b[0m\u001b[0;34m\u001b[0m\u001b[0m\n\u001b[1;32m    119\u001b[0m         \u001b[0;32melse\u001b[0m\u001b[0;34m:\u001b[0m\u001b[0;34m\u001b[0m\u001b[0m\n\u001b[0;32m--> 120\u001b[0;31m             \u001b[0mbetweenness\u001b[0m \u001b[0;34m=\u001b[0m \u001b[0m_accumulate_basic\u001b[0m\u001b[0;34m(\u001b[0m\u001b[0mbetweenness\u001b[0m\u001b[0;34m,\u001b[0m \u001b[0mS\u001b[0m\u001b[0;34m,\u001b[0m \u001b[0mP\u001b[0m\u001b[0;34m,\u001b[0m \u001b[0msigma\u001b[0m\u001b[0;34m,\u001b[0m \u001b[0ms\u001b[0m\u001b[0;34m)\u001b[0m\u001b[0;34m\u001b[0m\u001b[0m\n\u001b[0m\u001b[1;32m    121\u001b[0m     \u001b[0;31m# rescaling\u001b[0m\u001b[0;34m\u001b[0m\u001b[0;34m\u001b[0m\u001b[0m\n\u001b[1;32m    122\u001b[0m     betweenness = _rescale(betweenness, len(G), normalized=normalized,\n",
      "\u001b[0;32m/Library/Frameworks/Python.framework/Versions/3.4/lib/python3.4/site-packages/networkx/algorithms/centrality/betweenness.py\u001b[0m in \u001b[0;36m_accumulate_basic\u001b[0;34m(betweenness, S, P, sigma, s)\u001b[0m\n\u001b[1;32m    285\u001b[0m         \u001b[0mcoeff\u001b[0m \u001b[0;34m=\u001b[0m \u001b[0;34m(\u001b[0m\u001b[0;36m1.0\u001b[0m \u001b[0;34m+\u001b[0m \u001b[0mdelta\u001b[0m\u001b[0;34m[\u001b[0m\u001b[0mw\u001b[0m\u001b[0;34m]\u001b[0m\u001b[0;34m)\u001b[0m \u001b[0;34m/\u001b[0m \u001b[0msigma\u001b[0m\u001b[0;34m[\u001b[0m\u001b[0mw\u001b[0m\u001b[0;34m]\u001b[0m\u001b[0;34m\u001b[0m\u001b[0m\n\u001b[1;32m    286\u001b[0m         \u001b[0;32mfor\u001b[0m \u001b[0mv\u001b[0m \u001b[0;32min\u001b[0m \u001b[0mP\u001b[0m\u001b[0;34m[\u001b[0m\u001b[0mw\u001b[0m\u001b[0;34m]\u001b[0m\u001b[0;34m:\u001b[0m\u001b[0;34m\u001b[0m\u001b[0m\n\u001b[0;32m--> 287\u001b[0;31m             \u001b[0mdelta\u001b[0m\u001b[0;34m[\u001b[0m\u001b[0mv\u001b[0m\u001b[0;34m]\u001b[0m \u001b[0;34m+=\u001b[0m \u001b[0msigma\u001b[0m\u001b[0;34m[\u001b[0m\u001b[0mv\u001b[0m\u001b[0;34m]\u001b[0m \u001b[0;34m*\u001b[0m \u001b[0mcoeff\u001b[0m\u001b[0;34m\u001b[0m\u001b[0m\n\u001b[0m\u001b[1;32m    288\u001b[0m         \u001b[0;32mif\u001b[0m \u001b[0mw\u001b[0m \u001b[0;34m!=\u001b[0m \u001b[0ms\u001b[0m\u001b[0;34m:\u001b[0m\u001b[0;34m\u001b[0m\u001b[0m\n\u001b[1;32m    289\u001b[0m             \u001b[0mbetweenness\u001b[0m\u001b[0;34m[\u001b[0m\u001b[0mw\u001b[0m\u001b[0;34m]\u001b[0m \u001b[0;34m+=\u001b[0m \u001b[0mdelta\u001b[0m\u001b[0;34m[\u001b[0m\u001b[0mw\u001b[0m\u001b[0;34m]\u001b[0m\u001b[0;34m\u001b[0m\u001b[0m\n",
      "\u001b[0;31mKeyboardInterrupt\u001b[0m: "
     ]
    }
   ],
   "source": [
    "# this takes a little while\n",
    "btw_centrality = nx.bipartite.centrality.betweenness_centrality(G,leg_nodes)"
   ]
  },
  {
   "cell_type": "code",
   "execution_count": 67,
   "metadata": {},
   "outputs": [
    {
     "name": "stdout",
     "output_type": "stream",
     "text": [
      "['Blue Cross/Blue Shield', 'AT&T Inc', 'Boeing Co', 'American Crystal Sugar', 'National Assn of Realtors', 'American Bankers Assn', 'Berkshire Hathaway', 'Comcast Corp', 'Votesane PAC', 'JStreetPAC']\n"
     ]
    }
   ],
   "source": [
    "sorted_btw = sorted(btw_centrality, key=btw_centrality.get,reverse=True)\n",
    "top_contribs = [node for node in sorted_btw if node in contrib_nodes]\n",
    "print([node for node in top_contribs[:10]])"
   ]
  },
  {
   "cell_type": "markdown",
   "metadata": {},
   "source": [
    "Blue Cross/Blue Shield has the highest degree, and is also the most central. Let's compare degrees and betweenness centrality."
   ]
  },
  {
   "cell_type": "code",
   "execution_count": 75,
   "metadata": {},
   "outputs": [
    {
     "data": {
      "image/png": "[encoded data removed]",
      "text/plain": [
       "<matplotlib.figure.Figure at 0x7f4f42b457b8>"
      ]
     },
     "metadata": {},
     "output_type": "display_data"
    }
   ],
   "source": [
    "plt.scatter([G.degree(node) for node in sorted(list(contrib_nodes))],\n",
    "         [btw_centrality[node] for node in sorted(list(contrib_nodes))])\n",
    "plt.xlabel('degree')\n",
    "plt.ylabel('betweenness centrality');"
   ]
  },
  {
   "cell_type": "markdown",
   "metadata": {},
   "source": [
    "Another perspective on betweenness is that high-betweenness nodes might be more likely to donate to legislators of both parties, since presumably there are fewer paths across party lines. (This suggests *assortativity*, which we will discuss in detail next week.)"
   ]
  },
  {
   "cell_type": "code",
   "execution_count": 88,
   "metadata": {},
   "outputs": [
    {
     "data": {
      "text/plain": [
       "0.32222222222222224"
      ]
     },
     "execution_count": 88,
     "metadata": {},
     "output_type": "execute_result"
    }
   ],
   "source": [
    "# percent of recipients who are democrats\n",
    "contrib = 'Blue Cross/Blue Shield'\n",
    "[leg_attr(get_leg_by_cid(cid),'party') \n",
    " for cid \n",
    " in G.neighbors(contrib)].count('D')/nx.degree(G,contrib)"
   ]
  },
  {
   "cell_type": "markdown",
   "metadata": {},
   "source": [
    "Now let's apply this code to all \"big\" contributors, with degree of 20 or more."
   ]
  },
  {
   "cell_type": "code",
   "execution_count": 92,
   "metadata": {
    "collapsed": true
   },
   "outputs": [],
   "source": [
    "big_contribs = [node for node in contrib_nodes if nx.degree(G,node)>=20]"
   ]
  },
  {
   "cell_type": "code",
   "execution_count": 93,
   "metadata": {
    "collapsed": true
   },
   "outputs": [],
   "source": [
    "pct_dem = [[leg_attr(get_leg_by_cid(cid),'party') \n",
    "            for cid \n",
    "            in G.neighbors(contrib)].count('D')/nx.degree(G,contrib)\n",
    "           for contrib\n",
    "           in big_contribs]"
   ]
  },
  {
   "cell_type": "code",
   "execution_count": 94,
   "metadata": {},
   "outputs": [
    {
     "data": {
      "image/png": "[encoded data removed]",
      "text/plain": [
       "<matplotlib.figure.Figure at 0x7f4f40104198>"
      ]
     },
     "metadata": {},
     "output_type": "display_data"
    }
   ],
   "source": [
    "plt.figure(figsize=[10,6])\n",
    "plt.scatter(pct_dem,[btw_centrality[contrib] for contrib in big_contribs])\n",
    "for i,contrib in enumerate(big_contribs):\n",
    "    plt.text(pct_dem[i],btw_centrality[contrib],contrib)\n",
    "plt.xlabel('Percent donations to Democrats')\n",
    "plt.ylabel('Betweenness centrality');"
   ]
  },
  {
   "cell_type": "markdown",
   "metadata": {
    "collapsed": true
   },
   "source": [
    "**Your turn**: Redo the plot of degree versus betweenness centrality, using color and/or shape to differentiate:\n",
    "\n",
    "- Contributors who give at least 90% of their donations to Republicans\n",
    "- Contributors who give at least 90% of their donations to Democrats\n",
    "- All other contributors"
   ]
  },
  {
   "cell_type": "markdown",
   "metadata": {},
   "source": [
    "## Projection\n",
    "\n",
    "The legislator-contributor network is an example of an **affiliation network**. \n",
    "\n",
    "We can **project** across either set of nodes, inducing a network of legislators who share donors, or a network of contributors who donate to the same legislators. Let's now briefly investigate the projected legislator network."
   ]
  },
  {
   "cell_type": "code",
   "execution_count": 4,
   "metadata": {
    "collapsed": true
   },
   "outputs": [],
   "source": [
    "?nx.projected_graph"
   ]
  },
  {
   "cell_type": "code",
   "execution_count": 16,
   "metadata": {},
   "outputs": [],
   "source": [
    "G_leg = nx.projected_graph(G,leg_nodes)"
   ]
  },
  {
   "cell_type": "markdown",
   "metadata": {},
   "source": [
    "Let's plot the degree distribution of this graph"
   ]
  },
  {
   "cell_type": "code",
   "execution_count": 17,
   "metadata": {
    "collapsed": true
   },
   "outputs": [],
   "source": [
    "degrees = {leg:nx.degree(G_leg,leg) for leg in leg_nodes}"
   ]
  },
  {
   "cell_type": "code",
   "execution_count": 18,
   "metadata": {},
   "outputs": [
    {
     "data": {
      "image/png": "[encoded data removed]",
      "text/plain": [
       "<matplotlib.figure.Figure at 0x1099bbef0>"
      ]
     },
     "metadata": {},
     "output_type": "display_data"
    }
   ],
   "source": [
    "plt.loglog(sorted(degrees.values(),reverse=True));"
   ]
  },
  {
   "cell_type": "markdown",
   "metadata": {},
   "source": [
    "Almost all nodes here have degree > 100, making the graph a little difficult to investigate. Let's look at the Georgia subgraph."
   ]
  },
  {
   "cell_type": "code",
   "execution_count": 23,
   "metadata": {},
   "outputs": [
    {
     "name": "stdout",
     "output_type": "stream",
     "text": [
      "['N00026163', 'N00024871', 'N00035516', 'N00032416', 'N00026160', 'N00035347', 'N00032243', 'N00032457', 'N00027848', 'N00035346', 'N00033518', 'N00030788', 'N00002593', 'N00002674', 'N00002577', 'N00033720']\n"
     ]
    }
   ],
   "source": [
    "GA_legs = [leg for leg in leg_nodes if leg_attr(get_leg_by_cid(leg),'office')[:2]=='GA']\n",
    "print(GA_legs)"
   ]
  },
  {
   "cell_type": "code",
   "execution_count": 24,
   "metadata": {
    "collapsed": true
   },
   "outputs": [],
   "source": [
    "G_ga = G_leg.subgraph(GA_legs)"
   ]
  },
  {
   "cell_type": "code",
   "execution_count": 25,
   "metadata": {},
   "outputs": [
    {
     "name": "stderr",
     "output_type": "stream",
     "text": [
      "/Library/Frameworks/Python.framework/Versions/3.4/lib/python3.4/site-packages/matplotlib/collections.py:650: FutureWarning: elementwise comparison failed; returning scalar instead, but in the future will perform elementwise comparison\n",
      "  if self._edgecolors_original != str('face'):\n",
      "/Library/Frameworks/Python.framework/Versions/3.4/lib/python3.4/site-packages/matplotlib/collections.py:590: FutureWarning: elementwise comparison failed; returning scalar instead, but in the future will perform elementwise comparison\n",
      "  if self._edgecolors == str('face'):\n"
     ]
    },
    {
     "data": {
      "image/png": "[encoded data removed]",
      "text/plain": [
       "<matplotlib.figure.Figure at 0x10978b1d0>"
      ]
     },
     "metadata": {},
     "output_type": "display_data"
    }
   ],
   "source": [
    "nx.draw_circular(G_ga)"
   ]
  },
  {
   "cell_type": "markdown",
   "metadata": {},
   "source": [
    "The graph looks to be almost a clique."
   ]
  },
  {
   "cell_type": "code",
   "execution_count": 122,
   "metadata": {},
   "outputs": [
    {
     "name": "stdout",
     "output_type": "stream",
     "text": [
      "97\n",
      "16\n"
     ]
    }
   ],
   "source": [
    "print(len(G_ga.edges))\n",
    "print(len(G_ga.nodes))"
   ]
  },
  {
   "cell_type": "markdown",
   "metadata": {},
   "source": [
    "**Your turn**: compute the number of missing edges"
   ]
  },
  {
   "cell_type": "code",
   "execution_count": 123,
   "metadata": {
    "collapsed": true
   },
   "outputs": [],
   "source": [
    "# your code here"
   ]
  },
  {
   "cell_type": "markdown",
   "metadata": {},
   "source": [
    "Just for fun, here's another layout."
   ]
  },
  {
   "cell_type": "code",
   "execution_count": 118,
   "metadata": {},
   "outputs": [
    {
     "data": {
      "image/png": "[encoded data removed]",
      "text/plain": [
       "<matplotlib.figure.Figure at 0x7f4f3e259d68>"
      ]
     },
     "metadata": {},
     "output_type": "display_data"
    }
   ],
   "source": [
    "nx.draw_spring(G_ga)"
   ]
  },
  {
   "cell_type": "markdown",
   "metadata": {},
   "source": [
    "## Homophily\n",
    "\n",
    "**Ignore below here**\n",
    "\n",
    "The property of homophily is that individuals with similar properties tend to be connected.\n"
   ]
  },
  {
   "cell_type": "code",
   "execution_count": 26,
   "metadata": {
    "collapsed": true
   },
   "outputs": [],
   "source": [
    "parties = {row['cid']:row['party'] for _,row in df.iterrows()}"
   ]
  },
  {
   "cell_type": "code",
   "execution_count": 27,
   "metadata": {
    "collapsed": true
   },
   "outputs": [],
   "source": [
    "nx.set_node_attributes(G,name='party',values=parties)"
   ]
  },
  {
   "cell_type": "code",
   "execution_count": 28,
   "metadata": {
    "collapsed": true
   },
   "outputs": [],
   "source": [
    "G_proj = nx.projected_graph(G,leg_nodes)"
   ]
  },
  {
   "cell_type": "markdown",
   "metadata": {},
   "source": [
    "**Todo**: say more about this, plot Georgia subgraph."
   ]
  },
  {
   "cell_type": "code",
   "execution_count": 29,
   "metadata": {},
   "outputs": [
    {
     "data": {
      "text/plain": [
       "{'D': {'D': 18764, 'I': 12, 'R': 12576},\n",
       " 'I': {'D': 12, 'R': 3},\n",
       " 'R': {'D': 12576, 'I': 3, 'R': 21942}}"
      ]
     },
     "execution_count": 29,
     "metadata": {},
     "output_type": "execute_result"
    }
   ],
   "source": [
    "nx.attribute_mixing_dict(G_proj,'party')"
   ]
  },
  {
   "cell_type": "markdown",
   "metadata": {},
   "source": [
    "This says: \n",
    "\n",
    "- 3144 links are between two democrats\n",
    "- 1492 links are between two republicans\n",
    "- 1320 links are between a democrat and a republican\n",
    "\n",
    "What is the probability of a mixing matrix like this arising by chance? We'll come back to this later."
   ]
  },
  {
   "cell_type": "code",
   "execution_count": 30,
   "metadata": {},
   "outputs": [
    {
     "name": "stdout",
     "output_type": "stream",
     "text": [
      "[[  2.84786304e-01   1.90869354e-01   1.82127246e-04]\n",
      " [  1.90869354e-01   3.33019670e-01   4.55318116e-05]\n",
      " [  1.82127246e-04   4.55318116e-05   0.00000000e+00]]\n"
     ]
    }
   ],
   "source": [
    "#here's another view\n",
    "M_party = nx.attribute_mixing_matrix(G_proj,'party')\n",
    "print(M_party)"
   ]
  },
  {
   "cell_type": "markdown",
   "metadata": {},
   "source": [
    "The trace of this matrix is the fraction of edges with the same value of the attribute."
   ]
  },
  {
   "cell_type": "code",
   "execution_count": 31,
   "metadata": {},
   "outputs": [
    {
     "data": {
      "text/plain": [
       "0.61780597377367652"
      ]
     },
     "execution_count": 31,
     "metadata": {},
     "output_type": "execute_result"
    }
   ],
   "source": [
    "M_party.trace()"
   ]
  },
  {
   "cell_type": "markdown",
   "metadata": {},
   "source": [
    "**Your turn:** compute the same matrix for the state from which each legislators is from. The state is identified by the first two characters of the `office` attribute."
   ]
  },
  {
   "cell_type": "code",
   "execution_count": 45,
   "metadata": {},
   "outputs": [
    {
     "name": "stdout",
     "output_type": "stream",
     "text": [
      "[[ 1.]]\n",
      "1.0\n"
     ]
    }
   ],
   "source": [
    "states = {row['cid']:row['office'][:2] for _,row in df.iterrows()}\n",
    "var_name = 'state'\n",
    "nx.set_node_attributes(G,name=var_name,values=states)\n",
    "M_state = nx.attribute_mixing_matrix(G_leg,var_name)\n",
    "print(M_state)\n",
    "print(M_state.trace())"
   ]
  },
  {
   "cell_type": "code",
   "execution_count": 46,
   "metadata": {},
   "outputs": [
    {
     "name": "stdout",
     "output_type": "stream",
     "text": [
      "1.0\n"
     ]
    }
   ],
   "source": [
    "# hide\n",
    "states = {row['cid']:row['office'][:2] for _,row in df.iterrows()}\n",
    "nx.set_node_attributes(G,name='state',values=states)\n",
    "M_states = nx.attribute_mixing_matrix(G_leg,'state')\n",
    "print(M_states.trace())"
   ]
  },
  {
   "cell_type": "markdown",
   "metadata": {},
   "source": [
    "The base probability of two nodes having the same attribute is $\\theta = \\sum_i P(i)^2$, summing over all possible values of the attribute. \n",
    "\n",
    "Under the null hypothesis, the trace of the attribute mixing matrix is drawn from a binomial distribution with parameters $(\\theta, N)$, where $N$ is the total number of edges. Using this, we can compute $p$-values for these assortativity statistics."
   ]
  },
  {
   "cell_type": "code",
   "execution_count": 49,
   "metadata": {
    "collapsed": true
   },
   "outputs": [],
   "source": [
    "from scipy.stats import binom"
   ]
  },
  {
   "cell_type": "code",
   "execution_count": 50,
   "metadata": {
    "collapsed": true
   },
   "outputs": [],
   "source": [
    "M_party_counts = M_party * len(G_proj.edges())"
   ]
  },
  {
   "cell_type": "code",
   "execution_count": 51,
   "metadata": {},
   "outputs": [
    {
     "data": {
      "text/plain": [
       "20353.0"
      ]
     },
     "execution_count": 51,
     "metadata": {},
     "output_type": "execute_result"
    }
   ],
   "source": [
    "M_party_counts.trace()"
   ]
  },
  {
   "cell_type": "code",
   "execution_count": 52,
   "metadata": {
    "collapsed": true
   },
   "outputs": [],
   "source": [
    "from collections import Counter"
   ]
  },
  {
   "cell_type": "code",
   "execution_count": 53,
   "metadata": {},
   "outputs": [
    {
     "data": {
      "text/plain": [
       "Counter({'D': 234, 'I': 1, 'R': 304})"
      ]
     },
     "execution_count": 53,
     "metadata": {},
     "output_type": "execute_result"
    }
   ],
   "source": [
    "party_counts = Counter(parties.values())\n",
    "party_counts"
   ]
  },
  {
   "cell_type": "code",
   "execution_count": 54,
   "metadata": {},
   "outputs": [],
   "source": [
    "p_party = np.array(list(party_counts.values()))/sum(party_counts.values())"
   ]
  },
  {
   "cell_type": "code",
   "execution_count": 55,
   "metadata": {},
   "outputs": [
    {
     "data": {
      "text/plain": [
       "array([ 0.43413729,  0.56400742,  0.00185529])"
      ]
     },
     "execution_count": 55,
     "metadata": {},
     "output_type": "execute_result"
    }
   ],
   "source": [
    "p_party "
   ]
  },
  {
   "cell_type": "code",
   "execution_count": 56,
   "metadata": {},
   "outputs": [
    {
     "data": {
      "text/plain": [
       "0.50658300088461761"
      ]
     },
     "execution_count": 56,
     "metadata": {},
     "output_type": "execute_result"
    }
   ],
   "source": [
    "p_agree = (p_party **2).sum()\n",
    "p_agree"
   ]
  },
  {
   "cell_type": "code",
   "execution_count": 57,
   "metadata": {},
   "outputs": [
    {
     "data": {
      "text/plain": [
       "1.1102230246251565e-16"
      ]
     },
     "execution_count": 57,
     "metadata": {},
     "output_type": "execute_result"
    }
   ],
   "source": [
    "1-binom.cdf(M_party_counts.trace(),len(G_proj.edges()),p_agree)"
   ]
  },
  {
   "cell_type": "markdown",
   "metadata": {},
   "source": [
    "This very small $p$-value means that indeed, contributors tend to be shared across members of the same party."
   ]
  },
  {
   "cell_type": "markdown",
   "metadata": {},
   "source": [
    "**Your turn**: compute the same $p$-value for states"
   ]
  },
  {
   "cell_type": "code",
   "execution_count": 211,
   "metadata": {},
   "outputs": [
    {
     "name": "stdout",
     "output_type": "stream",
     "text": [
      "0.0359939556865\n",
      "0.241616272677\n",
      "1.11022302463e-16\n"
     ]
    }
   ],
   "source": [
    "# hide\n",
    "state_counts = Counter(states.values())\n",
    "p_state = np.array(list(state_counts.values()))/sum(state_counts.values())\n",
    "print((p_state**2).sum())\n",
    "print(M_states.trace())\n",
    "print(1-binom.cdf(M_states.trace()*len(G_proj.edges()),len(G_proj.edges()),(p_state**2).sum()))"
   ]
  }
 ],
 "metadata": {
  "kernelspec": {
   "display_name": "Python 3",
   "language": "python",
   "name": "python3"
  },
  "language_info": {
   "codemirror_mode": {
    "name": "ipython",
    "version": 3
   },
   "file_extension": ".py",
   "mimetype": "text/x-python",
   "name": "python",
   "nbconvert_exporter": "python",
   "pygments_lexer": "ipython3",
   "version": "3.4.3"
  }
 },
 "nbformat": 4,
 "nbformat_minor": 2
}
