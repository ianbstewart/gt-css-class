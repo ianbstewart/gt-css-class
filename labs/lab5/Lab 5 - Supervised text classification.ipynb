{
 "cells": [
  {
   "cell_type": "markdown",
   "metadata": {},
   "source": [
    "Project 3: Text analysis of political social media\n",
    "======\n",
    "\n",
    "- By Jacob Eisenstein\n",
    "- For CS 8803-CSS, September 2017\n",
    "\n"
   ]
  },
  {
   "cell_type": "markdown",
   "metadata": {},
   "source": [
    "For this project, we'll use scikit learn. Install it with the line below."
   ]
  },
  {
   "cell_type": "code",
   "execution_count": 2,
   "metadata": {
    "collapsed": true
   },
   "outputs": [],
   "source": [
    "from __future__ import print_function"
   ]
  },
  {
   "cell_type": "code",
   "execution_count": 3,
   "metadata": {},
   "outputs": [
    {
     "name": "stdout",
     "output_type": "stream",
     "text": [
      "Requirement already satisfied: sklearn in /Library/Frameworks/Python.framework/Versions/3.4/lib/python3.4/site-packages\r\n",
      "Requirement already satisfied: scikit-learn in /Library/Frameworks/Python.framework/Versions/3.4/lib/python3.4/site-packages (from sklearn)\r\n"
     ]
    }
   ],
   "source": [
    "! pip3 install --user sklearn"
   ]
  },
  {
   "cell_type": "code",
   "execution_count": 4,
   "metadata": {
    "collapsed": true
   },
   "outputs": [],
   "source": [
    "import codecs #unicode compliance -- maybe not necessary in python 3?\n",
    "import glob #wildcard filenames"
   ]
  },
  {
   "cell_type": "markdown",
   "metadata": {},
   "source": [
    "# Data processing"
   ]
  },
  {
   "cell_type": "markdown",
   "metadata": {},
   "source": [
    "First let's read the data. Here's some hacky code by yours truly."
   ]
  },
  {
   "cell_type": "code",
   "execution_count": 5,
   "metadata": {},
   "outputs": [
    {
     "name": "stdout",
     "output_type": "stream",
     "text": [
      "Anarchism.txt\n",
      "Conservative.txt\n",
      "Libertarian.txt\n",
      "Progressive.txt\n",
      "Socialism.txt\n"
     ]
    }
   ],
   "source": [
    "# some hacky text formatting by yours truly\n",
    "linebreak = '-----==----==---==-----'\n",
    "subreddits = dict()\n",
    "for subreddit_file in sorted(glob.glob('*.txt')):\n",
    "    print(subreddit_file)\n",
    "    subreddit = subreddit_file[:-4]\n",
    "    comments = []\n",
    "    #with codecs.open('.'.join([subreddit,'txt']),'r','utf-8-sig') as fin:\n",
    "    with codecs.open(subreddit_file,'r','utf-8-sig') as fin:\n",
    "        comment = ''        \n",
    "        for line in fin:\n",
    "            if not(line.rstrip() == linebreak):\n",
    "                #print line\n",
    "                #comment += line.decode('utf-8')\n",
    "                comment += line\n",
    "            else:\n",
    "                comments.append(comment)\n",
    "                comment = ''\n",
    "    subreddits[subreddit] = comments"
   ]
  },
  {
   "cell_type": "markdown",
   "metadata": {},
   "source": [
    "`subreddits` is a dict from labels to lists of text comments"
   ]
  },
  {
   "cell_type": "code",
   "execution_count": 6,
   "metadata": {},
   "outputs": [
    {
     "data": {
      "text/plain": [
       "dict_keys(['Progressive', 'Anarchism', 'Libertarian', 'Conservative', 'Socialism'])"
      ]
     },
     "execution_count": 6,
     "metadata": {},
     "output_type": "execute_result"
    }
   ],
   "source": [
    "subreddits.keys()"
   ]
  },
  {
   "cell_type": "code",
   "execution_count": 7,
   "metadata": {},
   "outputs": [
    {
     "name": "stdout",
     "output_type": "stream",
     "text": [
      "What horseshit.\n",
      "\n",
      "\n",
      "Great article.. \n",
      "\n",
      "We all know that this is to push an agenda. It has always been about that. The government wants more control over the energy sector and they are certainly making progress down that path. \n",
      "\n",
      "Thank God those clueless women of America have a rich bitch in the White House to tell them how to shop.\n",
      "\n"
     ]
    }
   ],
   "source": [
    "for comment in subreddits['Conservative'][:3]:\n",
    "    print(comment)"
   ]
  },
  {
   "cell_type": "markdown",
   "metadata": {},
   "source": [
    "**Your turn** take a look at the top three comments in one of the other subreddits"
   ]
  },
  {
   "cell_type": "code",
   "execution_count": 8,
   "metadata": {
    "collapsed": true
   },
   "outputs": [],
   "source": [
    "# your code here"
   ]
  },
  {
   "cell_type": "markdown",
   "metadata": {},
   "source": [
    "## Building feature vectors\n",
    "\n",
    "The [scikit-learn](http://scikit-learn.org/) library has a convenient package for converting string data into feature vectors, called `CountVectorizer`."
   ]
  },
  {
   "cell_type": "code",
   "execution_count": 9,
   "metadata": {
    "collapsed": true
   },
   "outputs": [],
   "source": [
    "from sklearn.feature_extraction.text import CountVectorizer"
   ]
  },
  {
   "cell_type": "code",
   "execution_count": 10,
   "metadata": {
    "collapsed": true
   },
   "outputs": [],
   "source": [
    "vect = CountVectorizer()"
   ]
  },
  {
   "cell_type": "markdown",
   "metadata": {},
   "source": [
    "`CountVectorizer` takes a number of interesting arguments, which we will explore later. \n",
    "\n",
    "You can see the documentation by running the cell below."
   ]
  },
  {
   "cell_type": "code",
   "execution_count": 11,
   "metadata": {
    "collapsed": true
   },
   "outputs": [],
   "source": [
    "?CountVectorizer"
   ]
  },
  {
   "cell_type": "markdown",
   "metadata": {},
   "source": [
    "The input to CountVectorizer is a flattened list of all documents, which we'll produce using this not-very-pythonic for loop."
   ]
  },
  {
   "cell_type": "code",
   "execution_count": 12,
   "metadata": {
    "collapsed": true
   },
   "outputs": [],
   "source": [
    "doc_list = []\n",
    "y = []\n",
    "# note the frequent use of `sorted`, to make sure that the labels and the instances are lined up correctly\n",
    "for subreddit in sorted(subreddits.keys()):\n",
    "    doc_list += subreddits[subreddit]\n",
    "    y += [subreddit]*len(subreddits[subreddit])"
   ]
  },
  {
   "cell_type": "code",
   "execution_count": 13,
   "metadata": {},
   "outputs": [
    {
     "name": "stdout",
     "output_type": "stream",
     "text": [
      "['Anarchism', 'Anarchism', 'Anarchism']\n",
      "['Socialism', 'Socialism', 'Socialism']\n"
     ]
    }
   ],
   "source": [
    "# let's print a few of the labels\n",
    "print(y[:3])\n",
    "print(y[-3:])"
   ]
  },
  {
   "cell_type": "markdown",
   "metadata": {},
   "source": [
    "`CountVectorizer.fit()` reads the data and produces a feature dictionary: a mapping from word types to indices in a feature vector."
   ]
  },
  {
   "cell_type": "code",
   "execution_count": 14,
   "metadata": {},
   "outputs": [
    {
     "data": {
      "text/plain": [
       "CountVectorizer(analyzer='word', binary=False, decode_error='strict',\n",
       "        dtype=<class 'numpy.int64'>, encoding='utf-8', input='content',\n",
       "        lowercase=True, max_df=1.0, max_features=None, min_df=1,\n",
       "        ngram_range=(1, 1), preprocessor=None, stop_words=None,\n",
       "        strip_accents=None, token_pattern='(?u)\\\\b\\\\w\\\\w+\\\\b',\n",
       "        tokenizer=None, vocabulary=None)"
      ]
     },
     "execution_count": 14,
     "metadata": {},
     "output_type": "execute_result"
    }
   ],
   "source": [
    "vect.fit(doc_list)"
   ]
  },
  {
   "cell_type": "code",
   "execution_count": 15,
   "metadata": {},
   "outputs": [
    {
     "data": {
      "text/plain": [
       "17139"
      ]
     },
     "execution_count": 15,
     "metadata": {},
     "output_type": "execute_result"
    }
   ],
   "source": [
    "len(vect.vocabulary_)"
   ]
  },
  {
   "cell_type": "code",
   "execution_count": 16,
   "metadata": {},
   "outputs": [
    {
     "data": {
      "text/plain": [
       "['productively',\n",
       " 'productivity',\n",
       " 'products',\n",
       " 'prof',\n",
       " 'profess',\n",
       " 'professed',\n",
       " 'professes',\n",
       " 'professing',\n",
       " 'profession',\n",
       " 'professional']"
      ]
     },
     "execution_count": 16,
     "metadata": {},
     "output_type": "execute_result"
    }
   ],
   "source": [
    "vect.get_feature_names()[12000:12010]"
   ]
  },
  {
   "cell_type": "markdown",
   "metadata": {},
   "source": [
    "**Your turn** \n",
    "\n",
    "- Use the `min_df` argument of CountVectorizer to include only words that appear in at least three documents. \n",
    "- Print the resulting vocabulary size.\n",
    "- Find a few words that appear in the original feature set, but not in this one."
   ]
  },
  {
   "cell_type": "code",
   "execution_count": 17,
   "metadata": {},
   "outputs": [
    {
     "name": "stdout",
     "output_type": "stream",
     "text": [
      "5964\n",
      "['basketball', 'bassackward', 'bastardisation', 'bastardized', 'bastards', 'bastion', 'bastions', 'batch', 'batches', 'bathwater', 'batman', 'batshit', 'battered', 'batteries', 'battery', 'battlegrounds', 'battling', 'battlingdragon', 'baucus', 'baudrillard', 'bauer', 'bauhaus', 'bazookas', 'bbq', 'bc', 'bcce', 'bcj59', 'bcrdistan', 'bcv', 'bds', 'beach', 'beam', 'bearer', 'bearing', 'bears', 'beast', 'beatification', 'beatings', 'beats', 'beauty', 'beavers', 'becaus', 'beck', 'bee', 'beers', 'bees', 'begets', 'beggars', 'begging', 'begining', 'beginner', 'beginnings', 'begins', 'begs', 'begun', 'behave', 'behaved', 'behaviours', 'behindthenews', 'behringer', 'behvaiors', 'belgian', 'belgium', 'believable', 'believer', 'belittle', 'bella', 'bellies', 'belonged', 'belts', 'beltway', 'bemoans', 'bench', 'benchmark', 'bend', 'beneath', 'benefited', 'benefiting', 'benefitted', 'benefitting', 'benevolence', 'benevolent', 'benign', 'bennet', 'benninghoff', 'bent', 'ber', 'berate', 'berates', 'berger', 'berkman', 'berkut', 'berle', 'berlin', 'berman', 'bernanke', 'bernays', 'berserkrl', 'besets', 'beside']\n"
     ]
    }
   ],
   "source": [
    "vect2 = CountVectorizer(min_df=3) \n",
    "vect2.fit(doc_list)\n",
    "print(len(vect2.vocabulary_))\n",
    "non_overlap = sorted(set(vect.vocabulary_) - set(vect2.vocabulary_))\n",
    "print(non_overlap[1300:1400])"
   ]
  },
  {
   "cell_type": "markdown",
   "metadata": {},
   "source": [
    "Now that we have fit the vectorizer, we can use it to transform the data into a vector.\n",
    "\n",
    "Note that you can fit and transform in one step, using `vect.fit_transform()`"
   ]
  },
  {
   "cell_type": "code",
   "execution_count": 18,
   "metadata": {
    "collapsed": true
   },
   "outputs": [],
   "source": [
    "X = vect.transform(doc_list)"
   ]
  },
  {
   "cell_type": "code",
   "execution_count": 19,
   "metadata": {},
   "outputs": [
    {
     "data": {
      "text/plain": [
       "<4291x17139 sparse matrix of type '<class 'numpy.int64'>'\n",
       "\twith 159004 stored elements in Compressed Sparse Row format>"
      ]
     },
     "execution_count": 19,
     "metadata": {},
     "output_type": "execute_result"
    }
   ],
   "source": [
    "X"
   ]
  },
  {
   "cell_type": "markdown",
   "metadata": {},
   "source": [
    "The output is a sparse matrix: 4291 documents, 17139 words.\n",
    "\n",
    "\"Sparse matrix\" means it's stored as key-value pairs, so size grows with number of non-zero elements.\n",
    "\n",
    "This is essential for working with large-scale datasets."
   ]
  },
  {
   "cell_type": "markdown",
   "metadata": {},
   "source": [
    "## Making a training and test set\n",
    "\n",
    "To estimate the accuracy on unseen data, let's hold out a test set.\n",
    "\n",
    "Again, sklearn provides a nice function for this."
   ]
  },
  {
   "cell_type": "code",
   "execution_count": 20,
   "metadata": {},
   "outputs": [],
   "source": [
    "from sklearn.model_selection import train_test_split"
   ]
  },
  {
   "cell_type": "code",
   "execution_count": 21,
   "metadata": {},
   "outputs": [],
   "source": [
    "X_train, X_test, y_train, y_test = train_test_split(X, y,\n",
    "                                                    random_state=42,\n",
    "                                                    stratify=y,\n",
    "                                                    test_size=0.1)"
   ]
  },
  {
   "cell_type": "code",
   "execution_count": 22,
   "metadata": {},
   "outputs": [
    {
     "data": {
      "text/plain": [
       "<3861x17139 sparse matrix of type '<class 'numpy.int64'>'\n",
       "\twith 144245 stored elements in Compressed Sparse Row format>"
      ]
     },
     "execution_count": 22,
     "metadata": {},
     "output_type": "execute_result"
    }
   ],
   "source": [
    "X_train"
   ]
  },
  {
   "cell_type": "markdown",
   "metadata": {},
   "source": [
    "Same vocabulary size, fewer instances."
   ]
  },
  {
   "cell_type": "code",
   "execution_count": 23,
   "metadata": {},
   "outputs": [
    {
     "data": {
      "text/plain": [
       "<430x17139 sparse matrix of type '<class 'numpy.int64'>'\n",
       "\twith 14759 stored elements in Compressed Sparse Row format>"
      ]
     },
     "execution_count": 23,
     "metadata": {},
     "output_type": "execute_result"
    }
   ],
   "source": [
    "X_test"
   ]
  },
  {
   "cell_type": "code",
   "execution_count": 24,
   "metadata": {},
   "outputs": [
    {
     "data": {
      "text/plain": [
       "4291"
      ]
     },
     "execution_count": 24,
     "metadata": {},
     "output_type": "execute_result"
    }
   ],
   "source": [
    "3861+430"
   ]
  },
  {
   "cell_type": "markdown",
   "metadata": {},
   "source": [
    "# Training a classifier\n",
    "\n",
    "Let's start with logistic regression, which we covered in class a few weeks ago."
   ]
  },
  {
   "cell_type": "code",
   "execution_count": 25,
   "metadata": {
    "collapsed": true
   },
   "outputs": [],
   "source": [
    "from sklearn.linear_model import LogisticRegression"
   ]
  },
  {
   "cell_type": "code",
   "execution_count": 26,
   "metadata": {
    "collapsed": true
   },
   "outputs": [],
   "source": [
    "lr = LogisticRegression()"
   ]
  },
  {
   "cell_type": "code",
   "execution_count": 27,
   "metadata": {},
   "outputs": [
    {
     "data": {
      "text/plain": [
       "LogisticRegression(C=1.0, class_weight=None, dual=False, fit_intercept=True,\n",
       "          intercept_scaling=1, max_iter=100, multi_class='ovr', n_jobs=1,\n",
       "          penalty='l2', random_state=None, solver='liblinear', tol=0.0001,\n",
       "          verbose=0, warm_start=False)"
      ]
     },
     "execution_count": 27,
     "metadata": {},
     "output_type": "execute_result"
    }
   ],
   "source": [
    "lr.fit(X_train,y_train)"
   ]
  },
  {
   "cell_type": "markdown",
   "metadata": {},
   "source": [
    "The output of the `fit` command shows some of the parameters that we could use to tune the behavior of the logistic regression classifier. We'll play with those in a moment. For now, let's look at the classifier state."
   ]
  },
  {
   "cell_type": "code",
   "execution_count": 28,
   "metadata": {},
   "outputs": [
    {
     "data": {
      "text/plain": [
       "array(['Anarchism', 'Conservative', 'Libertarian', 'Progressive',\n",
       "       'Socialism'],\n",
       "      dtype='<U12')"
      ]
     },
     "execution_count": 28,
     "metadata": {},
     "output_type": "execute_result"
    }
   ],
   "source": [
    "lr.classes_"
   ]
  },
  {
   "cell_type": "code",
   "execution_count": 36,
   "metadata": {
    "collapsed": true
   },
   "outputs": [],
   "source": [
    "lr_class_dict = dict(zip(lr.classes_, range(len(lr.classes_))))"
   ]
  },
  {
   "cell_type": "markdown",
   "metadata": {},
   "source": [
    "## Examining the coefficients\n",
    "\n",
    "Before we even consider accuracy, let's look at the top keywords per class.\n",
    "\n",
    "The coefficients are available in the `coef_` variable"
   ]
  },
  {
   "cell_type": "code",
   "execution_count": 29,
   "metadata": {},
   "outputs": [
    {
     "data": {
      "text/plain": [
       "array([[ 0.02816635, -0.09171729, -0.0565127 , ..., -0.04311113,\n",
       "        -0.04311113,  0.31043635],\n",
       "       [ 0.05978944,  0.03829753, -0.09651658, ..., -0.04120992,\n",
       "        -0.04120992, -0.10168794],\n",
       "       [-0.00798825, -0.21674091,  0.49258063, ..., -0.05626165,\n",
       "        -0.05626165, -0.10133215],\n",
       "       [ 0.04217194,  0.30166685, -0.11404512, ..., -0.06841017,\n",
       "        -0.06841017, -0.0251092 ],\n",
       "       [-0.06169858, -0.03540231, -0.17938456, ...,  0.15037128,\n",
       "         0.15037128, -0.11669757]])"
      ]
     },
     "execution_count": 29,
     "metadata": {},
     "output_type": "execute_result"
    }
   ],
   "source": [
    "lr.coef_"
   ]
  },
  {
   "cell_type": "markdown",
   "metadata": {},
   "source": [
    "This is an array with one row per class, and one column per feature. \n",
    "\n",
    "To get the top features, we can use `argsort`.\n",
    "\n",
    "`argsort` sorts by ascending order, so we need to reverse it. We do this using `[::-1]`."
   ]
  },
  {
   "cell_type": "code",
   "execution_count": 30,
   "metadata": {},
   "outputs": [
    {
     "data": {
      "text/plain": [
       "array([ 1164,  1162,  1169,  6148, 11448,  1176, 10357, 13588, 16438,  1181])"
      ]
     },
     "execution_count": 30,
     "metadata": {},
     "output_type": "execute_result"
    }
   ],
   "source": [
    "# top 5 features for label 0\n",
    "lr.coef_[0].argsort()[::-1][:10]"
   ]
  },
  {
   "cell_type": "markdown",
   "metadata": {},
   "source": [
    "Finally, to get the features themselves, we can call `vect.get_feature_names()`"
   ]
  },
  {
   "cell_type": "code",
   "execution_count": 45,
   "metadata": {},
   "outputs": [
    {
     "data": {
      "text/plain": [
       "['socialism',\n",
       " 'socialist',\n",
       " 'communism',\n",
       " 'walmart',\n",
       " 'venezuela',\n",
       " 'protesters',\n",
       " 'socialists',\n",
       " 'propaganda',\n",
       " 'movie',\n",
       " 'marx']"
      ]
     },
     "execution_count": 45,
     "metadata": {},
     "output_type": "execute_result"
    }
   ],
   "source": [
    "[vect.get_feature_names()[i] for i in lr.coef_[lr_class_dict['Socialism']].argsort()[::-1][:10]]"
   ]
  },
  {
   "cell_type": "markdown",
   "metadata": {},
   "source": [
    "**Your turn:** get the top 5 features for a different label."
   ]
  },
  {
   "cell_type": "code",
   "execution_count": 46,
   "metadata": {},
   "outputs": [
    {
     "data": {
      "text/plain": [
       "['libertarianism', 'libertarian', 'bitcoin', 'libertarians', 'fda']"
      ]
     },
     "execution_count": 46,
     "metadata": {},
     "output_type": "execute_result"
    }
   ],
   "source": [
    "[vect.get_feature_names()[i] for i in lr.coef_[2].argsort()[::-1][:5]]\n",
    "# your code here"
   ]
  },
  {
   "cell_type": "markdown",
   "metadata": {},
   "source": [
    "Just for fun, let's scatter plot the weights for the same feature for two different classes."
   ]
  },
  {
   "cell_type": "code",
   "execution_count": 47,
   "metadata": {
    "collapsed": true
   },
   "outputs": [],
   "source": [
    "import matplotlib.pyplot as plt\n",
    "%matplotlib inline"
   ]
  },
  {
   "cell_type": "code",
   "execution_count": 48,
   "metadata": {},
   "outputs": [
    {
     "name": "stderr",
     "output_type": "stream",
     "text": [
      "/Library/Frameworks/Python.framework/Versions/3.4/lib/python3.4/site-packages/matplotlib/collections.py:590: FutureWarning: elementwise comparison failed; returning scalar instead, but in the future will perform elementwise comparison\n",
      "  if self._edgecolors == str('face'):\n"
     ]
    },
    {
     "data": {
      "image/png": "[encoded data removed]",
      "text/plain": [
       "<matplotlib.figure.Figure at 0x109d592e8>"
      ]
     },
     "metadata": {},
     "output_type": "display_data"
    }
   ],
   "source": [
    "plt.scatter(lr.coef_[3],lr.coef_[1])\n",
    "plt.xlabel(lr.classes_[3])\n",
    "plt.ylabel(lr.classes_[1])\n",
    "plt.title('feature weights');"
   ]
  },
  {
   "cell_type": "code",
   "execution_count": 50,
   "metadata": {
    "collapsed": true
   },
   "outputs": [],
   "source": [
    "?sns.regplot"
   ]
  },
  {
   "cell_type": "code",
   "execution_count": 49,
   "metadata": {},
   "outputs": [
    {
     "name": "stderr",
     "output_type": "stream",
     "text": [
      "/Library/Frameworks/Python.framework/Versions/3.4/lib/python3.4/site-packages/matplotlib/collections.py:590: FutureWarning: elementwise comparison failed; returning scalar instead, but in the future will perform elementwise comparison\n",
      "  if self._edgecolors == str('face'):\n"
     ]
    },
    {
     "data": {
      "image/png": "[encoded data removed]",
      "text/plain": [
       "<matplotlib.figure.Figure at 0x109da7f60>"
      ]
     },
     "metadata": {},
     "output_type": "display_data"
    }
   ],
   "source": [
    "import seaborn as sns\n",
    "sns.regplot(lr.coef_[3],lr.coef_[1], equ)\n",
    "plt.xlabel(lr.classes_[3])\n",
    "plt.ylabel(lr.classes_[1])\n",
    "plt.show()"
   ]
  },
  {
   "cell_type": "markdown",
   "metadata": {},
   "source": [
    "Logistic regression employs a regularization penalty to control the norm of the weights. \n",
    "\n",
    "Optimize: $max_{\\theta} log(P(y_{i} | x_{i} ; \\theta))$.\n",
    "\n",
    "But we don't want to overfit to sparse features, e.g., a word that occurs once for a particular class. So we can add a penalty based on the norm of the coefficient vector.\n",
    "\n",
    "- In $\\ell_2$ regularization, the penalty is on the Euclidean norm, also called the $\\ell_2$ norm,\n",
    "$R(\\theta) = \\lambda \\sqrt{ \\sum_i \\theta_i^2}$\n",
    "\n",
    "- In $\\ell_1$ regularization, the penalty is on the $\\ell_1$ norm,\n",
    "$R(\\theta) = \\lambda \\sum_i | \\theta_i |$\n",
    "\n",
    "Let's try it.\n"
   ]
  },
  {
   "cell_type": "code",
   "execution_count": 51,
   "metadata": {
    "collapsed": true
   },
   "outputs": [],
   "source": [
    "lr_l1 = LogisticRegression(penalty='l1')"
   ]
  },
  {
   "cell_type": "code",
   "execution_count": 52,
   "metadata": {},
   "outputs": [
    {
     "data": {
      "text/plain": [
       "LogisticRegression(C=1.0, class_weight=None, dual=False, fit_intercept=True,\n",
       "          intercept_scaling=1, max_iter=100, multi_class='ovr', n_jobs=1,\n",
       "          penalty='l1', random_state=None, solver='liblinear', tol=0.0001,\n",
       "          verbose=0, warm_start=False)"
      ]
     },
     "execution_count": 52,
     "metadata": {},
     "output_type": "execute_result"
    }
   ],
   "source": [
    "lr_l1.fit(X_train,y_train)"
   ]
  },
  {
   "cell_type": "code",
   "execution_count": 53,
   "metadata": {},
   "outputs": [
    {
     "name": "stderr",
     "output_type": "stream",
     "text": [
      "/Library/Frameworks/Python.framework/Versions/3.4/lib/python3.4/site-packages/matplotlib/collections.py:590: FutureWarning: elementwise comparison failed; returning scalar instead, but in the future will perform elementwise comparison\n",
      "  if self._edgecolors == str('face'):\n"
     ]
    },
    {
     "data": {
      "image/png": "[encoded data removed]",
      "text/plain": [
       "<matplotlib.figure.Figure at 0x10b3be908>"
      ]
     },
     "metadata": {},
     "output_type": "display_data"
    }
   ],
   "source": [
    "plt.scatter(lr_l1.coef_[3],lr_l1.coef_[1])\n",
    "plt.xlabel(lr_l1.classes_[3])\n",
    "plt.ylabel(lr_l1.classes_[1])\n",
    "plt.title('feature weights');"
   ]
  },
  {
   "cell_type": "markdown",
   "metadata": {},
   "source": [
    "**Discuss** Try to explain what you see in this figure, and why $\\ell_1$ regularization might make it possible to add $n$-gram features."
   ]
  },
  {
   "cell_type": "markdown",
   "metadata": {},
   "source": [
    "Regularization drives irrelevant coefficients to zero, so the features that are especially predictive of progressive class have strong weights for progressive but weak for conservative."
   ]
  },
  {
   "cell_type": "code",
   "execution_count": 54,
   "metadata": {},
   "outputs": [
    {
     "name": "stdout",
     "output_type": "stream",
     "text": [
      "L1 ['anarchist', 'anarchists', 'anarchism', 'protestors', 'ancap']\n",
      "L2 ['anarchist', 'anarchism', 'anarchists', 'feminist', 'pigs']\n"
     ]
    }
   ],
   "source": [
    "print('L1',[vect.get_feature_names()[i] for i in lr_l1.coef_[0].argsort()[::-1][:5]])\n",
    "print('L2',[vect.get_feature_names()[i] for i in lr.coef_[0].argsort()[::-1][:5]])"
   ]
  },
  {
   "cell_type": "markdown",
   "metadata": {},
   "source": [
    "No big difference in the word lists, but things might be different if we change the regularization parameters $C = \\frac{1}{\\lambda}$."
   ]
  },
  {
   "cell_type": "markdown",
   "metadata": {},
   "source": [
    "## Predictive accuracy\n",
    "\n",
    "Using the classifier to make predictions is easy."
   ]
  },
  {
   "cell_type": "code",
   "execution_count": 55,
   "metadata": {
    "collapsed": true
   },
   "outputs": [],
   "source": [
    "y_hat = lr.predict(X_test)"
   ]
  },
  {
   "cell_type": "code",
   "execution_count": 56,
   "metadata": {},
   "outputs": [
    {
     "data": {
      "text/plain": [
       "array(['Libertarian', 'Socialism', 'Libertarian', 'Progressive',\n",
       "       'Anarchism'],\n",
       "      dtype='<U12')"
      ]
     },
     "execution_count": 56,
     "metadata": {},
     "output_type": "execute_result"
    }
   ],
   "source": [
    "y_hat[:5]"
   ]
  },
  {
   "cell_type": "code",
   "execution_count": 57,
   "metadata": {},
   "outputs": [
    {
     "name": "stdout",
     "output_type": "stream",
     "text": [
      "accuracy: 0.423\n"
     ]
    }
   ],
   "source": [
    "acc = (y_hat == y_test).mean()\n",
    "print('accuracy: %.3f'%acc)"
   ]
  },
  {
   "cell_type": "markdown",
   "metadata": {},
   "source": [
    "**Your turn**: compute the number of true positives, false negatives, and false positives for the `Socialism` label"
   ]
  },
  {
   "cell_type": "code",
   "execution_count": 58,
   "metadata": {
    "collapsed": true
   },
   "outputs": [],
   "source": [
    "import numpy as np"
   ]
  },
  {
   "cell_type": "code",
   "execution_count": 59,
   "metadata": {
    "collapsed": true
   },
   "outputs": [],
   "source": [
    "label = 'Socialism'\n",
    "# your code here"
   ]
  },
  {
   "cell_type": "code",
   "execution_count": 60,
   "metadata": {},
   "outputs": [
    {
     "ename": "NameError",
     "evalue": "name 'tp' is not defined",
     "output_type": "error",
     "traceback": [
      "\u001b[0;31m---------------------------------------------------------------------------\u001b[0m",
      "\u001b[0;31mNameError\u001b[0m                                 Traceback (most recent call last)",
      "\u001b[0;32m<ipython-input-60-cbb8ccbd77a7>\u001b[0m in \u001b[0;36m<module>\u001b[0;34m()\u001b[0m\n\u001b[0;32m----> 1\u001b[0;31m \u001b[0mprint\u001b[0m\u001b[0;34m(\u001b[0m\u001b[0mtp\u001b[0m\u001b[0;34m,\u001b[0m\u001b[0mfp\u001b[0m\u001b[0;34m,\u001b[0m\u001b[0mfn\u001b[0m\u001b[0;34m)\u001b[0m\u001b[0;34m\u001b[0m\u001b[0m\n\u001b[0m",
      "\u001b[0;31mNameError\u001b[0m: name 'tp' is not defined"
     ]
    }
   ],
   "source": [
    "print(tp,fp,fn)"
   ]
  },
  {
   "cell_type": "markdown",
   "metadata": {},
   "source": [
    "`sklearn` has some useful functions here as well"
   ]
  },
  {
   "cell_type": "code",
   "execution_count": 61,
   "metadata": {
    "collapsed": true
   },
   "outputs": [],
   "source": [
    "from sklearn.metrics import accuracy_score, f1_score"
   ]
  },
  {
   "cell_type": "code",
   "execution_count": 62,
   "metadata": {},
   "outputs": [
    {
     "data": {
      "text/plain": [
       "0.42325581395348838"
      ]
     },
     "execution_count": 62,
     "metadata": {},
     "output_type": "execute_result"
    }
   ],
   "source": [
    "accuracy_score(y_test,y_hat)"
   ]
  },
  {
   "cell_type": "markdown",
   "metadata": {},
   "source": [
    "Recall that $f_1$ is the geometric mean of recall and precision.\n",
    "\n",
    "*Macro*-averaging means average across labels.\n",
    "\n",
    "In this case, we have roughly the same number of documents per label, so macro and micro should be roughly the same."
   ]
  },
  {
   "cell_type": "code",
   "execution_count": 79,
   "metadata": {},
   "outputs": [
    {
     "data": {
      "text/plain": [
       "0.4134410346651185"
      ]
     },
     "execution_count": 79,
     "metadata": {},
     "output_type": "execute_result"
    }
   ],
   "source": [
    "f1_score(y_test,y_hat,average='macro')"
   ]
  },
  {
   "cell_type": "code",
   "execution_count": 80,
   "metadata": {},
   "outputs": [
    {
     "data": {
      "text/plain": [
       "0.42325581395348838"
      ]
     },
     "execution_count": 80,
     "metadata": {},
     "output_type": "execute_result"
    }
   ],
   "source": [
    "f1_score(y_test,y_hat,average='micro')"
   ]
  },
  {
   "cell_type": "markdown",
   "metadata": {},
   "source": [
    "# Improving the classifier\n",
    "\n",
    "**Your turn** Try improving the classifier by:\n",
    "\n",
    "- Not lowercasing the input\n",
    "- Only including words that appear in at least two documents"
   ]
  },
  {
   "cell_type": "code",
   "execution_count": 81,
   "metadata": {
    "collapsed": true
   },
   "outputs": [],
   "source": [
    "vect3 = CountVectorizer() # your code here"
   ]
  },
  {
   "cell_type": "code",
   "execution_count": 82,
   "metadata": {
    "collapsed": true
   },
   "outputs": [],
   "source": [
    "X = vect3.fit_transform(doc_list)"
   ]
  },
  {
   "cell_type": "code",
   "execution_count": 83,
   "metadata": {},
   "outputs": [
    {
     "data": {
      "text/plain": [
       "(4291, 9309)"
      ]
     },
     "execution_count": 83,
     "metadata": {},
     "output_type": "execute_result"
    }
   ],
   "source": [
    "X.shape"
   ]
  },
  {
   "cell_type": "code",
   "execution_count": 84,
   "metadata": {
    "collapsed": true
   },
   "outputs": [],
   "source": [
    "X_train, X_test, y_train, y_test = train_test_split(X, y,\n",
    "                                                    random_state=42,\n",
    "                                                    stratify=y,\n",
    "                                                    test_size=0.1)"
   ]
  },
  {
   "cell_type": "markdown",
   "metadata": {},
   "source": [
    "**Your turn** Run logistic regression, compute accuracy and $F_1$"
   ]
  },
  {
   "cell_type": "markdown",
   "metadata": {},
   "source": [
    "# Support vector machines\n",
    "\n",
    "Support vector machines (SVMs) are another classifier. This code shows you how to try it."
   ]
  },
  {
   "cell_type": "code",
   "execution_count": 91,
   "metadata": {
    "collapsed": true
   },
   "outputs": [],
   "source": [
    "from sklearn.svm import LinearSVC"
   ]
  },
  {
   "cell_type": "code",
   "execution_count": 92,
   "metadata": {
    "collapsed": true
   },
   "outputs": [],
   "source": [
    "svc = LinearSVC(C=0.01) "
   ]
  },
  {
   "cell_type": "code",
   "execution_count": 93,
   "metadata": {},
   "outputs": [
    {
     "data": {
      "text/plain": [
       "LinearSVC(C=0.01, class_weight=None, dual=True, fit_intercept=True,\n",
       "     intercept_scaling=1, loss='squared_hinge', max_iter=1000,\n",
       "     multi_class='ovr', penalty='l2', random_state=None, tol=0.0001,\n",
       "     verbose=0)"
      ]
     },
     "execution_count": 93,
     "metadata": {},
     "output_type": "execute_result"
    }
   ],
   "source": [
    "svc.fit(X_train,y_train)"
   ]
  },
  {
   "cell_type": "code",
   "execution_count": 94,
   "metadata": {
    "collapsed": true
   },
   "outputs": [],
   "source": [
    "y_hat = svc.predict(X_test)"
   ]
  },
  {
   "cell_type": "code",
   "execution_count": 95,
   "metadata": {},
   "outputs": [
    {
     "data": {
      "text/plain": [
       "0.4511627906976744"
      ]
     },
     "execution_count": 95,
     "metadata": {},
     "output_type": "execute_result"
    }
   ],
   "source": [
    "accuracy_score(y_test,y_hat)"
   ]
  },
  {
   "cell_type": "code",
   "execution_count": 96,
   "metadata": {},
   "outputs": [
    {
     "name": "stdout",
     "output_type": "stream",
     "text": [
      "0.429545466194 0.451162790698\n"
     ]
    }
   ],
   "source": [
    "print(f1_score(y_test,y_hat,average='macro'),f1_score(y_test,y_hat,average='micro'))"
   ]
  }
 ],
 "metadata": {
  "kernelspec": {
   "display_name": "Python 3",
   "language": "python",
   "name": "python3"
  },
  "language_info": {
   "codemirror_mode": {
    "name": "ipython",
    "version": 3
   },
   "file_extension": ".py",
   "mimetype": "text/x-python",
   "name": "python",
   "nbconvert_exporter": "python",
   "pygments_lexer": "ipython3",
   "version": "3.4.3"
  }
 },
 "nbformat": 4,
 "nbformat_minor": 2
}
