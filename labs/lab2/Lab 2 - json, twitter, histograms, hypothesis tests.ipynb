{
 "cells": [
  {
   "cell_type": "code",
   "execution_count": 3,
   "metadata": {
    "collapsed": true
   },
   "outputs": [],
   "source": [
    "decoder = json.JSONDecoder()"
   ]
  },
  {
   "cell_type": "markdown",
   "metadata": {},
   "source": [
    "[JSON](https://en.wikipedia.org/wiki/JSON) is a file format for storing attribute-value pairs. Let's start by looking at one line."
   ]
  },
  {
   "cell_type": "code",
   "execution_count": 4,
   "metadata": {},
   "outputs": [
    {
     "name": "stdout",
     "output_type": "stream",
     "text": [
      "{\"created_at\":\"Thu Aug 28 15:34:30 +0000 2014\",\"id\":505015575811457024,\"id_str\":\"505015575811457024\",\"text\":\"Rebola, gatinha http:\\/\\/t.co\\/xMxqJE5o3U\",\"source\":\"\\u003ca href=\\\"http:\\/\\/twitter.com\\/download\\/iphone\\\" rel=\\\"nofollow\\\"\\u003eTwitter for iPhone\\u003c\\/a\\u003e\",\"truncated\":false,\"in_reply_to_status_id\":null,\"in_reply_to_status_id_str\":null,\"in_reply_to_user_id\":null,\"in_reply_to_user_id_str\":null,\"in_reply_to_screen_name\":null,\"user\":{\"id\":360002438,\"id_str\":\"360002438\",\"name\":\"jubas\\u2661\",\"screen_name\":\"luhantella\",\"location\":\"\\u266111.05.14.\\u2661\",\"url\":\"http:\\/\\/ask.fm\\/httpshawol\",\"description\":\"\\u300c2ne1dsoshineexo\\u300d are my drugs. + girl's day vixx bigbang orange caramel got7 suju bestie akmu. \\u2665\\ufe0e2Crazy \\u2661 rua das HunHan \\u00acu\\u00ac\\u2661 For eternity, Elli. \\u2764\\ufe0f Gabi \\u2764\\ufe0f\",\"protected\":false,\"verified\":false,\"followers_count\":802,\"friends_count\":1303,\"listed_count\":2,\"favourites_count\":1492,\"statuses_count\":44745,\"created_at\":\"Mon Aug 22 14:46:00 +0000 2011\",\"utc_offset\":-14400,\"time_zone\":\"Santiago\",\"geo_enabled\":false,\"lang\":\"pt\",\"contributors_enabled\":false,\"is_translator\":false,\"profile_background_color\":\"FFFFFF\",\"profile_background_image_url\":\"http:\\/\\/pbs.twimg.com\\/profile_background_images\\/472048019739648000\\/FuWpbKrv.jpeg\",\"profile_background_image_url_https\":\"https:\\/\\/pbs.twimg.com\\/profile_background_images\\/472048019739648000\\/FuWpbKrv.jpeg\",\"profile_background_tile\":false,\"profile_link_color\":\"6C2F8F\",\"profile_sidebar_border_color\":\"FFFFFF\",\"profile_sidebar_fill_color\":\"E6F6F9\",\"profile_text_color\":\"333333\",\"profile_use_background_image\":true,\"profile_image_url\":\"http:\\/\\/pbs.twimg.com\\/profile_images\\/504468592008896512\\/ycZXacWD_normal.jpeg\",\"profile_image_url_https\":\"https:\\/\\/pbs.twimg.com\\/profile_images\\/504468592008896512\\/ycZXacWD_normal.jpeg\",\"profile_banner_url\":\"https:\\/\\/pbs.twimg.com\\/profile_banners\\/360002438\\/1409109654\",\"default_profile\":false,\"default_profile_image\":false,\"following\":null,\"follow_request_sent\":null,\"notifications\":null},\"geo\":null,\"coordinates\":null,\"place\":null,\"contributors\":null,\"retweet_count\":0,\"favorite_count\":0,\"entities\":{\"hashtags\":[],\"trends\":[],\"urls\":[],\"user_mentions\":[],\"symbols\":[],\"media\":[{\"id\":505005124834447362,\"id_str\":\"505005124834447362\",\"indices\":[16,38],\"media_url\":\"http:\\/\\/pbs.twimg.com\\/media\\/BwIjfEOCUAIuPQn.jpg\",\"media_url_https\":\"https:\\/\\/pbs.twimg.com\\/media\\/BwIjfEOCUAIuPQn.jpg\",\"url\":\"http:\\/\\/t.co\\/xMxqJE5o3U\",\"display_url\":\"pic.twitter.com\\/xMxqJE5o3U\",\"expanded_url\":\"http:\\/\\/twitter.com\\/EXO_FANBASE\\/status\\/505005125119639553\\/photo\\/1\",\"type\":\"photo\",\"sizes\":{\"medium\":{\"w\":600,\"h\":900,\"resize\":\"fit\"},\"small\":{\"w\":340,\"h\":510,\"resize\":\"fit\"},\"thumb\":{\"w\":150,\"h\":150,\"resize\":\"crop\"},\"large\":{\"w\":1000,\"h\":1500,\"resize\":\"fit\"}},\"source_status_id\":505005125119639553,\"source_status_id_str\":\"505005125119639553\"}]},\"extended_entities\":{\"media\":[{\"id\":505005124834447362,\"id_str\":\"505005124834447362\",\"indices\":[16,38],\"media_url\":\"http:\\/\\/pbs.twimg.com\\/media\\/BwIjfEOCUAIuPQn.jpg\",\"media_url_https\":\"https:\\/\\/pbs.twimg.com\\/media\\/BwIjfEOCUAIuPQn.jpg\",\"url\":\"http:\\/\\/t.co\\/xMxqJE5o3U\",\"display_url\":\"pic.twitter.com\\/xMxqJE5o3U\",\"expanded_url\":\"http:\\/\\/twitter.com\\/EXO_FANBASE\\/status\\/505005125119639553\\/photo\\/1\",\"type\":\"photo\",\"sizes\":{\"medium\":{\"w\":600,\"h\":900,\"resize\":\"fit\"},\"small\":{\"w\":340,\"h\":510,\"resize\":\"fit\"},\"thumb\":{\"w\":150,\"h\":150,\"resize\":\"crop\"},\"large\":{\"w\":1000,\"h\":1500,\"resize\":\"fit\"}},\"source_status_id\":505005125119639553,\"source_status_id_str\":\"505005125119639553\"}]},\"favorited\":false,\"retweeted\":false,\"possibly_sensitive\":false,\"filter_level\":\"medium\",\"lang\":\"pt\",\"timestamp_ms\":\"1409240070672\"}\n",
      "\n"
     ]
    }
   ],
   "source": [
    "with open('ebola-tweets-short.json')as fin:\n",
    "    line = fin.readline()\n",
    "    print (line)\n",
    "    tweet = decoder.decode(line)"
   ]
  },
  {
   "cell_type": "markdown",
   "metadata": {},
   "source": [
    "The JSON object itself is a dict of key-value pairs. \n",
    "- Values can themselves be key-value pairs, such as `tweet['user']`\n",
    "- Empty values are written `[]`"
   ]
  },
  {
   "cell_type": "code",
   "execution_count": 5,
   "metadata": {},
   "outputs": [
    {
     "name": "stdout",
     "output_type": "stream",
     "text": [
      "dict_keys(['truncated', 'timestamp_ms', 'in_reply_to_status_id', 'retweeted', 'created_at', 'extended_entities', 'text', 'entities', 'source', 'coordinates', 'retweet_count', 'possibly_sensitive', 'id_str', 'in_reply_to_screen_name', 'user', 'id', 'favorited', 'in_reply_to_user_id', 'in_reply_to_status_id_str', 'contributors', 'place', 'lang', 'favorite_count', 'filter_level', 'in_reply_to_user_id_str', 'geo'])\n"
     ]
    }
   ],
   "source": [
    "print(tweet.keys())"
   ]
  },
  {
   "cell_type": "markdown",
   "metadata": {},
   "source": [
    "`user` is a nested JSON object, which is itself a list of key-value pairs."
   ]
  },
  {
   "cell_type": "code",
   "execution_count": 6,
   "metadata": {},
   "outputs": [
    {
     "data": {
      "text/plain": [
       "{'contributors_enabled': False,\n",
       " 'created_at': 'Mon Aug 22 14:46:00 +0000 2011',\n",
       " 'default_profile': False,\n",
       " 'default_profile_image': False,\n",
       " 'description': \"「2ne1dsoshineexo」 are my drugs. + girl's day vixx bigbang orange caramel got7 suju bestie akmu. ♥︎2Crazy ♡ rua das HunHan ¬u¬♡ For eternity, Elli. ❤️ Gabi ❤️\",\n",
       " 'favourites_count': 1492,\n",
       " 'follow_request_sent': None,\n",
       " 'followers_count': 802,\n",
       " 'following': None,\n",
       " 'friends_count': 1303,\n",
       " 'geo_enabled': False,\n",
       " 'id': 360002438,\n",
       " 'id_str': '360002438',\n",
       " 'is_translator': False,\n",
       " 'lang': 'pt',\n",
       " 'listed_count': 2,\n",
       " 'location': '♡11.05.14.♡',\n",
       " 'name': 'jubas♡',\n",
       " 'notifications': None,\n",
       " 'profile_background_color': 'FFFFFF',\n",
       " 'profile_background_image_url': 'http://pbs.twimg.com/profile_background_images/472048019739648000/FuWpbKrv.jpeg',\n",
       " 'profile_background_image_url_https': 'https://pbs.twimg.com/profile_background_images/472048019739648000/FuWpbKrv.jpeg',\n",
       " 'profile_background_tile': False,\n",
       " 'profile_banner_url': 'https://pbs.twimg.com/profile_banners/360002438/1409109654',\n",
       " 'profile_image_url': 'http://pbs.twimg.com/profile_images/504468592008896512/ycZXacWD_normal.jpeg',\n",
       " 'profile_image_url_https': 'https://pbs.twimg.com/profile_images/504468592008896512/ycZXacWD_normal.jpeg',\n",
       " 'profile_link_color': '6C2F8F',\n",
       " 'profile_sidebar_border_color': 'FFFFFF',\n",
       " 'profile_sidebar_fill_color': 'E6F6F9',\n",
       " 'profile_text_color': '333333',\n",
       " 'profile_use_background_image': True,\n",
       " 'protected': False,\n",
       " 'screen_name': 'luhantella',\n",
       " 'statuses_count': 44745,\n",
       " 'time_zone': 'Santiago',\n",
       " 'url': 'http://ask.fm/httpshawol',\n",
       " 'utc_offset': -14400,\n",
       " 'verified': False}"
      ]
     },
     "execution_count": 6,
     "metadata": {},
     "output_type": "execute_result"
    }
   ],
   "source": [
    "tweet['user']"
   ]
  },
  {
   "cell_type": "markdown",
   "metadata": {},
   "source": [
    "# Degree distributions\n",
    "\n",
    "Let's collect the degree distribution for `followers_count` and `friends_count` (the number of people that a Twitter user follows)."
   ]
  },
  {
   "cell_type": "code",
   "execution_count": 7,
   "metadata": {
    "collapsed": true
   },
   "outputs": [],
   "source": [
    "filename = 'ebola-tweets-short.json'"
   ]
  },
  {
   "cell_type": "code",
   "execution_count": 8,
   "metadata": {},
   "outputs": [
    {
     "name": "stdout",
     "output_type": "stream",
     "text": [
      "1000 total users, 861 unique users\n"
     ]
    }
   ],
   "source": [
    "# gather all tweet user variables, using a list comprehension\n",
    "with open(filename) as fin:\n",
    "    tweets = [decoder.decode(line) for line in fin.readlines()]\n",
    "    tweet_users = [t['user'] for t in tweets]\n",
    "    # get unique users\n",
    "    unique_users = []\n",
    "    unique_user_ids = set()\n",
    "    for u in tweet_users:\n",
    "        if(u['id'] not in unique_user_ids):\n",
    "            unique_user_ids.add(u['id'])\n",
    "            unique_users.append(u)\n",
    "    print('%d total users, %d unique users'%(len(tweet_users), len(unique_users)))\n",
    "    tweet_users_unique = unique_users"
   ]
  },
  {
   "cell_type": "markdown",
   "metadata": {},
   "source": [
    "**About list comprehensions** \n",
    "\n",
    "List comprehensions are an idiom inspired by functional programming. \n",
    "They are concise and easy to read, once you get the idea. \n",
    "Here are some readings about list comprehensions:\n",
    "\n",
    "- http://treyhunner.com/2015/12/python-list-comprehensions-now-in-color/\n",
    "- https://docs.python.org/3/howto/functional.html"
   ]
  },
  {
   "cell_type": "markdown",
   "metadata": {},
   "source": [
    "Anyway, let's plot histograms of the number of followers and \"friends\" for each user."
   ]
  },
  {
   "cell_type": "code",
   "execution_count": 35,
   "metadata": {},
   "outputs": [
    {
     "data": {
      "image/png": "[encoded data removed]",
      "text/plain": [
       "<matplotlib.figure.Figure at 0x105880e80>"
      ]
     },
     "metadata": {},
     "output_type": "display_data"
    }
   ],
   "source": [
    "# two side-by-side plots\n",
    "fig,ax = plt.subplots(1,2,figsize=[8,2.5],sharey=True)\n",
    "# ax[0] selects the first subplot\n",
    "# here we use another list comprehension to build a list of followers_count for each user\n",
    "ax[0].hist([user['followers_count'] for user in tweet_users_unique]);\n",
    "ax[0].set_xlabel('followers')\n",
    "# ax[1] selects the second subplot. same list comprehension trick.\n",
    "ax[1].hist([user['friends_count'] for user in tweet_users_unique]);\n",
    "ax[1].set_xlabel('friends');"
   ]
  },
  {
   "cell_type": "markdown",
   "metadata": {},
   "source": [
    "These histograms are not helpful! Let's try logs."
   ]
  },
  {
   "cell_type": "code",
   "execution_count": 36,
   "metadata": {},
   "outputs": [
    {
     "ename": "ValueError",
     "evalue": "range parameter must be finite.",
     "output_type": "error",
     "traceback": [
      "\u001b[0;31m---------------------------------------------------------------------------\u001b[0m",
      "\u001b[0;31mValueError\u001b[0m                                Traceback (most recent call last)",
      "\u001b[0;32m<ipython-input-36-49faaf8160d3>\u001b[0m in \u001b[0;36m<module>\u001b[0;34m()\u001b[0m\n\u001b[1;32m      1\u001b[0m \u001b[0mfig\u001b[0m\u001b[0;34m,\u001b[0m\u001b[0max\u001b[0m \u001b[0;34m=\u001b[0m \u001b[0mplt\u001b[0m\u001b[0;34m.\u001b[0m\u001b[0msubplots\u001b[0m\u001b[0;34m(\u001b[0m\u001b[0;36m1\u001b[0m\u001b[0;34m,\u001b[0m\u001b[0;36m2\u001b[0m\u001b[0;34m,\u001b[0m\u001b[0mfigsize\u001b[0m\u001b[0;34m=\u001b[0m\u001b[0;34m[\u001b[0m\u001b[0;36m7\u001b[0m\u001b[0;34m,\u001b[0m\u001b[0;36m2\u001b[0m\u001b[0;34m]\u001b[0m\u001b[0;34m,\u001b[0m\u001b[0msharey\u001b[0m\u001b[0;34m=\u001b[0m\u001b[0;32mTrue\u001b[0m\u001b[0;34m)\u001b[0m\u001b[0;34m\u001b[0m\u001b[0m\n\u001b[0;32m----> 2\u001b[0;31m \u001b[0max\u001b[0m\u001b[0;34m[\u001b[0m\u001b[0;36m0\u001b[0m\u001b[0;34m]\u001b[0m\u001b[0;34m.\u001b[0m\u001b[0mhist\u001b[0m\u001b[0;34m(\u001b[0m\u001b[0mnp\u001b[0m\u001b[0;34m.\u001b[0m\u001b[0mlog\u001b[0m\u001b[0;34m(\u001b[0m\u001b[0;34m[\u001b[0m\u001b[0muser\u001b[0m\u001b[0;34m[\u001b[0m\u001b[0;34m'followers_count'\u001b[0m\u001b[0;34m]\u001b[0m \u001b[0;32mfor\u001b[0m \u001b[0muser\u001b[0m \u001b[0;32min\u001b[0m \u001b[0mtweet_users_unique\u001b[0m\u001b[0;34m]\u001b[0m\u001b[0;34m)\u001b[0m\u001b[0;34m)\u001b[0m\u001b[0;34m;\u001b[0m\u001b[0;34m\u001b[0m\u001b[0m\n\u001b[0m\u001b[1;32m      3\u001b[0m \u001b[0max\u001b[0m\u001b[0;34m[\u001b[0m\u001b[0;36m0\u001b[0m\u001b[0;34m]\u001b[0m\u001b[0;34m.\u001b[0m\u001b[0mset_xlabel\u001b[0m\u001b[0;34m(\u001b[0m\u001b[0;34m'log followers'\u001b[0m\u001b[0;34m)\u001b[0m\u001b[0;34m\u001b[0m\u001b[0m\n\u001b[1;32m      4\u001b[0m \u001b[0max\u001b[0m\u001b[0;34m[\u001b[0m\u001b[0;36m1\u001b[0m\u001b[0;34m]\u001b[0m\u001b[0;34m.\u001b[0m\u001b[0mhist\u001b[0m\u001b[0;34m(\u001b[0m\u001b[0mnp\u001b[0m\u001b[0;34m.\u001b[0m\u001b[0mlog\u001b[0m\u001b[0;34m(\u001b[0m\u001b[0;34m[\u001b[0m\u001b[0muser\u001b[0m\u001b[0;34m[\u001b[0m\u001b[0;34m'friends_count'\u001b[0m\u001b[0;34m]\u001b[0m \u001b[0;32mfor\u001b[0m \u001b[0muser\u001b[0m \u001b[0;32min\u001b[0m \u001b[0mtweet_users_unique\u001b[0m\u001b[0;34m]\u001b[0m\u001b[0;34m)\u001b[0m\u001b[0;34m)\u001b[0m\u001b[0;34m;\u001b[0m\u001b[0;34m\u001b[0m\u001b[0m\n\u001b[1;32m      5\u001b[0m \u001b[0max\u001b[0m\u001b[0;34m[\u001b[0m\u001b[0;36m1\u001b[0m\u001b[0;34m]\u001b[0m\u001b[0;34m.\u001b[0m\u001b[0mset_xlabel\u001b[0m\u001b[0;34m(\u001b[0m\u001b[0;34m'log friends'\u001b[0m\u001b[0;34m)\u001b[0m\u001b[0;34m;\u001b[0m\u001b[0;34m\u001b[0m\u001b[0m\n",
      "\u001b[0;32m/Library/Frameworks/Python.framework/Versions/3.4/lib/python3.4/site-packages/matplotlib/axes/_axes.py\u001b[0m in \u001b[0;36mhist\u001b[0;34m(self, x, bins, range, normed, weights, cumulative, bottom, histtype, align, orientation, rwidth, log, color, label, stacked, **kwargs)\u001b[0m\n\u001b[1;32m   5676\u001b[0m             \u001b[0;31m# this will automatically overwrite bins,\u001b[0m\u001b[0;34m\u001b[0m\u001b[0;34m\u001b[0m\u001b[0m\n\u001b[1;32m   5677\u001b[0m             \u001b[0;31m# so that each histogram uses the same bins\u001b[0m\u001b[0;34m\u001b[0m\u001b[0;34m\u001b[0m\u001b[0m\n\u001b[0;32m-> 5678\u001b[0;31m             \u001b[0mm\u001b[0m\u001b[0;34m,\u001b[0m \u001b[0mbins\u001b[0m \u001b[0;34m=\u001b[0m \u001b[0mnp\u001b[0m\u001b[0;34m.\u001b[0m\u001b[0mhistogram\u001b[0m\u001b[0;34m(\u001b[0m\u001b[0mx\u001b[0m\u001b[0;34m[\u001b[0m\u001b[0mi\u001b[0m\u001b[0;34m]\u001b[0m\u001b[0;34m,\u001b[0m \u001b[0mbins\u001b[0m\u001b[0;34m,\u001b[0m \u001b[0mweights\u001b[0m\u001b[0;34m=\u001b[0m\u001b[0mw\u001b[0m\u001b[0;34m[\u001b[0m\u001b[0mi\u001b[0m\u001b[0;34m]\u001b[0m\u001b[0;34m,\u001b[0m \u001b[0;34m**\u001b[0m\u001b[0mhist_kwargs\u001b[0m\u001b[0;34m)\u001b[0m\u001b[0;34m\u001b[0m\u001b[0m\n\u001b[0m\u001b[1;32m   5679\u001b[0m             \u001b[0mm\u001b[0m \u001b[0;34m=\u001b[0m \u001b[0mm\u001b[0m\u001b[0;34m.\u001b[0m\u001b[0mastype\u001b[0m\u001b[0;34m(\u001b[0m\u001b[0mfloat\u001b[0m\u001b[0;34m)\u001b[0m  \u001b[0;31m# causes problems later if it's an int\u001b[0m\u001b[0;34m\u001b[0m\u001b[0m\n\u001b[1;32m   5680\u001b[0m             \u001b[0;32mif\u001b[0m \u001b[0mmlast\u001b[0m \u001b[0;32mis\u001b[0m \u001b[0;32mNone\u001b[0m\u001b[0;34m:\u001b[0m\u001b[0;34m\u001b[0m\u001b[0m\n",
      "\u001b[0;32m/Library/Frameworks/Python.framework/Versions/3.4/lib/python3.4/site-packages/numpy/lib/function_base.py\u001b[0m in \u001b[0;36mhistogram\u001b[0;34m(a, bins, range, normed, weights, density)\u001b[0m\n\u001b[1;32m    503\u001b[0m     \u001b[0;32mif\u001b[0m \u001b[0;32mnot\u001b[0m \u001b[0mnp\u001b[0m\u001b[0;34m.\u001b[0m\u001b[0mall\u001b[0m\u001b[0;34m(\u001b[0m\u001b[0mnp\u001b[0m\u001b[0;34m.\u001b[0m\u001b[0misfinite\u001b[0m\u001b[0;34m(\u001b[0m\u001b[0;34m[\u001b[0m\u001b[0mmn\u001b[0m\u001b[0;34m,\u001b[0m \u001b[0mmx\u001b[0m\u001b[0;34m]\u001b[0m\u001b[0;34m)\u001b[0m\u001b[0;34m)\u001b[0m\u001b[0;34m:\u001b[0m\u001b[0;34m\u001b[0m\u001b[0m\n\u001b[1;32m    504\u001b[0m         raise ValueError(\n\u001b[0;32m--> 505\u001b[0;31m             'range parameter must be finite.')\n\u001b[0m\u001b[1;32m    506\u001b[0m     \u001b[0;32mif\u001b[0m \u001b[0mmn\u001b[0m \u001b[0;34m==\u001b[0m \u001b[0mmx\u001b[0m\u001b[0;34m:\u001b[0m\u001b[0;34m\u001b[0m\u001b[0m\n\u001b[1;32m    507\u001b[0m         \u001b[0mmn\u001b[0m \u001b[0;34m-=\u001b[0m \u001b[0;36m0.5\u001b[0m\u001b[0;34m\u001b[0m\u001b[0m\n",
      "\u001b[0;31mValueError\u001b[0m: range parameter must be finite."
     ]
    },
    {
     "data": {
      "image/png": "[encoded data removed]",
      "text/plain": [
       "<matplotlib.figure.Figure at 0x106b66da0>"
      ]
     },
     "metadata": {},
     "output_type": "display_data"
    }
   ],
   "source": [
    "fig,ax = plt.subplots(1,2,figsize=[7,2],sharey=True)\n",
    "ax[0].hist(np.log([user['followers_count'] for user in tweet_users_unique]));\n",
    "ax[0].set_xlabel('log followers')\n",
    "ax[1].hist(np.log([user['friends_count'] for user in tweet_users_unique]));\n",
    "ax[1].set_xlabel('log friends');"
   ]
  },
  {
   "cell_type": "markdown",
   "metadata": {},
   "source": [
    "Not a great error message! The issue is that some of these counts are zero, so we can't take a log. \n",
    "\n",
    "We'll just do a hacky solution: $\\log(n + 1)$"
   ]
  },
  {
   "cell_type": "code",
   "execution_count": 37,
   "metadata": {},
   "outputs": [
    {
     "data": {
      "image/png": "[encoded data removed]",
      "text/plain": [
       "<matplotlib.figure.Figure at 0x10702e4e0>"
      ]
     },
     "metadata": {},
     "output_type": "display_data"
    }
   ],
   "source": [
    "fig,ax = plt.subplots(1,2,figsize=[8,2.5],sharey=True)\n",
    "ax[0].hist(np.log(1.+np.array([user['followers_count'] for user in tweet_users_unique])));\n",
    "ax[0].set_xlabel('log followers')\n",
    "ax[1].hist(np.log(1.+np.array([user['friends_count'] for user in tweet_users_unique])));\n",
    "ax[1].set_xlabel('log friends');"
   ]
  },
  {
   "cell_type": "code",
   "execution_count": 38,
   "metadata": {
    "collapsed": true
   },
   "outputs": [],
   "source": [
    "foll_arr = np.array([user['followers_count'] for user in tweet_users_unique])\n",
    "friend_arr = np.array([user['friends_count'] for user in tweet_users_unique])"
   ]
  },
  {
   "cell_type": "markdown",
   "metadata": {},
   "source": [
    "A log-log plot can also be useful for understanding this kind of data."
   ]
  },
  {
   "cell_type": "code",
   "execution_count": 21,
   "metadata": {},
   "outputs": [
    {
     "data": {
      "image/png": "[encoded data removed]",
      "text/plain": [
       "<matplotlib.figure.Figure at 0x1057188d0>"
      ]
     },
     "metadata": {},
     "output_type": "display_data"
    }
   ],
   "source": [
    "plt.loglog(sorted(foll_arr)[::-1]);\n",
    "plt.loglog(sorted(friend_arr)[::-1],linestyle='--');\n",
    "plt.legend(['followers','friends'])\n",
    "plt.xlabel('rank')\n",
    "plt.ylabel('count');"
   ]
  },
  {
   "cell_type": "markdown",
   "metadata": {},
   "source": [
    "## Your turn\n",
    "\n",
    "The `user.statuses_count` variable is the total number of tweets. Plot the histogram of the log of this variable, and add the variable to the figure above.\n",
    "\n",
    "Based on your analysis, make a qualitative statement about the difference between the distribution over `statuses_count` and the other two variables."
   ]
  },
  {
   "cell_type": "code",
   "execution_count": 39,
   "metadata": {},
   "outputs": [
    {
     "data": {
      "image/png": "[encoded data removed]",
      "text/plain": [
       "<matplotlib.figure.Figure at 0x107a57780>"
      ]
     },
     "metadata": {},
     "output_type": "display_data"
    },
    {
     "data": {
      "image/png": "[encoded data removed]",
      "text/plain": [
       "<matplotlib.figure.Figure at 0x107aae668>"
      ]
     },
     "metadata": {},
     "output_type": "display_data"
    }
   ],
   "source": [
    "# your code here\n",
    "status_arr = np.array([user['statuses_count'] for user in tweet_users_unique])\n",
    "log_statuses = np.log(status_arr + 1)\n",
    "# histogram\n",
    "plt.hist(log_statuses)\n",
    "plt.show()\n",
    "# add to follower/friend plot\n",
    "plt.loglog(sorted(foll_arr)[::-1]);\n",
    "plt.loglog(sorted(friend_arr)[::-1],linestyle='--');\n",
    "plt.loglog(sorted(status_arr)[::-1], linestyle='-.')\n",
    "plt.legend(['followers','friends','statuses'])\n",
    "plt.xlabel('rank')\n",
    "plt.ylabel('count');"
   ]
  },
  {
   "cell_type": "markdown",
   "metadata": {},
   "source": [
    "Every user's status count is higher than their follower count, which suggests that users post more frequently than they acquire followers. This difference is exacerbated for lower-ranked users and implies that these lower-ranked users care more about sharing statuses than acquiring followers."
   ]
  },
  {
   "cell_type": "markdown",
   "metadata": {},
   "source": [
    "## Your turn (again)\n",
    "\n",
    "The field `lang` is the language associated with the user account.\n",
    "\n",
    "- What fraction of tweets are by users for whom the language is English? (the value will be `en`)\n",
    "- What is the second-most popular language?"
   ]
  },
  {
   "cell_type": "code",
   "execution_count": 25,
   "metadata": {},
   "outputs": [
    {
     "name": "stdout",
     "output_type": "stream",
     "text": [
      "[('a', 3), ('b', 2)]\n"
     ]
    }
   ],
   "source": [
    "from collections import Counter\n",
    "print(Counter(['a','a','a','b','b','c','d']).most_common(2))"
   ]
  },
  {
   "cell_type": "code",
   "execution_count": 29,
   "metadata": {},
   "outputs": [
    {
     "name": "stdout",
     "output_type": "stream",
     "text": [
      "English fraction: 42.900%\n",
      "second most popular language: pt (N=241)\n"
     ]
    }
   ],
   "source": [
    "language_counts = Counter([t['user']['lang'] for t in tweets])\n",
    "english_fraction = language_counts['en'] / len(tweets) * 100\n",
    "print('English fraction: %.3f%%'%(english_fraction))\n",
    "second_most_popular = sorted(language_counts.items(), key=lambda x: x[1], reverse=True)[1]\n",
    "print('second most popular language: %s (N=%d)'%(second_most_popular[0], second_most_popular[1]))"
   ]
  },
  {
   "cell_type": "markdown",
   "metadata": {},
   "source": [
    "**Result**\n",
    "\n",
    "42.9% of the tweets are written by English speakers, and the second most popular language is Portuguese (`pt`)."
   ]
  },
  {
   "cell_type": "markdown",
   "metadata": {
    "collapsed": true
   },
   "source": [
    "# Putting it in a dataframe"
   ]
  },
  {
   "cell_type": "code",
   "execution_count": 30,
   "metadata": {
    "collapsed": true
   },
   "outputs": [],
   "source": [
    "import pandas as pd"
   ]
  },
  {
   "cell_type": "code",
   "execution_count": 40,
   "metadata": {
    "collapsed": true
   },
   "outputs": [],
   "source": [
    "df = pd.DataFrame({\n",
    "        # this is a unique id per user\n",
    "        'id':np.array([user['id'] for user in tweet_users]),\n",
    "        'followers':np.array([user['followers_count'] for user in tweet_users]),\n",
    "        'friends':np.array([user['friends_count'] for user in tweet_users])})"
   ]
  },
  {
   "cell_type": "code",
   "execution_count": 41,
   "metadata": {},
   "outputs": [
    {
     "data": {
      "text/html": [
       "<div>\n",
       "<table border=\"1\" class=\"dataframe\">\n",
       "  <thead>\n",
       "    <tr style=\"text-align: right;\">\n",
       "      <th></th>\n",
       "      <th>followers</th>\n",
       "      <th>friends</th>\n",
       "      <th>id</th>\n",
       "    </tr>\n",
       "  </thead>\n",
       "  <tbody>\n",
       "    <tr>\n",
       "      <th>0</th>\n",
       "      <td>802</td>\n",
       "      <td>1303</td>\n",
       "      <td>360002438</td>\n",
       "    </tr>\n",
       "    <tr>\n",
       "      <th>1</th>\n",
       "      <td>587</td>\n",
       "      <td>953</td>\n",
       "      <td>57416517</td>\n",
       "    </tr>\n",
       "    <tr>\n",
       "      <th>2</th>\n",
       "      <td>251</td>\n",
       "      <td>244</td>\n",
       "      <td>1373051762</td>\n",
       "    </tr>\n",
       "  </tbody>\n",
       "</table>\n",
       "</div>"
      ],
      "text/plain": [
       "   followers  friends          id\n",
       "0        802     1303   360002438\n",
       "1        587      953    57416517\n",
       "2        251      244  1373051762"
      ]
     },
     "execution_count": 41,
     "metadata": {},
     "output_type": "execute_result"
    }
   ],
   "source": [
    "df.head(3)"
   ]
  },
  {
   "cell_type": "markdown",
   "metadata": {},
   "source": [
    "Are there any duplicate users in this list? \n",
    "\n",
    "We can tell by looking at the id."
   ]
  },
  {
   "cell_type": "code",
   "execution_count": 42,
   "metadata": {},
   "outputs": [
    {
     "name": "stdout",
     "output_type": "stream",
     "text": [
      "861 1000\n"
     ]
    }
   ],
   "source": [
    "print(len(df['id'].unique()),len(df))"
   ]
  },
  {
   "cell_type": "markdown",
   "metadata": {},
   "source": [
    "There are only 861 unique user IDs among these 1000 tweets. \n",
    "\n",
    "Let's aggregate by taking the max number of followers and friends for each ID"
   ]
  },
  {
   "cell_type": "code",
   "execution_count": 43,
   "metadata": {
    "collapsed": true
   },
   "outputs": [],
   "source": [
    "df_agg = df.groupby('id').aggregate('max')"
   ]
  },
  {
   "cell_type": "code",
   "execution_count": 44,
   "metadata": {},
   "outputs": [
    {
     "data": {
      "text/html": [
       "<div>\n",
       "<table border=\"1\" class=\"dataframe\">\n",
       "  <thead>\n",
       "    <tr style=\"text-align: right;\">\n",
       "      <th></th>\n",
       "      <th>followers</th>\n",
       "      <th>friends</th>\n",
       "    </tr>\n",
       "    <tr>\n",
       "      <th>id</th>\n",
       "      <th></th>\n",
       "      <th></th>\n",
       "    </tr>\n",
       "  </thead>\n",
       "  <tbody>\n",
       "    <tr>\n",
       "      <th>3078921</th>\n",
       "      <td>328</td>\n",
       "      <td>0</td>\n",
       "    </tr>\n",
       "    <tr>\n",
       "      <th>5678532</th>\n",
       "      <td>723</td>\n",
       "      <td>696</td>\n",
       "    </tr>\n",
       "    <tr>\n",
       "      <th>8706922</th>\n",
       "      <td>6166</td>\n",
       "      <td>323</td>\n",
       "    </tr>\n",
       "    <tr>\n",
       "      <th>8886812</th>\n",
       "      <td>13117</td>\n",
       "      <td>980</td>\n",
       "    </tr>\n",
       "    <tr>\n",
       "      <th>12003092</th>\n",
       "      <td>3979</td>\n",
       "      <td>1036</td>\n",
       "    </tr>\n",
       "  </tbody>\n",
       "</table>\n",
       "</div>"
      ],
      "text/plain": [
       "          followers  friends\n",
       "id                          \n",
       "3078921         328        0\n",
       "5678532         723      696\n",
       "8706922        6166      323\n",
       "8886812       13117      980\n",
       "12003092       3979     1036"
      ]
     },
     "execution_count": 44,
     "metadata": {},
     "output_type": "execute_result"
    }
   ],
   "source": [
    "df_agg.head()"
   ]
  },
  {
   "cell_type": "markdown",
   "metadata": {},
   "source": [
    "The `id` has been made the index of this aggregated dataframe."
   ]
  },
  {
   "cell_type": "code",
   "execution_count": 45,
   "metadata": {},
   "outputs": [
    {
     "name": "stdout",
     "output_type": "stream",
     "text": [
      "861\n"
     ]
    }
   ],
   "source": [
    "print(len(df_agg))"
   ]
  },
  {
   "cell_type": "markdown",
   "metadata": {},
   "source": [
    "Any relationship between number of friends and followers?"
   ]
  },
  {
   "cell_type": "code",
   "execution_count": 46,
   "metadata": {},
   "outputs": [
    {
     "name": "stderr",
     "output_type": "stream",
     "text": [
      "/Library/Frameworks/Python.framework/Versions/3.4/lib/python3.4/site-packages/matplotlib/collections.py:590: FutureWarning: elementwise comparison failed; returning scalar instead, but in the future will perform elementwise comparison\n",
      "  if self._edgecolors == str('face'):\n"
     ]
    },
    {
     "data": {
      "image/png": "[encoded data removed]",
      "text/plain": [
       "<matplotlib.figure.Figure at 0x1053addd8>"
      ]
     },
     "metadata": {},
     "output_type": "display_data"
    }
   ],
   "source": [
    "plt.scatter(df_agg['followers'],df_agg['friends']);\n",
    "plt.xlabel('followers')\n",
    "plt.ylabel('friends');"
   ]
  },
  {
   "cell_type": "markdown",
   "metadata": {},
   "source": [
    "Hard to tell. Let's try logs again."
   ]
  },
  {
   "cell_type": "code",
   "execution_count": 47,
   "metadata": {},
   "outputs": [
    {
     "name": "stderr",
     "output_type": "stream",
     "text": [
      "/Library/Frameworks/Python.framework/Versions/3.4/lib/python3.4/site-packages/matplotlib/collections.py:590: FutureWarning: elementwise comparison failed; returning scalar instead, but in the future will perform elementwise comparison\n",
      "  if self._edgecolors == str('face'):\n"
     ]
    },
    {
     "data": {
      "image/png": "[encoded data removed]",
      "text/plain": [
       "<matplotlib.figure.Figure at 0x1078246d8>"
      ]
     },
     "metadata": {},
     "output_type": "display_data"
    }
   ],
   "source": [
    "plt.scatter(np.log(1.+df_agg['followers']),\n",
    "            np.log(1.+df_agg['friends']))\n",
    "plt.xlabel('log followers')\n",
    "plt.ylabel('log friends');"
   ]
  },
  {
   "cell_type": "markdown",
   "metadata": {},
   "source": [
    "Looks like there is some kind of relationship. Let's get a correlation."
   ]
  },
  {
   "cell_type": "code",
   "execution_count": 48,
   "metadata": {
    "collapsed": true
   },
   "outputs": [],
   "source": [
    "import scipy as sp\n",
    "import scipy.stats as stats"
   ]
  },
  {
   "cell_type": "code",
   "execution_count": 49,
   "metadata": {},
   "outputs": [
    {
     "data": {
      "text/plain": [
       "(0.65466624108458016, 1.6901011201515013e-106)"
      ]
     },
     "execution_count": 49,
     "metadata": {},
     "output_type": "execute_result"
    }
   ],
   "source": [
    "stats.pearsonr(np.log(1.+df_agg['followers']),np.log(1.+df_agg['friends']))"
   ]
  },
  {
   "cell_type": "markdown",
   "metadata": {},
   "source": [
    "The second number is the $p$-value, which is very small.\n",
    "\n",
    "Let's confirm that the correlation is equal to $\\frac{\\text{cov}(x,y)}{\\text{std}(x)\\times \\text{std}(y)}$, as discussed in class."
   ]
  },
  {
   "cell_type": "code",
   "execution_count": 50,
   "metadata": {
    "collapsed": true
   },
   "outputs": [],
   "source": [
    "x = np.log(1. + df_agg['followers'])\n",
    "y = np.log(1. + df_agg['friends'])"
   ]
  },
  {
   "cell_type": "code",
   "execution_count": 51,
   "metadata": {
    "collapsed": true
   },
   "outputs": [],
   "source": [
    "cov_xy = sum((x - x.mean()) * (y - y.mean())) / (len(x)-1)"
   ]
  },
  {
   "cell_type": "code",
   "execution_count": 52,
   "metadata": {},
   "outputs": [
    {
     "name": "stdout",
     "output_type": "stream",
     "text": [
      "1.8693869484 1.83175831828 1.5588742648\n"
     ]
    }
   ],
   "source": [
    "print(cov_xy,x.std(),y.std())"
   ]
  },
  {
   "cell_type": "code",
   "execution_count": 53,
   "metadata": {
    "collapsed": true
   },
   "outputs": [],
   "source": [
    "r_manual = cov_xy / (x.std() * y.std())"
   ]
  },
  {
   "cell_type": "code",
   "execution_count": 54,
   "metadata": {},
   "outputs": [
    {
     "name": "stdout",
     "output_type": "stream",
     "text": [
      "0.654666241085\n"
     ]
    }
   ],
   "source": [
    "print(r_manual)"
   ]
  },
  {
   "cell_type": "markdown",
   "metadata": {},
   "source": [
    "Same!\n",
    "\n",
    "For reference, here's the Spearman rank correlation"
   ]
  },
  {
   "cell_type": "code",
   "execution_count": 55,
   "metadata": {},
   "outputs": [
    {
     "data": {
      "text/plain": [
       "SpearmanrResult(correlation=0.67183664842944169, pvalue=4.2597680950819419e-114)"
      ]
     },
     "execution_count": 55,
     "metadata": {},
     "output_type": "execute_result"
    }
   ],
   "source": [
    "stats.spearmanr(np.log(1.+df_agg['followers']),np.log(1.+df_agg['friends']))"
   ]
  },
  {
   "cell_type": "markdown",
   "metadata": {},
   "source": [
    "## Your turn\n",
    "\n",
    "What is the Pearson correlation between the (log) number of `friends` and the (log) `statuses_count`? \n",
    "\n",
    "To answer this, add `statuses_count` to the dataframe. You'll need to start over with `df`, and then aggregate again by `id`."
   ]
  },
  {
   "cell_type": "code",
   "execution_count": 62,
   "metadata": {},
   "outputs": [
    {
     "name": "stdout",
     "output_type": "stream",
     "text": [
      "          followers   friends  statuses_count\n",
      "id                                           \n",
      "3078921    5.796058  0.000000       10.598583\n",
      "5678532    6.584791  6.546785       11.315584\n",
      "8706922    8.726968  5.780744       10.606536\n",
      "8886812    9.481741  6.888572        8.727940\n",
      "12003092   8.289037  6.944087       11.609008\n"
     ]
    },
    {
     "name": "stderr",
     "output_type": "stream",
     "text": [
      "/Library/Frameworks/Python.framework/Versions/3.4/lib/python3.4/site-packages/matplotlib/collections.py:590: FutureWarning: elementwise comparison failed; returning scalar instead, but in the future will perform elementwise comparison\n",
      "  if self._edgecolors == str('face'):\n"
     ]
    },
    {
     "data": {
      "image/png": "[encoded data removed]",
      "text/plain": [
       "<matplotlib.figure.Figure at 0x105c72f98>"
      ]
     },
     "metadata": {},
     "output_type": "display_data"
    },
    {
     "name": "stdout",
     "output_type": "stream",
     "text": [
      "R(friends, statuses_count)=0.420 (p=4.587E-38)\n"
     ]
    }
   ],
   "source": [
    "# your code here\n",
    "df = pd.DataFrame(\n",
    "    {\n",
    "        # this is a unique id per user\n",
    "        'id':np.array([user['id'] for user in tweet_users]),\n",
    "        'followers':np.array([user['followers_count'] for user in tweet_users]),\n",
    "        'friends':np.array([user['friends_count'] for user in tweet_users]), \n",
    "        'statuses_count':np.array([user['statuses_count'] for user in tweet_users])\n",
    "    }\n",
    "                 )\n",
    "df_agg = df.groupby('id').aggregate(max)\n",
    "# log-values\n",
    "df_agg = df_agg.applymap(lambda x: np.log(1. + x))\n",
    "print(df_agg.head())\n",
    "var_1_name = 'friends'\n",
    "var_2_name = 'statuses_count'\n",
    "# plot first\n",
    "plt.scatter(df_agg.loc[:, var_1_name], df_agg.loc[:, var_2_name])\n",
    "plt.xlabel(var_1_name)\n",
    "plt.ylabel(var_2_name)\n",
    "plt.show()\n",
    "# then do correlation\n",
    "r, pval = stats.pearsonr(df_agg.loc[:, var_1_name], df_agg.loc[:, var_2_name])\n",
    "print('R(%s, %s)=%.3f (p=%.3E)'%(var_1_name, var_2_name, r, pval))"
   ]
  },
  {
   "cell_type": "markdown",
   "metadata": {},
   "source": [
    "**Result**\n",
    "\n",
    "There is a weak positive correlation between friends and status count. This makese sense if you consider that extroverted people are more likely to have more friends and communicate more."
   ]
  },
  {
   "cell_type": "markdown",
   "metadata": {},
   "source": [
    "# Hypothesis test: English --> more followers\n",
    "\n",
    "English is the most popular language on Twitter, so perhaps it offers more followers.\n",
    "\n",
    "Let's do a hypothesis test comparing the number of followers for English-speaking accounts to the number of followers for all other accounts. Specifically, we'll test the hypothesis:\n",
    "\n",
    "    - H1: The median English-speaking twitter user has more followers than the median non-English-speaking twitter user"
   ]
  },
  {
   "cell_type": "code",
   "execution_count": 64,
   "metadata": {
    "collapsed": true
   },
   "outputs": [],
   "source": [
    "# here's a dataframe that includes whether the user's language is English\n",
    "df = pd.DataFrame({'id':np.array([user['id'] for user in tweet_users]),\n",
    "                   'followers':np.array([user['followers_count'] for user in tweet_users]),\n",
    "                   'friends':np.array([user['friends_count'] for user in tweet_users]),\n",
    "                   'statuses':np.array([user['statuses_count'] for user in tweet_users]),\n",
    "                   'lang_en':[user['lang']=='en' for user in tweet_users]})"
   ]
  },
  {
   "cell_type": "code",
   "execution_count": 65,
   "metadata": {},
   "outputs": [
    {
     "data": {
      "text/html": [
       "<div>\n",
       "<table border=\"1\" class=\"dataframe\">\n",
       "  <thead>\n",
       "    <tr style=\"text-align: right;\">\n",
       "      <th></th>\n",
       "      <th>followers</th>\n",
       "      <th>friends</th>\n",
       "      <th>id</th>\n",
       "      <th>lang_en</th>\n",
       "      <th>statuses</th>\n",
       "    </tr>\n",
       "  </thead>\n",
       "  <tbody>\n",
       "    <tr>\n",
       "      <th>0</th>\n",
       "      <td>802</td>\n",
       "      <td>1303</td>\n",
       "      <td>360002438</td>\n",
       "      <td>False</td>\n",
       "      <td>44745</td>\n",
       "    </tr>\n",
       "    <tr>\n",
       "      <th>1</th>\n",
       "      <td>587</td>\n",
       "      <td>953</td>\n",
       "      <td>57416517</td>\n",
       "      <td>True</td>\n",
       "      <td>44148</td>\n",
       "    </tr>\n",
       "    <tr>\n",
       "      <th>2</th>\n",
       "      <td>251</td>\n",
       "      <td>244</td>\n",
       "      <td>1373051762</td>\n",
       "      <td>True</td>\n",
       "      <td>8420</td>\n",
       "    </tr>\n",
       "  </tbody>\n",
       "</table>\n",
       "</div>"
      ],
      "text/plain": [
       "   followers  friends          id lang_en  statuses\n",
       "0        802     1303   360002438   False     44745\n",
       "1        587      953    57416517    True     44148\n",
       "2        251      244  1373051762    True      8420"
      ]
     },
     "execution_count": 65,
     "metadata": {},
     "output_type": "execute_result"
    }
   ],
   "source": [
    "df.head(3)"
   ]
  },
  {
   "cell_type": "code",
   "execution_count": 66,
   "metadata": {
    "collapsed": true
   },
   "outputs": [],
   "source": [
    "# again, aggregate by id to avoid repetition\n",
    "df_agg = df.groupby('id').aggregate('max')"
   ]
  },
  {
   "cell_type": "code",
   "execution_count": 67,
   "metadata": {},
   "outputs": [
    {
     "data": {
      "text/html": [
       "<div>\n",
       "<table border=\"1\" class=\"dataframe\">\n",
       "  <thead>\n",
       "    <tr style=\"text-align: right;\">\n",
       "      <th></th>\n",
       "      <th>followers</th>\n",
       "      <th>friends</th>\n",
       "      <th>lang_en</th>\n",
       "      <th>statuses</th>\n",
       "    </tr>\n",
       "    <tr>\n",
       "      <th>id</th>\n",
       "      <th></th>\n",
       "      <th></th>\n",
       "      <th></th>\n",
       "      <th></th>\n",
       "    </tr>\n",
       "  </thead>\n",
       "  <tbody>\n",
       "    <tr>\n",
       "      <th>3078921</th>\n",
       "      <td>328</td>\n",
       "      <td>0</td>\n",
       "      <td>True</td>\n",
       "      <td>40077</td>\n",
       "    </tr>\n",
       "    <tr>\n",
       "      <th>5678532</th>\n",
       "      <td>723</td>\n",
       "      <td>696</td>\n",
       "      <td>False</td>\n",
       "      <td>82090</td>\n",
       "    </tr>\n",
       "    <tr>\n",
       "      <th>8706922</th>\n",
       "      <td>6166</td>\n",
       "      <td>323</td>\n",
       "      <td>True</td>\n",
       "      <td>40397</td>\n",
       "    </tr>\n",
       "  </tbody>\n",
       "</table>\n",
       "</div>"
      ],
      "text/plain": [
       "         followers  friends lang_en  statuses\n",
       "id                                           \n",
       "3078921        328        0    True     40077\n",
       "5678532        723      696   False     82090\n",
       "8706922       6166      323    True     40397"
      ]
     },
     "execution_count": 67,
     "metadata": {},
     "output_type": "execute_result"
    }
   ],
   "source": [
    "df_agg.head(3)"
   ]
  },
  {
   "cell_type": "code",
   "execution_count": 68,
   "metadata": {},
   "outputs": [
    {
     "name": "stdout",
     "output_type": "stream",
     "text": [
      "followers     417\n",
      "friends       344\n",
      "lang_en         1\n",
      "statuses     8420\n",
      "dtype: float64\n",
      "followers     399.0\n",
      "friends       380.0\n",
      "lang_en         0.0\n",
      "statuses     9931.5\n",
      "dtype: float64\n"
     ]
    }
   ],
   "source": [
    "# print the medians\n",
    "# as in lab 1, we use `loc` to select a subset of the dataframe\n",
    "print(df_agg.loc[df_agg['lang_en']].median())\n",
    "print(df_agg.loc[~df_agg['lang_en']].median())"
   ]
  },
  {
   "cell_type": "markdown",
   "metadata": {},
   "source": [
    "The medians are very close, but the English speakers do have a higher median number of followers:"
   ]
  },
  {
   "cell_type": "code",
   "execution_count": 69,
   "metadata": {},
   "outputs": [
    {
     "name": "stdout",
     "output_type": "stream",
     "text": [
      "18.0\n"
     ]
    }
   ],
   "source": [
    "follow_series = df_agg['followers'] # for convenience\n",
    "h1_val = follow_series[df_agg['lang_en'].values].median() - follow_series[~df_agg['lang_en'].values].median()\n",
    "print(h1_val)"
   ]
  },
  {
   "cell_type": "markdown",
   "metadata": {},
   "source": [
    "Let's do the hypothesis test by randomization. Here's a command to shuffle the series. Execute the cell multiple times to see what happens."
   ]
  },
  {
   "cell_type": "code",
   "execution_count": 71,
   "metadata": {},
   "outputs": [
    {
     "data": {
      "text/plain": [
       "0     415\n",
       "1    1042\n",
       "2     821\n",
       "3      44\n",
       "4     317\n",
       "Name: followers, dtype: int64"
      ]
     },
     "execution_count": 71,
     "metadata": {},
     "output_type": "execute_result"
    }
   ],
   "source": [
    "follow_series.sample(frac=1,replace=False).reset_index(drop=True).head()"
   ]
  },
  {
   "cell_type": "markdown",
   "metadata": {},
   "source": [
    "Now let's compute the difference in medians for a shuffled sample."
   ]
  },
  {
   "cell_type": "code",
   "execution_count": 72,
   "metadata": {},
   "outputs": [
    {
     "name": "stdout",
     "output_type": "stream",
     "text": [
      "61.0\n"
     ]
    }
   ],
   "source": [
    "samp = follow_series.sample(frac=1,replace=False).reset_index(drop=True)\n",
    "h0_val = samp[df_agg['lang_en'].values].median() - samp[~df_agg['lang_en'].values].median()\n",
    "print(h0_val)"
   ]
  },
  {
   "cell_type": "markdown",
   "metadata": {},
   "source": [
    "To get a $p$-value, let's draw 1000 samples like this, and see how many exceed the h1_val"
   ]
  },
  {
   "cell_type": "code",
   "execution_count": 73,
   "metadata": {
    "collapsed": true
   },
   "outputs": [],
   "source": [
    "S = 1000"
   ]
  },
  {
   "cell_type": "code",
   "execution_count": 95,
   "metadata": {},
   "outputs": [
    {
     "name": "stdout",
     "output_type": "stream",
     "text": [
      "0.6581731401383877\n",
      "0.14521950390189886\n"
     ]
    }
   ],
   "source": [
    "import timeit\n",
    "time_results_1 = timeit.timeit(lambda : follow_series.sample(frac=1,replace=False).reset_index(drop=True), number=100)\n",
    "print(time_results_1)\n",
    "time_results_2 = timeit.timeit(lambda : follow_series[np.random.choice(follow_series.index, len(follow_series)).tolist()], number=100)\n",
    "print(time_results_2)"
   ]
  },
  {
   "cell_type": "code",
   "execution_count": 99,
   "metadata": {},
   "outputs": [
    {
     "name": "stdout",
     "output_type": "stream",
     "text": [
      "p = 0.351000\n"
     ]
    }
   ],
   "source": [
    "# boring for-loop way\n",
    "p_count = 0\n",
    "for _ in range(S):\n",
    "#     samp = follow_series.sample(frac=1,replace=False).reset_index(drop=True)\n",
    "    samp = follow_series[np.random.choice(follow_series.index, len(follow_series)).tolist()]\n",
    "    h0_val = samp[df_agg['lang_en'].values].median() - samp[~df_agg['lang_en'].values].median()\n",
    "    p_count += (h0_val > h1_val)\n",
    "print('p = %f'%(p_count / S))"
   ]
  },
  {
   "cell_type": "code",
   "execution_count": 112,
   "metadata": {},
   "outputs": [
    {
     "name": "stdout",
     "output_type": "stream",
     "text": [
      "p = 0.394000\n"
     ]
    }
   ],
   "source": [
    "# awesome functional programming way\n",
    "median_diff = lambda samp : samp[df_agg['lang_en'].values].median() - samp[~df_agg['lang_en'].values].median()\n",
    "get_samp = lambda : follow_series.sample(frac=1,replace=False).reset_index(drop=True)\n",
    "# get_samp = lambda : follow_series[np.random.choice(follow_series.index, len(follow_series)).tolist()]\n",
    "h0_vals = [median_diff(get_samp()) for _ in range(S)]\n",
    "p_count = sum([h0_val > h1_val for h0_val in h0_vals])\n",
    "print('p = %f'%(p_count / S))"
   ]
  },
  {
   "cell_type": "markdown",
   "metadata": {},
   "source": [
    "Here's a figure that makes the point that the result is not statistically significant."
   ]
  },
  {
   "cell_type": "code",
   "execution_count": 113,
   "metadata": {},
   "outputs": [
    {
     "data": {
      "image/png": "[encoded data removed]",
      "text/plain": [
       "<matplotlib.figure.Figure at 0x107934f98>"
      ]
     },
     "metadata": {},
     "output_type": "display_data"
    }
   ],
   "source": [
    "plt.hist(h0_vals,color='gray');\n",
    "plt.plot([h1_val,h1_val],[0,200],linestyle='--',color='red',linewidth=3)\n",
    "plt.xlabel('difference in medians');\n",
    "plt.legend(['observed value','null distribution']);"
   ]
  },
  {
   "cell_type": "markdown",
   "metadata": {},
   "source": [
    "## You try\n",
    "\n",
    "Try running the $p$-value function a few times to get a sense for the variance of the estimation of the $p$-value.\n",
    "\n",
    "Try three different values of $S \\in \\{100, 1000, 10000\\}$. \n",
    "\n",
    "The variance of the $p$-value across, say, five runs, should decrease with larger values of $S$."
   ]
  },
  {
   "cell_type": "code",
   "execution_count": 116,
   "metadata": {},
   "outputs": [
    {
     "name": "stdout",
     "output_type": "stream",
     "text": [
      "S=100, p = 0.450 +/- 0.497\n",
      "S=1000, p = 0.398 +/- 0.489\n",
      "S=10000, p = 0.409 +/- 0.492\n"
     ]
    }
   ],
   "source": [
    "# your code here\n",
    "S = [100, 1000, 10000]\n",
    "for s in S:\n",
    "    h0_vals = [median_diff(get_samp()) for _ in range(s)]\n",
    "    p_list = np.array([h0_val > h1_val for h0_val in h0_vals])\n",
    "    p_count_mean = p_list.mean()\n",
    "    p_count_std = p_list.std()\n",
    "    print('S=%d, p = %.3f +/- %.3f'%(s, p_count_mean, p_count_std))"
   ]
  },
  {
   "cell_type": "markdown",
   "metadata": {},
   "source": [
    "## You try\n",
    "\n",
    "Above we saw that the median number of statuses for non-English speakers is higher than the number for English speakers. Run the same significance test on this median difference."
   ]
  },
  {
   "cell_type": "code",
   "execution_count": 124,
   "metadata": {},
   "outputs": [
    {
     "name": "stdout",
     "output_type": "stream",
     "text": [
      "H1 val=1511\n",
      "H0 p-value = 0.000E+00\n"
     ]
    }
   ],
   "source": [
    "# your code here\n",
    "status_series = df_agg['statuses']\n",
    "h1_val = status_series[~df_agg['lang_en'].values].median() - status_series[df_agg['lang_en'].values].median()\n",
    "print('H1 val=%d'%(h1_val))\n",
    "# sample and shuffle\n",
    "S = 10000\n",
    "median_diff = lambda samp : samp[~df_agg['lang_en'].values].median() - samp[df_agg['lang_en'].values].median()\n",
    "get_samp = lambda : follow_series.sample(frac=1,replace=False).reset_index(drop=True)\n",
    "h0_vals = [median_diff(get_samp()) for _ in range(S)]\n",
    "p_list = np.array([h0_val > h1_val for h0_val in h0_vals])\n",
    "p_count_mean = p_list.mean()\n",
    "print('H0 p-value = %.3E'%(p_count_mean))"
   ]
  },
  {
   "cell_type": "markdown",
   "metadata": {},
   "source": [
    "**Result**\n",
    "\n",
    "Non-English speakers post a significantly higher median number of status than English speakers."
   ]
  },
  {
   "cell_type": "markdown",
   "metadata": {},
   "source": [
    "# Next steps\n",
    "\n",
    "It looks like this comparison between median number of followers is not statistically significant -- we cannot reject the null hypothesis that the medians between the two groups (english, non-english) are the same.\n",
    "\n",
    "However, the median number of status messages for the non-English speakers *is* higher. Furthermore, the number of statuses is positively correlated with the number of followers. Perhaps it is still the case that for a given number of statuses, the English-speaking Twitter user might have more followers. How would you compare the number of followers while **controlling** for the number of statuses?\n",
    "\n",
    "Another direction would be to look at the tweets themselves, and their text. These tweets were gathered during the Ebola crisis, and contain keywords related to the situation. If you'd like to go further and submit this lab for credit, you can also ask me for more tweets like this. "
   ]
  },
  {
   "cell_type": "markdown",
   "metadata": {},
   "source": [
    "### Hypothesis\n",
    "\n",
    "H0: Controlling for the number of statuses, English speakers have the same number of followers as non-English speakers.\n",
    "\n",
    "H1: Controlling for the number of statuses, English speakers have significantly more followers than non-English speakers."
   ]
  },
  {
   "cell_type": "markdown",
   "metadata": {},
   "source": [
    "**Preprocessing:**\n",
    "\n",
    "Let's convert the status and follower counts to log counts, since we've seen before that they are skewed."
   ]
  },
  {
   "cell_type": "code",
   "execution_count": 185,
   "metadata": {
    "collapsed": true
   },
   "outputs": [],
   "source": [
    "df_agg_log = df_agg.copy()\n",
    "df_agg_log['followers'] = np.log(df_agg_log['followers'] + 1)\n",
    "df_agg_log['statuses'] = np.log(df_agg_log['statuses'] + 1)"
   ]
  },
  {
   "cell_type": "markdown",
   "metadata": {},
   "source": [
    "**Approach 0: Visual analysis**\n",
    "\n",
    "We can split the data by status quantile, then compare the difference in followers between English and non-English speakers."
   ]
  },
  {
   "cell_type": "code",
   "execution_count": 193,
   "metadata": {},
   "outputs": [
    {
     "name": "stderr",
     "output_type": "stream",
     "text": [
      "/Library/Frameworks/Python.framework/Versions/3.4/lib/python3.4/site-packages/matplotlib/collections.py:590: FutureWarning: elementwise comparison failed; returning scalar instead, but in the future will perform elementwise comparison\n",
      "  if self._edgecolors == str('face'):\n"
     ]
    },
    {
     "data": {
      "image/png": "[encoded data removed]",
      "text/plain": [
       "<matplotlib.figure.Figure at 0x106bc8eb8>"
      ]
     },
     "metadata": {},
     "output_type": "display_data"
    }
   ],
   "source": [
    "df_en = df_agg_log[df_agg_log['lang_en']]\n",
    "df_non_en = df_agg_log[~df_agg_log['lang_en']]\n",
    "plt.scatter(df_en['statuses'], df_en['followers'], color='r', label='en')\n",
    "plt.scatter(df_non_en['statuses'], df_non_en['followers'], color='b', label='non en')\n",
    "plt.legend(loc='upper left')\n",
    "plt.xlabel('statuses')\n",
    "plt.ylabel('followers')\n",
    "plt.show()"
   ]
  },
  {
   "cell_type": "markdown",
   "metadata": {},
   "source": [
    "It looks like the English speakers have a slightly higher follower count, but no clear separation between the groups. Let's try to break it down even further by splitting the data according to status."
   ]
  },
  {
   "cell_type": "code",
   "execution_count": 226,
   "metadata": {},
   "outputs": [
    {
     "data": {
      "image/png": "[encoded data removed]",
      "text/plain": [
       "<matplotlib.figure.Figure at 0x10cf20a58>"
      ]
     },
     "metadata": {},
     "output_type": "display_data"
    }
   ],
   "source": [
    "Q = 5\n",
    "status_quantiles = pd.qcut(df_agg_log['statuses'], q=Q, labels=False)\n",
    "df_agg_log.loc[:, 'status_quantile'] = status_quantiles\n",
    "cols = 3\n",
    "rows = int(Q / cols) + 1\n",
    "width = 5\n",
    "height = 5\n",
    "f, axs = plt.subplots(nrows=rows, ncols=cols, sharex=False, sharey=False, figsize=(width*cols, height*rows))\n",
    "for q in range(Q):\n",
    "    r = int(q / cols)\n",
    "    c = q % cols\n",
    "    ax = axs[r, c]\n",
    "    df_q = df_agg_log[df_agg_log['status_quantile'] == q]\n",
    "    lower = df_q['statuses'].min()\n",
    "    upper = df_q['statuses'].max()\n",
    "    df_q_en = df_q[df_q['lang_en']]\n",
    "    df_q_non_en = df_q[~df_q['lang_en']]\n",
    "    box_data = [df_q_en['followers'], df_q_non_en['followers']]\n",
    "    ax.boxplot(box_data, positions=[0, 1])\n",
    "    ax.set_xticklabels(['en', 'non_en'])\n",
    "    ax.set_title('Status quantile: %.3f - %.3f'%(lower, upper))\n",
    "    ax.set_ylabel('followers')\n",
    "plt.tight_layout()\n",
    "plt.show()"
   ]
  },
  {
   "cell_type": "markdown",
   "metadata": {},
   "source": [
    "It looks like across every quantile (except $9.54-10.53$) that the English speakers have slightly more followers."
   ]
  },
  {
   "cell_type": "markdown",
   "metadata": {},
   "source": [
    "**Result**\n",
    "\n",
    "The English speakers have a slightly higher follower count when controlling for status count."
   ]
  },
  {
   "cell_type": "markdown",
   "metadata": {
    "collapsed": true
   },
   "source": [
    "**Approach 1: Matching**\n",
    "\n",
    "One way to compare the number of followers between non-English and English speakers would be to match each English speaker with a non-English speaker based on number of statuses, then compare the follower counts between the two groups. \n",
    "\n",
    "Formally, we say that the English speakers are *treated* and the non-English speakers are non-treated or *control*. The *covariate* to match across groups is the number of statuses, and the *effect* is the difference in number of followers. We can estimate the effect size of the treatment by matching each treated unit with a control unit to minimize the difference in covariates between the groups."
   ]
  },
  {
   "cell_type": "markdown",
   "metadata": {},
   "source": [
    "The only causal inference package for Python I can find is [this one](causalinferenceinpython.org), so let's give it a try!"
   ]
  },
  {
   "cell_type": "code",
   "execution_count": 236,
   "metadata": {},
   "outputs": [
    {
     "name": "stdout",
     "output_type": "stream",
     "text": [
      "\n",
      "Summary Statistics\n",
      "\n",
      "                       Controls (N_c=466)         Treated (N_t=395)             \n",
      "       Variable         Mean         S.d.         Mean         S.d.     Raw-diff\n",
      "--------------------------------------------------------------------------------\n",
      "              Y        5.897        1.814        5.995        1.854        0.098\n",
      "\n",
      "                       Controls (N_c=466)         Treated (N_t=395)             \n",
      "       Variable         Mean         S.d.         Mean         S.d.     Nor-diff\n",
      "--------------------------------------------------------------------------------\n",
      "             X0        8.907        2.012        8.668        2.126       -0.115\n",
      "\n",
      "\n",
      "Treatment Effect Estimates: Matching\n",
      "\n",
      "                     Est.       S.e.          z      P>|z|      [95% Conf. int.]\n",
      "--------------------------------------------------------------------------------\n",
      "           ATE      0.189      0.149      1.274      0.203     -0.102      0.481\n",
      "           ATC      0.214      0.162      1.323      0.186     -0.103      0.531\n",
      "           ATT      0.160      0.173      0.924      0.355     -0.180      0.500\n",
      "\n"
     ]
    }
   ],
   "source": [
    "from causalinference import CausalModel\n",
    "df_agg_log['lang_en_int'] = df_agg_log['lang_en'].astype(int)\n",
    "Y = df_agg_log['followers'].values\n",
    "D = df_agg_log['lang_en_int'].values\n",
    "X = df_agg_log['statuses'].values\n",
    "causal = CausalModel(Y, D, X)\n",
    "print(causal.summary_stats)\n",
    "causal.est_via_matching()\n",
    "print(causal.estimates)"
   ]
  },
  {
   "cell_type": "markdown",
   "metadata": {},
   "source": [
    "Looks like the results aren't too conclusive: the average treatment effect (`ATE`) is positive but so is the average effect on the controls (`ATC`), and none of the effects are significant. This may indicate that the matching was ineffective."
   ]
  },
  {
   "cell_type": "markdown",
   "metadata": {},
   "source": [
    "There are a few other causal inference methods, such as testing via OLS and propensity score matching."
   ]
  },
  {
   "cell_type": "code",
   "execution_count": 187,
   "metadata": {},
   "outputs": [
    {
     "name": "stdout",
     "output_type": "stream",
     "text": [
      "\n",
      "Treatment Effect Estimates: OLS\n",
      "\n",
      "                     Est.       S.e.          z      P>|z|      [95% Conf. int.]\n",
      "--------------------------------------------------------------------------------\n",
      "           ATE      0.241      0.092      2.618      0.009      0.061      0.422\n",
      "           ATC      0.241      0.093      2.587      0.010      0.058      0.423\n",
      "           ATT      0.242      0.091      2.645      0.008      0.063      0.420\n",
      "\n"
     ]
    }
   ],
   "source": [
    "causal.reset()\n",
    "causal.est_via_ols()\n",
    "print(causal.estimates)"
   ]
  },
  {
   "cell_type": "code",
   "execution_count": 231,
   "metadata": {},
   "outputs": [
    {
     "name": "stdout",
     "output_type": "stream",
     "text": [
      "\n",
      "Estimated Parameters of Propensity Score\n",
      "\n",
      "                    Coef.       S.e.          z      P>|z|      [95% Conf. int.]\n",
      "--------------------------------------------------------------------------------\n",
      "     Intercept      0.325      0.299      1.086      0.277     -0.262      0.912\n",
      "            X0     -0.056      0.033     -1.682      0.093     -0.121      0.009\n",
      "\n",
      "\n",
      "Summary Statistics\n",
      "\n",
      "                       Controls (N_c=466)         Treated (N_t=395)             \n",
      "       Variable         Mean         S.d.         Mean         S.d.     Raw-diff\n",
      "--------------------------------------------------------------------------------\n",
      "              Y        5.897        1.814        5.995        1.854        0.098\n",
      "\n",
      "                       Controls (N_c=466)         Treated (N_t=395)             \n",
      "       Variable         Mean         S.d.         Mean         S.d.     Nor-diff\n",
      "--------------------------------------------------------------------------------\n",
      "             X0        8.907        2.012        8.668        2.126       -0.115\n",
      "\n"
     ]
    }
   ],
   "source": [
    "causal.reset()\n",
    "causal.est_propensity_s()\n",
    "print(causal.propensity)\n",
    "# try trimming the units with lower propensity scores\n",
    "causal.trim()\n",
    "print(causal.summary_stats)"
   ]
  },
  {
   "cell_type": "markdown",
   "metadata": {},
   "source": [
    "**Results from Approach 1**\n",
    "\n",
    "Matching-based causal inference suggests a weak difference between English and non-English speakers in terms of follower count, after controlling for status count."
   ]
  },
  {
   "cell_type": "markdown",
   "metadata": {},
   "source": [
    "**Approach 2: Linear regression**\n",
    "\n",
    "Use both English/non-English language and status count as covariates in an OLS regression and use the coefficient $\\beta$ for language predictor to estimate the effect size of language status on follower count."
   ]
  },
  {
   "cell_type": "code",
   "execution_count": 237,
   "metadata": {},
   "outputs": [
    {
     "name": "stdout",
     "output_type": "stream",
     "text": [
      "                            OLS Regression Results                            \n",
      "==============================================================================\n",
      "Dep. Variable:              followers   R-squared:                       0.951\n",
      "Model:                            OLS   Adj. R-squared:                  0.951\n",
      "Method:                 Least Squares   F-statistic:                     8327.\n",
      "Date:                Mon, 04 Sep 2017   Prob (F-statistic):               0.00\n",
      "Time:                        17:17:13   Log-Likelihood:                -1497.2\n",
      "No. Observations:                 861   AIC:                             2998.\n",
      "Df Residuals:                     859   BIC:                             3008.\n",
      "Df Model:                           2                                         \n",
      "Covariance Type:            nonrobust                                         \n",
      "===============================================================================\n",
      "                  coef    std err          t      P>|t|      [95.0% Conf. Int.]\n",
      "-------------------------------------------------------------------------------\n",
      "lang_en_int     0.3727      0.091      4.102      0.000         0.194     0.551\n",
      "statuses        0.6908      0.007     95.838      0.000         0.677     0.705\n",
      "==============================================================================\n",
      "Omnibus:                       67.274   Durbin-Watson:                   1.941\n",
      "Prob(Omnibus):                  0.000   Jarque-Bera (JB):              338.071\n",
      "Skew:                          -0.007   Prob(JB):                     3.88e-74\n",
      "Kurtosis:                       6.070   Cond. No.                         16.6\n",
      "==============================================================================\n",
      "\n",
      "Warnings:\n",
      "[1] Standard Errors assume that the covariance matrix of the errors is correctly specified.\n"
     ]
    }
   ],
   "source": [
    "from statsmodels.regression.linear_model import OLS\n",
    "Y = df_agg_log['followers']\n",
    "X = df_agg_log.loc[:, ['lang_en_int', 'statuses']].astype(int)\n",
    "model = OLS(Y, X)\n",
    "results = model.fit()\n",
    "print(results.summary())"
   ]
  },
  {
   "cell_type": "markdown",
   "metadata": {},
   "source": [
    "A weak positive effect of language on follower count! Let's see if there's an interaction between language and statuses."
   ]
  },
  {
   "cell_type": "code",
   "execution_count": 238,
   "metadata": {},
   "outputs": [
    {
     "name": "stdout",
     "output_type": "stream",
     "text": [
      "                            OLS Regression Results                            \n",
      "==============================================================================\n",
      "Dep. Variable:              followers   R-squared:                       0.459\n",
      "Model:                            OLS   Adj. R-squared:                  0.457\n",
      "Method:                 Least Squares   F-statistic:                     242.0\n",
      "Date:                Mon, 04 Sep 2017   Prob (F-statistic):          1.03e-113\n",
      "Time:                        17:17:16   Log-Likelihood:                -1478.2\n",
      "No. Observations:                 861   AIC:                             2964.\n",
      "Df Residuals:                     857   BIC:                             2983.\n",
      "Df Model:                           3                                         \n",
      "Covariance Type:            nonrobust                                         \n",
      "========================================================================================\n",
      "                           coef    std err          t      P>|t|      [95.0% Conf. Int.]\n",
      "----------------------------------------------------------------------------------------\n",
      "Intercept                0.5348      0.284      1.882      0.060        -0.023     1.093\n",
      "lang_en_int              0.2685      0.403      0.667      0.505        -0.522     1.059\n",
      "statuses                 0.6021      0.031     19.345      0.000         0.541     0.663\n",
      "lang_en_int:statuses    -0.0031      0.045     -0.070      0.944        -0.091     0.084\n",
      "==============================================================================\n",
      "Omnibus:                       68.577   Durbin-Watson:                   1.924\n",
      "Prob(Omnibus):                  0.000   Jarque-Bera (JB):              335.301\n",
      "Skew:                           0.109   Prob(JB):                     1.55e-73\n",
      "Kurtosis:                       6.049   Cond. No.                         102.\n",
      "==============================================================================\n",
      "\n",
      "Warnings:\n",
      "[1] Standard Errors assume that the covariance matrix of the errors is correctly specified.\n"
     ]
    }
   ],
   "source": [
    "formula = 'followers ~ lang_en_int + statuses + lang_en_int*statuses'\n",
    "model = OLS.from_formula(formula, df_agg_log)\n",
    "results = model.fit()\n",
    "print(results.summary())"
   ]
  },
  {
   "cell_type": "markdown",
   "metadata": {},
   "source": [
    "Interesting! We find that including an interaction between language and statuses makes both the interaction and language insignificant. This may be due to the interaction conveying the same information as language alone, resulting in the variables cancelling one another out."
   ]
  },
  {
   "cell_type": "markdown",
   "metadata": {},
   "source": [
    "**Approach 3: Ratio of followers/statuses**\n",
    "\n",
    "In addition to causal inference and regression, we can also control for the correlation between followers and statuses by computing the ratio between the two, then comparing the distribution of ratios in the English and non-English group."
   ]
  },
  {
   "cell_type": "code",
   "execution_count": 241,
   "metadata": {},
   "outputs": [
    {
     "data": {
      "image/png": "[encoded data removed]",
      "text/plain": [
       "<matplotlib.figure.Figure at 0x10bd8e5f8>"
      ]
     },
     "metadata": {},
     "output_type": "display_data"
    }
   ],
   "source": [
    "df_agg_log['followers_statuses'] = df_agg_log['followers'] - df_agg_log['statuses']\n",
    "df_en = df_agg_log[df_agg_log['lang_en']]\n",
    "df_non_en = df_agg_log[~df_agg_log['lang_en']]\n",
    "box_data = [df_en['followers_statuses'], df_non_en['followers_statuses']]\n",
    "plt.boxplot(box_data)\n",
    "plt.xticks([1,2], ['en', 'non_en'])\n",
    "plt.ylabel('Followers / statuses')\n",
    "plt.show()"
   ]
  },
  {
   "cell_type": "markdown",
   "metadata": {},
   "source": [
    "Cool! It looks like English speakers have a slightly higher ratio of followers to statuses than the non-English speakers. \n",
    "\n",
    "Is the difference between the groups' medians significant?"
   ]
  },
  {
   "cell_type": "code",
   "execution_count": 248,
   "metadata": {},
   "outputs": [
    {
     "name": "stdout",
     "output_type": "stream",
     "text": [
      "H1: median difference = 0.368\n",
      "hypothesis test: p-value = 1.000E-03\n"
     ]
    }
   ],
   "source": [
    "follower_status_series = df_agg_log['followers_statuses']\n",
    "median_diff = lambda samp : samp[~df_agg_log['lang_en'].values].median() - samp[df_agg_log['lang_en'].values].median()\n",
    "get_samp = lambda : follower_status_series.sample(frac=1,replace=False).reset_index(drop=True)\n",
    "h1_val = (follower_status_series[df_agg_log['lang_en'].values].median() - \n",
    "          follower_status_series[~df_agg_log['lang_en'].values].median())\n",
    "print('H1: median difference = %.3f'%(h1_val))\n",
    "S = 10000\n",
    "h0_vals = [median_diff(get_samp()) for _ in range(S)]\n",
    "p_val = sum([h0_val > h1_val for h0_val in h0_vals]) / S\n",
    "print('hypothesis test: p-value = %.3E'%(p_val))"
   ]
  },
  {
   "cell_type": "markdown",
   "metadata": {},
   "source": [
    "**Results**\n",
    "\n",
    "According to a nonparametric hypothesis test, we can reject the null hypothesis that English speakers have the same ratio of followers to statuses as non-English speakers (with p=0.001)."
   ]
  },
  {
   "cell_type": "markdown",
   "metadata": {},
   "source": [
    "### Conclusion\n",
    "\n",
    "Causal inference via matching on status count reveals a slight tendency of English speakers toward more followers, and linear regression confirms that the use of English, when controlling for statuses, predicts more followers.\n",
    "\n",
    "Furthermore, we compute the ratio of followers to statuses to account for the correlation between the two and find that English speakers have a significantly higher median follower/status ratio than non-English speakers."
   ]
  },
  {
   "cell_type": "markdown",
   "metadata": {
    "collapsed": true
   },
   "source": [
    "TODO: hypothesis testing on language response from English, other language speakers."
   ]
  },
  {
   "cell_type": "markdown",
   "metadata": {
    "collapsed": true
   },
   "source": [
    "## Lab extension: text analysis of Ebola tweets\n",
    "Researchers are often interested in the sentiment of natural language, particularly in the context of social media where positive and negative sentiment reflect the popular opinion of current unfolding events [(Thelwall, Buckley, Paltoglou 2011)](http://onlinelibrary.wiley.com/doi/10.1002/asi.21462/full).\n",
    "\n",
    "Here's a hypothesis related to sentiment: the tweets that emerged at the height of the Ebola crisis are more likely to contain negative language than those that emerged before. For context, the CDC reported a steady increase in the number of Ebola cases reported from mid-2014 to mid-2015 ([Dixon and Schafer, 2014](https://www.cdc.gov/mmwr/preview/mmwrhtml/mm6325a4.htm?scid=mm6325a4w1)).\n",
    "\n",
    "Formally:\n",
    "\n",
    "$H_{0}$: In the collection of all Ebola-related tweets, the tweets posted at the end of the crisis have the same relative amount of negative sentiment as the tweets posted before.\n",
    "\n",
    "$H_{1}$: In the collection of all Ebola-related tweets, the tweets posted at the end of the crisis have more negative sentiment than the tweets posted before.\n",
    "\n",
    "This hypothesis follows from prior work in crisis events that shows a consistent pattern in social responses, from preparation to impact response to recovery ([Imran, Castillo, Diaz and Vieweg 2010](https://arxiv.org/pdf/1407.7071.pdf)). "
   ]
  },
  {
   "cell_type": "markdown",
   "metadata": {},
   "source": [
    "### Load data"
   ]
  },
  {
   "cell_type": "markdown",
   "metadata": {},
   "source": [
    "Let's check out the time period in our original data to see if we have enough of a time scale to test the hypothesis."
   ]
  },
  {
   "cell_type": "code",
   "execution_count": 9,
   "metadata": {},
   "outputs": [
    {
     "name": "stdout",
     "output_type": "stream",
     "text": [
      "date range: [Thu Aug 28 15:34:30 +0000 2014 ... Fri Aug 29 23:01:26 +0000 2014]\n"
     ]
    }
   ],
   "source": [
    "from datetime import datetime\n",
    "decoder = json.JSONDecoder()\n",
    "filename = 'ebola-tweets-short.json'\n",
    "with open(filename) as fin:\n",
    "    tweets = [decoder.decode(line) for line in fin.readlines()]\n",
    "date_fmt = '%a %b %d %H:%M:%S +0000 %Y'\n",
    "# \"Thu Aug 28 15:34:30 +0000 2014\"\n",
    "tweet_dates = [datetime.strptime(t[\"created_at\"], date_fmt) for t in tweets]\n",
    "start_date = min(tweet_dates)\n",
    "end_date = max(tweet_dates)\n",
    "start_date_str = datetime.strftime(start_date, date_fmt)\n",
    "end_date_str = datetime.strftime(end_date, date_fmt)\n",
    "print('date range: [%s ... %s]'%(start_date_str, end_date_str))"
   ]
  },
  {
   "cell_type": "markdown",
   "metadata": {},
   "source": [
    "This time scale isn't nearly enough to cover a changing public opinion during the Ebola crisis, so let's extend the time period to last between August 28 and October 27 (two months)."
   ]
  },
  {
   "cell_type": "markdown",
   "metadata": {},
   "source": [
    "I searched an archive of daily streaming Twitter data from 2014 for all tweets that contained the string \"#Ebola\", which may include both regular tweets and retweets.\n",
    "\n",
    "I've stored the extra data here: [ebola_tweets_extra](ebola_tweets_extra/)."
   ]
  },
  {
   "cell_type": "markdown",
   "metadata": {},
   "source": [
    "### Load extra data"
   ]
  },
  {
   "cell_type": "code",
   "execution_count": 235,
   "metadata": {},
   "outputs": [
    {
     "name": "stdout",
     "output_type": "stream",
     "text": [
      "['Aug-28-14.json', 'Aug-29-14.json', 'Aug-30-14.json', 'Aug-31-14.json', 'Oct-01-14.json', 'Oct-02-14.json', 'Oct-03-14.json', 'Oct-04-14.json', 'Oct-05-14.json', 'Oct-06-14.json', 'Oct-07-14.json', 'Oct-08-14.json', 'Oct-09-14.json', 'Oct-10-14.json', 'Oct-11-14.json', 'Oct-12-14.json', 'Oct-13-14.json', 'Oct-14-14.json', 'Oct-15-14.json', 'Oct-16-14.json', 'Oct-17-14.json', 'Oct-18-14.json', 'Oct-19-14.json', 'Oct-20-14.json', 'Oct-21-14.json', 'Oct-22-14.json', 'Oct-23-14.json', 'Oct-24-14.json', 'Oct-25-14.json', 'Oct-26-14.json', 'Oct-27-14.json', 'Sep-01-14.json', 'Sep-02-14.json', 'Sep-03-14.json', 'Sep-04-14.json', 'Sep-05-14.json', 'Sep-06-14.json', 'Sep-07-14.json', 'Sep-08-14.json', 'Sep-09-14.json', 'Sep-10-14.json', 'Sep-11-14.json', 'Sep-12-14.json', 'Sep-13-14.json', 'Sep-14-14.json', 'Sep-15-14.json', 'Sep-16-14.json', 'Sep-17-14.json', 'Sep-18-14.json', 'Sep-19-14.json', 'Sep-20-14.json', 'Sep-21-14.json', 'Sep-22-14.json', 'Sep-23-14.json', 'Sep-24-14.json', 'Sep-25-14.json', 'Sep-26-14.json', 'Sep-27-14.json', 'Sep-28-14.json', 'Sep-29-14.json', 'Sep-30-14.json']\n",
      "48182 total tweets\n"
     ]
    }
   ],
   "source": [
    "import os\n",
    "from functools import reduce\n",
    "tweet_directory = 'ebola_tweets_extra/'\n",
    "tweet_files = sorted(filter(lambda f: 'json' in f, os.listdir(tweet_directory)))\n",
    "print(tweet_files)\n",
    "tweet_data = reduce(lambda x,y: x+y, [[json.loads(l) for l in open(os.path.join(tweet_directory, f))] for f in tweet_files])\n",
    "tweet_data_df = pd.DataFrame(tweet_data)\n",
    "print('%d total tweets'%(tweet_data_df.shape[0]))"
   ]
  },
  {
   "cell_type": "code",
   "execution_count": 236,
   "metadata": {},
   "outputs": [
    {
     "name": "stdout",
     "output_type": "stream",
     "text": [
      "61\n"
     ]
    }
   ],
   "source": [
    "print(len(tweet_files))"
   ]
  },
  {
   "cell_type": "markdown",
   "metadata": {},
   "source": [
    "There's probably a lot of noise in here, so let's cut out the non-English data first."
   ]
  },
  {
   "cell_type": "code",
   "execution_count": 238,
   "metadata": {},
   "outputs": [
    {
     "name": "stdout",
     "output_type": "stream",
     "text": [
      "36591 / 48182 tweets are English\n"
     ]
    }
   ],
   "source": [
    "from langid import classify\n",
    "lang = 'en'\n",
    "tweet_data_df.loc[:, 'lang'] = tweet_data_df.loc[:, 'text'].apply(lambda t: classify(t)[0])\n",
    "tweet_data_filtered_df = tweet_data_df[tweet_data_df['lang'] == 'en']\n",
    "print('%d / %d tweets are English'%(tweet_data_filtered_df.shape[0], tweet_data_df.shape[0]))"
   ]
  },
  {
   "cell_type": "markdown",
   "metadata": {},
   "source": [
    "Let's get a sense of what's going on in this data by looking at the most frequent hashtags."
   ]
  },
  {
   "cell_type": "code",
   "execution_count": 240,
   "metadata": {},
   "outputs": [
    {
     "name": "stdout",
     "output_type": "stream",
     "text": [
      "Ebola            31605\n",
      "EbolaOutbreak     1309\n",
      "tcot               766\n",
      "Liberia            636\n",
      "EbolaResponse      626\n",
      "CDC                620\n",
      "BREAKING           604\n",
      "ebola              553\n",
      "SierraLeone        518\n",
      "ISIS               510\n",
      "Africa             489\n",
      "Obama              446\n",
      "Nigeria            377\n",
      "Dallas             353\n",
      "EbolaCzar          299\n",
      "EbolaQandA         247\n",
      "Texas              217\n",
      "NEWS               194\n",
      "EbolaInNYC         170\n",
      "Guinea             160\n",
      "dtype: int64\n"
     ]
    }
   ],
   "source": [
    "from collections import Counter\n",
    "hashtag_lists = tweet_data_filtered_df.loc[:, 'entities'].apply(lambda e: [h['text'] for h in e['hashtags']])\n",
    "hashtag_list = reduce(lambda x,y: x+y, hashtag_lists)\n",
    "hashtag_counts = pd.Series(Counter(hashtag_list)).sort_values(inplace=False, ascending=False)\n",
    "print(hashtag_counts[:20])"
   ]
  },
  {
   "cell_type": "markdown",
   "metadata": {},
   "source": [
    "These all seem reasonable, since the 2014 Ebola outbreak was centered in West Africa (Nigeria, Liberia, Guinea)."
   ]
  },
  {
   "cell_type": "markdown",
   "metadata": {},
   "source": [
    "### Sentiment"
   ]
  },
  {
   "cell_type": "markdown",
   "metadata": {},
   "source": [
    "Our hypothesis concerns negative sentiment, which we will measure by counting the number of negative words in a tweet."
   ]
  },
  {
   "cell_type": "markdown",
   "metadata": {},
   "source": [
    "For sentiment, we'll use a Twitter sentiment lexicon developed for the 2015 SemEval task, available [here](http://saifmohammad.com/WebDocs/lexiconstoreleaseonsclpage/SemEval2015-English-Twitter-Lexicon.zip) and stored locally [here](SemEval2015-English-Twitter-Lexicon.txt)."
   ]
  },
  {
   "cell_type": "code",
   "execution_count": 241,
   "metadata": {},
   "outputs": [
    {
     "name": "stdout",
     "output_type": "stream",
     "text": [
      "   score           ngram\n",
      "0  0.984  #inspirational\n",
      "2  0.969       #peaceful\n",
      "1  0.969         amazing\n",
      "3  0.953      #greatness\n",
      "4  0.938       fantastic\n",
      "      score            ngram\n",
      "1509 -0.969            abuse\n",
      "1510 -0.969         #failure\n",
      "1511 -0.982             kill\n",
      "1512 -0.984          bitches\n",
      "1513 -0.984  #disappointment\n"
     ]
    }
   ],
   "source": [
    "sentiment_file = 'SemEval2015-English-Twitter-Lexicon.txt'\n",
    "sentiment_scores = pd.read_csv(sentiment_file, sep='\\t', index_col=False)\n",
    "sentiment_scores.columns = ['score', 'ngram']\n",
    "sentiment_scores.sort_values('score', inplace=True, ascending=False)\n",
    "print(sentiment_scores.head())\n",
    "print(sentiment_scores.tail())"
   ]
  },
  {
   "cell_type": "markdown",
   "metadata": {},
   "source": [
    "The extrema seem to make sense: positive words include \"amazing\" and negative words include \"kill.\"\n",
    "\n",
    "Let's see what different cross-sections of scores look like."
   ]
  },
  {
   "cell_type": "code",
   "execution_count": 15,
   "metadata": {},
   "outputs": [
    {
     "name": "stdout",
     "output_type": "stream",
     "text": [
      "testing percentile 10\n",
      "      score       ngram\n",
      "1373 -0.732       #lazy\n",
      "1374 -0.732  #repulsive\n",
      "1382 -0.734      rotten\n",
      "1387 -0.734     #idiots\n",
      "1386 -0.734        fail\n",
      "testing percentile 20\n",
      "      score     ngram\n",
      "1220 -0.516  scariest\n",
      "1223 -0.516   #grumpy\n",
      "1222 -0.516     #dumb\n",
      "1221 -0.516     leave\n",
      "1218 -0.516      shot\n",
      "testing percentile 30\n",
      "      score        ngram\n",
      "1077 -0.344        sorry\n",
      "1080 -0.344         argh\n",
      "1079 -0.344  no sympathy\n",
      "1078 -0.344  don't drink\n",
      "1076 -0.344        media\n",
      "testing percentile 40\n",
      "     score          ngram\n",
      "916 -0.141          makes\n",
      "922 -0.141  can't believe\n",
      "921 -0.141           site\n",
      "920 -0.141           head\n",
      "919 -0.141     can't wrap\n",
      "testing percentile 50\n",
      "     score    ngram\n",
      "766  0.016   nearly\n",
      "768  0.016      guy\n",
      "769  0.016    guess\n",
      "770  0.016   sounds\n",
      "771  0.016  heading\n",
      "testing percentile 60\n",
      "     score      ngram\n",
      "610  0.161      start\n",
      "619  0.156      books\n",
      "627  0.156       poem\n",
      "626  0.156  #hardwork\n",
      "625  0.156        try\n",
      "testing percentile 70\n",
      "     score   ngram\n",
      "460  0.304    kids\n",
      "467  0.297  nighty\n",
      "471  0.297     hey\n",
      "470  0.297     yup\n",
      "469  0.297   tweet\n",
      "testing percentile 80\n",
      "     score         ngram\n",
      "313  0.484   endorsement\n",
      "321  0.484        catchy\n",
      "320  0.484        friend\n",
      "319  0.484    not shabby\n",
      "318  0.484  can't waiiit\n",
      "testing percentile 90\n",
      "     score      ngram\n",
      "171  0.672  gratitude\n",
      "170  0.672      yaaay\n",
      "169  0.672    support\n",
      "168  0.672        ;-)\n",
      "167  0.672       play\n",
      "testing percentile 100\n",
      "   score        ngram\n",
      "2  0.969    #peaceful\n",
      "1  0.969      amazing\n",
      "3  0.953   #greatness\n",
      "4  0.938    fantastic\n",
      "5  0.938  #happytweet\n"
     ]
    }
   ],
   "source": [
    "percentiles = pd.np.linspace(10, 100, 10)\n",
    "sentiment_score_values = sentiment_scores['score']\n",
    "for p in percentiles:\n",
    "    print('testing percentile %d'%(p))\n",
    "    sentiment_scores_p = sentiment_scores[sentiment_score_values < pd.np.percentile(sentiment_score_values, p)]\n",
    "    print(sentiment_scores_p.head())"
   ]
  },
  {
   "cell_type": "markdown",
   "metadata": {},
   "source": [
    "It seems like the most reliable ngrams are at the extrema of the distribution: for instance, I wouldn't trust a positive score from the word \"poem\" (0.156) or a negative score from the word \"makes\" (-0.141).\n",
    "\n",
    "Decision: we will only count a word as having a label of \"negative\" or \"positive\" if its absolute score exceeds cutoff $c=0.5$."
   ]
  },
  {
   "cell_type": "code",
   "execution_count": 261,
   "metadata": {},
   "outputs": [
    {
     "name": "stdout",
     "output_type": "stream",
     "text": [
      "595 total sentiment labels\n",
      "ngram\n",
      "#inspirational    1\n",
      "#peaceful         1\n",
      "amazing           1\n",
      "#greatness        1\n",
      "fantastic         1\n",
      "Name: score, dtype: float64\n"
     ]
    }
   ],
   "source": [
    "cutoff = 0.5\n",
    "sentiment_scores_filtered = sentiment_scores[abs(sentiment_scores['score']) > cutoff]\n",
    "print('%d total sentiment labels'%(len(sentiment_scores_filtered)))\n",
    "# round labels\n",
    "sentiment_labels = sentiment_scores['score'].apply(round)\n",
    "sentiment_labels.index = sentiment_scores['ngram']\n",
    "print(sentiment_labels.head())"
   ]
  },
  {
   "cell_type": "markdown",
   "metadata": {},
   "source": [
    "Let's clean up the hashtags to make them more extensible to regular text."
   ]
  },
  {
   "cell_type": "code",
   "execution_count": 244,
   "metadata": {
    "collapsed": true
   },
   "outputs": [],
   "source": [
    "sentiment_labels.index = map(lambda x: x.replace('#', ''), sentiment_labels.index)\n",
    "sentiment_vocab = sentiment_labels.index.tolist()"
   ]
  },
  {
   "cell_type": "markdown",
   "metadata": {},
   "source": [
    "### Extracting sentiment labels"
   ]
  },
  {
   "cell_type": "markdown",
   "metadata": {},
   "source": [
    "We now extract sentiment from the text using a very simple counting method.\n",
    "\n",
    "Assuming a lexicon for positive words $P$ and negative words $N$, we assign a label of positive or negative ($k=1,-1$) to a tweet based on the sum of the sentiment labels $l$ of the tweet's words:\n",
    "\n",
    "$$\n",
    "\\begin{equation}\n",
    "f(x) = \n",
    "\\begin{cases}\n",
    "1 & \\text{if} \\sum_{w \\in x} l_{x} > 0 \\\\ \n",
    "-1 & \\text{if} \\sum_{w \\in x} l_{x} < 0 \\\\ \n",
    "0 & \\text{otherwise}\n",
    "\\end{cases}\n",
    "\\end{equation}\n",
    "$$\n",
    "\n",
    "Obviously this is only a binary representation of sentiment that fails to capture more complex linguistic phenomena such as negation, but it's a start."
   ]
  },
  {
   "cell_type": "code",
   "execution_count": 245,
   "metadata": {},
   "outputs": [
    {
     "name": "stderr",
     "output_type": "stream",
     "text": [
      "/Library/Frameworks/Python.framework/Versions/3.4/lib/python3.4/site-packages/ipykernel_launcher.py:17: SettingWithCopyWarning: \n",
      "A value is trying to be set on a copy of a slice from a DataFrame.\n",
      "Try using .loc[row_indexer,col_indexer] = value instead\n",
      "\n",
      "See the caveats in the documentation: http://pandas.pydata.org/pandas-docs/stable/indexing.html#indexing-view-versus-copy\n"
     ]
    }
   ],
   "source": [
    "TOKENIZER = TweetTokenizer()\n",
    "def assign_sentiment_label(text, positive_lexicon, negative_lexicon):\n",
    "    tokens = TOKENIZER.tokenize(text)\n",
    "    positive_tokens = [w for w in tokens if w in positive_lexicon]\n",
    "    negative_tokens = [w for w in tokens if w in negative_lexicon]\n",
    "    positive_score = len(positive_tokens)\n",
    "    negative_score = -1*len(negative_tokens)\n",
    "    score = positive_score + negative_score\n",
    "    if(score <= -1):\n",
    "        return -1\n",
    "    elif(score >= 1):\n",
    "        return 1\n",
    "    else:\n",
    "        return 0\n",
    "positive_lexicon = sentiment_labels[sentiment_labels == 1].index.tolist()\n",
    "negative_lexicon = sentiment_labels[sentiment_labels == -1].index.tolist()\n",
    "tweet_data_filtered_df['sentiment_label'] = tweet_data_filtered_df['text'].apply(lambda x: \n",
    "                                                                                 assign_sentiment_label(x, positive_lexicon, negative_lexicon))"
   ]
  },
  {
   "cell_type": "markdown",
   "metadata": {},
   "source": [
    "Let's look at a histogram of the labels to see the overall distribution of positive and negative labels."
   ]
  },
  {
   "cell_type": "code",
   "execution_count": 246,
   "metadata": {},
   "outputs": [
    {
     "data": {
      "image/png": "[encoded data removed]",
      "text/plain": [
       "<matplotlib.figure.Figure at 0x11aefdef0>"
      ]
     },
     "metadata": {},
     "output_type": "display_data"
    }
   ],
   "source": [
    "# tweet_sentiment_counts = tweet_sentiment_labels.value_counts()\n",
    "tweet_sentiment_counts = tweet_data_filtered_df['sentiment_label'].value_counts()\n",
    "xticks = pd.np.array(tweet_sentiment_counts.index)\n",
    "width = 0.25\n",
    "xtick_labels = ['negative', 'neutral', 'positive']\n",
    "plt.bar(xticks - width / 2., tweet_sentiment_counts, width=width)\n",
    "plt.xticks([-1,0,1], xtick_labels)\n",
    "plt.xlabel('Sentiment label', fontsize=18)\n",
    "plt.ylabel('Post frequency', fontsize=18)\n",
    "plt.show()"
   ]
  },
  {
   "cell_type": "markdown",
   "metadata": {},
   "source": [
    "Interesting! There are relatively few positive and negative tweets.\n",
    "\n",
    "This could make hypothesis testing more difficult, unless we propose an alternative version where positive sentiment declines as the crisis progresses. This would be similar to the emotional contagion study which proposed both increased activation and decreased inhibition in response to emotions expressed by one's friends."
   ]
  },
  {
   "cell_type": "markdown",
   "metadata": {},
   "source": [
    "### Sanity check\n",
    "Let's make sure that the tweets classified as positive are actually positive and the tweets classified as negative are actually negative."
   ]
  },
  {
   "cell_type": "code",
   "execution_count": 249,
   "metadata": {},
   "outputs": [
    {
     "name": "stdout",
     "output_type": "stream",
     "text": [
      "positive sample:\n",
      "RT @Obama4More: RT @SenRandPaul blocks Appointment of #SurgeonGeneral during #Ebola Crisis when @AmerMedicalAssn won't accept him as a memb…\n",
      "That nurse shouldn't have flown...she knew better #Ebola #selfish\n",
      "RT @BillGates: #Ebola is a short-term crisis with long-term implications. How I think it will play out: http://t.co/VFUQ0V3bCB http://t.co/…\n",
      "#Ebola scare: Flight attendants and pilots seek better protections http://t.co/cejbD1S1YF\n",
      "RT @MyHumanCompass: CDC head @DrFriedenCDC other famous grin guy look very similar? What are ur thoughts? #EbolaOutbreak  @fxnopinion RT ht…\n",
      "\n",
      "negative sample:\n",
      "Do you think the Americans will just pack up leave #Liberia after helping them eradicate #Ebola\n",
      "RT @BBCWorld: In memory of Nigeria's \"hero doctor\" who first spotted #Ebola - and later died http://t.co/7nxhM2AuEm http://t.co/A7wrE7mYXo\n",
      "RT @MarkSoveign: It seems that #Sequestration is every bit as dumb as we thought it would turn out to be.  #Ebola #Maddow #LastWord #GOP #G…\n",
      "RT @SkyNewsBreak: Texas hospital says American patient Thomas Eric Duncan has died of the #Ebola virus\n",
      "RT @ewnreporter: #Ebola Liberia's chief medical officer has put herself under quarantine for 21 days, after one of her assistants died from…\n",
      "\n",
      "positive tokens:\n",
      "accept\n",
      "better\n",
      "play\n",
      "better\n",
      "grin\n",
      "\n",
      "negative tokens:\n",
      "leave\n",
      "died\n",
      "dumb\n",
      "died\n",
      "died\n",
      "\n"
     ]
    }
   ],
   "source": [
    "sample_size = 5\n",
    "positive_tweet_text = tweet_data_filtered_df[tweet_data_filtered_df['sentiment_label'] == 1]['text']\n",
    "negative_tweet_text = tweet_data_filtered_df[tweet_data_filtered_df['sentiment_label'] == -1]['text']\n",
    "positive_sample = pd.np.random.choice(positive_tweet_text, size=sample_size)\n",
    "negative_sample = pd.np.random.choice(negative_tweet_text, size=sample_size)\n",
    "print('positive sample:\\n%s\\n'%('\\n'.join(positive_sample)))\n",
    "print('negative sample:\\n%s\\n'%('\\n'.join(negative_sample)))\n",
    "print('positive tokens:\\n%s\\n'%('\\n'.join([','.join(set(positive_lexicon) & set(TOKENIZER.tokenize(x))) for x in positive_sample])))\n",
    "print('negative tokens:\\n%s\\n'%('\\n'.join([','.join(set(negative_lexicon) & set(TOKENIZER.tokenize(x))) for x in negative_sample])))"
   ]
  },
  {
   "cell_type": "markdown",
   "metadata": {},
   "source": [
    "Positive tweets describe obvious good outcomes, like \"better\" and \"grin.\" There's a lot of negation here which suggests that we shouldn't pay as much attention to \"positive\" sentiment.\n",
    "\n",
    "Negative tweets describe the relevant bad outcomes, \"died\" and \"leave.\" "
   ]
  },
  {
   "cell_type": "markdown",
   "metadata": {},
   "source": [
    "### Test hypothesis\n",
    "Let's start by assuming that the split point between \"start\" and \"end\" is the exact middle of the data."
   ]
  },
  {
   "cell_type": "code",
   "execution_count": 278,
   "metadata": {},
   "outputs": [
    {
     "name": "stdout",
     "output_type": "stream",
     "text": [
      "split at date 2014-09-27T00:00:00.000000000\n"
     ]
    }
   ],
   "source": [
    "date_fmt = '%a %b %d %H:%M:%S +0000 %Y'\n",
    "tweet_data_filtered_df.loc[:, 'created_at_datetime'] = tweet_data_filtered_df.loc[:, 'created_at'].apply(lambda x: datetime.strptime(x, date_fmt))\n",
    "all_dates = tweet_data_filtered_df.loc[:, 'created_at_datetime']\n",
    "# get unique days, then get the median day\n",
    "all_dates_unique_days = sorted(all_dates.apply(lambda x: datetime(*x.timetuple()[:3])).unique())\n",
    "N = len(all_dates_unique_days)\n",
    "split_point = int(N/2)\n",
    "median_date = all_dates_unique_days[split_point]\n",
    "print('split at date %s'%(median_date))"
   ]
  },
  {
   "cell_type": "code",
   "execution_count": 279,
   "metadata": {
    "collapsed": true
   },
   "outputs": [],
   "source": [
    "tweet_data_before = tweet_data_filtered_df[tweet_data_filtered_df['created_at_datetime'] <= median_date]\n",
    "tweet_data_after = tweet_data_filtered_df[tweet_data_filtered_df['created_at_datetime'] > median_date]"
   ]
  },
  {
   "cell_type": "markdown",
   "metadata": {},
   "source": [
    "Now let's plot the distribution of sentiment before and after the split point, as a boxplot."
   ]
  },
  {
   "cell_type": "code",
   "execution_count": 280,
   "metadata": {},
   "outputs": [
    {
     "data": {
      "image/png": "[encoded data removed]",
      "text/plain": [
       "<matplotlib.figure.Figure at 0x11efd5e10>"
      ]
     },
     "metadata": {},
     "output_type": "display_data"
    }
   ],
   "source": [
    "box_data = [tweet_data_before['sentiment_label'].values, tweet_data_after['sentiment_label'].values]\n",
    "plt.boxplot(box_data, labels=['before', 'after'])\n",
    "plt.ylabel('Sentiment')\n",
    "plt.show()"
   ]
  },
  {
   "cell_type": "markdown",
   "metadata": {},
   "source": [
    "This plot isn't too informative. What if we just look at the mean and standard deviation of sentiment?"
   ]
  },
  {
   "cell_type": "code",
   "execution_count": 281,
   "metadata": {},
   "outputs": [
    {
     "name": "stdout",
     "output_type": "stream",
     "text": [
      "before: sentiment mean = 0.005 +/- 0.407\n",
      "after: sentiment mean = 0.031 +/- 0.457\n",
      "mean difference in sentiment before and after split point is 0.025315, significant with t=3.784 and p=1.547E-04\n"
     ]
    }
   ],
   "source": [
    "from scipy.stats import ttest_ind\n",
    "print('before: sentiment mean = %.3f +/- %.3f'%(tweet_data_before['sentiment_label'].mean(), tweet_data_before['sentiment_label'].std()))\n",
    "print('after: sentiment mean = %.3f +/- %.3f'%(tweet_data_after['sentiment_label'].mean(), tweet_data_after['sentiment_label'].std()))\n",
    "sentiment_diff = tweet_data_after['sentiment_label'].mean() - tweet_data_before['sentiment_label'].mean()\n",
    "t_stat, p_val = ttest_ind(tweet_data_after['sentiment_label'], tweet_data_before['sentiment_label'])\n",
    "print('mean difference in sentiment before and after split point is %3f, significant with t=%.3f and p=%.3E'%\n",
    "      (sentiment_diff, t_stat, p_val))"
   ]
  },
  {
   "cell_type": "markdown",
   "metadata": {},
   "source": [
    "Interesting! It looks like the average sentiment increased slightly (0.0253, p < 0.01) between the time periods."
   ]
  },
  {
   "cell_type": "markdown",
   "metadata": {},
   "source": [
    "### Update hypothesis: sentiment as a categorical variable"
   ]
  },
  {
   "cell_type": "markdown",
   "metadata": {},
   "source": [
    "It might make sense to see sentiment as more of a categorical variable, meaning that we should look for a change in percentage of negative posts rather than a change in the overall distribution.\n",
    "\n",
    "Updated hypothesis:\n",
    "\n",
    "$H_{0}$: the proportion of negative Ebola tweets is not higher at the end of the time period observed than at the beginning of the time period observed.\n",
    "\n",
    "$H_{1}$: the proportion of negative Ebola tweets is not higher at the end of the time period observed than at the beginning of the time period observed."
   ]
  },
  {
   "cell_type": "code",
   "execution_count": 282,
   "metadata": {},
   "outputs": [
    {
     "data": {
      "image/png": "[encoded data removed]",
      "text/plain": [
       "<matplotlib.figure.Figure at 0x117e27e10>"
      ]
     },
     "metadata": {},
     "output_type": "display_data"
    }
   ],
   "source": [
    "tweet_data_before_sentiment_pcts = tweet_data_before['sentiment_label'].value_counts() / tweet_data_before.shape[0]\n",
    "tweet_data_after_sentiment_pcts = tweet_data_after['sentiment_label'].value_counts() / tweet_data_after.shape[0]\n",
    "tweet_data_before_sentiment_pcts.sort_index(inplace=True)\n",
    "tweet_data_after_sentiment_pcts.sort_index(inplace=True)\n",
    "x_offset = 0.25\n",
    "bar_width = 0.1\n",
    "x_pos = pd.np.arange(len(tweet_data_after_sentiment_pcts))\n",
    "x_ticklabels = ['negative', 'neutral', 'positive']\n",
    "plt.bar(x_pos-x_offset, tweet_data_before_sentiment_pcts, color='r', label='before', width=bar_width)\n",
    "plt.bar(x_pos+x_offset, tweet_data_after_sentiment_pcts, color='b', label='after', width=bar_width)\n",
    "plt.xticks(x_pos, x_ticklabels)\n",
    "plt.legend(loc='upper right')\n",
    "plt.show()"
   ]
  },
  {
   "cell_type": "markdown",
   "metadata": {},
   "source": [
    "It looks like the amount of positive sentiment decreased slightly and neutral sentiment increased slightly."
   ]
  },
  {
   "cell_type": "markdown",
   "metadata": {},
   "source": [
    "We should do a sampling hypothesis test to determine if the changes are significant."
   ]
  },
  {
   "cell_type": "code",
   "execution_count": 283,
   "metadata": {
    "collapsed": true
   },
   "outputs": [],
   "source": [
    "def sentiment_label_test(all_data, split_index, sentiment_label, samples=1000):\n",
    "    \"\"\"\n",
    "    Repeatedly shuffle the data and split to produce\n",
    "    the same amount of before/after data, then\n",
    "    test the null hypothesis that the randomized\n",
    "    after-data has a more extreme sentiment than the before-data.\n",
    "    \n",
    "    Parameters:\n",
    "    -----------\n",
    "    all_data : pandas.Series\n",
    "    split_index : int\n",
    "    sentiment_label : int\n",
    "    samples : int\n",
    "    \n",
    "    Returns:\n",
    "    --------\n",
    "    p_val : float\n",
    "    Proportion of null hypothesis tests that succeeded.\n",
    "    \"\"\"\n",
    "    pct_diff = lambda samp : (len(samp[split_index:][samp[split_index:]==sentiment_label]) / len(samp[split_index:]) - \n",
    "                              len(samp[:split_index][samp[:split_index]==sentiment_label]) / len(samp[:split_index]))\n",
    "#     get_samp = lambda data: data.sample(frac=1, replace=False).reset_index(drop=True)\n",
    "    get_samp = lambda data: data[pd.np.random.choice(range(len(data)), size=len(data), replace=False)]\n",
    "    h1_val = pct_diff(all_data)\n",
    "    h0_vals = [pct_diff(get_samp(all_data)) for _ in range(samples)]\n",
    "    if(h1_val < 0):\n",
    "        p_val = sum([h0 < h1_val for h0 in h0_vals]) / samples\n",
    "    elif(h1_val > 0):\n",
    "        p_val = sum([h0 > h1_val for h0 in h0_vals]) / samples\n",
    "    return p_val"
   ]
  },
  {
   "cell_type": "code",
   "execution_count": 284,
   "metadata": {},
   "outputs": [
    {
     "name": "stdout",
     "output_type": "stream",
     "text": [
      "for sentiment label 0 after-before difference -6.115E-02 is significant with p-value 0.000E+00\n",
      "for sentiment label 1 after-before difference 5.980E-02 is significant with p-value 0.000E+00\n",
      "for sentiment label -1 after-before difference 1.349E-03 is significant with p-value 4.290E-01\n"
     ]
    }
   ],
   "source": [
    "samples = 1000\n",
    "sentiment_labels_unique = tweet_data_filtered_df['sentiment_label'].unique()\n",
    "pct_diff = lambda samp : (len(samp[split_index:][samp[split_index:]==sentiment_label]) / len(samp[split_index:]) - \n",
    "                          len(samp[:split_index][samp[:split_index]==sentiment_label]) / len(samp[:split_index]))\n",
    "sentiment_label_values = tweet_data_filtered_df['sentiment_label'].values\n",
    "split_index = pd.np.where(tweet_data_filtered_df['created_at_datetime'] > median_date)[0][0]\n",
    "for sentiment_label in sentiment_labels_unique:\n",
    "    test_p_val = sentiment_label_test(sentiment_label_values, split_index, sentiment_label, samples=samples)\n",
    "    before_after_diff = pct_diff(sentiment_label_values)\n",
    "    print('for sentiment label %d after-before difference %.3E is significant with p-value %.3E'%\n",
    "          (sentiment_label, before_after_diff, test_p_val))"
   ]
  },
  {
   "cell_type": "markdown",
   "metadata": {},
   "source": [
    "The increase in negative sentiment is small (0.135%) and only weakly significant (0.01 < p < 0.05), and it's actually a decrease.\n",
    "\n",
    "Interestingly, the positive sentiment increased by more than an order of 10 greater than negative sentiment (5.98%, p < 0.001), which was not expected. \n",
    "\n",
    "The apparent increase in sentiment may be due to the negation problem observed earlier, where \"more positive\" really just means more more phrases containing negation of positive words (e.g., \"no support\")."
   ]
  },
  {
   "cell_type": "markdown",
   "metadata": {},
   "source": [
    "**Conclusion**:\n",
    "\n",
    "We can reject the null hypothesis with 95% confidence that the proportion of negative sentiment did not increase from the start to the end of the time period observed. \n",
    "\n",
    "We can also reject a new hypothesis with more than 99% confidence that positive sentiment did not increase from the start to the end of the time period observed, because we observe a significant increase in proportion of tweets with positive sentiment."
   ]
  },
  {
   "cell_type": "markdown",
   "metadata": {},
   "source": [
    "## Better hypothesis test: increase over time\n",
    "Instead of using a simple two-population hypothesis test to test the increase in negative sentiment, we should really frame this as a time series analysis, where the metric of interest is the change in negative sentiment per day."
   ]
  },
  {
   "cell_type": "markdown",
   "metadata": {},
   "source": [
    "### Compute daily negative percentage\n",
    "Compute the per-day proportion of tweets containing negative sentiment."
   ]
  },
  {
   "cell_type": "code",
   "execution_count": 289,
   "metadata": {},
   "outputs": [],
   "source": [
    "# round date to day-of\n",
    "day_round = lambda x: datetime(*x.timetuple()[:3])\n",
    "datetime_day = tweet_data_filtered_df.loc[:, 'created_at_datetime'].apply(day_round)\n",
    "tweet_data_filtered_df = tweet_data_filtered_df.assign(created_at_datetime_day=datetime_day)\n",
    "# tweet_data_filtered_df.loc[:, 'created_at_datetime_day'] = tweet_data_filtered_df.loc[:, 'created_at_datetime'].apply(day_round)\n",
    "sentiment_label = -1\n",
    "compute_daily_sentiment = lambda x: x[x['sentiment_label'] == sentiment_label].shape[0] / x.shape[0]\n",
    "per_day_negative_sentiment_pct = tweet_data_filtered_df.groupby('created_at_datetime_day').apply(compute_daily_sentiment)"
   ]
  },
  {
   "cell_type": "code",
   "execution_count": 290,
   "metadata": {},
   "outputs": [
    {
     "data": {
      "image/png": "[encoded data removed]",
      "text/plain": [
       "<matplotlib.figure.Figure at 0x11bd2f630>"
      ]
     },
     "metadata": {},
     "output_type": "display_data"
    }
   ],
   "source": [
    "# plot\n",
    "plt.figure(figsize=(15,5))\n",
    "plt.plot(per_day_negative_sentiment_pct.index, per_day_negative_sentiment_pct)\n",
    "plt.xlabel('Date', fontsize=14)\n",
    "plt.ylabel('Proportion of negative sentiment', fontsize=14)\n",
    "plt.show()"
   ]
  },
  {
   "cell_type": "markdown",
   "metadata": {},
   "source": [
    "It looks like a stationary process to me, meaning that any \"change\" observed is the result of regular fluctuation. \n",
    "\n",
    "We can test this null hypothesis using the agumented Dickey-Fuller test ([Dickey and Fuller 1979](http://www.jstor.org/stable/2286348)), which tests the null hypothesis that a time series is generated by a unit root. We model the sentiment time series $y$ as follows: \n",
    "\n",
    "$$y_{t} = \\alpha + \\beta{}t + \\gamma y_{t-1} + \\epsilon_{t} + \\sum_{i=1}^{p-1} \\delta_{p}\\Delta{}y_{t-i}$$\n",
    "\n",
    "The key here is the lag coefficient $\\gamma$, which determines how much of the time series value at time $t$ is explained by the time series value at the previous timestep $t-1$. \n",
    "\n",
    "We are interested in knowing whether the time series can be explained as a process of constant growth or decline with a unit root (i.e., $\\gamma=0$). We therefore fit an autoregressive regression model to the data using the equation above and use the following test statistic to determine whether the lag coefficient is significantly different from 0:\n",
    "\n",
    "$$ t = \\frac{\\hat{\\gamma} - 0}{SE(\\hat{\\gamma})} $$\n",
    "\n",
    "If the test statistic is more negative than a critical value, we can reject the null hypothesis that $\\gamma=0$ and therefore reject the hypothesis that a unit root exists."
   ]
  },
  {
   "cell_type": "code",
   "execution_count": 309,
   "metadata": {},
   "outputs": [
    {
     "name": "stdout",
     "output_type": "stream",
     "text": [
      "(-8.3733223003432098, 2.6263558061018832e-13, 0, 61, {'1%': -3.5424127466616149, '5%': -2.9102362358082838, '10%': -2.5927445767266866}, -214.82385148248238)\n",
      "the test statistic for the augmented Dickey-Fuller test is -8.373, p=2.626E-13\n"
     ]
    }
   ],
   "source": [
    "from statsmodels.tsa.stattools import adfuller\n",
    "test_result = adfuller(per_day_negative_sentiment_pct)\n",
    "print(test_result)\n",
    "print('the test statistic for the augmented Dickey-Fuller test is %.3f, p=%.3E'%(test_result[0], test_result[1]))"
   ]
  },
  {
   "cell_type": "markdown",
   "metadata": {},
   "source": [
    "We therefore reject the possibility that the negative sentiment time series has a unit root and assume that the series is stationary, i.e. no noticeable growth or decline trend."
   ]
  },
  {
   "cell_type": "markdown",
   "metadata": {},
   "source": [
    "### Discussion\n",
    "\n",
    "We find a slight decrease in both negative and positive sentiment over time. At first glance this is surprising because one would expect that the increased deaths over time due to Ebola (Dixon, Schafer 2014) would engender more negative sentiment shared around the topic on social media. However, it may be the case that the growing awareness of the Ebola outbreak over time led to discussion among a wider audience that engendered more neutral statements (explaining the increase in proportion of neutral statements).\n",
    "\n",
    "This study may be refined through a more careful sentiment extraction scheme that accounts for negation. It would also be interesting to use a sentiment lexicon that does not include words like \"death\" and \"dying\" to see if the same results hold: I suspect that a large proportion of the \"negative\" Ebola tweets are simply reporting the facts about the death rates, while the more interesting negative sentiment tweets would contain more subjective language such as \"sad\" and \"devastating.\" Lastly, we did not use a weighted lexicon which could reveal more variation within the positive and negative tweets, such that even if negative sentiment remains steady over time the average weight of the negative sentiment might still grow. \n",
    "\n",
    "Furthermore, this study looked at sentiment across time but could have benefited from further population segmentation. For instance, did tweets originating from countries closer to the Ebola outbreak exhibit more negative sentiment? I would expect this to be true simply because fears of contagion would seem to be stronger among populations closer to the Ebola outbreak."
   ]
  },
  {
   "cell_type": "markdown",
   "metadata": {},
   "source": [
    "### References\n",
    "Dickey, D. A., & Fuller, W. A. (1979). Distribution of the estimators for autoregressive time series with a unit root. Journal of the American statistical association, 74(366a), 427-431.\n",
    "\n",
    "Dixon, M. G., & Schafer, I. J. (2014). Ebola viral disease outbreak—West Africa, 2014. MMWR Morb Mortal Wkly Rep, 63(25), 548-51.\n",
    "\n",
    "Imran, M., Castillo, C., Diaz, F., & Vieweg, S. (2015). Processing social media messages in mass emergency: A survey. ACM Computing Surveys (CSUR), 47(4), 67.\n",
    "\n",
    "Thelwall, M., Buckley, K., & Paltoglou, G. (2011). Sentiment in Twitter events. Journal of the Association for Information Science and Technology, 62(2), 406-418."
   ]
  }
 ],
 "metadata": {
  "kernelspec": {
   "display_name": "Python 3",
   "language": "python",
   "name": "python3"
  },
  "language_info": {
   "codemirror_mode": {
    "name": "ipython",
    "version": 3
   },
   "file_extension": ".py",
   "mimetype": "text/x-python",
   "name": "python",
   "nbconvert_exporter": "python",
   "pygments_lexer": "ipython3",
   "version": "3.4.3"
  }
 },
 "nbformat": 4,
 "nbformat_minor": 2
}
