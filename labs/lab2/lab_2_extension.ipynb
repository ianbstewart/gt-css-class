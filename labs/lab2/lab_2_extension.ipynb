{
 "cells": [
  {
   "cell_type": "markdown",
   "metadata": {
    "collapsed": true
   },
   "source": [
    "## Lab extension: text analysis of Ebola tweets\n",
    "Researchers are often interested in the sentiment of natural language, particularly in the context of social media where positive and negative sentiment reflect the popular opinion of current unfolding events [(Thelwall, Buckley, Paltoglou 2011)](http://onlinelibrary.wiley.com/doi/10.1002/asi.21462/full).\n",
    "\n",
    "Here's a hypothesis related to sentiment: the tweets that emerged at the height of the Ebola crisis are more likely to contain negative language than those that emerged before. For context, the CDC reported a steady increase in the number of Ebola cases reported from mid-2014 to mid-2015 ([Dixon and Schafer, 2014](https://www.cdc.gov/mmwr/preview/mmwrhtml/mm6325a4.htm?scid=mm6325a4w1)).\n",
    "\n",
    "Formally:\n",
    "\n",
    "$H_{0}$: In the collection of all Ebola-related tweets, the tweets posted at the end of the crisis have the same relative amount of negative sentiment as the tweets posted before.\n",
    "\n",
    "$H_{1}$: In the collection of all Ebola-related tweets, the tweets posted at the end of the crisis have more negative sentiment than the tweets posted before.\n",
    "\n",
    "This hypothesis follows from prior work in crisis events that shows a consistent pattern in social responses, from preparation to impact response to recovery ([Imran, Castillo, Diaz and Vieweg 2010](https://arxiv.org/pdf/1407.7071.pdf)). "
   ]
  },
  {
   "cell_type": "markdown",
   "metadata": {},
   "source": [
    "### Load data"
   ]
  },
  {
   "cell_type": "markdown",
   "metadata": {},
   "source": [
    "Let's check out the time period in our original data to see if we have enough of a time scale to test the hypothesis."
   ]
  },
  {
   "cell_type": "code",
   "execution_count": 2,
   "metadata": {},
   "outputs": [
    {
     "name": "stdout",
     "output_type": "stream",
     "text": [
      "date range: [Thu Aug 28 15:34:30 +0000 2014 ... Fri Aug 29 23:01:26 +0000 2014]\n"
     ]
    }
   ],
   "source": [
    "import json\n",
    "from datetime import datetime\n",
    "decoder = json.JSONDecoder()\n",
    "filename = 'ebola-tweets-short.json'\n",
    "with open(filename) as fin:\n",
    "    tweets = [decoder.decode(line) for line in fin.readlines()]\n",
    "date_fmt = '%a %b %d %H:%M:%S +0000 %Y'\n",
    "# \"Thu Aug 28 15:34:30 +0000 2014\"\n",
    "tweet_dates = [datetime.strptime(t[\"created_at\"], date_fmt) for t in tweets]\n",
    "start_date = min(tweet_dates)\n",
    "end_date = max(tweet_dates)\n",
    "start_date_str = datetime.strftime(start_date, date_fmt)\n",
    "end_date_str = datetime.strftime(end_date, date_fmt)\n",
    "print('date range: [%s ... %s]'%(start_date_str, end_date_str))"
   ]
  },
  {
   "cell_type": "markdown",
   "metadata": {},
   "source": [
    "This time scale isn't nearly enough to cover a changing public opinion during the Ebola crisis, so let's extend the time period to last between August 28 and October 27 (two months)."
   ]
  },
  {
   "cell_type": "markdown",
   "metadata": {},
   "source": [
    "I searched an archive of daily streaming Twitter data from 2014 for all tweets that contained the string \"#Ebola\", which may include both regular tweets and retweets.\n",
    "\n",
    "I've stored the extra data here: [ebola_tweets_extra](ebola_tweets_extra.zip)."
   ]
  },
  {
   "cell_type": "markdown",
   "metadata": {},
   "source": [
    "### Load extra data"
   ]
  },
  {
   "cell_type": "code",
   "execution_count": 34,
   "metadata": {
    "collapsed": true
   },
   "outputs": [],
   "source": [
    "# extract tweet data\n",
    "from zipfile import ZipFile\n",
    "archive = ZipFile('ebola_tweets_extra.zip', 'r')\n",
    "ZipFile.extractall(archive)"
   ]
  },
  {
   "cell_type": "code",
   "execution_count": 35,
   "metadata": {},
   "outputs": [
    {
     "name": "stdout",
     "output_type": "stream",
     "text": [
      "['Aug-28-14.json', 'Aug-29-14.json', 'Aug-30-14.json', 'Aug-31-14.json', 'Oct-01-14.json', 'Oct-02-14.json', 'Oct-03-14.json', 'Oct-04-14.json', 'Oct-05-14.json', 'Oct-06-14.json', 'Oct-07-14.json', 'Oct-08-14.json', 'Oct-09-14.json', 'Oct-10-14.json', 'Oct-11-14.json', 'Oct-12-14.json', 'Oct-13-14.json', 'Oct-14-14.json', 'Oct-15-14.json', 'Oct-16-14.json', 'Oct-17-14.json', 'Oct-18-14.json', 'Oct-19-14.json', 'Oct-20-14.json', 'Oct-21-14.json', 'Oct-22-14.json', 'Oct-23-14.json', 'Oct-24-14.json', 'Oct-25-14.json', 'Oct-26-14.json', 'Oct-27-14.json', 'Sep-01-14.json', 'Sep-02-14.json', 'Sep-03-14.json', 'Sep-04-14.json', 'Sep-05-14.json', 'Sep-06-14.json', 'Sep-07-14.json', 'Sep-08-14.json', 'Sep-09-14.json', 'Sep-10-14.json', 'Sep-11-14.json', 'Sep-12-14.json', 'Sep-13-14.json', 'Sep-14-14.json', 'Sep-15-14.json', 'Sep-16-14.json', 'Sep-17-14.json', 'Sep-18-14.json', 'Sep-19-14.json', 'Sep-20-14.json', 'Sep-21-14.json', 'Sep-22-14.json', 'Sep-23-14.json', 'Sep-24-14.json', 'Sep-25-14.json', 'Sep-26-14.json', 'Sep-27-14.json', 'Sep-28-14.json', 'Sep-29-14.json', 'Sep-30-14.json']\n",
      "48182 total tweets\n"
     ]
    }
   ],
   "source": [
    "import pandas as pd\n",
    "import os\n",
    "from functools import reduce\n",
    "tweet_directory = 'ebola_tweets_extra/'\n",
    "tweet_files = sorted(filter(lambda f: 'json' in f, os.listdir(tweet_directory)))\n",
    "print(tweet_files)\n",
    "tweet_data = reduce(lambda x,y: x+y, [[json.loads(l) for l in open(os.path.join(tweet_directory, f))] for f in tweet_files])\n",
    "tweet_data_df = pd.DataFrame(tweet_data)\n",
    "print('%d total tweets'%(tweet_data_df.shape[0]))"
   ]
  },
  {
   "cell_type": "markdown",
   "metadata": {},
   "source": [
    "There's probably a lot of noise in here, so let's cut out the non-English data first."
   ]
  },
  {
   "cell_type": "code",
   "execution_count": 6,
   "metadata": {},
   "outputs": [
    {
     "name": "stdout",
     "output_type": "stream",
     "text": [
      "36591 / 48182 tweets are English\n"
     ]
    }
   ],
   "source": [
    "from langid import classify\n",
    "lang = 'en'\n",
    "tweet_data_df.loc[:, 'lang'] = tweet_data_df.loc[:, 'text'].apply(lambda t: classify(t)[0])\n",
    "tweet_data_filtered_df = tweet_data_df[tweet_data_df['lang'] == 'en']\n",
    "print('%d / %d tweets are English'%(tweet_data_filtered_df.shape[0], tweet_data_df.shape[0]))"
   ]
  },
  {
   "cell_type": "markdown",
   "metadata": {},
   "source": [
    "Let's get a sense of what's going on in this data by looking at the most frequent hashtags."
   ]
  },
  {
   "cell_type": "code",
   "execution_count": 7,
   "metadata": {},
   "outputs": [
    {
     "name": "stdout",
     "output_type": "stream",
     "text": [
      "Ebola            31605\n",
      "EbolaOutbreak     1309\n",
      "tcot               766\n",
      "Liberia            636\n",
      "EbolaResponse      626\n",
      "CDC                620\n",
      "BREAKING           604\n",
      "ebola              553\n",
      "SierraLeone        518\n",
      "ISIS               510\n",
      "Africa             489\n",
      "Obama              446\n",
      "Nigeria            377\n",
      "Dallas             353\n",
      "EbolaCzar          299\n",
      "EbolaQandA         247\n",
      "Texas              217\n",
      "NEWS               194\n",
      "EbolaInNYC         170\n",
      "Guinea             160\n",
      "dtype: int64\n"
     ]
    }
   ],
   "source": [
    "from collections import Counter\n",
    "hashtag_lists = tweet_data_filtered_df.loc[:, 'entities'].apply(lambda e: [h['text'] for h in e['hashtags']])\n",
    "hashtag_list = reduce(lambda x,y: x+y, hashtag_lists)\n",
    "hashtag_counts = pd.Series(Counter(hashtag_list)).sort_values(inplace=False, ascending=False)\n",
    "print(hashtag_counts[:20])"
   ]
  },
  {
   "cell_type": "markdown",
   "metadata": {},
   "source": [
    "These all seem reasonable, since the 2014 Ebola outbreak was centered in West Africa (Nigeria, Liberia, Guinea)."
   ]
  },
  {
   "cell_type": "markdown",
   "metadata": {},
   "source": [
    "### Sentiment"
   ]
  },
  {
   "cell_type": "markdown",
   "metadata": {},
   "source": [
    "Our hypothesis concerns negative sentiment, which we will measure by counting the number of negative words in a tweet."
   ]
  },
  {
   "cell_type": "markdown",
   "metadata": {},
   "source": [
    "For sentiment, we'll use a Twitter sentiment lexicon developed for the 2015 SemEval task (Rosenthal et al. 2015), available [here](http://saifmohammad.com/WebDocs/lexiconstoreleaseonsclpage/SemEval2015-English-Twitter-Lexicon.zip) and stored locally [here](SemEval2015-English-Twitter-Lexicon.txt)."
   ]
  },
  {
   "cell_type": "code",
   "execution_count": 8,
   "metadata": {},
   "outputs": [
    {
     "name": "stdout",
     "output_type": "stream",
     "text": [
      "   score           ngram\n",
      "0  0.984  #inspirational\n",
      "2  0.969       #peaceful\n",
      "1  0.969         amazing\n",
      "3  0.953      #greatness\n",
      "4  0.938       fantastic\n",
      "      score            ngram\n",
      "1509 -0.969            abuse\n",
      "1510 -0.969         #failure\n",
      "1511 -0.982             kill\n",
      "1512 -0.984          bitches\n",
      "1513 -0.984  #disappointment\n"
     ]
    }
   ],
   "source": [
    "sentiment_file = 'SemEval2015-English-Twitter-Lexicon.txt'\n",
    "sentiment_scores = pd.read_csv(sentiment_file, sep='\\t', index_col=False)\n",
    "sentiment_scores.columns = ['score', 'ngram']\n",
    "sentiment_scores.sort_values('score', inplace=True, ascending=False)\n",
    "print(sentiment_scores.head())\n",
    "print(sentiment_scores.tail())"
   ]
  },
  {
   "cell_type": "markdown",
   "metadata": {},
   "source": [
    "The extrema seem to make sense: positive words include \"amazing\" and negative words include \"kill.\"\n",
    "\n",
    "Let's see what different cross-sections of scores look like."
   ]
  },
  {
   "cell_type": "code",
   "execution_count": 9,
   "metadata": {},
   "outputs": [
    {
     "name": "stdout",
     "output_type": "stream",
     "text": [
      "testing percentile 10\n",
      "      score       ngram\n",
      "1373 -0.732       #lazy\n",
      "1374 -0.732  #repulsive\n",
      "1382 -0.734      rotten\n",
      "1387 -0.734     #idiots\n",
      "1386 -0.734        fail\n",
      "testing percentile 20\n",
      "      score     ngram\n",
      "1220 -0.516  scariest\n",
      "1223 -0.516   #grumpy\n",
      "1222 -0.516     #dumb\n",
      "1221 -0.516     leave\n",
      "1218 -0.516      shot\n",
      "testing percentile 30\n",
      "      score        ngram\n",
      "1077 -0.344        sorry\n",
      "1080 -0.344         argh\n",
      "1079 -0.344  no sympathy\n",
      "1078 -0.344  don't drink\n",
      "1076 -0.344        media\n",
      "testing percentile 40\n",
      "     score          ngram\n",
      "916 -0.141          makes\n",
      "922 -0.141  can't believe\n",
      "921 -0.141           site\n",
      "920 -0.141           head\n",
      "919 -0.141     can't wrap\n",
      "testing percentile 50\n",
      "     score    ngram\n",
      "766  0.016   nearly\n",
      "768  0.016      guy\n",
      "769  0.016    guess\n",
      "770  0.016   sounds\n",
      "771  0.016  heading\n",
      "testing percentile 60\n",
      "     score      ngram\n",
      "610  0.161      start\n",
      "619  0.156      books\n",
      "627  0.156       poem\n",
      "626  0.156  #hardwork\n",
      "625  0.156        try\n",
      "testing percentile 70\n",
      "     score   ngram\n",
      "460  0.304    kids\n",
      "467  0.297  nighty\n",
      "471  0.297     hey\n",
      "470  0.297     yup\n",
      "469  0.297   tweet\n",
      "testing percentile 80\n",
      "     score         ngram\n",
      "313  0.484   endorsement\n",
      "321  0.484        catchy\n",
      "320  0.484        friend\n",
      "319  0.484    not shabby\n",
      "318  0.484  can't waiiit\n",
      "testing percentile 90\n",
      "     score      ngram\n",
      "171  0.672  gratitude\n",
      "170  0.672      yaaay\n",
      "169  0.672    support\n",
      "168  0.672        ;-)\n",
      "167  0.672       play\n",
      "testing percentile 100\n",
      "   score        ngram\n",
      "2  0.969    #peaceful\n",
      "1  0.969      amazing\n",
      "3  0.953   #greatness\n",
      "4  0.938    fantastic\n",
      "5  0.938  #happytweet\n"
     ]
    }
   ],
   "source": [
    "percentiles = pd.np.linspace(10, 100, 10)\n",
    "sentiment_score_values = sentiment_scores['score']\n",
    "for p in percentiles:\n",
    "    print('testing percentile %d'%(p))\n",
    "    sentiment_scores_p = sentiment_scores[sentiment_score_values < pd.np.percentile(sentiment_score_values, p)]\n",
    "    print(sentiment_scores_p.head())"
   ]
  },
  {
   "cell_type": "markdown",
   "metadata": {},
   "source": [
    "It seems like the most reliable ngrams are at the extrema of the distribution: for instance, I wouldn't trust a positive score from the word \"poem\" (0.156) or a negative score from the word \"makes\" (-0.141).\n",
    "\n",
    "Decision: we will only count a word as having a label of \"negative\" or \"positive\" if its absolute score exceeds cutoff $c=0.5$."
   ]
  },
  {
   "cell_type": "code",
   "execution_count": 10,
   "metadata": {},
   "outputs": [
    {
     "name": "stdout",
     "output_type": "stream",
     "text": [
      "595 total sentiment labels\n",
      "ngram\n",
      "#inspirational    1\n",
      "#peaceful         1\n",
      "amazing           1\n",
      "#greatness        1\n",
      "fantastic         1\n",
      "Name: score, dtype: float64\n"
     ]
    }
   ],
   "source": [
    "cutoff = 0.5\n",
    "sentiment_scores_filtered = sentiment_scores[abs(sentiment_scores['score']) > cutoff]\n",
    "print('%d total sentiment labels'%(len(sentiment_scores_filtered)))\n",
    "# round labels\n",
    "sentiment_labels = sentiment_scores['score'].apply(round)\n",
    "sentiment_labels.index = sentiment_scores['ngram']\n",
    "print(sentiment_labels.head())"
   ]
  },
  {
   "cell_type": "markdown",
   "metadata": {},
   "source": [
    "Let's clean up the hashtags to make them more extensible to regular text."
   ]
  },
  {
   "cell_type": "code",
   "execution_count": 11,
   "metadata": {
    "collapsed": true
   },
   "outputs": [],
   "source": [
    "sentiment_labels.index = map(lambda x: x.replace('#', ''), sentiment_labels.index)\n",
    "sentiment_vocab = sentiment_labels.index.tolist()"
   ]
  },
  {
   "cell_type": "markdown",
   "metadata": {},
   "source": [
    "### Extracting sentiment labels"
   ]
  },
  {
   "cell_type": "markdown",
   "metadata": {},
   "source": [
    "We now extract sentiment from the text using a very simple counting method.\n",
    "\n",
    "Assuming a lexicon for positive words $P$ and negative words $N$, we assign a label of positive or negative ($k=1,-1$) to a tweet based on the sum of the sentiment labels $l$ of the tweet's words:\n",
    "\n",
    "$$\n",
    "\\begin{equation}\n",
    "f(x) = \n",
    "\\begin{cases}\n",
    "1 & \\text{if} \\sum_{w \\in x} l_{x} > 0 \\\\ \n",
    "-1 & \\text{if} \\sum_{w \\in x} l_{x} < 0 \\\\ \n",
    "0 & \\text{otherwise}\n",
    "\\end{cases}\n",
    "\\end{equation}\n",
    "$$\n",
    "\n",
    "Obviously this is only a binary representation of sentiment that fails to capture more complex linguistic phenomena such as negation, but it's a start."
   ]
  },
  {
   "cell_type": "code",
   "execution_count": 19,
   "metadata": {},
   "outputs": [],
   "source": [
    "from nltk.tokenize.casual import TweetTokenizer\n",
    "TOKENIZER = TweetTokenizer()\n",
    "def assign_sentiment_label(text, positive_lexicon, negative_lexicon):\n",
    "    tokens = TOKENIZER.tokenize(text)\n",
    "    positive_tokens = [w for w in tokens if w in positive_lexicon]\n",
    "    negative_tokens = [w for w in tokens if w in negative_lexicon]\n",
    "    positive_score = len(positive_tokens)\n",
    "    negative_score = -1*len(negative_tokens)\n",
    "    score = positive_score + negative_score\n",
    "    if(score <= -1):\n",
    "        return -1\n",
    "    elif(score >= 1):\n",
    "        return 1\n",
    "    else:\n",
    "        return 0\n",
    "positive_lexicon = sentiment_labels[sentiment_labels == 1].index.tolist()\n",
    "negative_lexicon = sentiment_labels[sentiment_labels == -1].index.tolist()\n",
    "tweet_sentiment_labels = tweet_data_filtered_df['text'].apply(lambda x: assign_sentiment_label(x, positive_lexicon, negative_lexicon))\n",
    "tweet_data_filtered_df = tweet_data_filtered_df.assign(sentiment_label=tweet_sentiment_labels)"
   ]
  },
  {
   "cell_type": "markdown",
   "metadata": {},
   "source": [
    "Let's look at a histogram of the labels to see the overall distribution of positive and negative labels."
   ]
  },
  {
   "cell_type": "code",
   "execution_count": 14,
   "metadata": {},
   "outputs": [
    {
     "data": {
      "image/png": "[encoded data removed]",
      "text/plain": [
       "<matplotlib.figure.Figure at 0x157e98d30>"
      ]
     },
     "metadata": {},
     "output_type": "display_data"
    }
   ],
   "source": [
    "import matplotlib\n",
    "%matplotlib inline\n",
    "import matplotlib.pyplot as plt\n",
    "tweet_sentiment_counts = tweet_data_filtered_df['sentiment_label'].value_counts()\n",
    "xticks = pd.np.array(tweet_sentiment_counts.index)\n",
    "width = 0.25\n",
    "xtick_labels = ['negative', 'neutral', 'positive']\n",
    "plt.bar(xticks - width / 2., tweet_sentiment_counts, width=width)\n",
    "plt.xticks([-1,0,1], xtick_labels)\n",
    "plt.xlabel('Sentiment label', fontsize=18)\n",
    "plt.ylabel('Post frequency', fontsize=18)\n",
    "plt.show()"
   ]
  },
  {
   "cell_type": "markdown",
   "metadata": {},
   "source": [
    "Interesting! There are relatively few positive and negative tweets.\n",
    "\n",
    "This could make hypothesis testing more difficult, unless we propose an alternative version where positive sentiment declines as the crisis progresses. This would be similar to the emotional contagion study which proposed both increased activation and decreased inhibition in response to emotions expressed by one's friends."
   ]
  },
  {
   "cell_type": "markdown",
   "metadata": {},
   "source": [
    "### Sanity check\n",
    "Let's make sure that the tweets classified as positive are actually positive and the tweets classified as negative are actually negative."
   ]
  },
  {
   "cell_type": "code",
   "execution_count": 17,
   "metadata": {},
   "outputs": [
    {
     "name": "stdout",
     "output_type": "stream",
     "text": [
      "positive sample:\n",
      "“@fox32news: UPDATED STORY: Dallas nurse Nina Pham now #Ebola-free http://t.co/iNCHFHja27 http://t.co/pTDRL2Coqq” that's great😬\n",
      "Lupica: Ebola has traveled from Guinea to New York, but the city is ready http://t.co/z1RUQdPZvZ\n",
      "#Ebolaisreal #Ebolaisnotpolitics\n",
      "I'm glad there's an #EbolaOutbreak makes it sooo much easier for me to cancel on people *cough lol\n",
      "RT @UNICEF: Social mobilizers teach locals like Uchechi how to protect themselves from #Ebola in #Nigeria. http://t.co/JRTkeytTxr http://t.…\n",
      "CDC head says more health care workers could have #Ebola , despite claiming ‘any hospital’... http://t.co/zMrYUe2Yns\n",
      "\n",
      "negative sample:\n",
      "RT @UNICEFSL: Survivors conf now in Kenema: She survived #Ebola. Her mother survived. Her two siblings survived. Her father died. http://t.…\n",
      "RT @WHO: He did not cry when his mother died of #Ebola because he didn’t want to scare his brothers http://t.co/2QmvZd9Rju http://t.co/DyFY…\n",
      "RT @edwrather: Watchdog: Obama to bring African Ebola victims to U.S. http://t.co/JCWZHGGuQF via @worldnetdaily #Tcot #Ebola\n",
      "RT @redsteeze: Well last chance to spam this before we all die. It's been real. http://t.co/xQwtvZ0zwi #EbolaInNYC #TwitterDown\n",
      "#Ebola brings death &amp; quarantine, to #Liberia ; President overwhelmed as outbreak out of control in capital http://t.co/miqYYjkTna #Africa\n",
      "\n",
      "positive tokens:\n",
      "great\n",
      "ready\n",
      "glad\n",
      "teach\n",
      "care\n",
      "\n",
      "negative tokens:\n",
      "died\n",
      "died\n",
      "victims\n",
      "die\n",
      "death\n",
      "\n"
     ]
    }
   ],
   "source": [
    "pd.np.random.seed(123)\n",
    "sample_size = 5\n",
    "positive_tweet_text = tweet_data_filtered_df[tweet_data_filtered_df['sentiment_label'] == 1]['text']\n",
    "negative_tweet_text = tweet_data_filtered_df[tweet_data_filtered_df['sentiment_label'] == -1]['text']\n",
    "positive_sample = pd.np.random.choice(positive_tweet_text, size=sample_size)\n",
    "negative_sample = pd.np.random.choice(negative_tweet_text, size=sample_size)\n",
    "print('positive sample:\\n%s\\n'%('\\n'.join(positive_sample)))\n",
    "print('negative sample:\\n%s\\n'%('\\n'.join(negative_sample)))\n",
    "print('positive tokens:\\n%s\\n'%('\\n'.join([','.join(set(positive_lexicon) & set(TOKENIZER.tokenize(x))) for x in positive_sample])))\n",
    "print('negative tokens:\\n%s\\n'%('\\n'.join([','.join(set(negative_lexicon) & set(TOKENIZER.tokenize(x))) for x in negative_sample])))"
   ]
  },
  {
   "cell_type": "markdown",
   "metadata": {},
   "source": [
    "Positive tweets have some unambiguously good words, such as \"great\" and \"ready,\" but there is also some ambiguity with words like \"care\" that are less positive.\n",
    "\n",
    "Negative tweets describe the relevant bad outcomes, such as \"died\" and \"death.\" We expect these words to become more common as the crisis progresses in time."
   ]
  },
  {
   "cell_type": "markdown",
   "metadata": {},
   "source": [
    "### Test hypothesis\n",
    "Let's start by assuming that the split point between \"start\" and \"end\" is the exact middle of the data."
   ]
  },
  {
   "cell_type": "code",
   "execution_count": 20,
   "metadata": {},
   "outputs": [
    {
     "name": "stdout",
     "output_type": "stream",
     "text": [
      "split at date 2014-09-27T00:00:00.000000000\n"
     ]
    }
   ],
   "source": [
    "date_fmt = '%a %b %d %H:%M:%S +0000 %Y'\n",
    "created_at_datetime=tweet_data_filtered_df.loc[:, 'created_at'].apply(lambda x: datetime.strptime(x, date_fmt))\n",
    "tweet_data_filtered_df = tweet_data_filtered_df.assign(created_at_datetime=created_at_datetime)\n",
    "all_dates = tweet_data_filtered_df.loc[:, 'created_at_datetime']\n",
    "# get unique days, then get the median day\n",
    "all_dates_unique_days = sorted(all_dates.apply(lambda x: datetime(*x.timetuple()[:3])).unique())\n",
    "N = len(all_dates_unique_days)\n",
    "split_point = int(N/2)\n",
    "median_date = all_dates_unique_days[split_point]\n",
    "print('split at date %s'%(median_date))"
   ]
  },
  {
   "cell_type": "code",
   "execution_count": 21,
   "metadata": {
    "collapsed": true
   },
   "outputs": [],
   "source": [
    "tweet_data_before = tweet_data_filtered_df[tweet_data_filtered_df['created_at_datetime'] <= median_date]\n",
    "tweet_data_after = tweet_data_filtered_df[tweet_data_filtered_df['created_at_datetime'] > median_date]"
   ]
  },
  {
   "cell_type": "markdown",
   "metadata": {},
   "source": [
    "Now let's plot the distribution of sentiment before and after the split point, as a boxplot."
   ]
  },
  {
   "cell_type": "code",
   "execution_count": 22,
   "metadata": {},
   "outputs": [
    {
     "data": {
      "image/png": "[encoded data removed]",
      "text/plain": [
       "<matplotlib.figure.Figure at 0x194494400>"
      ]
     },
     "metadata": {},
     "output_type": "display_data"
    }
   ],
   "source": [
    "box_data = [tweet_data_before['sentiment_label'].values, tweet_data_after['sentiment_label'].values]\n",
    "plt.boxplot(box_data, labels=['before', 'after'])\n",
    "plt.ylabel('Sentiment')\n",
    "plt.show()"
   ]
  },
  {
   "cell_type": "markdown",
   "metadata": {},
   "source": [
    "This plot isn't too informative. What if we just look at the mean and standard deviation of sentiment?"
   ]
  },
  {
   "cell_type": "code",
   "execution_count": 23,
   "metadata": {},
   "outputs": [
    {
     "name": "stdout",
     "output_type": "stream",
     "text": [
      "before: sentiment mean = 0.005 +/- 0.407\n",
      "after: sentiment mean = 0.031 +/- 0.457\n",
      "mean difference in sentiment before and after split point is 0.025315, significant with t=3.784 and p=1.547E-04\n"
     ]
    }
   ],
   "source": [
    "from scipy.stats import ttest_ind\n",
    "print('before: sentiment mean = %.3f +/- %.3f'%(tweet_data_before['sentiment_label'].mean(), tweet_data_before['sentiment_label'].std()))\n",
    "print('after: sentiment mean = %.3f +/- %.3f'%(tweet_data_after['sentiment_label'].mean(), tweet_data_after['sentiment_label'].std()))\n",
    "sentiment_diff = tweet_data_after['sentiment_label'].mean() - tweet_data_before['sentiment_label'].mean()\n",
    "t_stat, p_val = ttest_ind(tweet_data_after['sentiment_label'], tweet_data_before['sentiment_label'])\n",
    "print('mean difference in sentiment before and after split point is %3f, significant with t=%.3f and p=%.3E'%\n",
    "      (sentiment_diff, t_stat, p_val))"
   ]
  },
  {
   "cell_type": "markdown",
   "metadata": {},
   "source": [
    "Interesting! It looks like the average sentiment increased slightly (0.0253, p < 0.01) between the time periods."
   ]
  },
  {
   "cell_type": "markdown",
   "metadata": {},
   "source": [
    "### Update hypothesis: sentiment as a categorical variable"
   ]
  },
  {
   "cell_type": "markdown",
   "metadata": {},
   "source": [
    "It might make sense to see sentiment as more of a categorical variable, meaning that we should look for a change in percentage of negative posts rather than a change in the overall distribution.\n",
    "\n",
    "Updated hypothesis:\n",
    "\n",
    "$H_{0}$: the proportion of negative Ebola tweets is not higher at the end of the time period observed than at the beginning of the time period observed.\n",
    "\n",
    "$H_{1}$: the proportion of negative Ebola tweets is higher at the end of the time period observed than at the beginning of the time period observed."
   ]
  },
  {
   "cell_type": "code",
   "execution_count": 24,
   "metadata": {},
   "outputs": [
    {
     "data": {
      "image/png": "[encoded data removed]",
      "text/plain": [
       "<matplotlib.figure.Figure at 0x18ef80438>"
      ]
     },
     "metadata": {},
     "output_type": "display_data"
    }
   ],
   "source": [
    "tweet_data_before_sentiment_pcts = tweet_data_before['sentiment_label'].value_counts() / tweet_data_before.shape[0]\n",
    "tweet_data_after_sentiment_pcts = tweet_data_after['sentiment_label'].value_counts() / tweet_data_after.shape[0]\n",
    "tweet_data_before_sentiment_pcts.sort_index(inplace=True)\n",
    "tweet_data_after_sentiment_pcts.sort_index(inplace=True)\n",
    "x_offset = 0.25\n",
    "bar_width = 0.1\n",
    "x_pos = pd.np.arange(len(tweet_data_after_sentiment_pcts))\n",
    "x_ticklabels = ['negative', 'neutral', 'positive']\n",
    "plt.bar(x_pos-x_offset, tweet_data_before_sentiment_pcts, color='r', label='before', width=bar_width)\n",
    "plt.bar(x_pos+x_offset, tweet_data_after_sentiment_pcts, color='b', label='after', width=bar_width)\n",
    "plt.xticks(x_pos, x_ticklabels)\n",
    "plt.legend(loc='upper right')\n",
    "plt.show()"
   ]
  },
  {
   "cell_type": "markdown",
   "metadata": {},
   "source": [
    "It looks like the amount of positive sentiment increased slightly and neutral sentiment decreased slightly. I don't see a significant change in negative sentiment."
   ]
  },
  {
   "cell_type": "markdown",
   "metadata": {},
   "source": [
    "We should do a sampling hypothesis test to determine if the changes are significant."
   ]
  },
  {
   "cell_type": "code",
   "execution_count": 25,
   "metadata": {
    "collapsed": true
   },
   "outputs": [],
   "source": [
    "def sentiment_label_test(all_data, split_index, sentiment_label, samples=1000):\n",
    "    \"\"\"\n",
    "    Repeatedly shuffle the data and split to produce\n",
    "    the same amount of before/after data, then\n",
    "    test the null hypothesis that the randomized\n",
    "    after-data has a more extreme sentiment than the before-data.\n",
    "    \n",
    "    Parameters:\n",
    "    -----------\n",
    "    all_data : pandas.Series\n",
    "    split_index : int\n",
    "    sentiment_label : int\n",
    "    samples : int\n",
    "    \n",
    "    Returns:\n",
    "    --------\n",
    "    p_val : float\n",
    "    Proportion of null hypothesis tests that succeeded.\n",
    "    \"\"\"\n",
    "    pct_diff = lambda samp : (len(samp[split_index:][samp[split_index:]==sentiment_label]) / len(samp[split_index:]) - \n",
    "                              len(samp[:split_index][samp[:split_index]==sentiment_label]) / len(samp[:split_index]))\n",
    "    get_samp = lambda data: data[pd.np.random.choice(range(len(data)), size=len(data), replace=False)]\n",
    "    h1_val = pct_diff(all_data)\n",
    "    h0_vals = [pct_diff(get_samp(all_data)) for _ in range(samples)]\n",
    "    if(h1_val < 0):\n",
    "        p_val = sum([h0 < h1_val for h0 in h0_vals]) / samples\n",
    "    elif(h1_val > 0):\n",
    "        p_val = sum([h0 > h1_val for h0 in h0_vals]) / samples\n",
    "    return p_val"
   ]
  },
  {
   "cell_type": "code",
   "execution_count": 26,
   "metadata": {},
   "outputs": [
    {
     "name": "stdout",
     "output_type": "stream",
     "text": [
      "for sentiment label 0 after-before difference -6.115E-02 is significant with p-value 0.000E+00\n",
      "for sentiment label 1 after-before difference 5.980E-02 is significant with p-value 0.000E+00\n",
      "for sentiment label -1 after-before difference 1.349E-03 is significant with p-value 4.280E-01\n"
     ]
    }
   ],
   "source": [
    "samples = 1000\n",
    "sentiment_labels_unique = tweet_data_filtered_df['sentiment_label'].unique()\n",
    "pct_diff = lambda samp : (len(samp[split_index:][samp[split_index:]==sentiment_label]) / len(samp[split_index:]) - \n",
    "                          len(samp[:split_index][samp[:split_index]==sentiment_label]) / len(samp[:split_index]))\n",
    "sentiment_label_values = tweet_data_filtered_df['sentiment_label'].values\n",
    "split_index = pd.np.where(tweet_data_filtered_df['created_at_datetime'] > median_date)[0][0]\n",
    "for sentiment_label in sentiment_labels_unique:\n",
    "    test_p_val = sentiment_label_test(sentiment_label_values, split_index, sentiment_label, samples=samples)\n",
    "    before_after_diff = pct_diff(sentiment_label_values)\n",
    "    print('for sentiment label %d after-before difference %.3E is significant with p-value %.3E'%\n",
    "          (sentiment_label, before_after_diff, test_p_val))"
   ]
  },
  {
   "cell_type": "markdown",
   "metadata": {},
   "source": [
    "The increase in negative sentiment is small (0.135%) and insignificant (p > 0.05), and it's actually a decrease.\n",
    "\n",
    "Interestingly, the positive sentiment increased by more than an order of 10 greater than negative sentiment (5.98%, p < 0.001), which was not expected. \n",
    "\n",
    "The apparent increase in sentiment may be due to the negation problem observed earlier, where \"more positive\" really just means more more phrases containing negation of positive words (e.g., \"no support\")."
   ]
  },
  {
   "cell_type": "markdown",
   "metadata": {},
   "source": [
    "**Conclusion**:\n",
    "\n",
    "We cannot reject the null hypothesis that the proportion of negative sentiment did not increase from the start to the end of the time period observed. \n",
    "\n",
    "We can reject a new hypothesis with more than 99% confidence that positive sentiment did not increase from the start to the end of the time period observed, because we observe a significant increase in proportion of tweets with positive sentiment."
   ]
  },
  {
   "cell_type": "markdown",
   "metadata": {},
   "source": [
    "## Better test: increase over time\n",
    "Instead of using a simple two-population hypothesis test to test the increase in negative sentiment, we should really frame this as a time series analysis, where the metric of interest is the change in negative sentiment per day."
   ]
  },
  {
   "cell_type": "markdown",
   "metadata": {},
   "source": [
    "$H_{0}$: there is no significant change over time in the proportion of posts containing negative sentiment posted on a daily basis.\n",
    "\n",
    "$H_{1}$: there is a significant change over time in the proportion of posts containing negative sentiment posted on a daily basis."
   ]
  },
  {
   "cell_type": "markdown",
   "metadata": {},
   "source": [
    "### Compute daily negative percentage\n",
    "Compute the per-day proportion of tweets containing negative sentiment."
   ]
  },
  {
   "cell_type": "code",
   "execution_count": 27,
   "metadata": {
    "collapsed": true
   },
   "outputs": [],
   "source": [
    "# round date to day-of\n",
    "day_round = lambda x: datetime(*x.timetuple()[:3])\n",
    "datetime_day = tweet_data_filtered_df.loc[:, 'created_at_datetime'].apply(day_round)\n",
    "tweet_data_filtered_df = tweet_data_filtered_df.assign(created_at_datetime_day=datetime_day)\n",
    "# tweet_data_filtered_df.loc[:, 'created_at_datetime_day'] = tweet_data_filtered_df.loc[:, 'created_at_datetime'].apply(day_round)\n",
    "sentiment_label = -1\n",
    "compute_daily_sentiment = lambda x: x[x['sentiment_label'] == sentiment_label].shape[0] / x.shape[0]\n",
    "per_day_negative_sentiment_pct = tweet_data_filtered_df.groupby('created_at_datetime_day').apply(compute_daily_sentiment)"
   ]
  },
  {
   "cell_type": "code",
   "execution_count": 28,
   "metadata": {},
   "outputs": [
    {
     "data": {
      "image/png": "[encoded data removed]",
      "text/plain": [
       "<matplotlib.figure.Figure at 0x1878971d0>"
      ]
     },
     "metadata": {},
     "output_type": "display_data"
    }
   ],
   "source": [
    "# plot\n",
    "plt.figure(figsize=(15,5))\n",
    "plt.plot(per_day_negative_sentiment_pct.index, per_day_negative_sentiment_pct)\n",
    "plt.xlabel('Date', fontsize=14)\n",
    "plt.ylabel('Proportion of negative sentiment', fontsize=14)\n",
    "plt.show()"
   ]
  },
  {
   "cell_type": "markdown",
   "metadata": {},
   "source": [
    "It looks like a stationary process to me, meaning that any \"change\" observed is the result of regular fluctuation. \n",
    "\n",
    "We can test this null hypothesis using the agumented Dickey-Fuller test ([Dickey and Fuller 1979](http://www.jstor.org/stable/2286348)), which tests the null hypothesis that a time series is generated by a unit root (e.g. steady growth). We model the sentiment time series $y$ as follows: \n",
    "\n",
    "$$y_{t} = \\alpha + \\beta{}t + \\gamma y_{t-1} + \\epsilon_{t} + \\sum_{i=1}^{p-1} \\delta_{p}\\Delta{}y_{t-i}$$\n",
    "\n",
    "The key here is the lag coefficient $\\gamma$, which determines how much of the time series value at time $t$ is explained by the time series value at the previous timestep $t-1$. \n",
    "\n",
    "We are interested in knowing whether the time series can be explained as a process of constant growth or decline with a unit root (i.e., $\\gamma=0$). We therefore fit an autoregressive regression model to the data using the equation above and use the following test statistic to determine whether the lag coefficient is significantly different from 0:\n",
    "\n",
    "$$ t = \\frac{\\hat{\\gamma} - 0}{SE(\\hat{\\gamma})} $$\n",
    "\n",
    "If the test statistic is more negative than a critical value, we can reject the null hypothesis that $\\gamma=0$ and therefore reject the hypothesis that a unit root exists."
   ]
  },
  {
   "cell_type": "code",
   "execution_count": 29,
   "metadata": {},
   "outputs": [
    {
     "name": "stdout",
     "output_type": "stream",
     "text": [
      "(-8.3733223003432098, 2.6263558061018832e-13, 0, 61, {'1%': -3.5424127466616149, '10%': -2.5927445767266866, '5%': -2.9102362358082838}, -214.82385148248238)\n",
      "the test statistic for the augmented Dickey-Fuller test is -8.373, p=2.626E-13\n"
     ]
    }
   ],
   "source": [
    "from statsmodels.tsa.stattools import adfuller\n",
    "test_result = adfuller(per_day_negative_sentiment_pct)\n",
    "print(test_result)\n",
    "print('the test statistic for the augmented Dickey-Fuller test is %.3f, p=%.3E'%(test_result[0], test_result[1]))"
   ]
  },
  {
   "cell_type": "markdown",
   "metadata": {},
   "source": [
    "We therefore reject the possibility that the negative sentiment time series has a unit root and assume that the series is stationary, i.e. no noticeable growth or decline trend."
   ]
  },
  {
   "cell_type": "markdown",
   "metadata": {},
   "source": [
    "### Discussion\n",
    "\n",
    "We find a slight decrease in both negative and positive sentiment over time. At first glance this is surprising because one would expect that the increased deaths over time due to Ebola (Dixon, Schafer 2014) would engender more negative sentiment shared around the topic on social media. However, it may be the case that the growing awareness of the Ebola outbreak over time led to discussion among a wider audience that engendered more neutral statements (explaining the increase in proportion of neutral statements).\n",
    "\n",
    "This study may be refined through a more careful sentiment extraction scheme that accounts for negation. It would also be interesting to use a sentiment lexicon that does not include words like \"death\" and \"dying\" to see if the same results hold: I suspect that a large proportion of the \"negative\" Ebola tweets are simply reporting the facts about the death rates, while the more interesting negative sentiment tweets would contain more subjective language such as \"sad\" and \"devastating.\" Lastly, we did not use a weighted lexicon which could reveal more variation within the positive and negative tweets, such that even if negative sentiment remains steady over time the average weight of the negative sentiment might still grow. \n",
    "\n",
    "Furthermore, this study looked at sentiment across time but could have benefited from further population segmentation. For instance, did tweets originating from countries closer to the Ebola outbreak exhibit more negative sentiment? I would expect this to be true simply because fears of contagion would seem to be stronger among populations closer to the Ebola outbreak."
   ]
  },
  {
   "cell_type": "markdown",
   "metadata": {},
   "source": [
    "### References\n",
    "Dickey, D. A., & Fuller, W. A. (1979). Distribution of the estimators for autoregressive time series with a unit root. Journal of the American statistical association, 74(366a), 427-431.\n",
    "\n",
    "Dixon, M. G., & Schafer, I. J. (2014). Ebola viral disease outbreak—West Africa, 2014. MMWR Morb Mortal Wkly Rep, 63(25), 548-51.\n",
    "\n",
    "Imran, M., Castillo, C., Diaz, F., & Vieweg, S. (2015). Processing social media messages in mass emergency: A survey. ACM Computing Surveys (CSUR), 47(4), 67.\n",
    "\n",
    "Rosenthal, S., Nakov, P., Kiritchenko, S., Mohammad, S., Ritter, A., & Stoyanov, V. (2015, June). SemEval-2015 Task 10: Sentiment Analysis in Twitter. In SemEval@ NAACL-HLT (pp. 451-463).\n",
    "\n",
    "Thelwall, M., Buckley, K., & Paltoglou, G. (2011). Sentiment in Twitter events. Journal of the Association for Information Science and Technology, 62(2), 406-418."
   ]
  }
 ],
 "metadata": {
  "kernelspec": {
   "display_name": "Python 3",
   "language": "python",
   "name": "python3"
  },
  "language_info": {
   "codemirror_mode": {
    "name": "ipython",
    "version": 3
   },
   "file_extension": ".py",
   "mimetype": "text/x-python",
   "name": "python",
   "nbconvert_exporter": "python",
   "pygments_lexer": "ipython3",
   "version": "3.4.3"
  }
 },
 "nbformat": 4,
 "nbformat_minor": 2
}
