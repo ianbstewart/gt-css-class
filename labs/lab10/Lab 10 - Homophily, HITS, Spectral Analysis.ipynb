{
 "cells": [
  {
   "cell_type": "markdown",
   "metadata": {},
   "source": [
    "# Lab 10: Homophily, Hits, Spectral Analysis\n",
    "\n",
    "In this lab, we continue to explore a social network of legislators and the organizations that contribute to their campaigns.\n",
    "\n",
    "The data is from [opensecrets.org](opensecrets.org), which collects public records about campaign finance in the United States.\n",
    "\n",
    "We'll use `networkx`, a python package for social network analysis."
   ]
  },
  {
   "cell_type": "code",
   "execution_count": 1,
   "metadata": {
    "collapsed": false
   },
   "outputs": [],
   "source": [
    "import pandas as pd\n",
    "import networkx as nx\n",
    "import numpy as np\n",
    "%matplotlib inline\n",
    "import matplotlib.pyplot as plt"
   ]
  },
  {
   "cell_type": "markdown",
   "metadata": {},
   "source": [
    "## Reading in the data"
   ]
  },
  {
   "cell_type": "code",
   "execution_count": 2,
   "metadata": {
    "collapsed": true
   },
   "outputs": [],
   "source": [
    "df = pd.read_csv('legislators.csv',index_col=0)"
   ]
  },
  {
   "cell_type": "code",
   "execution_count": 3,
   "metadata": {
    "collapsed": true
   },
   "outputs": [],
   "source": [
    "get_leg_by_name = lambda name : df.loc[df['firstlast']==name]\n",
    "get_leg_by_cid = lambda cid : df.loc[df['cid']==cid]"
   ]
  },
  {
   "cell_type": "code",
   "execution_count": 4,
   "metadata": {
    "collapsed": true
   },
   "outputs": [],
   "source": [
    "G = nx.read_gexf('contributions.xml')"
   ]
  },
  {
   "cell_type": "code",
   "execution_count": 5,
   "metadata": {
    "collapsed": true
   },
   "outputs": [],
   "source": [
    "leg_attr = lambda leg, attr : leg[attr].values[0]\n",
    "\n",
    "# might break if two legislators have the same name\n",
    "name_to_cid = lambda name : leg_attr(get_leg_by_name(name),'cid')\n",
    "\n",
    "cid_to_name = lambda cid : leg_attr(get_leg_by_cid(cid),'firstlast')"
   ]
  },
  {
   "cell_type": "code",
   "execution_count": 6,
   "metadata": {
    "collapsed": true
   },
   "outputs": [],
   "source": [
    "leg_nodes = [node for node in G.nodes() if node in df['cid'].values]\n",
    "contrib_nodes = [node for node in G.nodes if node not in leg_nodes]"
   ]
  },
  {
   "cell_type": "code",
   "execution_count": 7,
   "metadata": {
    "collapsed": true
   },
   "outputs": [],
   "source": [
    "big_contribs = [node for node in contrib_nodes if nx.degree(G,node)>=20]"
   ]
  },
  {
   "cell_type": "markdown",
   "metadata": {},
   "source": [
    "## Projection\n",
    "\n",
    "The legislator-contributor network is an example of an **affiliation network**. \n",
    "\n",
    "We can **project** across either set of nodes, inducing a network of legislators who share donors, or a network of contributors who donate to the same legislators. Let's now briefly investigate the projected legislator network."
   ]
  },
  {
   "cell_type": "code",
   "execution_count": 8,
   "metadata": {
    "collapsed": true
   },
   "outputs": [],
   "source": [
    "G_leg = nx.projected_graph(G,leg_nodes)"
   ]
  },
  {
   "cell_type": "markdown",
   "metadata": {},
   "source": [
    "Let's plot the degree distribution of this graph"
   ]
  },
  {
   "cell_type": "code",
   "execution_count": 9,
   "metadata": {
    "collapsed": true
   },
   "outputs": [],
   "source": [
    "degrees = {leg:nx.degree(G_leg,leg) for leg in leg_nodes}"
   ]
  },
  {
   "cell_type": "code",
   "execution_count": 10,
   "metadata": {
    "collapsed": false
   },
   "outputs": [
    {
     "data": {
      "image/png": "[encoded data removed]",
      "text/plain": [
       "<matplotlib.figure.Figure at 0x7f78b1967438>"
      ]
     },
     "metadata": {},
     "output_type": "display_data"
    }
   ],
   "source": [
    "plt.loglog(sorted(degrees.values(),reverse=True));"
   ]
  },
  {
   "cell_type": "markdown",
   "metadata": {},
   "source": [
    "Almost all nodes here have degree > 100. Definitely not a scale-free network."
   ]
  },
  {
   "cell_type": "markdown",
   "metadata": {},
   "source": [
    "## Homophily\n",
    "\n",
    "The property of homophily is that individuals with similar properties tend to be connected."
   ]
  },
  {
   "cell_type": "code",
   "execution_count": 13,
   "metadata": {
    "collapsed": true
   },
   "outputs": [],
   "source": [
    "parties = {row['cid']:row['party'] for _,row in df.iterrows()}"
   ]
  },
  {
   "cell_type": "code",
   "execution_count": 14,
   "metadata": {
    "collapsed": true
   },
   "outputs": [],
   "source": [
    "nx.set_node_attributes(G_leg,name='party',values=parties)"
   ]
  },
  {
   "cell_type": "code",
   "execution_count": 15,
   "metadata": {
    "collapsed": false
   },
   "outputs": [
    {
     "data": {
      "text/plain": [
       "{'D': {'D': 18764, 'I': 12, 'R': 12576},\n",
       " 'I': {'D': 12, 'R': 3},\n",
       " 'R': {'D': 12576, 'I': 3, 'R': 21942}}"
      ]
     },
     "execution_count": 15,
     "metadata": {},
     "output_type": "execute_result"
    }
   ],
   "source": [
    "nx.attribute_mixing_dict(G_leg,'party')"
   ]
  },
  {
   "cell_type": "markdown",
   "metadata": {},
   "source": [
    "This says: \n",
    "\n",
    "- 18764 links are between two democrats\n",
    "- 21942 links are between two republicans\n",
    "- $12576 \\times 2$ links are between a democrat and republican\n",
    "\n",
    "What is the probability of a mixing matrix like this arising by chance? We'll come back to this later."
   ]
  },
  {
   "cell_type": "code",
   "execution_count": 16,
   "metadata": {
    "collapsed": false
   },
   "outputs": [
    {
     "name": "stdout",
     "output_type": "stream",
     "text": [
      "[[  3.33019670e-01   4.55318116e-05   1.90869354e-01]\n",
      " [  4.55318116e-05   0.00000000e+00   1.82127246e-04]\n",
      " [  1.90869354e-01   1.82127246e-04   2.84786304e-01]]\n"
     ]
    }
   ],
   "source": [
    "#here's another view\n",
    "M_party = nx.attribute_mixing_matrix(G_leg,'party')\n",
    "print(M_party)"
   ]
  },
  {
   "cell_type": "markdown",
   "metadata": {},
   "source": [
    "The trace of this matrix is the fraction of edges with the same value of the attribute."
   ]
  },
  {
   "cell_type": "code",
   "execution_count": 50,
   "metadata": {
    "collapsed": false
   },
   "outputs": [
    {
     "name": "stdout",
     "output_type": "stream",
     "text": [
      "0.617805973774\n"
     ]
    }
   ],
   "source": [
    "observed_trace = M_party.trace()\n",
    "print(observed_trace)"
   ]
  },
  {
   "cell_type": "markdown",
   "metadata": {},
   "source": [
    "**Your turn:** compute the same matrix for the state from which each legislators is from. The state is identified by the first two characters of the `office` attribute."
   ]
  },
  {
   "cell_type": "code",
   "execution_count": 51,
   "metadata": {
    "collapsed": true
   },
   "outputs": [],
   "source": [
    "# your code here"
   ]
  },
  {
   "cell_type": "markdown",
   "metadata": {},
   "source": [
    "The base probability of two nodes having the same attribute is $\\theta = \\sum_i P(i)^2$, summing over all possible values of the attribute. \n",
    "\n",
    "Under the null hypothesis, the trace of the attribute mixing matrix is drawn from a binomial distribution with parameters $(\\theta, N)$, where $N$ is the total number of edges. Using this, we can compute $p$-values for these assortativity statistics."
   ]
  },
  {
   "cell_type": "code",
   "execution_count": 19,
   "metadata": {
    "collapsed": true
   },
   "outputs": [],
   "source": [
    "M_party_counts = M_party * len(G_leg.edges())"
   ]
  },
  {
   "cell_type": "code",
   "execution_count": 20,
   "metadata": {
    "collapsed": false
   },
   "outputs": [
    {
     "data": {
      "text/plain": [
       "20353.0"
      ]
     },
     "execution_count": 20,
     "metadata": {},
     "output_type": "execute_result"
    }
   ],
   "source": [
    "M_party_counts.trace()"
   ]
  },
  {
   "cell_type": "code",
   "execution_count": 21,
   "metadata": {
    "collapsed": true
   },
   "outputs": [],
   "source": [
    "from collections import Counter"
   ]
  },
  {
   "cell_type": "code",
   "execution_count": 22,
   "metadata": {
    "collapsed": false
   },
   "outputs": [
    {
     "data": {
      "text/plain": [
       "Counter({'D': 234, 'I': 1, 'R': 304})"
      ]
     },
     "execution_count": 22,
     "metadata": {},
     "output_type": "execute_result"
    }
   ],
   "source": [
    "party_counts = Counter(parties.values())\n",
    "party_counts"
   ]
  },
  {
   "cell_type": "markdown",
   "metadata": {},
   "source": [
    "Now let's compute the base distribution over political parties."
   ]
  },
  {
   "cell_type": "code",
   "execution_count": 42,
   "metadata": {
    "collapsed": false
   },
   "outputs": [
    {
     "data": {
      "text/plain": [
       "array([ 0.56400742,  0.43413729,  0.00185529])"
      ]
     },
     "execution_count": 42,
     "metadata": {},
     "output_type": "execute_result"
    }
   ],
   "source": [
    "p_party = np.array(list(party_counts.values()))/sum(party_counts.values())\n",
    "p_party "
   ]
  },
  {
   "cell_type": "markdown",
   "metadata": {},
   "source": [
    "The baseline chance of agreement is the sum of the squares:"
   ]
  },
  {
   "cell_type": "code",
   "execution_count": 46,
   "metadata": {
    "collapsed": false
   },
   "outputs": [
    {
     "data": {
      "text/plain": [
       "0.50658300088461761"
      ]
     },
     "execution_count": 46,
     "metadata": {},
     "output_type": "execute_result"
    }
   ],
   "source": [
    "p_agree = (p_party **2).sum()\n",
    "p_agree"
   ]
  },
  {
   "cell_type": "markdown",
   "metadata": {},
   "source": [
    "**Your turn**: compute the same baseline agreement rate for states."
   ]
  },
  {
   "cell_type": "markdown",
   "metadata": {},
   "source": [
    "## Randomized test\n",
    "\n",
    "Now let's try a shuffle test, to see if these extremely low $p$-values are plausible."
   ]
  },
  {
   "cell_type": "code",
   "execution_count": 29,
   "metadata": {
    "collapsed": true
   },
   "outputs": [],
   "source": [
    "from random import shuffle"
   ]
  },
  {
   "cell_type": "markdown",
   "metadata": {},
   "source": [
    "The node metadata is stored in a dict, `parties`. We're going to make the keys into a list, and repeatedly shuffle that list, thereby shuffling the assignment of parties to nodes in the network."
   ]
  },
  {
   "cell_type": "code",
   "execution_count": 36,
   "metadata": {
    "collapsed": true
   },
   "outputs": [],
   "source": [
    "party_keys = list(parties.keys())"
   ]
  },
  {
   "cell_type": "markdown",
   "metadata": {},
   "source": [
    "Here's how this looks:"
   ]
  },
  {
   "cell_type": "code",
   "execution_count": 37,
   "metadata": {
    "collapsed": false
   },
   "outputs": [
    {
     "name": "stdout",
     "output_type": "stream",
     "text": [
      "['N00002097', 'N00001102', 'N00034746', 'N00024922', 'N00035972']\n",
      "['N00009759', 'N00031647', 'N00036409', 'N00025280', 'N00001813']\n",
      "['N00012942', 'N00007360', 'N00001285', 'N00031877', 'N00033395']\n",
      "['N00033474', 'N00007479', 'N00000743', 'N00033316', 'N00007360']\n",
      "['N00003389', 'N00030829', 'N00027522', 'N00031177', 'N00000270']\n"
     ]
    }
   ],
   "source": [
    "for _ in range(5):\n",
    "    shuffle(party_keys)\n",
    "    print(party_keys[:5])"
   ]
  },
  {
   "cell_type": "markdown",
   "metadata": {},
   "source": [
    "Okay, let's do it. We'll store a list of traces of the mixing matrix, which is the null distribution over the fraction of edges in which both nodes have the same attribute."
   ]
  },
  {
   "cell_type": "code",
   "execution_count": 38,
   "metadata": {
    "collapsed": true
   },
   "outputs": [],
   "source": [
    "traces = []\n",
    "for _ in range(200):\n",
    "    shuffle(party_keys)\n",
    "    nx.set_node_attributes(G_leg,name='party',\n",
    "                           values=\n",
    "                           {party_keys[i]:parties[cid] for i,cid in enumerate(parties.keys())})\n",
    "    traces.append(nx.attribute_mixing_matrix(G_leg,'party').trace())"
   ]
  },
  {
   "cell_type": "code",
   "execution_count": 52,
   "metadata": {
    "collapsed": false
   },
   "outputs": [
    {
     "name": "stdout",
     "output_type": "stream",
     "text": [
      "P(agree) according to shuffle: 0.505405840214\n",
      "P(agree), analytic: 0.506583000885\n"
     ]
    }
   ],
   "source": [
    "print('P(agree) according to shuffle:',np.array(traces).mean())\n",
    "print('P(agree), analytic:',p_agree)"
   ]
  },
  {
   "cell_type": "markdown",
   "metadata": {},
   "source": [
    "Very close! Now let's plot the null distribution."
   ]
  },
  {
   "cell_type": "code",
   "execution_count": 53,
   "metadata": {
    "collapsed": false
   },
   "outputs": [
    {
     "data": {
      "image/png": "[encoded data removed]",
      "text/plain": [
       "<matplotlib.figure.Figure at 0x7f78b2384dd8>"
      ]
     },
     "metadata": {},
     "output_type": "display_data"
    }
   ],
   "source": [
    "max_val = np.histogram(traces)[0].max()\n",
    "plt.hist(traces,alpha=0.3);\n",
    "# observed\n",
    "plt.plot([observed_trace,observed_trace],[0,max_val],'r--',linewidth=3)\n",
    "plt.text(observed_trace,max_val,'observed',color='r')\n",
    "#analytical expectation\n",
    "plt.plot([p_agree,p_agree],[0,max_val],'k--',linewidth=3)\n",
    "plt.text(p_agree,max_val,'expected')\n",
    "plt.axis('tight');"
   ]
  },
  {
   "cell_type": "markdown",
   "metadata": {},
   "source": [
    "**Your turn** Do the same randomized test for states."
   ]
  },
  {
   "cell_type": "markdown",
   "metadata": {},
   "source": [
    "## Party assortativity, controlling for state\n",
    "\n",
    "A potential confound is the state from which each legislator is from. Why is this a confound?\n",
    "\n",
    "- The state might affect the *treatment*: whether two legislators are linked in the network. This is because some contributors focus on specific states.\n",
    "- The state might affect the *outcome*: whether two legislators are from the same party.\n",
    "\n",
    "To control for this, let's compute the same test, using only edges between legislators who are from the same state. We'll do this by iterating over the list of states, and focusing on the subgraph containing only these legislators."
   ]
  },
  {
   "cell_type": "code",
   "execution_count": 125,
   "metadata": {
    "collapsed": true
   },
   "outputs": [],
   "source": [
    "# just in case this got shuffled\n",
    "nx.set_node_attributes(G_leg,name='party',values=parties)"
   ]
  },
  {
   "cell_type": "code",
   "execution_count": 108,
   "metadata": {
    "collapsed": false
   },
   "outputs": [],
   "source": [
    "states = sorted(list(set([office[:2] for office in df['office']])))"
   ]
  },
  {
   "cell_type": "code",
   "execution_count": 110,
   "metadata": {
    "collapsed": false
   },
   "outputs": [
    {
     "name": "stdout",
     "output_type": "stream",
     "text": [
      "['AK', 'AL', 'AR', 'AZ', 'CA', 'CO', 'CT', 'DE', 'FL', 'GA', 'HI', 'IA', 'ID', 'IL', 'IN', 'KS', 'KY', 'LA', 'MA', 'MD', 'ME', 'MI', 'MN', 'MO', 'MS', 'MT', 'NC', 'ND', 'NE', 'NH', 'NJ', 'NM', 'NV', 'NY', 'OH', 'OK', 'OR', 'PA', 'RI', 'SC', 'SD', 'TN', 'TX', 'UT', 'VA', 'VT', 'WA', 'WI', 'WV', 'WY']\n"
     ]
    }
   ],
   "source": [
    "print(states)"
   ]
  },
  {
   "cell_type": "markdown",
   "metadata": {},
   "source": [
    "Here's how we get a subgraph of all nodes in a single state."
   ]
  },
  {
   "cell_type": "code",
   "execution_count": 129,
   "metadata": {
    "collapsed": false
   },
   "outputs": [
    {
     "name": "stdout",
     "output_type": "stream",
     "text": [
      "['N00035346', 'N00002674', 'N00026163', 'N00027848', 'N00002577', 'N00026160', 'N00032416', 'N00032457', 'N00033518', 'N00032243', 'N00035347', 'N00033720', 'N00024871', 'N00030788', 'N00035516', 'N00002593']\n"
     ]
    }
   ],
   "source": [
    "the_locals = [node['cid'] for _,node in df.iterrows() if node['office'][:2] == 'GA']\n",
    "print(the_locals)\n",
    "G_state = G_leg.subgraph(the_locals)"
   ]
  },
  {
   "cell_type": "markdown",
   "metadata": {},
   "source": [
    "Here's the trace of the mixing matrix for that subgraph"
   ]
  },
  {
   "cell_type": "code",
   "execution_count": 131,
   "metadata": {
    "collapsed": false
   },
   "outputs": [
    {
     "data": {
      "text/plain": [
       "0.60824742268041232"
      ]
     },
     "execution_count": 131,
     "metadata": {},
     "output_type": "execute_result"
    }
   ],
   "source": [
    "nx.attribute_mixing_matrix(G_state,'party').trace()"
   ]
  },
  {
   "cell_type": "markdown",
   "metadata": {},
   "source": [
    "Here are the raw counts, which is what we will aggregate when iterating over states"
   ]
  },
  {
   "cell_type": "code",
   "execution_count": 134,
   "metadata": {
    "collapsed": false
   },
   "outputs": [
    {
     "data": {
      "text/plain": [
       "{'D': {'D': 12, 'R': 38}, 'R': {'D': 38, 'R': 106}}"
      ]
     },
     "execution_count": 134,
     "metadata": {},
     "output_type": "execute_result"
    }
   ],
   "source": [
    "nx.attribute_mixing_dict(G_state,'party')"
   ]
  },
  {
   "cell_type": "markdown",
   "metadata": {},
   "source": [
    "Here are some helper functions for keeping track of these counts."
   ]
  },
  {
   "cell_type": "code",
   "execution_count": 153,
   "metadata": {
    "collapsed": true
   },
   "outputs": [],
   "source": [
    "from collections import defaultdict"
   ]
  },
  {
   "cell_type": "code",
   "execution_count": 148,
   "metadata": {
    "collapsed": true
   },
   "outputs": [],
   "source": [
    "get_initial_counts = lambda : defaultdict(lambda : defaultdict(int))\n",
    "def add_counts(counts1,counts2):\n",
    "    for party1,row in counts2.items():\n",
    "        for part2,count in row.items():\n",
    "            counts1[party1][part2] += count\n",
    "    return counts1"
   ]
  },
  {
   "cell_type": "markdown",
   "metadata": {},
   "source": [
    "Here's how they work."
   ]
  },
  {
   "cell_type": "code",
   "execution_count": 152,
   "metadata": {
    "collapsed": false
   },
   "outputs": [
    {
     "name": "stdout",
     "output_type": "stream",
     "text": [
      "{'R': defaultdict(<class 'int'>, {'R': 106, 'D': 38}), 'D': defaultdict(<class 'int'>, {'R': 38, 'D': 12})}\n",
      "{'R': defaultdict(<class 'int'>, {'R': 212, 'D': 76}), 'D': defaultdict(<class 'int'>, {'R': 76, 'D': 24})}\n"
     ]
    }
   ],
   "source": [
    "counts = get_initial_counts()\n",
    "counts = add_counts(counts,nx.attribute_mixing_dict(G_state,'party'))\n",
    "print(dict(counts))\n",
    "counts = add_counts(counts,nx.attribute_mixing_dict(G_state,'party'))\n",
    "print(dict(counts))"
   ]
  },
  {
   "cell_type": "markdown",
   "metadata": {},
   "source": [
    "**Your turn** use these functions to fill in the function below, which should aggregate across states and compute the total mixing counts."
   ]
  },
  {
   "cell_type": "code",
   "execution_count": 154,
   "metadata": {
    "collapsed": true
   },
   "outputs": [],
   "source": [
    "# your code here"
   ]
  },
  {
   "cell_type": "code",
   "execution_count": 157,
   "metadata": {
    "collapsed": false
   },
   "outputs": [],
   "source": [
    "counts = get_state_aggregated_mixing_counts(G_leg,df)"
   ]
  },
  {
   "cell_type": "code",
   "execution_count": 158,
   "metadata": {
    "collapsed": false
   },
   "outputs": [
    {
     "name": "stdout",
     "output_type": "stream",
     "text": [
      "defaultdict(<function <lambda>.<locals>.<lambda> at 0x7f78ad2febf8>, {'R': defaultdict(<class 'int'>, {'R': 1340, 'D': 675}), 'D': defaultdict(<class 'int'>, {'R': 675, 'D': 1396})})\n"
     ]
    }
   ],
   "source": [
    "print(counts)"
   ]
  },
  {
   "cell_type": "markdown",
   "metadata": {},
   "source": [
    "Now we can compute the fraction of edges with the same party"
   ]
  },
  {
   "cell_type": "code",
   "execution_count": 167,
   "metadata": {
    "collapsed": true
   },
   "outputs": [],
   "source": [
    "def get_same_party_edges(counts):\n",
    "    agree = counts['D']['D'] + counts['D']['R']\n",
    "    disagree = counts['D']['R'] + counts['R']['D']\n",
    "    return(agree/(agree+disagree))"
   ]
  },
  {
   "cell_type": "code",
   "execution_count": 168,
   "metadata": {
    "collapsed": false
   },
   "outputs": [
    {
     "name": "stdout",
     "output_type": "stream",
     "text": [
      "0.6053785442852967\n"
     ]
    }
   ],
   "source": [
    "observed_agreements_per_state = get_same_party_edges(counts)\n",
    "print(observed_agreements_per_state)"
   ]
  },
  {
   "cell_type": "markdown",
   "metadata": {},
   "source": [
    "To build the randomized test, we must shuffle only edges within each state."
   ]
  },
  {
   "cell_type": "code",
   "execution_count": 191,
   "metadata": {
    "collapsed": false
   },
   "outputs": [
    {
     "name": "stdout",
     "output_type": "stream",
     "text": [
      "{'D': {'R': 39, 'D': 12}, 'R': {'D': 39, 'R': 104}}\n",
      "{'R': {'R': 110, 'D': 38}, 'D': {'R': 38, 'D': 8}}\n",
      "{'D': {'D': 12, 'R': 40}, 'R': {'D': 40, 'R': 102}}\n"
     ]
    }
   ],
   "source": [
    "state_party_attrs = nx.get_node_attributes(G_state,'party')\n",
    "keys = list(state_party_attrs.keys())\n",
    "values = state_party_attrs.values()\n",
    "for _ in range(3):\n",
    "    shuffle(keys)\n",
    "    nx.set_node_attributes(G_state,name='party',\n",
    "                           values={keys[i]:parties[cid] for i,cid in enumerate(state_party_attrs.keys())})\n",
    "    print(nx.attribute_mixing_dict(G_state,'party'))"
   ]
  },
  {
   "cell_type": "markdown",
   "metadata": {},
   "source": [
    "Let's incorporate this code into a randomized test"
   ]
  },
  {
   "cell_type": "code",
   "execution_count": 223,
   "metadata": {
    "collapsed": false
   },
   "outputs": [
    {
     "name": "stdout",
     "output_type": "stream",
     "text": [
      "AK AL AR AZ CA CO CT DE FL GA HI IA ID IL IN KS KY LA MA MD ME MI MN MO MS MT NC ND NE NH NJ NM NV NY OH OK OR PA RI SC SD TN TX UT VA VT WA WI WV WY "
     ]
    }
   ],
   "source": [
    "N_samples = 200\n",
    "trace_counts = []\n",
    "for i in range(N_samples):\n",
    "    trace_counts.append(get_initial_counts())\n",
    "for state in states:\n",
    "    G_state = G_leg.subgraph([node['cid'] for _,node in df.iterrows() if node['office'][:2]==state])\n",
    "    state_party_attrs = nx.get_node_attributes(G_state,'party')\n",
    "    keys = list(state_party_attrs.keys())\n",
    "    for i in range(N_samples):\n",
    "        shuffle(keys)\n",
    "        nx.set_node_attributes(G_state,name='party',\n",
    "                               values={keys[i]:parties[cid] for i,cid in enumerate(state_party_attrs.keys())})\n",
    "        state_counts = nx.attribute_mixing_dict(G_state,'party')\n",
    "        trace_counts[i] = add_counts(trace_counts[i],state_counts)\n",
    "    print(state,end=' ')"
   ]
  },
  {
   "cell_type": "code",
   "execution_count": 224,
   "metadata": {
    "collapsed": false
   },
   "outputs": [],
   "source": [
    "samples = [get_same_party_edges(trace_count) for trace_count in trace_counts]"
   ]
  },
  {
   "cell_type": "code",
   "execution_count": 225,
   "metadata": {
    "collapsed": false
   },
   "outputs": [
    {
     "name": "stdout",
     "output_type": "stream",
     "text": [
      "0.546826952709\n"
     ]
    }
   ],
   "source": [
    "print(np.array(samples).mean())"
   ]
  },
  {
   "cell_type": "markdown",
   "metadata": {},
   "source": [
    "Not surprisingly, the null distribution is a little higher after controlling for the confound"
   ]
  },
  {
   "cell_type": "code",
   "execution_count": 226,
   "metadata": {
    "collapsed": false
   },
   "outputs": [
    {
     "data": {
      "image/png": "[encoded data removed]",
      "text/plain": [
       "<matplotlib.figure.Figure at 0x7f78b1bfab70>"
      ]
     },
     "metadata": {},
     "output_type": "display_data"
    }
   ],
   "source": [
    "max_val = np.histogram(samples)[0].max()\n",
    "plt.hist(samples,alpha=0.3);\n",
    "# observed\n",
    "plt.plot([observed_agreements_per_state,observed_agreements_per_state],[0,max_val],'r--',linewidth=3)\n",
    "plt.text(observed_agreements_per_state,max_val,'observed',color='r')\n",
    "plt.axis('tight');"
   ]
  },
  {
   "cell_type": "markdown",
   "metadata": {},
   "source": [
    "But even after controlling for the confound of state membership, there's still significant assortativity by political party in the projected network."
   ]
  },
  {
   "cell_type": "markdown",
   "metadata": {},
   "source": [
    "## Hubs and authorities\n",
    "\n",
    "Let's run the \"Hubs and Authorities\" algorithm from the reading on a directed network."
   ]
  },
  {
   "cell_type": "code",
   "execution_count": 236,
   "metadata": {
    "collapsed": true
   },
   "outputs": [],
   "source": [
    "G2 = nx.DiGraph() #directed graph"
   ]
  },
  {
   "cell_type": "code",
   "execution_count": 266,
   "metadata": {
    "collapsed": false
   },
   "outputs": [],
   "source": [
    "for i,j in G.edges():\n",
    "    if i in leg_nodes: #make sure the legislator is the first argument and the contributor is the second argument\n",
    "        G2.add_edge(i,j)\n",
    "    else:\n",
    "        G2.add_edge(j,i)"
   ]
  },
  {
   "cell_type": "code",
   "execution_count": 267,
   "metadata": {
    "collapsed": false
   },
   "outputs": [
    {
     "data": {
      "text/plain": [
       "[('N00003328', 'Biloxi Freezing & Processing'),\n",
       " ('N00003328', 'Tenax Aerospace'),\n",
       " ('N00003328', 'Huntington Ingalls Industries'),\n",
       " ('N00003328', 'Boeing Co'),\n",
       " ('N00003328', 'Votesane PAC')]"
      ]
     },
     "execution_count": 267,
     "metadata": {},
     "output_type": "execute_result"
    }
   ],
   "source": [
    "[_ for _ in G2.edges()][:5]"
   ]
  },
  {
   "cell_type": "code",
   "execution_count": 268,
   "metadata": {
    "collapsed": true
   },
   "outputs": [],
   "source": [
    "h,a = nx.hits(G2)"
   ]
  },
  {
   "cell_type": "code",
   "execution_count": 274,
   "metadata": {
    "collapsed": false
   },
   "outputs": [
    {
     "data": {
      "text/plain": [
       "[('N00003328', 0.0),\n",
       " ('Biloxi Freezing & Processing', 0.00014680144247484865),\n",
       " ('N00013855', 0.0),\n",
       " ('Fannie Mae', 0.00022628729059890232),\n",
       " ('N00025219', 0.0)]"
      ]
     },
     "execution_count": 274,
     "metadata": {},
     "output_type": "execute_result"
    }
   ],
   "source": [
    "list(a.items())[:5]"
   ]
  },
  {
   "cell_type": "markdown",
   "metadata": {},
   "source": [
    "Authorities are contributors, so legislators have zero values.\n",
    "\n",
    "Who are the top contributors, according to this method?"
   ]
  },
  {
   "cell_type": "code",
   "execution_count": 1,
   "metadata": {
    "collapsed": false
   },
   "outputs": [
    {
     "ename": "NameError",
     "evalue": "name 'pd' is not defined",
     "output_type": "error",
     "traceback": [
      "\u001b[0;31m---------------------------------------------------------------------------\u001b[0m",
      "\u001b[0;31mNameError\u001b[0m                                 Traceback (most recent call last)",
      "\u001b[0;32m<ipython-input-1-df0a6e10d948>\u001b[0m in \u001b[0;36m<module>\u001b[0;34m()\u001b[0m\n\u001b[0;32m----> 1\u001b[0;31m contrib_df = pd.DataFrame({'authority':[a[node] for node in contrib_nodes],\n\u001b[0m\u001b[1;32m      2\u001b[0m                                  'name':contrib_nodes})\n",
      "\u001b[0;31mNameError\u001b[0m: name 'pd' is not defined"
     ]
    }
   ],
   "source": [
    "contrib_df = pd.DataFrame({'authority':[a[node] for node in contrib_nodes],\n",
    "                                 'name':contrib_nodes})"
   ]
  },
  {
   "cell_type": "code",
   "execution_count": 301,
   "metadata": {
    "collapsed": false
   },
   "outputs": [
    {
     "data": {
      "text/html": [
       "<div>\n",
       "<style scoped>\n",
       "    .dataframe tbody tr th:only-of-type {\n",
       "        vertical-align: middle;\n",
       "    }\n",
       "\n",
       "    .dataframe tbody tr th {\n",
       "        vertical-align: top;\n",
       "    }\n",
       "\n",
       "    .dataframe thead th {\n",
       "        text-align: right;\n",
       "    }\n",
       "</style>\n",
       "<table border=\"1\" class=\"dataframe\">\n",
       "  <thead>\n",
       "    <tr style=\"text-align: right;\">\n",
       "      <th></th>\n",
       "      <th>authority</th>\n",
       "      <th>name</th>\n",
       "    </tr>\n",
       "  </thead>\n",
       "  <tbody>\n",
       "    <tr>\n",
       "      <th>211</th>\n",
       "      <td>0.025076</td>\n",
       "      <td>American Crystal Sugar</td>\n",
       "    </tr>\n",
       "    <tr>\n",
       "      <th>952</th>\n",
       "      <td>0.023295</td>\n",
       "      <td>Intl Brotherhood of Electrical Workers</td>\n",
       "    </tr>\n",
       "    <tr>\n",
       "      <th>945</th>\n",
       "      <td>0.020308</td>\n",
       "      <td>Carpenters &amp; Joiners Union</td>\n",
       "    </tr>\n",
       "    <tr>\n",
       "      <th>70</th>\n",
       "      <td>0.020183</td>\n",
       "      <td>Blue Cross/Blue Shield</td>\n",
       "    </tr>\n",
       "    <tr>\n",
       "      <th>20</th>\n",
       "      <td>0.020069</td>\n",
       "      <td>American Federation of Teachers</td>\n",
       "    </tr>\n",
       "    <tr>\n",
       "      <th>1077</th>\n",
       "      <td>0.019292</td>\n",
       "      <td>AT&amp;T Inc</td>\n",
       "    </tr>\n",
       "    <tr>\n",
       "      <th>230</th>\n",
       "      <td>0.019276</td>\n",
       "      <td>Boeing Co</td>\n",
       "    </tr>\n",
       "    <tr>\n",
       "      <th>502</th>\n",
       "      <td>0.018680</td>\n",
       "      <td>Machinists/Aerospace Workers Union</td>\n",
       "    </tr>\n",
       "    <tr>\n",
       "      <th>1802</th>\n",
       "      <td>0.014333</td>\n",
       "      <td>Honeywell International</td>\n",
       "    </tr>\n",
       "    <tr>\n",
       "      <th>649</th>\n",
       "      <td>0.012064</td>\n",
       "      <td>Comcast Corp</td>\n",
       "    </tr>\n",
       "  </tbody>\n",
       "</table>\n",
       "</div>"
      ],
      "text/plain": [
       "      authority                                    name\n",
       "211    0.025076                  American Crystal Sugar\n",
       "952    0.023295  Intl Brotherhood of Electrical Workers\n",
       "945    0.020308              Carpenters & Joiners Union\n",
       "70     0.020183                  Blue Cross/Blue Shield\n",
       "20     0.020069         American Federation of Teachers\n",
       "1077   0.019292                                AT&T Inc\n",
       "230    0.019276                               Boeing Co\n",
       "502    0.018680      Machinists/Aerospace Workers Union\n",
       "1802   0.014333                 Honeywell International\n",
       "649    0.012064                            Comcast Corp"
      ]
     },
     "execution_count": 301,
     "metadata": {},
     "output_type": "execute_result"
    }
   ],
   "source": [
    "contrib_df.loc[contrib_df['authority'].argsort()[::-1]][:10]"
   ]
  },
  {
   "cell_type": "markdown",
   "metadata": {},
   "source": [
    "## Spectral clustering\n",
    "\n",
    "Spectral clustering is a technique for clustering data based on a matrix of similarity scores between instances. We can use the adjacency matrix of the graph over legislators.\n",
    "\n",
    "The first step is to compute the normalized Laplacian. We saw the Laplacian in class, $L = D - A$, where $D$ is the diagonal degree matrix."
   ]
  },
  {
   "cell_type": "code",
   "execution_count": 367,
   "metadata": {
    "collapsed": false
   },
   "outputs": [
    {
     "data": {
      "text/plain": [
       "<537x537 sparse matrix of type '<class 'numpy.float64'>'\n",
       "\twith 66423 stored elements in Compressed Sparse Row format>"
      ]
     },
     "execution_count": 367,
     "metadata": {},
     "output_type": "execute_result"
    }
   ],
   "source": [
    "nx.normalized_laplacian_matrix(G_leg)"
   ]
  },
  {
   "cell_type": "code",
   "execution_count": 397,
   "metadata": {
    "collapsed": false
   },
   "outputs": [],
   "source": [
    "# need this for sparse linear algebra\n",
    "from scipy.sparse import linalg"
   ]
  },
  {
   "cell_type": "markdown",
   "metadata": {},
   "source": [
    "The clustering is based on the eigenvector with the second-smallest eigenvalue.\n",
    "\n",
    "`which='SM'` tells the algorithm to return the smallest magnitude eigenvalues."
   ]
  },
  {
   "cell_type": "code",
   "execution_count": 399,
   "metadata": {
    "collapsed": false
   },
   "outputs": [
    {
     "name": "stderr",
     "output_type": "stream",
     "text": [
      "/usr/lib/python3/dist-packages/ipykernel_launcher.py:2: ComplexWarning: Casting complex values to real discards the imaginary part\n",
      "  \n"
     ]
    }
   ],
   "source": [
    "vals, vecs = linalg.eigs(nx.normalized_laplacian_matrix(G_leg),which='SM')\n",
    "vecs = vecs.astype('f')"
   ]
  },
  {
   "cell_type": "code",
   "execution_count": 400,
   "metadata": {
    "collapsed": false
   },
   "outputs": [],
   "source": [
    "node_idxs = list(G_leg.nodes())"
   ]
  },
  {
   "cell_type": "markdown",
   "metadata": {},
   "source": [
    "Let's see if the associated eigenvectors distinguish the legislators by political party."
   ]
  },
  {
   "cell_type": "code",
   "execution_count": 409,
   "metadata": {
    "collapsed": false
   },
   "outputs": [
    {
     "data": {
      "image/png": "[encoded data removed]",
      "text/plain": [
       "<matplotlib.figure.Figure at 0x7f78acfd45f8>"
      ]
     },
     "metadata": {},
     "output_type": "display_data"
    }
   ],
   "source": [
    "for cid in leg_nodes:\n",
    "    leg = get_leg_by_cid(cid)\n",
    "    if leg_attr(leg,'office')[:2] == 'GA' or leg_attr(leg,'office')[:2] == 'NJ':\n",
    "        idx = node_idxs.index(cid)\n",
    "        color = 'g'\n",
    "        if leg_attr(leg,'party') == 'D':\n",
    "            color = 'b'\n",
    "        elif leg_attr(leg,'party') == 'R':\n",
    "            color='r'\n",
    "        plt.scatter(vecs[idx,0],vecs[idx,1],.5,color=color)\n",
    "        plt.text(vecs[idx,0],vecs[idx,1],leg_attr(leg,'firstlast'),color=color)\n",
    "#plt.axis('tight');"
   ]
  },
  {
   "cell_type": "markdown",
   "metadata": {},
   "source": [
    "Not perfect, but pretty good."
   ]
  },
  {
   "cell_type": "markdown",
   "metadata": {},
   "source": [
    "**Your turn**: try some other states and see if it still works."
   ]
  },
  {
   "cell_type": "markdown",
   "metadata": {},
   "source": [
    "**Your turn**: can you see how to make the same sort of figure for the contributors?"
   ]
  }
 ],
 "metadata": {
  "kernelspec": {
   "display_name": "Python 3",
   "language": "python",
   "name": "python3"
  },
  "language_info": {
   "codemirror_mode": {
    "name": "ipython",
    "version": 3
   },
   "file_extension": ".py",
   "mimetype": "text/x-python",
   "name": "python",
   "nbconvert_exporter": "python",
   "pygments_lexer": "ipython3",
   "version": "3.6.3"
  }
 },
 "nbformat": 4,
 "nbformat_minor": 2
}
