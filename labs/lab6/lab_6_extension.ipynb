{
 "cells": [
  {
   "cell_type": "markdown",
   "metadata": {
    "collapsed": true
   },
   "source": [
    "## Lab extension: named entities during natural disaster\n",
    "The dramatic change in social conditions during a natural disaster can result in significant linguistic variation: information shared is at a premium. \n",
    "During a disaster, news coverage often centers on named entities such as location names that are involved in the disaster ([Sarcevic et al. 2010](http://www.ischool.drexel.edu/faculty/aSarcevic/pub/p47-sarcevic.pdf)). \n",
    "Furthermore, if they are able to communicate, the victims of the disaster may provide more specific information about the situation than outside obsevers, including information on specific entities on-the-ground that were affected by the disaster ([Starbird, Muzny, Palen 2012](http://www.iscramlive.org/ISCRAM2012/proceedings/148.pdf)).\n",
    "\n",
    "We pursue two research questions related to named entities in the context of Hurricane Maria, a storm that devastated Puerto Rico in late September 2017.\n",
    "\n",
    "**RQ1**: Is the amount of named entity usage noticeably higher at the height of the disaster as compared to before and after the disaster?\n",
    "\n",
    "**RQ2**: Does the distribution of named entity use change noticeably at the height of the disaster as compared to before and after the disaster?\n",
    "\n",
    "To address this question, we use a dataset of tweets tagged with at least one of the hashtags `#Maria`, `#HurricaneMaria`, and `#PuertoRico` collected from September 18, 2017 through October 4, 2017. For reference, Hurricane Maria made landfall on Puerto Rico on September 20, 2017, left Puerto Rico on September 22, 2017 and dissipated on October 3, 2017. "
   ]
  },
  {
   "cell_type": "markdown",
   "metadata": {},
   "source": [
    "## Load data"
   ]
  },
  {
   "cell_type": "code",
   "execution_count": 226,
   "metadata": {},
   "outputs": [
    {
     "name": "stdout",
     "output_type": "stream",
     "text": [
      "loaded 246783 tweets\n"
     ]
    }
   ],
   "source": [
    "import pandas as pd\n",
    "import os\n",
    "import json\n",
    "import gzip\n",
    "data_dir = 'data/'\n",
    "data_files = [os.path.join(data_dir, f) for f in os.listdir(data_dir) if f.endswith('.gz')]\n",
    "tweet_matrix = [[l.decode('utf-8').strip().split('\\t') for l in gzip.open(f, 'r')] for f in data_files]\n",
    "tweet_df = pd.concat([pd.DataFrame(t[1:], columns=t[0]) for t in tweet_matrix], axis=0)\n",
    "# need to reset index\n",
    "tweet_df.reset_index(inplace=True)\n",
    "print('loaded %d tweets'%(tweet_df.shape[0]))"
   ]
  },
  {
   "cell_type": "markdown",
   "metadata": {},
   "source": [
    "Let's remove hyperlinks, which might get mistagged as entities."
   ]
  },
  {
   "cell_type": "code",
   "execution_count": 227,
   "metadata": {
    "collapsed": true
   },
   "outputs": [],
   "source": [
    "import re\n",
    "# url_matcher = re.compile('https*://[\\w\\s\\./]+|pic.twitter.com/[\\w\\./]+')\n",
    "url_matcher = re.compile('https?://[\\S/\\. ]+|pic.twitter.com/\\S+')\n",
    "tweet_df.loc[:, 'text'] = tweet_df.loc[:, 'text'].apply(lambda x: url_matcher.sub('', x))\n",
    "# also get rid of extra quotes\n",
    "tweet_df.loc[:, 'text'] = tweet_df.loc[:, 'text'].apply(lambda x: x.replace('\"', ''))\n",
    "# get rid of blank tweets\n",
    "tweet_df = tweet_df[tweet_df.loc[:, 'text'] != '']"
   ]
  },
  {
   "cell_type": "markdown",
   "metadata": {},
   "source": [
    "## Detect languages"
   ]
  },
  {
   "cell_type": "markdown",
   "metadata": {},
   "source": [
    "There's probably a lot of Spanish in here, but that actually isn't a bad thing because the hypotheses can still apply regardless of language and I think the Stanford NER tagger for Spanish isn't terrible."
   ]
  },
  {
   "cell_type": "code",
   "execution_count": 228,
   "metadata": {},
   "outputs": [
    {
     "name": "stdout",
     "output_type": "stream",
     "text": [
      "en    184979\n",
      "es     34483\n",
      "it     13203\n",
      "fr      4130\n",
      "pt      1102\n",
      "Name: text, dtype: int64\n"
     ]
    }
   ],
   "source": [
    "from langid import classify\n",
    "tweet_lang_list = tweet_df.loc[:, 'text'].apply(lambda x: classify(x)[0])\n",
    "tweet_df.loc[:, 'lang'] = tweet_lang_list\n",
    "tweet_lang_counts = tweet_lang_list.value_counts().sort_values(inplace=False, ascending=False)\n",
    "print(tweet_lang_counts.head())"
   ]
  },
  {
   "cell_type": "markdown",
   "metadata": {},
   "source": [
    "To stay sane, we will focus on just the English and Spanish tweets."
   ]
  },
  {
   "cell_type": "code",
   "execution_count": 229,
   "metadata": {
    "collapsed": true
   },
   "outputs": [],
   "source": [
    "valid_langs = ['en', 'es']\n",
    "tweet_df_valid = tweet_df[tweet_df.loc[:, 'lang'].isin(valid_langs)]"
   ]
  },
  {
   "cell_type": "markdown",
   "metadata": {},
   "source": [
    "Write clean text to file for named entity recognition."
   ]
  },
  {
   "cell_type": "code",
   "execution_count": 235,
   "metadata": {
    "collapsed": true
   },
   "outputs": [],
   "source": [
    "from itertools import izip\n",
    "import codecs\n",
    "def write_txt_to_file(txt_series, file_name):\n",
    "    \"\"\"\n",
    "    Write each line of text and its index to file.\n",
    "    \n",
    "    Parameters:\n",
    "    -----------\n",
    "    txt_series : pandas.Series\n",
    "    file_name : str\n",
    "    \"\"\"\n",
    "    N = txt_series.index.max()\n",
    "    txt_series.sort_index(inplace=True)\n",
    "    with codecs.open(file_name, 'w') as file_output:\n",
    "        for i, l in izip(txt_series.index, txt_series):\n",
    "            # need to include index to original dataframe\n",
    "            l_clean = l.encode('utf-8').replace('\\n', '')\n",
    "            file_output.write('INDEX%d\\t%s'%(i, l_clean))\n",
    "            # add line break for every line except the last\n",
    "            if(i < N):\n",
    "                file_output.write('\\n')"
   ]
  },
  {
   "cell_type": "code",
   "execution_count": 236,
   "metadata": {},
   "outputs": [],
   "source": [
    "valid_langs = ['en', 'es']\n",
    "for lang in valid_langs:\n",
    "    tweet_df_lang = tweet_df[tweet_df.loc[:, 'lang'] == lang].loc[:, 'text']\n",
    "    clean_txt_file = 'data/tweet_text_%s.txt'%(lang)\n",
    "    write_txt_to_file(tweet_df_lang, clean_txt_file)"
   ]
  },
  {
   "cell_type": "markdown",
   "metadata": {},
   "source": [
    "## Tag named entities"
   ]
  },
  {
   "cell_type": "markdown",
   "metadata": {},
   "source": [
    "To tag named entities in English, we use the model developed by [Ritter et al. (2011)](https://aclanthology.info/pdf/D/D11/D11-1141.pdf), available for download [here](https://github.com/aritter/twitter_nlp).\n",
    "\n",
    "To tag named entities in Spanish, we use the model developed as part of Stanford's CoreNLP package [here](http://nlp.stanford.edu/software/stanford-spanish-corenlp-2017-06-09-models.jar)."
   ]
  },
  {
   "cell_type": "markdown",
   "metadata": {},
   "source": [
    "Outside of the notebook: \n",
    "- We run tag_english_txt.sh for the English data:\n",
    "\n",
    "`bash tag_english_txt.sh`\n",
    "- We run tag_spanish_txt.sh for the Spanish data (setup help [here](https://stackoverflow.com/questions/34037094/setting-nltk-with-stanford-nlp-both-stanfordnertagger-and-stanfordpostagger-fo)):\n",
    "\n",
    "`bash tag_spanish_txt.sh`."
   ]
  },
  {
   "cell_type": "markdown",
   "metadata": {},
   "source": [
    "Let's check the results from both."
   ]
  },
  {
   "cell_type": "code",
   "execution_count": 243,
   "metadata": {
    "collapsed": true
   },
   "outputs": [],
   "source": [
    "tweet_txt_tagged_en_file = 'data/tweet_text_en_ner.txt'\n",
    "tweet_txt_tagged_es_file = 'data/tweet_text_es_ner.txt'\n",
    "tweet_txt_tagged_en = [l.strip() for l in open(tweet_txt_tagged_en_file, 'r')]\n",
    "tweet_txt_tagged_es = [l.strip() for l in open(tweet_txt_tagged_es_file, 'r')]"
   ]
  },
  {
   "cell_type": "markdown",
   "metadata": {},
   "source": [
    "We need to clean these up a bit because of how we formatted the files."
   ]
  },
  {
   "cell_type": "code",
   "execution_count": 241,
   "metadata": {
    "collapsed": true
   },
   "outputs": [],
   "source": [
    "# need to clean up the tags\n",
    "# because there were some spaces inserted randomly\n",
    "def clean_txt(txt_lines):\n",
    "    \"\"\"\n",
    "    Clean the irregular spacing in text lines by\n",
    "    using the index markers as line anchors.\n",
    "    \n",
    "    Parameters:\n",
    "    -----------\n",
    "    txt_lines : [str]\n",
    "    \n",
    "    Returns:\n",
    "    --------\n",
    "    fixed_txt : [str]\n",
    "    \"\"\"\n",
    "    curr_txt = ''\n",
    "    fixed_txt = []\n",
    "    index_matcher = re.compile('(?<=INDEX)[0-9]+')\n",
    "    for l in txt_lines:\n",
    "        l = l.replace('\\t', ' ')\n",
    "        for t in l.split(' '):\n",
    "            index_match = index_matcher.findall(t)\n",
    "            if(len(index_match) > 0):\n",
    "                index_match = index_match[0]\n",
    "                if(curr_txt != ''):\n",
    "                    fixed_txt.append(curr_txt)\n",
    "                    curr_txt = index_match + '\\t'\n",
    "                else:\n",
    "                    curr_txt = index_match + '\\t'\n",
    "            else:\n",
    "                curr_txt += t + ' '\n",
    "    # cleanup\n",
    "    fixed_txt.append(curr_txt)\n",
    "    return fixed_txt"
   ]
  },
  {
   "cell_type": "code",
   "execution_count": 244,
   "metadata": {
    "collapsed": true
   },
   "outputs": [],
   "source": [
    "tweet_txt_tagged_en = clean_txt(tweet_txt_tagged_en)\n",
    "tweet_txt_tagged_es = clean_txt(tweet_txt_tagged_es)"
   ]
  },
  {
   "cell_type": "markdown",
   "metadata": {},
   "source": [
    "Let's check the tagged entities to make sure that they make sense."
   ]
  },
  {
   "cell_type": "markdown",
   "metadata": {},
   "source": [
    "**English tags:**"
   ]
  },
  {
   "cell_type": "code",
   "execution_count": 245,
   "metadata": {},
   "outputs": [
    {
     "name": "stdout",
     "output_type": "stream",
     "text": [
      "1\t#HurricaneMaria/O was/O Category/O ONE/O less/O than/O 18/O hours/O ago/O .../O @KRLD/O \n",
      "4\tWill/O be/O a/O close/O call/O ,/O but/O some/O models/O take/O #Maria/O far/O enough/O north/O for/O the/O eyewall/O to/O miss/B-ENTITY Puerto/I-ENTITY Rico/I-ENTITY ./O \n",
      "6\t#Maria/B-ENTITY is/O now/O a/O Category/O 5/O with/O sustained/O winds/O of/O 160mph/O ./O Wow/O ./O \n",
      "7\t*/O #CARIBBEAN/O :/O MAJOR/B-ENTITY HURRICANE/I-ENTITY #MARIA/O -/O ALERT/B-ENTITY :/O #Dominica/O #Guadeloupe/O #Montserrat/B-ENTITY :/O Maria/B-ENTITY is/O now/O a/O .../O \n",
      "9\t#HurricaneMaria/O Category/O 5/O \n",
      "10\tDBS/B-ENTITY Radio/I-ENTITY plays/O religious/O music/O and/O talks/O over/O it/O .../O announcer/O just/O declared/O the/O sea/O was/O angry/O ./O #HurricaneMaria/O \n",
      "11\tJUST/O IN/O :/O Hurricane/O hunters/O flying/O through/O #Maria/O find/O sustained/O winds/O of/O 160/O mph/O ;/O the/O storm/O is/O now/O a/O Category/O 5/O \n",
      "12\tTrending/O now/O in/O LATAM/O :/O #NadieSeImaginaQ/O :/O #PERUMIN33/O :/O #PuertoRico/O :/O #SiVotamosGanamos/O \n",
      "13\t#Maria/O is/O now/O a/O Cat/O 5/O hurricane/O with/O sustained/O winds/O at/O 160/O mph/O ./O #tropics/O \n",
      "14\tWith/O a/O pressure/O down/O to/O 929mb/O too/O ./O My/O goodness/O ./O Was/O estimated/O at/O 977mb/O at/O 5:00/O am/O ./O So/O a/O deepening/O of/O 48mb/O in/O 15/O hours/O !/O #Maria/O \n"
     ]
    }
   ],
   "source": [
    "print('\\n'.join(tweet_txt_tagged_en[:10]))"
   ]
  },
  {
   "cell_type": "markdown",
   "metadata": {},
   "source": [
    "These are generally good!\n",
    "\n",
    "- (4) `Puerto Rico` => `ENTITY`\n",
    "- (7) `Maria` => `ENTITY`\n",
    "- (10) `DBS Radio` => `ENTITY`"
   ]
  },
  {
   "cell_type": "markdown",
   "metadata": {},
   "source": [
    "**Spanish tags:**"
   ]
  },
  {
   "cell_type": "code",
   "execution_count": 248,
   "metadata": {},
   "outputs": [
    {
     "name": "stdout",
     "output_type": "stream",
     "text": [
      "0\t#URGENTE/O -/O HURACÁN/O #MARIA/O :/O Se/O dirige/O ahora/O a/O las/O islas/O Dominica/PERS y/O tiene/O vientos/O sostenidos/O de/O 257/O km/h/O ./O \n",
      "2\tLa/O probabilidad/O de/O que/O #María/O no/O nos/O parta/O tiene/O una/O correlación/O proporcional/O e/O inversa/O a/O la/O llegada/O de/O la/O Estadidad/LUG ./O #TweetSerio/O \n",
      "16\tEl/O huracán/O Maria/PERS nos/O va/O a/O partir/O como/O crayola/O de/O kinder/O .../O #PrayForPuertoRico/O #PuertoRico/O #HuracanMaria/O #pauti/O @SOYJOSHUAPAUTA/O \n",
      "25\tCon/O vientos/O sostenidos/O de/O 160mph/ORG ,/O #Maria/O se/O convierte/O en/O huracán/O categoría/O 5/O ./O \n",
      "29\tMe/O tinca/O que/O mañana/O comenzarán/O las/O transmisiones/O en/O cadena/O nacional/O del/O huracán/O #Maria/O \n",
      "30\ta/O las/O 1900h/O #Maria/O es/O ahora/O categoria/O 5/O \n",
      "37\t@COE_RD/O ordena/O evacuaciones/O preventivas/O a/O partir/O de/O mañana/O por/O huracán/O #María/O \n",
      "40\t#URGENTE/O HURACÁN/O #MARIA/O :/O El/O Pdte/ORG Trump/ORG declara/O Estado/ORG de/O Emergencia/OTROS para/O Puerto/LUG Rico/LUG ./O \n",
      "53\t#CoberturaEspecial/O :/O Mira/O cómo/O se/O forma/O un/O huracán/O ;/O te/O quedarás/O con/O la/O boca/O abierta/O -LRB-/O National/ORG Geographic/ORG -RRB-/ORG \n",
      "58\tCatalogan/ORG como/O peligroso/O al/O huracán/O #María/O ./O \n"
     ]
    }
   ],
   "source": [
    "print('\\n'.join(tweet_txt_tagged_es_fixed[:10]))"
   ]
  },
  {
   "cell_type": "markdown",
   "metadata": {},
   "source": [
    "Some of these are pretty good!\n",
    "\n",
    "- (2) `Estadidad` => `LUG` (lugar = \"location\")\n",
    "- (16) `Maria` => `PERS`\n",
    "- (40) `Pdte Trump` => `ORG`\n",
    "- (53) `National Geographic` => `ORG`\n",
    "\n",
    "Some are also pretty bad!\n",
    "\n",
    "- (25) `160mph` => `ORG`\n",
    "- (58) `huracán #Maria` => `O`"
   ]
  },
  {
   "cell_type": "markdown",
   "metadata": {},
   "source": [
    "It seems like the good outweighs the bad, so let's include Spanish too."
   ]
  },
  {
   "cell_type": "code",
   "execution_count": 255,
   "metadata": {},
   "outputs": [],
   "source": [
    "tweet_txt_tagged_en_series = pd.Series(dict(t.split('\\t') for t in tweet_txt_tagged_en))\n",
    "tweet_txt_tagged_es_series = pd.Series(dict(t.split('\\t') for t in tweet_txt_tagged_es))"
   ]
  },
  {
   "cell_type": "code",
   "execution_count": 256,
   "metadata": {},
   "outputs": [
    {
     "name": "stdout",
     "output_type": "stream",
     "text": [
      "0    #URGENTE/O -/O HURACÁN/O #MARIA/O :/O Se/O dir...\n",
      "1    #HurricaneMaria/O was/O Category/O ONE/O less/...\n",
      "2    La/O probabilidad/O de/O que/O #María/O no/O n...\n",
      "4    Will/O be/O a/O close/O call/O ,/O but/O some/...\n",
      "6    #Maria/B-ENTITY is/O now/O a/O Category/O 5/O ...\n",
      "dtype: object\n"
     ]
    }
   ],
   "source": [
    "tweet_txt_tagged_series = pd.concat([tweet_txt_tagged_en_series, tweet_txt_tagged_es_series], axis=0)\n",
    "tweet_txt_tagged_series.index = map(int, tweet_txt_tagged_series.index)\n",
    "tweet_txt_tagged_series = tweet_txt_tagged_series.sort_index()\n",
    "print(tweet_txt_tagged_series.head())"
   ]
  },
  {
   "cell_type": "markdown",
   "metadata": {},
   "source": [
    "Recombine with original data frame."
   ]
  },
  {
   "cell_type": "code",
   "execution_count": 258,
   "metadata": {},
   "outputs": [],
   "source": [
    "tweet_df_valid = tweet_df_valid.assign(text_tagged=tweet_txt_tagged_series)"
   ]
  },
  {
   "cell_type": "code",
   "execution_count": 259,
   "metadata": {},
   "outputs": [],
   "source": [
    "# save to file because paranoia\n",
    "tweet_df_valid.to_csv('data/tweet_df_valid.tsv',encoding='utf-8', sep='\\t')"
   ]
  },
  {
   "cell_type": "code",
   "execution_count": 1,
   "metadata": {
    "collapsed": true
   },
   "outputs": [],
   "source": [
    "# reloading because dead kernel\n",
    "import pandas as pd\n",
    "tweet_df_valid = pd.read_csv('data/tweet_df_valid.tsv',encoding='utf-8', sep='\\t', index_col=0)"
   ]
  },
  {
   "cell_type": "markdown",
   "metadata": {},
   "source": [
    "## Collect and count named entities\n",
    "It will be easier to count the entities if we convert everything to a DTM."
   ]
  },
  {
   "cell_type": "code",
   "execution_count": 2,
   "metadata": {},
   "outputs": [],
   "source": [
    "def collect_entities_from_txt(txt):\n",
    "    \"\"\"\n",
    "    Collect entity strings from text. NOTE: we assume\n",
    "    that all adjacent strings tagged as \"ENTITY\" form\n",
    "    part of the same entity, which is obviously not true\n",
    "    for some cases, e.g., \"the hurricane hit Puerto/ENT Rico/ENT, Guadelupe/ENT...\"\n",
    "    \n",
    "    Parameters\n",
    "    ----------\n",
    "    txt : str\n",
    "    \n",
    "    Returns:\n",
    "    --------\n",
    "    entity_list : list\n",
    "    \"\"\"\n",
    "    tokens = txt.strip().split(' ')\n",
    "    entity_list = []\n",
    "    entity_str = []\n",
    "    outside_tag = 'O'\n",
    "    for t in tokens:\n",
    "        # split into text and tag\n",
    "        t_pieces = t.split('/')\n",
    "        t_txt = '/'.join(t_pieces[:-1])\n",
    "        t_tag = t_pieces[-1]\n",
    "        # build up entity string\n",
    "        if(t_tag != outside_tag):\n",
    "            entity_str.append(t_txt)\n",
    "        # store and reset entity string\n",
    "        elif(len(entity_str) > 0):\n",
    "            entity_list.append('_'.join(entity_str))\n",
    "            entity_str = []\n",
    "    return entity_list"
   ]
  },
  {
   "cell_type": "code",
   "execution_count": 3,
   "metadata": {},
   "outputs": [
    {
     "name": "stdout",
     "output_type": "stream",
     "text": [
      "['Pdte_Trump', 'Estado', 'Emergencia', 'Puerto_Rico']\n"
     ]
    }
   ],
   "source": [
    "test_str = \"\"\"\n",
    "#URGENTE/O HURACÁN/O #MARIA/O :/O El/O Pdte/ORG Trump/ORG declara/O Estado/ORG de/O Emergencia/OTROS para/O Puerto/LUG Rico/LUG ./O \n",
    "\"\"\"\n",
    "entity_list = collect_entities_from_txt(test_str)\n",
    "print(entity_list)"
   ]
  },
  {
   "cell_type": "markdown",
   "metadata": {},
   "source": [
    "Works great! Let's apply it to the whole dataset."
   ]
  },
  {
   "cell_type": "code",
   "execution_count": 4,
   "metadata": {},
   "outputs": [],
   "source": [
    "tweet_data_entity_lists = tweet_df_valid.loc[:, 'text_tagged'].apply(lambda x: collect_entities_from_txt(x))"
   ]
  },
  {
   "cell_type": "markdown",
   "metadata": {},
   "source": [
    "**Sanity check**\n",
    "\n",
    "Let's look at most popular named entities."
   ]
  },
  {
   "cell_type": "code",
   "execution_count": 7,
   "metadata": {},
   "outputs": [
    {
     "name": "stdout",
     "output_type": "stream",
     "text": [
      "[(u'Puerto_Rico', 16554), (u'Trump', 6647), (u'Maria', 2563), (u'PR', 2444), (u'San_Juan', 1980), (u'Jones_Act', 1246), (u'Dominica', 1239), (u'America', 1155), (u'#Dominica', 1142), (u'Hurricane_Maria', 1054)]\n"
     ]
    }
   ],
   "source": [
    "from collections import Counter\n",
    "tweet_data_entity_counts = Counter(reduce(lambda x,y: x+y, tweet_data_entity_lists))\n",
    "top_k = 10\n",
    "print(tweet_data_entity_counts.most_common(top_k))"
   ]
  },
  {
   "cell_type": "markdown",
   "metadata": {
    "collapsed": true
   },
   "source": [
    "These all make sense! \n",
    "\n",
    "It looks like hashtags can be counted as entities (`#Dominica`). As long as those are mostly locations then I don't think it will be a huge problem."
   ]
  },
  {
   "cell_type": "markdown",
   "metadata": {},
   "source": [
    "**DTM**\n",
    "\n",
    "Now let's convert it to a DTM for more efficient processing."
   ]
  },
  {
   "cell_type": "code",
   "execution_count": 9,
   "metadata": {
    "collapsed": true
   },
   "outputs": [],
   "source": [
    "from sklearn.feature_extraction.text import CountVectorizer\n",
    "tweet_data_entity_lists_joined = map(lambda x: ' '.join(x), tweet_data_entity_lists)\n",
    "# custom token pattern includes hashtags\n",
    "token_pattern = '\\S+'\n",
    "cv = CountVectorizer(min_df=1, lowercase=False, strip_accents=None, token_pattern=token_pattern)\n",
    "entity_dtm = cv.fit_transform(tweet_data_entity_lists_joined)"
   ]
  },
  {
   "cell_type": "code",
   "execution_count": 10,
   "metadata": {},
   "outputs": [
    {
     "name": "stdout",
     "output_type": "stream",
     "text": [
      "[u'Puerto_Rico', u'Trump', u'Maria', u'PR', u'San_Juan', u'Jones_Act', u'Dominica', u'America', u'#Dominica', u'Hurricane_Maria']\n"
     ]
    }
   ],
   "source": [
    "# check for top counts again\n",
    "entity_dtm_sum = entity_dtm.sum(axis=0)\n",
    "ivoc = {v : k for k,v in cv.vocabulary_.iteritems()}\n",
    "top_k_entities = [ivoc[idx] for idx in pd.np.array(entity_dtm_sum.argsort())[0][::-1][:top_k]]\n",
    "print(top_k_entities)"
   ]
  },
  {
   "cell_type": "markdown",
   "metadata": {},
   "source": [
    "Top counts match between Counter and matrix sum! We're good to go."
   ]
  },
  {
   "cell_type": "markdown",
   "metadata": {},
   "source": [
    "## Compute entities per tweet\n",
    "To get our entity tweet counts to address **RQ1**, we should compute the following statistics:\n",
    "\n",
    "- entities per tweet ($E$)\n",
    "- entities per tweet, normalized by word count ($E_{norm}$)\n",
    "- unique entities per tweet ($E^{U}$)\n",
    "- unique entities per tweet, normalized by word count ($E^{U}_{norm}$)\n",
    "\n",
    "The normalized statistics will control for the possibility that longer tweets mention more entities, and the unique statistics will help with the diversity question."
   ]
  },
  {
   "cell_type": "code",
   "execution_count": 74,
   "metadata": {},
   "outputs": [],
   "source": [
    "from __future__ import division\n",
    "from nltk.tokenize.casual import TweetTokenizer\n",
    "tokenizer = TweetTokenizer()\n",
    "words_per_tweet = tweet_df_valid.loc[:, 'text'].apply(lambda x: len(tokenizer.tokenize(x)))\n",
    "# some tweets have zero characters \n",
    "entities_per_tweet = pd.np.array(entity_dtm.sum(axis=1))[:, 0]\n",
    "entities_per_tweet_norm = entities_per_tweet / words_per_tweet.values"
   ]
  },
  {
   "cell_type": "markdown",
   "metadata": {},
   "source": [
    "To get the unique counts, we convert the DTM to a binary matrix (if count greater than 1 => convert to 1)."
   ]
  },
  {
   "cell_type": "code",
   "execution_count": 76,
   "metadata": {},
   "outputs": [],
   "source": [
    "import scipy as sp\n",
    "entity_dtm_dummy = sp.sparse.coo_matrix(entity_dtm, dtype=int)\n",
    "entity_dtm_dummy.data[:] = 1\n",
    "entity_dtm_binary = entity_dtm.minimum(entity_dtm_dummy)"
   ]
  },
  {
   "cell_type": "code",
   "execution_count": 77,
   "metadata": {
    "collapsed": true
   },
   "outputs": [],
   "source": [
    "unique_entities_per_tweet = pd.np.array(entity_dtm_binary.sum(axis=1))[:, 0]\n",
    "unique_entities_per_tweet_norm = unique_entities_per_tweet / words_per_tweet.values"
   ]
  },
  {
   "cell_type": "markdown",
   "metadata": {},
   "source": [
    "Now let's add everything to the dataframe!"
   ]
  },
  {
   "cell_type": "code",
   "execution_count": 89,
   "metadata": {},
   "outputs": [],
   "source": [
    "tweet_df_valid = tweet_df_valid.assign(entities_per_tweet=entities_per_tweet)\n",
    "tweet_df_valid = tweet_df_valid.assign(entities_per_tweet_norm=entities_per_tweet_norm)\n",
    "tweet_df_valid = tweet_df_valid.assign(unique_entities_per_tweet=unique_entities_per_tweet)\n",
    "tweet_df_valid = tweet_df_valid.assign(unique_entities_per_tweet_norm=unique_entities_per_tweet_norm)"
   ]
  },
  {
   "cell_type": "code",
   "execution_count": 86,
   "metadata": {},
   "outputs": [],
   "source": [
    "# correct for nan/inf values\n",
    "tweet_df_valid.fillna(0, inplace=True)\n",
    "tweet_df_valid.replace(pd.np.inf, 0, inplace=True)"
   ]
  },
  {
   "cell_type": "code",
   "execution_count": 94,
   "metadata": {},
   "outputs": [],
   "source": [
    "# save to file again because of paranoia\n",
    "tweet_df_valid.to_csv('data/tweet_df_valid.tsv', sep='\\t', encoding='utf-8', index=False, index_label='index')"
   ]
  },
  {
   "cell_type": "markdown",
   "metadata": {},
   "source": [
    "Sanity check: are these values correlated? If we plot them on a grid, we can find out."
   ]
  },
  {
   "cell_type": "code",
   "execution_count": 91,
   "metadata": {},
   "outputs": [
    {
     "data": {
      "image/png": "[encoded data removed]",
      "text/plain": [
       "<matplotlib.figure.Figure at 0x7f52b171d510>"
      ]
     },
     "metadata": {},
     "output_type": "display_data"
    }
   ],
   "source": [
    "import matplotlib\n",
    "%matplotlib inline\n",
    "import matplotlib.pyplot as plt\n",
    "import seaborn as sns\n",
    "entity_cols = ['entities_per_tweet', 'entities_per_tweet_norm', 'unique_entities_per_tweet', 'unique_entities_per_tweet_norm']\n",
    "sns.pairplot(tweet_df_valid.loc[:, entity_cols])\n",
    "plt.show()"
   ]
  },
  {
   "cell_type": "markdown",
   "metadata": {},
   "source": [
    "**Univariate**: These distributions have a heavy left-tail, since most tweets do not contain an entity mention.\n",
    "\n",
    "**Multivariate**: As expected, the entities per tweet and unique entities per tweet are highly correlated. Same with normed entities per tweet and normed unique entities per tweet."
   ]
  },
  {
   "cell_type": "markdown",
   "metadata": {},
   "source": [
    "## Visualize time series\n",
    "What does the overall time series for entities per hour look like?\n",
    "\n",
    "We'll need to round all the dates down to the nearest hour, then compute the aggregate means for entities per tweet."
   ]
  },
  {
   "cell_type": "code",
   "execution_count": 99,
   "metadata": {},
   "outputs": [
    {
     "name": "stdout",
     "output_type": "stream",
     "text": [
      "2017-09-18 19:59\n"
     ]
    }
   ],
   "source": [
    "print(tweet_df_valid.loc[:, 'date'].values[0])"
   ]
  },
  {
   "cell_type": "code",
   "execution_count": 100,
   "metadata": {
    "collapsed": true
   },
   "outputs": [],
   "source": [
    "from datetime import datetime\n",
    "date_fmt = '%Y-%m-%d %H:%M'\n",
    "tweet_df_valid = tweet_df_valid.assign(date_datetime=tweet_df_valid.loc[:, 'date'].apply(lambda x: datetime.strptime(x, date_fmt)))"
   ]
  },
  {
   "cell_type": "code",
   "execution_count": 108,
   "metadata": {},
   "outputs": [],
   "source": [
    "tweet_df_valid = tweet_df_valid.assign(date_hour=tweet_df_valid.loc[:, 'date_datetime'].apply(lambda x: datetime(*x.timetuple()[:4])))"
   ]
  },
  {
   "cell_type": "code",
   "execution_count": 109,
   "metadata": {},
   "outputs": [],
   "source": [
    "mean_entities_per_hour = tweet_df_valid.groupby('date_hour').apply(lambda x: x.loc[:, 'entities_per_tweet'].mean())"
   ]
  },
  {
   "cell_type": "code",
   "execution_count": 112,
   "metadata": {},
   "outputs": [
    {
     "data": {
      "image/png": "[encoded data removed]",
      "text/plain": [
       "<matplotlib.figure.Figure at 0x7f52b1333990>"
      ]
     },
     "metadata": {},
     "output_type": "display_data"
    }
   ],
   "source": [
    "# plot time series\n",
    "date_min = tweet_df_valid.loc[:, 'date_datetime'].min()\n",
    "date_max = tweet_df_valid.loc[:, 'date_datetime'].max()\n",
    "plt.figure(figsize=(10,5))\n",
    "plt.scatter(mean_entities_per_hour.index, mean_entities_per_hour)\n",
    "plt.xlim((date_min, date_max))\n",
    "plt.xlabel('Hour')\n",
    "plt.ylabel('Entities per tweet')\n",
    "plt.show()"
   ]
  },
  {
   "cell_type": "markdown",
   "metadata": {},
   "source": [
    "OK! So it looks like the entities per tweet ratio actually fell during and after the hurricane. Does this hold for all measures of entity frequency?"
   ]
  },
  {
   "cell_type": "code",
   "execution_count": 118,
   "metadata": {},
   "outputs": [
    {
     "data": {
      "image/png": "[encoded data removed]",
      "text/plain": [
       "<matplotlib.figure.Figure at 0x7f52b138d050>"
      ]
     },
     "metadata": {},
     "output_type": "display_data"
    }
   ],
   "source": [
    "from math import ceil\n",
    "cols = 2\n",
    "rows = int(ceil(len(entity_cols) / cols))\n",
    "fig, axs = plt.subplots(rows, cols, figsize=(6*cols, 4*rows))\n",
    "for i, entity_col in enumerate(entity_cols):\n",
    "    mean_entities_per_hour = tweet_df_valid.groupby('date_hour').apply(lambda x: x.loc[:, entity_col].mean())\n",
    "    r = int(i / cols)\n",
    "    c = i % cols\n",
    "    ax = axs[r, c]\n",
    "    ax.scatter(mean_entities_per_hour.index, mean_entities_per_hour)\n",
    "    ax.set_xlim((date_min, date_max))\n",
    "    ax.set_xlabel('Hour')\n",
    "    ax.set_ylabel(entity_col)\n",
    "plt.tight_layout()\n",
    "plt.show()"
   ]
  },
  {
   "cell_type": "markdown",
   "metadata": {},
   "source": [
    "All the entity statistics follow basically the same trend, so let's stick with $E$ (entities per tweet) as our metric to test."
   ]
  },
  {
   "cell_type": "markdown",
   "metadata": {},
   "source": [
    "## Test RQ1\n",
    "We can formalize RQ1 as a two-part hypothesis test to compare during-hurricane vs. before-hurricane (period B) and during-hurricane vs. after-hurricane (period A).\n",
    "\n",
    "$H_{0,B}$: The average number of entities per tweet before the hurricane is roughly the same as the average number of entities per tweet during the hurricane.\n",
    "\n",
    "$H_{1,B}$: The average number of entities per tweet before the hurricane is lower than the average number of entities per tweet during the hurricane.\n",
    "\n",
    "$H_{0,A}$: The average number of entities per tweet after the hurricane is roughly the same as the average number of entities per tweet during the hurricane.\n",
    "\n",
    "$H_{1,A}$: The average number of entities per tweet after the hurricane is lower than the average number of entities per tweet during the hurricane."
   ]
  },
  {
   "cell_type": "markdown",
   "metadata": {},
   "source": [
    "First we'll need to define what we mean by \"before\" and \"after\": we set the end of \"before\" as the date of landfall on Puerto Rico (9/20/17) and the beginning of \"after\" as the date of leaving Puerto Rico (9/22/17)."
   ]
  },
  {
   "cell_type": "code",
   "execution_count": 122,
   "metadata": {
    "collapsed": true
   },
   "outputs": [],
   "source": [
    "hurricane_start_date = datetime.strptime('2017-09-20 06:00', '%Y-%m-%d %H:%M')\n",
    "hurricane_end_date = datetime.strptime('2017-09-22 12:00', '%Y-%m-%d %H:%M')"
   ]
  },
  {
   "cell_type": "code",
   "execution_count": 124,
   "metadata": {},
   "outputs": [
    {
     "name": "stdout",
     "output_type": "stream",
     "text": [
      "23158 tweets before landfall\n",
      "38247 tweets during landfall\n",
      "158078 tweets after landfall\n"
     ]
    }
   ],
   "source": [
    "before_data = tweet_df_valid[tweet_df_valid.loc[:, 'date_datetime'] < hurricane_start_date]\n",
    "during_data = tweet_df_valid[(tweet_df_valid.loc[:, 'date_datetime'] >= hurricane_start_date) &\n",
    "                             (tweet_df_valid.loc[:, 'date_datetime'] <= hurricane_end_date)]\n",
    "after_data = tweet_df_valid[tweet_df_valid.loc[:, 'date_datetime'] >= hurricane_end_date]\n",
    "print('%d tweets before landfall'%(before_data.shape[0]))\n",
    "print('%d tweets during landfall'%(during_data.shape[0]))\n",
    "print('%d tweets after landfall'%(after_data.shape[0]))"
   ]
  },
  {
   "cell_type": "markdown",
   "metadata": {},
   "source": [
    "Let's look at the data in box plot form."
   ]
  },
  {
   "cell_type": "code",
   "execution_count": 132,
   "metadata": {},
   "outputs": [
    {
     "data": {
      "image/png": "[encoded data removed]",
      "text/plain": [
       "<matplotlib.figure.Figure at 0x7f52b12a2a90>"
      ]
     },
     "metadata": {},
     "output_type": "display_data"
    }
   ],
   "source": [
    "entity_col = 'entities_per_tweet'\n",
    "time_data_list = [before_data, during_data, after_data]\n",
    "time_data_labels = ['before', 'during', 'after']\n",
    "y_min = 0\n",
    "y_max = 4\n",
    "plt.boxplot([data.loc[:, entity_col] for data in time_data_list])\n",
    "plt.xticks(range(1, len(time_data_list)+1), time_data_labels)\n",
    "plt.ylim((y_min, y_max))\n",
    "plt.ylabel(entity_col)\n",
    "plt.show()"
   ]
  },
  {
   "cell_type": "markdown",
   "metadata": {},
   "source": [
    "This difference doesn't look very promising! But let's see if there is a significant difference between periods using a one-sided t-test."
   ]
  },
  {
   "cell_type": "code",
   "execution_count": 140,
   "metadata": {},
   "outputs": [
    {
     "name": "stdout",
     "output_type": "stream",
     "text": [
      "data before has a mean of 0.684 entities per tweet\n",
      "data during has a mean of 0.644 entities per tweet\n",
      "data after has a mean of 0.512 entities per tweet\n",
      "before vs. during difference = 0.040 (t=5.344, p=4.557E-08)\n",
      "during vs. after difference = 0.132 (t=28.499, p=1.413E-178)\n"
     ]
    }
   ],
   "source": [
    "from itertools import izip\n",
    "from scipy.stats import ttest_ind\n",
    "\n",
    "def test_pops(pop_1, pop_2):\n",
    "    \"\"\"\n",
    "    Test difference in means between two populations \n",
    "    (one-sided, pop_1 > pop_2).\n",
    "    \n",
    "    Parameters:\n",
    "    -----------\n",
    "    pop_1 : pandas.Series\n",
    "    pop_2 : pandas.Series\n",
    "    \n",
    "    Returns:\n",
    "    --------\n",
    "    diff : float\n",
    "    t_val : float\n",
    "    p_val : float\n",
    "    \"\"\"\n",
    "    diff = pop_1.mean() - pop_2.mean()\n",
    "    t_val, p_val = ttest_ind(pop_1, pop_2)\n",
    "    # correct for one-tailed by dividing in half\n",
    "    p_val /= 2.\n",
    "    return diff, t_val, p_val\n",
    "\n",
    "# compute means\n",
    "for data, data_name in izip(time_data_list, time_data_labels):\n",
    "    data_entity_mean = data.loc[:, entity_col].mean()\n",
    "    print('data %s has a mean of %.3f entities per tweet'%(data_name, data_entity_mean))\n",
    "    \n",
    "data_pairs = [[before_data, during_data], [during_data, after_data]]\n",
    "data_pair_names = [['before', 'during'], ['during', 'after']]\n",
    "for data_pair, data_pair_name in izip(data_pairs, data_pair_names):\n",
    "    diff, t_val, p_val = test_pops(data_pair[0].loc[:, entity_col], \n",
    "                                   data_pair[1].loc[:, entity_col])\n",
    "    print('%s vs. %s difference = %.3f (t=%.3f, p=%.3E)'%(data_pair_name[0], data_pair_name[1], diff, t_val, p_val))"
   ]
  },
  {
   "cell_type": "markdown",
   "metadata": {},
   "source": [
    "It looks like there actually are significant differences here with the distribution of $E$: \n",
    "\n",
    "- Tweets before the hurricane used slightly more entities than tweets during the hurricane.\n",
    "- Tweets during the hurricane used more entities than tweets after the hurricane.\n",
    "\n",
    "These are in line with our earlier scatterplots of entities per tweet over time."
   ]
  },
  {
   "cell_type": "markdown",
   "metadata": {},
   "source": [
    "**Switch to binary**:\n",
    "\n",
    "What if we switch from entity counts per tweet (scalar) to entity included in a tweet (binary)? That might show a different pattern.\n",
    "\n",
    "Let's call this metric $P(E)$ (probability of observing at least one entity in a tweet). We'll use a Z-test to compare the probabilities between time periods."
   ]
  },
  {
   "cell_type": "code",
   "execution_count": 152,
   "metadata": {},
   "outputs": [
    {
     "name": "stdout",
     "output_type": "stream",
     "text": [
      "before proportion 0.470 +/- 0.002\n",
      "during proportion 0.437 +/- 0.001\n",
      "after proportion 0.371 +/- 0.001\n",
      "before vs. during proportion difference = 0.032 (t=7.742, p=4.885E-15)\n",
      "during vs. after proportion difference = 0.067 (t=24.058, p=0.000E+00)\n"
     ]
    }
   ],
   "source": [
    "from scipy.stats import norm\n",
    "def test_pops_proportion(pop_1, pop_2):\n",
    "    \"\"\"\n",
    "    Test for a significant difference in population\n",
    "    proportion (assuming all 0s, 1s).\n",
    "    \n",
    "    Parameters:\n",
    "    -----------\n",
    "    pop_1 : pandas.Series\n",
    "    pop_2 : pandas.Series\n",
    "    \n",
    "    Returns:\n",
    "    --------\n",
    "    prop_diff : float\n",
    "    z_val : float\n",
    "    p_val : float\n",
    "    \"\"\"\n",
    "    prop_1 = pop_1.mean()\n",
    "    prop_2 = pop_2.mean()\n",
    "    n_1 = len(pop_1)\n",
    "    n_2 = len(pop_2)\n",
    "    prop_diff = prop_1 - prop_2\n",
    "    prop_pooled = (n_1*prop_1 + n_2*prop_2) / (n_1 + n_2)\n",
    "    z_val = (prop_diff) / (prop_pooled*(1-prop_pooled)*(1/n_1 + 1/n_2))**.5\n",
    "    p_val = 1 - norm.cdf(z_val)\n",
    "    return prop_diff, z_val, p_val\n",
    "\n",
    "# compute binary variable\n",
    "tweet_df_valid = tweet_df_valid.assign(has_entity=(tweet_df_valid.loc[:, 'entities_per_tweet'] > 0).astype(int))\n",
    "\n",
    "# recompute data\n",
    "before_data = tweet_df_valid[tweet_df_valid.loc[:, 'date_datetime'] < hurricane_start_date]\n",
    "during_data = tweet_df_valid[(tweet_df_valid.loc[:, 'date_datetime'] >= hurricane_start_date) &\n",
    "                             (tweet_df_valid.loc[:, 'date_datetime'] <= hurricane_end_date)]\n",
    "after_data = tweet_df_valid[tweet_df_valid.loc[:, 'date_datetime'] >= hurricane_end_date]\n",
    "\n",
    "# compute proportions\n",
    "entity_proportion_col = 'has_entity'\n",
    "data_list = [before_data, during_data, after_data]\n",
    "data_names = ['before', 'during', 'after']\n",
    "for data, data_name in izip(data_list, data_names):\n",
    "    prop_mean = data.loc[:, entity_proportion_col].mean()\n",
    "    prop_std = prop_mean*(1-prop_mean) / (data.shape[0])**.5\n",
    "    print('%s proportion %.3f +/- %.3f'%(data_name, prop_mean, prop_std))\n",
    "\n",
    "# organize data for proportion test\n",
    "data_pairs = [[before_data, during_data], [during_data, after_data]]\n",
    "data_pair_names = [['before', 'during'], ['during', 'after']]\n",
    "for data_pair, data_pair_name in izip(data_pairs, data_pair_names):\n",
    "    diff, t_val, p_val = test_pops_proportion(data_pair[0].loc[:, entity_proportion_col], \n",
    "                                              data_pair[1].loc[:, entity_proportion_col])\n",
    "    print('%s vs. %s proportion difference = %.3f (t=%.3f, p=%.3E)'%(data_pair_name[0], data_pair_name[1], diff, t_val, p_val))"
   ]
  },
  {
   "cell_type": "markdown",
   "metadata": {},
   "source": [
    "The proportion test reinforces earlier results! It's good, because now we know that the earlier results probably weren't skewed by unusually high entity counts.\n",
    "\n",
    "- Tweets before the hurricane were slightly more likely to use at least one entity than tweets during the hurricane.\n",
    "- Tweets during the hurricane were more likely to use at least one entity than tweets during the hurricane."
   ]
  },
  {
   "cell_type": "markdown",
   "metadata": {},
   "source": [
    "**RQ1 conclusion**:\n",
    "\n",
    "We find that both (1) the average number of entities and (2) the probability of seeing at least one entity was higher before Hurricane Maria than during Hurricane Maria, which was higher than after Hurricane Maria. This was somewhat unexpected, because I thought that the crisis would attract more attention during landfall in Puerto Rico rather than before landfall. \n",
    "\n",
    "A possible explanation: many of the named entities used before the hurricane could be related to hurricane preparation. The next section could help address this by looking at the distribution of entities during different time periods."
   ]
  },
  {
   "cell_type": "markdown",
   "metadata": {},
   "source": [
    "## Compute entity distribution"
   ]
  },
  {
   "cell_type": "markdown",
   "metadata": {},
   "source": [
    "We now address RQ2 by testing the *distribution* of entities at different points of the crisis. I expect that the discussion included a more diverse range of entity mentions during hurricane landfall as compared to before (B) and after (A) the hurricane, because I expect that those discussing the hurricane would either be reporting on its progress (more location names) or would be requesting information about people in the middle of the hurricane (more location names).\n",
    "\n",
    "$H_{0,B}$: The distribution of entities before the hurricane is equally diverse as the distribution of entities during the hurricane.\n",
    "\n",
    "$H_{1,B}$: The distribution of entities before the hurricane is less diverse than the diversity of entities during the hurricane.\n",
    "\n",
    "$H_{0,A}$: The distribution of entities after the hurricane is equally diverse as the distribution of entities during the hurricane.\n",
    "\n",
    "$H_{1,A}$: The distribution of entities after the hurricane is less diverse than the diversity of entities during the hurricane."
   ]
  },
  {
   "cell_type": "markdown",
   "metadata": {},
   "source": [
    "To approximate the distribution of entities, we compute the following two metrics:\n",
    "\n",
    "- entropy (per time period)\n",
    "- cosine similarity (between time periods)\n",
    "\n",
    "Under the alternative hypothesis, we expect that the entropy over named entities is significantly greater (higher entropy => less predictable => more diversity) and that the cosine similarity is lower than expected by chance."
   ]
  },
  {
   "cell_type": "markdown",
   "metadata": {},
   "source": [
    "We'll need to recompute the entity DTM, because when we first computed it we didn't sort the data by date."
   ]
  },
  {
   "cell_type": "code",
   "execution_count": 160,
   "metadata": {
    "collapsed": true
   },
   "outputs": [],
   "source": [
    "tweet_df_valid.sort_values('date_datetime', inplace=True)\n",
    "tweet_data_entity_lists = tweet_df_valid.loc[:, 'text_tagged'].apply(lambda x: collect_entities_from_txt(x))\n",
    "tweet_data_entity_lists_joined = map(lambda x: ' '.join(x), tweet_data_entity_lists)\n",
    "token_pattern = '\\S+'\n",
    "cv = CountVectorizer(min_df=1, lowercase=False, strip_accents=None, token_pattern=token_pattern)\n",
    "entity_dtm = cv.fit_transform(tweet_data_entity_lists_joined)"
   ]
  },
  {
   "cell_type": "markdown",
   "metadata": {},
   "source": [
    "First we'll split the DTM into the before, during and after periods."
   ]
  },
  {
   "cell_type": "code",
   "execution_count": 186,
   "metadata": {},
   "outputs": [],
   "source": [
    "before_end_idx = pd.np.where(tweet_df_valid.loc[:, 'date_datetime'] >= hurricane_start_date)[0][0]\n",
    "after_start_idx = pd.np.where(tweet_df_valid.loc[:, 'date_datetime'] > hurricane_end_date)[0][0]"
   ]
  },
  {
   "cell_type": "code",
   "execution_count": 172,
   "metadata": {},
   "outputs": [],
   "source": [
    "before_entity_dtm = entity_dtm[:before_end_idx, ]\n",
    "during_entity_dtm = entity_dtm[before_end_idx:after_start_idx, ]\n",
    "after_entity_dtm = entity_dtm[after_start_idx:, ]"
   ]
  },
  {
   "cell_type": "code",
   "execution_count": 187,
   "metadata": {},
   "outputs": [
    {
     "name": "stdout",
     "output_type": "stream",
     "text": [
      "23158 before tweets\n",
      "38247 during tweets\n",
      "158057 after tweets\n"
     ]
    }
   ],
   "source": [
    "print('%d before tweets'%(before_entity_dtm.shape[0]))\n",
    "print('%d during tweets'%(during_entity_dtm.shape[0]))\n",
    "print('%d after tweets'%(after_entity_dtm.shape[0]))"
   ]
  },
  {
   "cell_type": "markdown",
   "metadata": {},
   "source": [
    "Next, we'll convert these DTMs into probabilities."
   ]
  },
  {
   "cell_type": "code",
   "execution_count": 229,
   "metadata": {
    "collapsed": true
   },
   "outputs": [],
   "source": [
    "def convert_to_prob(dtm):\n",
    "#     return dtm.sum(axis=0) / dtm.sum().sum()\n",
    "    dtm_prob = pd.np.array(dtm.sum(axis=0) / dtm.sum().sum())[0]\n",
    "    return dtm_prob\n",
    "before_entity_probs = convert_to_prob(before_entity_dtm)\n",
    "during_entity_probs = convert_to_prob(during_entity_dtm)\n",
    "after_entity_probs = convert_to_prob(after_entity_dtm)"
   ]
  },
  {
   "cell_type": "markdown",
   "metadata": {},
   "source": [
    "Just out of curiosity, what were the highest-probability entities during each time period? We really should have looked at this earlier."
   ]
  },
  {
   "cell_type": "code",
   "execution_count": 181,
   "metadata": {},
   "outputs": [
    {
     "name": "stdout",
     "output_type": "stream",
     "text": [
      "before hurricane has top entities:\n",
      "Puerto_Rico\n",
      "Maria\n",
      "Dominica\n",
      "#Maria\n",
      "#Dominica\n",
      "Irma\n",
      "PR\n",
      "Virgin_Islands\n",
      "Hurricane_Maria\n",
      "Leeward_Islands\n",
      "during hurricane has top entities:\n",
      "Puerto_Rico\n",
      "Maria\n",
      "PR\n",
      "San_Juan\n",
      "#Dominica\n",
      "Dominica\n",
      "Hurricane_Maria\n",
      "Turks\n",
      "Mexico\n",
      "María\n",
      "after hurricane has top entities:\n",
      "Puerto_Rico\n",
      "Trump\n",
      "PR\n",
      "San_Juan\n",
      "Jones_Act\n",
      "Maria\n",
      "America\n",
      "Katrina\n",
      "Florida\n",
      "Puerto_Ricans\n"
     ]
    }
   ],
   "source": [
    "data_prob_list = [before_entity_probs, during_entity_probs, after_entity_probs]\n",
    "data_name_list = ['before', 'during', 'after']\n",
    "top_k = 10\n",
    "ivoc = {v : k for k,v in cv.vocabulary_.iteritems()}\n",
    "for data_probs, data_name in izip(data_prob_list, data_name_list):\n",
    "    top_k_entities = [ivoc[i] for i in pd.np.array(data_probs.argsort())[0][::-1][:top_k]]\n",
    "    print('%s hurricane has top entities:\\n%s'%(data_name, '\\n'.join(top_k_entities)))"
   ]
  },
  {
   "cell_type": "markdown",
   "metadata": {},
   "source": [
    "It looks like locations dominate throughout the data (`Puerto_Rico`, `Dominica`, `San_Juan`) and the focus shifts more toward America's response after the hurricane (`Trump`, `Jones_Act`, `America`)."
   ]
  },
  {
   "cell_type": "markdown",
   "metadata": {},
   "source": [
    "Let's define some formulae for computing entropy and cosine similarity."
   ]
  },
  {
   "cell_type": "code",
   "execution_count": 233,
   "metadata": {
    "collapsed": true
   },
   "outputs": [],
   "source": [
    "def compute_entropy(data):\n",
    "    data_smooth = pd.np.log(data.T+1)\n",
    "    entropy = data.dot(data_smooth)\n",
    "    return entropy\n",
    "def compute_cosine_similarity(data_1, data_2):\n",
    "    cosine_sim = data_1.dot(data_2.T) / ((pd.np.linalg.norm(data_1)) * (pd.np.linalg.norm(data_2)))\n",
    "#     cosine_sim = cosine_sim[0]\n",
    "    return cosine_sim\n",
    "def compute_statistics(data_1, data_2):\n",
    "    entropy_1 = compute_entropy(data_1)\n",
    "    entropy_2 = compute_entropy(data_2)\n",
    "    cosine = compute_cosine_similarity(data_1, data_2)\n",
    "    return entropy_1, entropy_2, cosine"
   ]
  },
  {
   "cell_type": "markdown",
   "metadata": {},
   "source": [
    "Now let's compute the statistics for all pairs of interest (before versus during, during versus after)."
   ]
  },
  {
   "cell_type": "code",
   "execution_count": 211,
   "metadata": {},
   "outputs": [
    {
     "name": "stdout",
     "output_type": "stream",
     "text": [
      "data pair before vs. during has entropy diff=-1.182E-02, cosine=9.366E-01\n",
      "data pair during vs. after has entropy diff=1.636E-02, cosine=8.346E-01\n"
     ]
    }
   ],
   "source": [
    "data_pairs = [[before_entity_probs, during_entity_probs], [during_entity_probs, after_entity_probs]]\n",
    "data_pair_names = [['before', 'during'], ['during', 'after']]\n",
    "for data_pair, data_names in izip(data_pairs, data_pair_names):\n",
    "    entropy_1, entropy_2, cosine = compute_statistics(*data_pair)\n",
    "    entropy_diff = entropy_1 - entropy_2\n",
    "    print('data pair %s vs. %s has entropy diff=%.3E, cosine=%.3E'%\n",
    "          (data_names[0], data_names[1], entropy_diff, cosine))"
   ]
  },
  {
   "cell_type": "markdown",
   "metadata": {},
   "source": [
    "At first glance:\n",
    "\n",
    "- During-hurricane has higher entropy than before-hurricane and a high similarity between periods.\n",
    "- During-hurricane has higher entropy than after-hurricane, and a somewhat high similarity between periods."
   ]
  },
  {
   "cell_type": "markdown",
   "metadata": {
    "collapsed": true
   },
   "source": [
    "Now we need to figure out if these comparison metrics are significant according to chance.\n",
    "\n",
    "I can't come up with a parametric test for significance in comparing the different time periods, but I think the following nonparametric test will help us out:\n",
    "\n",
    "0. Compute the actual entropy differences and cosine similarities.\n",
    "1. Compute the split indices (corresponding to rows in the entity DTM) for before, during and after the hurricane: call the before/during split point $S_{b,d}$ and the during/after split point $S_{d,a}$.\n",
    "2. Shuffle the entity DTM.\n",
    "3. Extract a new version of the \"before\", \"during\" and \"after\" data from the shuffled entity DTM using $S_{b,d}$ and $S_{d,a}$.\n",
    "4. Compute the entropy and cosine similarity as before.\n",
    "5. Repeat 2-5 X times.\n",
    "6. Count the number of times that the shuffled entropy and cosine similarities are more extreme than the actual values.\n",
    "7. p-value = count / X. (probability of erroneously rejecting the null hypothesis)"
   ]
  },
  {
   "cell_type": "code",
   "execution_count": 208,
   "metadata": {
    "collapsed": true
   },
   "outputs": [],
   "source": [
    "# first get split indices\n",
    "before_end_idx = pd.np.where(tweet_df_valid.loc[:, 'date_datetime'] >= hurricane_start_date)[0][0]\n",
    "after_start_idx = pd.np.where(tweet_df_valid.loc[:, 'date_datetime'] > hurricane_end_date)[0][0]"
   ]
  },
  {
   "cell_type": "code",
   "execution_count": 243,
   "metadata": {},
   "outputs": [
    {
     "name": "stdout",
     "output_type": "stream",
     "text": [
      "done with iter 0\n",
      "done with iter 1000\n",
      "done with iter 2000\n",
      "done with iter 3000\n",
      "done with iter 4000\n"
     ]
    }
   ],
   "source": [
    "from collections import defaultdict\n",
    "entity_dtm_shuffle = entity_dtm.copy()\n",
    "entity_dtm_idx = pd.np.arange(entity_dtm_shuffle.shape[0])\n",
    "iter_count = 5000\n",
    "# need separate count list for each hypothesis (before vs. during, during vs. after)\n",
    "data_pair_entropy_diff = defaultdict(list)\n",
    "data_pair_cosine_sim = defaultdict(list)\n",
    "data_pair_names = ['before_during', 'during_after']\n",
    "for i in range(iter_count):\n",
    "    pd.np.random.shuffle(entity_dtm_idx)\n",
    "    entity_dtm_shuffle = entity_dtm_shuffle[entity_dtm_idx, :]\n",
    "    before_dtm_shuffle = entity_dtm_shuffle[:before_end_idx, :]\n",
    "    during_dtm_shuffle = entity_dtm_shuffle[before_end_idx:after_start_idx, :]\n",
    "    after_dtm_shuffle = entity_dtm_shuffle[after_start_idx:, :]\n",
    "    # compute probs\n",
    "    before_shuffle_probs = convert_to_prob(before_dtm_shuffle)\n",
    "    during_shuffle_probs = convert_to_prob(during_dtm_shuffle)\n",
    "    after_shuffle_probs = convert_to_prob(after_dtm_shuffle)\n",
    "    data_pairs = [[before_shuffle_probs, during_shuffle_probs], \n",
    "                  [during_shuffle_probs, after_shuffle_probs]]\n",
    "    for data_pair, data_pair_name in izip(data_pairs, data_pair_names):\n",
    "        entropy_1, entropy_2, cosine = compute_statistics(*data_pair)\n",
    "        entropy_diff = entropy_1 - entropy_2\n",
    "        data_pair_entropy_diff[data_pair_name].append(entropy_diff)\n",
    "        data_pair_cosine_sim[data_pair_name].append(cosine)\n",
    "    if(i % 1000 == 0):\n",
    "        print('done with iter %d'%(i))"
   ]
  },
  {
   "cell_type": "markdown",
   "metadata": {},
   "source": [
    "Now we count the number of times that the shuffled statistics are more extreme, and the normalized count becomes our p-value.\n",
    "\n",
    "In the case of before vs. during ($H_{B}$): we count the number of times that the shuffled entropy difference is less than the computed difference (before - during), and the number of times that the shuffled cosine similarity is less than the computed similarity.\n",
    "\n",
    "In the case of during vs. after ($H_{A}$): we count the number of times that the shuffled entropy difference is greater than the computed difference (after - during), and the number of times that the shuffled cosine similarity is less than the computed similarity."
   ]
  },
  {
   "cell_type": "code",
   "execution_count": 244,
   "metadata": {},
   "outputs": [
    {
     "name": "stdout",
     "output_type": "stream",
     "text": [
      "before vs. during p-values: entropy diff=0.000E+00, cosine=0.000E+00\n",
      "during vs. after p-values: entropy diff=0.000E+00, cosine=0.000E+00\n"
     ]
    }
   ],
   "source": [
    "from __future__ import division\n",
    "data_pairs = [[before_entity_probs, during_entity_probs], [during_entity_probs, after_entity_probs]]\n",
    "# before-during first\n",
    "entropy_1, entropy_2, cosine_b_d = compute_statistics(before_entity_probs, during_entity_probs)\n",
    "entropy_diff_b_d = entropy_1 - entropy_2\n",
    "# pvals\n",
    "cosine_b_d_pval = len([c for c in data_pair_cosine_sim['before_during'] if c < cosine_b_d]) / iter_count\n",
    "entropy_diff_b_d_pval = len([e for e in data_pair_entropy_diff['before_during'] if e < entropy_diff_b_d]) / iter_count\n",
    "print('before vs. during p-values: entropy diff=%.3E, cosine=%.3E'%(cosine_b_d_pval, entropy_diff_b_d_pval))\n",
    "# during-after second\n",
    "entropy_1, entropy_2, cosine_d_a = compute_statistics(during_entity_probs, after_entity_probs)\n",
    "entropy_diff_d_a = entropy_1 - entropy_2\n",
    "# pvals\n",
    "cosine_d_a_pval = len([c for c in data_pair_cosine_sim['during_after'] if c < cosine_d_a]) / iter_count\n",
    "entropy_diff_d_a_pval = len([e for e in data_pair_entropy_diff['during_after'] if e > entropy_diff_d_a]) / iter_count\n",
    "print('during vs. after p-values: entropy diff=%.3E, cosine=%.3E'%(cosine_d_a_pval, entropy_diff_d_a_pval))"
   ]
  },
  {
   "cell_type": "markdown",
   "metadata": {},
   "source": [
    "These p-values seem weirdly low! I tried inspecting the actual computed cosine similarities and entropy differences to make sure that they weren't all identical and this is not the case."
   ]
  },
  {
   "cell_type": "markdown",
   "metadata": {},
   "source": [
    "**Conclusion:**\n",
    "\n",
    "We can reject both $H_{0,B}$ and $H_{0,A}$ and state that:\n",
    "\n",
    "- During the hurricane, the distribution of named entities was more diverse than before the hurricane, and the two distributions were less similar than chance.\n",
    "- During the hurricane, the distribution of named entities was more diverse than after the hurricane, and the two distributions were much less similar than chance.\n",
    "\n",
    "This suggests (1) during the hurricane a wider range of entities was mentioned, e.g. more specific locations in Puerto Rico, or (2) before/after the hurricane the distribution of entities was spikier, e.g. focusing heavily on the entity `Puerto_Rico`."
   ]
  },
  {
   "cell_type": "markdown",
   "metadata": {},
   "source": [
    "## Conclusion\n",
    "\n",
    "We can conclude that there were more named entity mentions at the beginning of Hurricane Maria as compared with the end of Hurricane Maria (**RQ1**). Furthermore, we found that during the hurricane, the distribution of entity mentions was more diverse than before and after the hurricane, and that the distribution was less similar to before/after than expected by chance (**RQ2**). This suggests further inspection to determine if these macro-level differences in named entity usage can differentiate different stages of crisis (Houston et al. 2015)."
   ]
  },
  {
   "cell_type": "markdown",
   "metadata": {},
   "source": [
    "## Discussion\n",
    "\n",
    "I assume in this analysis that most of the tweets relating to Hurricane Maria were about Puerto Rico, such as the start and end date of the hurricane were the landfall dates for Puerto Rico, and many of the entities related to Puerto Rico (`Puerto_Rico`, `PR`, `Puerto_Ricans`). However we saw even from preliminary analysis that some of the content is about other areas, including Dominica, which suggests either (1) a wider time window of data for testing or (2) a more restricted dataset that only includes content about one location.\n",
    "\n",
    "I was unable to generate entity classes for the English data (errors in the tagger), and it would have been interesting to compare the distribution of classes before, during and after the hurricane. For instance, I would expect more specific locations to be mentioned during the hurricane and more organizations to be mentioned afterward (e.g., relief organizations), corresponding to the different stages of crisis. I would also expect more reporting on named entities by official news organizations after the hurricane (i.e., once the details are settled), as compared to during the hurricane when (1) locals report on their own conditions and (2) outsiders speculate about entities that could be affected.\n",
    "\n",
    "In this unique bilingual situation, I should have tried splitting the English and Spanish tweets to determine if the proportion of entities was equal in both languages and if the overall trends in entity usage followed the same decreasing pattern we saw before.\n",
    "\n",
    "In a non-time related direction, I would be interested to see whether tweets that include entities are more likely to be retweeted. One could imagine that since information is at a premium during a crisis, Twitter users would be more likely to retweet new information in the form of named entities. However, this might only apply for new entities in the long tail of low-frequency names, which would make prediction harder."
   ]
  },
  {
   "cell_type": "markdown",
   "metadata": {},
   "source": [
    "### References\n",
    "J. B. Houston et al. (2015). Social media and disasters: A functional framework for social media use in disaster planning, response, and research. Disasters, 39(1), 1–22.\n",
    "\n",
    "Ritter, A., Clark, S., & Etzioni, O. (2011). Named Entity Recognition in Tweets: An Experimental Study. In EMNLP (pp. 1524–1534). \n",
    "\n",
    "Sarcevic, A., Palen, L., White, J., Starbird, K., Bagdouri, M., & Anderson, K. M. (2012). Beacons of Hope in Decentralized Coordination: Learning from On-the-Ground Medical Twitterers During the 2010 Haiti Earthquake. In Proceedings of the ACM 2012 conference on Computer Supported Cooperative Work (pp. 47–56). \n",
    "\n",
    "Starbird, K., Muzny, G., & Palen, L. (2012). Learning from the crowd: Collaborative filtering techniques for identifying on-the-Ground Twitterers during mass disruptions. Proceedings of 9th International Conference on Information Systems for Crisis Response and Management, ISCRAM, (April), 1–10. "
   ]
  }
 ],
 "metadata": {
  "kernelspec": {
   "display_name": "Python 3",
   "language": "python",
   "name": "python3"
  },
  "language_info": {
   "codemirror_mode": {
    "name": "ipython",
    "version": 3
   },
   "file_extension": ".py",
   "mimetype": "text/x-python",
   "name": "python",
   "nbconvert_exporter": "python",
   "pygments_lexer": "ipython3",
   "version": "3.4.3"
  }
 },
 "nbformat": 4,
 "nbformat_minor": 2
}
