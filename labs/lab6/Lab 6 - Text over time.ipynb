{
 "cells": [
  {
   "cell_type": "code",
   "execution_count": null,
   "metadata": {
    "collapsed": true
   },
   "outputs": [],
   "source": []
  },
  {
   "cell_type": "code",
   "execution_count": 1,
   "metadata": {
    "collapsed": true
   },
   "outputs": [],
   "source": [
    "from sklearn.feature_extraction.text import CountVectorizer\n",
    "from datetime import datetime, date\n",
    "from glob import glob\n",
    "import os\n",
    "import numpy as np\n",
    "import matplotlib.pyplot as plt\n",
    "%matplotlib inline"
   ]
  },
  {
   "cell_type": "markdown",
   "metadata": {},
   "source": [
    "Our dataset is a set of issues of a newspaper called *The Liberator* <https://en.wikipedia.org/wiki/The_Liberator_(newspaper)>, which was active for the last few decades of the abolitionist period."
   ]
  },
  {
   "cell_type": "code",
   "execution_count": 2,
   "metadata": {
    "collapsed": true
   },
   "outputs": [],
   "source": [
    "#files = sorted(glob('TheLily/*'))\n",
    "files = sorted(glob('TheLiberator/*'))"
   ]
  },
  {
   "cell_type": "code",
   "execution_count": 3,
   "metadata": {
    "collapsed": false
   },
   "outputs": [
    {
     "data": {
      "text/plain": [
       "['TheLiberator/1864-07-01.txt',\n",
       " 'TheLiberator/1865-09-01.txt',\n",
       " 'TheLiberator/1865-12-01.txt']"
      ]
     },
     "execution_count": 3,
     "metadata": {},
     "output_type": "execute_result"
    }
   ],
   "source": [
    "files[-3:]"
   ]
  },
  {
   "cell_type": "markdown",
   "metadata": {},
   "source": [
    "Let's build a vectorizer to read it in. \n",
    "\n",
    "Note the flag `binary`. If we set `binary=True`, this would mean that each word is counted at most once per document."
   ]
  },
  {
   "cell_type": "code",
   "execution_count": 25,
   "metadata": {
    "collapsed": true
   },
   "outputs": [],
   "source": [
    "vect = CountVectorizer(input='filename',min_df=10,binary=False)"
   ]
  },
  {
   "cell_type": "code",
   "execution_count": 26,
   "metadata": {
    "collapsed": true
   },
   "outputs": [],
   "source": [
    "X = vect.fit_transform(files)"
   ]
  },
  {
   "cell_type": "code",
   "execution_count": 27,
   "metadata": {
    "collapsed": false
   },
   "outputs": [
    {
     "data": {
      "text/plain": [
       "(59, 8305)"
      ]
     },
     "execution_count": 27,
     "metadata": {},
     "output_type": "execute_result"
    }
   ],
   "source": [
    "X.shape"
   ]
  },
  {
   "cell_type": "markdown",
   "metadata": {},
   "source": [
    "**Your turn**: build another vectorizer, which includes all words that appear in at least 20 documents"
   ]
  },
  {
   "cell_type": "code",
   "execution_count": 28,
   "metadata": {
    "collapsed": false
   },
   "outputs": [
    {
     "name": "stdout",
     "output_type": "stream",
     "text": [
      "(59, 4547)\n"
     ]
    }
   ],
   "source": [
    "vect2 = CountVectorizer(input='filename', min_df=20, binary=False) #your code\n",
    "X2 = vect2.fit_transform(files)\n",
    "print(X2.shape)"
   ]
  },
  {
   "cell_type": "markdown",
   "metadata": {},
   "source": [
    "Let's print the most common words in 1851. To do this, we'll import `dateutil.parser`, which can parse the dates from the filenames."
   ]
  },
  {
   "cell_type": "code",
   "execution_count": 29,
   "metadata": {
    "collapsed": true
   },
   "outputs": [],
   "source": [
    "from dateutil.parser import parse"
   ]
  },
  {
   "cell_type": "code",
   "execution_count": 30,
   "metadata": {
    "collapsed": false
   },
   "outputs": [
    {
     "data": {
      "text/plain": [
       "datetime.datetime(1833, 6, 1, 0, 0)"
      ]
     },
     "execution_count": 30,
     "metadata": {},
     "output_type": "execute_result"
    }
   ],
   "source": [
    "parse(os.path.basename(files[4])[:-4])"
   ]
  },
  {
   "cell_type": "code",
   "execution_count": 31,
   "metadata": {
    "collapsed": true
   },
   "outputs": [],
   "source": [
    "# this list comprehension parses each of the dates in the filenames\n",
    "dates = [parse(os.path.basename(filename)[:-4],'')\n",
    "         for filename \n",
    "         in files]"
   ]
  },
  {
   "cell_type": "code",
   "execution_count": 32,
   "metadata": {
    "collapsed": false
   },
   "outputs": [
    {
     "name": "stdout",
     "output_type": "stream",
     "text": [
      "[datetime.datetime(1864, 7, 1, 0, 0), datetime.datetime(1865, 9, 1, 0, 0), datetime.datetime(1865, 12, 1, 0, 0)]\n",
      "['TheLiberator/1864-07-01.txt', 'TheLiberator/1865-09-01.txt', 'TheLiberator/1865-12-01.txt']\n"
     ]
    }
   ],
   "source": [
    "print(dates[-3:])\n",
    "print(files[-3:])"
   ]
  },
  {
   "cell_type": "markdown",
   "metadata": {},
   "source": [
    "Now we want to select a slice of X, corresponding only to editions in 1851.\n",
    "\n",
    "We'll use the `enumerate` function to find the indices of dates that match the desired condition."
   ]
  },
  {
   "cell_type": "code",
   "execution_count": 33,
   "metadata": {
    "collapsed": false
   },
   "outputs": [
    {
     "data": {
      "text/plain": [
       "[(34, datetime.datetime(1851, 8, 1, 0, 0)),\n",
       " (35, datetime.datetime(1851, 11, 1, 0, 0))]"
      ]
     },
     "execution_count": 33,
     "metadata": {},
     "output_type": "execute_result"
    }
   ],
   "source": [
    "[(i,date) for i,date in enumerate(dates) if date.year==1851]"
   ]
  },
  {
   "cell_type": "code",
   "execution_count": 34,
   "metadata": {
    "collapsed": true
   },
   "outputs": [],
   "source": [
    "X_1851 = X[[i for i,date in enumerate(dates) if date.year==1851],]"
   ]
  },
  {
   "cell_type": "code",
   "execution_count": 35,
   "metadata": {
    "collapsed": false
   },
   "outputs": [
    {
     "data": {
      "text/plain": [
       "(2, 8305)"
      ]
     },
     "execution_count": 35,
     "metadata": {},
     "output_type": "execute_result"
    }
   ],
   "source": [
    "X_1851.shape"
   ]
  },
  {
   "cell_type": "markdown",
   "metadata": {},
   "source": [
    "So `X_1851` contains two instances, corresponding to the two editions published in 1851. (Actually, we're working with a small sample of the full dataset, there were several other editions published in that year.)\n",
    "\n",
    "To find the most common words in this sample, let's construct an inverted index from the columns of `X` back to the vocabulary. "
   ]
  },
  {
   "cell_type": "code",
   "execution_count": 36,
   "metadata": {
    "collapsed": true
   },
   "outputs": [],
   "source": [
    "ivoc = {j:i for i,j in vect.vocabulary_.items()}"
   ]
  },
  {
   "cell_type": "code",
   "execution_count": 37,
   "metadata": {
    "collapsed": false
   },
   "outputs": [
    {
     "data": {
      "text/plain": [
       "['the', 'of', 'and', 'to', 'in']"
      ]
     },
     "execution_count": 37,
     "metadata": {},
     "output_type": "execute_result"
    }
   ],
   "source": [
    "[ivoc[i] for i in np.array(X_1851.sum(axis=0))[0].argsort()[::-1][:5]]"
   ]
  },
  {
   "cell_type": "markdown",
   "metadata": {},
   "source": [
    "Not too interesting, but we're just getting started. "
   ]
  },
  {
   "cell_type": "markdown",
   "metadata": {},
   "source": [
    "**Your turn** Build a matrix containing the counts for editions published in the 1860s."
   ]
  },
  {
   "cell_type": "code",
   "execution_count": 38,
   "metadata": {
    "collapsed": true
   },
   "outputs": [],
   "source": [
    "X_1860s = X[[i for i,date in enumerate(dates) if date.year>=1860 and date.year<=1869],]"
   ]
  },
  {
   "cell_type": "code",
   "execution_count": 39,
   "metadata": {
    "collapsed": false
   },
   "outputs": [
    {
     "data": {
      "text/plain": [
       "(11, 8305)"
      ]
     },
     "execution_count": 39,
     "metadata": {},
     "output_type": "execute_result"
    }
   ],
   "source": [
    "# make sure you verify this\n",
    "X_1860s.shape"
   ]
  },
  {
   "cell_type": "markdown",
   "metadata": {},
   "source": [
    "# Pointwise mutual information\n",
    "\n",
    "Rather than look at the most common words in each year or set of years, let's look at the words that have high *pointwise mutual information* with the year. This is defined as:\n",
    "\n",
    "\\begin{equation}\n",
    "PMI(i,j) = \\log \\frac{P(i,j)}{P(i)\\times P(j)} = \\log P(i,j) - \\log P(i) - \\log P(j)\n",
    "\\end{equation}\n",
    "\n",
    "We'll now introduce code to compute each part of this equation."
   ]
  },
  {
   "cell_type": "code",
   "execution_count": 40,
   "metadata": {
    "collapsed": true
   },
   "outputs": [],
   "source": [
    "# this computes $p(i)$, where $i$ is a word\n",
    "def get_p_word(X):\n",
    "    X_tot = np.array(X.sum(axis=0))[0]\n",
    "    return X_tot / X.sum()"
   ]
  },
  {
   "cell_type": "code",
   "execution_count": 41,
   "metadata": {
    "collapsed": true
   },
   "outputs": [],
   "source": [
    "P_base =get_p_word(X)"
   ]
  },
  {
   "cell_type": "code",
   "execution_count": 42,
   "metadata": {
    "collapsed": false
   },
   "outputs": [
    {
     "data": {
      "image/png": "[encoded data removed]",
      "text/plain": [
       "<matplotlib.figure.Figure at 0x108bbd198>"
      ]
     },
     "metadata": {},
     "output_type": "display_data"
    }
   ],
   "source": [
    "plt.plot(P_base)\n",
    "plt.xlabel('word index')\n",
    "plt.ylabel('frequency');"
   ]
  },
  {
   "cell_type": "code",
   "execution_count": 43,
   "metadata": {
    "collapsed": false
   },
   "outputs": [
    {
     "name": "stdout",
     "output_type": "stream",
     "text": [
      "['the', 'of', 'and', 'to', 'in']\n",
      "[0.080353468880321952, 0.049455292548612188, 0.038205106504679551, 0.033368839757077697, 0.021727596662590724]\n"
     ]
    }
   ],
   "source": [
    "print([ivoc[i] for i in P_base.argsort()[::-1][:5]])\n",
    "print(sorted(P_base)[::-1][:5])"
   ]
  },
  {
   "cell_type": "markdown",
   "metadata": {},
   "source": [
    "Now let's compute $P(year)$ and $P(word,year)$.\n",
    "\n",
    "To do this, we'll write a function that returns a sum of word counts for a given year."
   ]
  },
  {
   "cell_type": "code",
   "execution_count": 44,
   "metadata": {
    "collapsed": false
   },
   "outputs": [
    {
     "name": "stdout",
     "output_type": "stream",
     "text": [
      "[1831, 1832, 1833, 1834, 1835, 1836, 1837, 1838, 1839, 1840, 1841, 1842, 1843, 1844, 1845, 1846, 1847, 1848, 1849, 1850, 1851, 1852, 1853, 1854, 1855, 1856, 1857, 1858, 1859, 1860, 1861, 1862, 1863, 1864, 1865]\n"
     ]
    }
   ],
   "source": [
    "all_years = sorted(list(set([date.year for date in dates])))\n",
    "print(all_years)"
   ]
  },
  {
   "cell_type": "code",
   "execution_count": 45,
   "metadata": {
    "collapsed": true
   },
   "outputs": [],
   "source": [
    "def get_X_year(X,dates,year):\n",
    "    return np.array(X[[i for i,date in enumerate(dates) if date.year==year],].sum(axis=0))[0]"
   ]
  },
  {
   "cell_type": "code",
   "execution_count": 46,
   "metadata": {
    "collapsed": false
   },
   "outputs": [
    {
     "name": "stdout",
     "output_type": "stream",
     "text": [
      "[ 2 14  4 ...,  0  0  0]\n",
      "[[ 2 14  4 ...,  0  0  0]]\n"
     ]
    }
   ],
   "source": [
    "print(get_X_year(X,dates,1851))\n",
    "print(X_1851.sum(axis=0))"
   ]
  },
  {
   "cell_type": "markdown",
   "metadata": {},
   "source": [
    "Now let's create this vector for each year."
   ]
  },
  {
   "cell_type": "code",
   "execution_count": 47,
   "metadata": {
    "collapsed": true
   },
   "outputs": [],
   "source": [
    "X_years = [get_X_year(X,dates,year) for year in all_years]"
   ]
  },
  {
   "cell_type": "code",
   "execution_count": 48,
   "metadata": {
    "collapsed": false
   },
   "outputs": [
    {
     "data": {
      "text/plain": [
       "[array([ 0, 21,  3, ...,  2,  0,  0], dtype=int64),\n",
       " array([ 2, 11, 12, ...,  2,  3,  1], dtype=int64),\n",
       " array([47, 12,  5, ...,  0,  0,  1], dtype=int64)]"
      ]
     },
     "execution_count": 48,
     "metadata": {},
     "output_type": "execute_result"
    }
   ],
   "source": [
    "X_years[:3]"
   ]
  },
  {
   "cell_type": "markdown",
   "metadata": {},
   "source": [
    "This is a list of arrays. We can combine this into a single array:"
   ]
  },
  {
   "cell_type": "code",
   "execution_count": 49,
   "metadata": {
    "collapsed": true
   },
   "outputs": [],
   "source": [
    "X_all_years = np.array(X_years)"
   ]
  },
  {
   "cell_type": "code",
   "execution_count": 50,
   "metadata": {
    "collapsed": true
   },
   "outputs": [],
   "source": [
    "P_year = X_all_years.sum(axis=1) / X_all_years.sum()"
   ]
  },
  {
   "cell_type": "code",
   "execution_count": 51,
   "metadata": {
    "collapsed": false
   },
   "outputs": [
    {
     "data": {
      "text/plain": [
       "array([ 0.01411366,  0.02101902,  0.00972623,  0.04188513,  0.0143407 ,\n",
       "        0.01494947,  0.0188828 ,  0.01691759,  0.05252363,  0.01493721,\n",
       "        0.06889783,  0.06110763,  0.06352518,  0.06204324,  0.03534689,\n",
       "        0.0140693 ,  0.02768742,  0.02650083,  0.01430919,  0.04323398,\n",
       "        0.02164997,  0.01436113,  0.03003085,  0.02764773,  0.01518527,\n",
       "        0.02963687,  0.01519111,  0.02934854,  0.01496873,  0.01472651,\n",
       "        0.04676459,  0.01539072,  0.01451872,  0.0445951 ,  0.02996723])"
      ]
     },
     "execution_count": 51,
     "metadata": {},
     "output_type": "execute_result"
    }
   ],
   "source": [
    "P_year"
   ]
  },
  {
   "cell_type": "code",
   "execution_count": 52,
   "metadata": {
    "collapsed": false
   },
   "outputs": [
    {
     "data": {
      "image/png": "[encoded data removed]",
      "text/plain": [
       "<matplotlib.figure.Figure at 0x10803c080>"
      ]
     },
     "metadata": {},
     "output_type": "display_data"
    }
   ],
   "source": [
    "plt.plot(all_years,P_year)\n",
    "plt.xlabel('year')\n",
    "plt.ylabel('percentage of all words');"
   ]
  },
  {
   "cell_type": "markdown",
   "metadata": {},
   "source": [
    "**Optional exercise** Create the same plot for months rather than years."
   ]
  },
  {
   "cell_type": "markdown",
   "metadata": {},
   "source": [
    "Now we're ready to compute the PMI."
   ]
  },
  {
   "cell_type": "code",
   "execution_count": 53,
   "metadata": {
    "collapsed": false
   },
   "outputs": [
    {
     "data": {
      "text/plain": [
       "20"
      ]
     },
     "execution_count": 53,
     "metadata": {},
     "output_type": "execute_result"
    }
   ],
   "source": [
    "all_years.index(1851)"
   ]
  },
  {
   "cell_type": "code",
   "execution_count": 54,
   "metadata": {
    "collapsed": false
   },
   "outputs": [
    {
     "data": {
      "text/plain": [
       "array([[ 0, 21,  3, ...,  2,  0,  0],\n",
       "       [ 2, 11, 12, ...,  2,  3,  1],\n",
       "       [47, 12,  5, ...,  0,  0,  1],\n",
       "       ..., \n",
       "       [ 0,  1, 10, ...,  0,  1,  0],\n",
       "       [ 1, 20, 13, ...,  5,  2,  5],\n",
       "       [ 1, 19,  6, ...,  3,  1,  1]], dtype=int64)"
      ]
     },
     "execution_count": 54,
     "metadata": {},
     "output_type": "execute_result"
    }
   ],
   "source": [
    "X_all_years"
   ]
  },
  {
   "cell_type": "code",
   "execution_count": 55,
   "metadata": {
    "collapsed": true
   },
   "outputs": [],
   "source": [
    "idx_1851 = all_years.index(1851)\n",
    "pmi_1851 = np.log(X_all_years[idx_1851,:]/X_all_years.sum()) - np.log(P_base) - np.log(P_year[idx_1851])"
   ]
  },
  {
   "cell_type": "markdown",
   "metadata": {},
   "source": [
    "That divide by zero error comes from taking the logarithm of zero, which will happen for every word that does not appear in the target year. Let's look at the output:"
   ]
  },
  {
   "cell_type": "code",
   "execution_count": 56,
   "metadata": {
    "collapsed": false
   },
   "outputs": [
    {
     "data": {
      "text/plain": [
       "array([-0.72112563,  0.1858105 , -0.8424113 , ...,        -inf,\n",
       "              -inf,        -inf])"
      ]
     },
     "execution_count": 56,
     "metadata": {},
     "output_type": "execute_result"
    }
   ],
   "source": [
    "pmi_1851"
   ]
  },
  {
   "cell_type": "markdown",
   "metadata": {},
   "source": [
    "numpy handles this pretty well, putting a value of `-inf` in the list. \n",
    "\n",
    "that means we can go ahead and use argsort to find the highest PMI words."
   ]
  },
  {
   "cell_type": "code",
   "execution_count": 57,
   "metadata": {
    "collapsed": false
   },
   "outputs": [
    {
     "data": {
      "text/plain": [
       "['1851', 'austria', 'fraternity', 'problem', 'theyshould']"
      ]
     },
     "execution_count": 57,
     "metadata": {},
     "output_type": "execute_result"
    }
   ],
   "source": [
    "[ivoc[i] for i in pmi_1851.argsort()[::-1][:5]]"
   ]
  },
  {
   "cell_type": "markdown",
   "metadata": {},
   "source": [
    "The top word is 1851! This is a good sign."
   ]
  },
  {
   "cell_type": "markdown",
   "metadata": {},
   "source": [
    "**Your turn** Write a function that takes the year as an argument, and returns the PMI for that year."
   ]
  },
  {
   "cell_type": "code",
   "execution_count": 63,
   "metadata": {
    "collapsed": true
   },
   "outputs": [],
   "source": [
    "def get_pmi_year(X_all_years,P_base,p_year,year):\n",
    "    # your code here\n",
    "    idx_year = all_years.index(year)\n",
    "    pmi_year = np.log(X_all_years[idx_year,:]/X_all_years.sum()) - np.log(P_base) - np.log(p_year[idx_year])\n",
    "    return pmi_year"
   ]
  },
  {
   "cell_type": "markdown",
   "metadata": {},
   "source": [
    "Here's how the output should look."
   ]
  },
  {
   "cell_type": "code",
   "execution_count": 59,
   "metadata": {
    "collapsed": false
   },
   "outputs": [
    {
     "name": "stdout",
     "output_type": "stream",
     "text": [
      "1831 ['weep', '1831', 'landlord', '1830', 'coach']\n",
      "1832 ['cup', 'deaths', 'deputy', 'refute', 'cholera']\n",
      "1833 ['planter', 'isle', 'spectator', '00', 'solomon']\n",
      "1834 ['overseers', 'chorus', '1834', 'augusta', 'overseer']\n",
      "1835 ['tracy', 'pull', '1835', 'purvis', 'madam']\n",
      "1836 ['glasgow', 'opponent', 'kidnapped', 'boasting', 'searched']\n",
      "1837 ['swallow', 'braintree', '1837', 'clerical', 'deprecate']\n",
      "1838 ['mob', 'remonstrances', 'kidnappers', 'erected', 'nought']\n",
      "1839 ['1839', 'harriet', 'disguise', 'marlboro', 'hilton']\n",
      "1840 ['goodell', 'manifesto', 'harrison', 'follen', 'emancipator']\n",
      "1841 ['1841', 'pierpont', 'lucretia', 'resistant', 'betrays']\n",
      "1842 ['1842', 'trains', 'giddings', 'nelson', 'pauper']\n",
      "1843 ['1843', 'stabbed', 'perkins', 'sham', 'bro']\n",
      "1844 ['1844', 'birney', 'polk', 'bath', 'bates']\n",
      "1845 ['writ', 'drunkenness', 'prosecuted', 'insurrections', 'employer']\n",
      "1846 ['rio', 'drunkard', 'cobb', 'del', 'elegance']\n",
      "1847 ['campbell', 'edinburgh', 'sand', 'thepoor', 'carved']\n",
      "1848 ['1848', 'traders', 'cass', 'taylor', 'tobring']\n",
      "1849 ['flowing', 'vary', 'mortality', 'flying', 'cholera']\n",
      "1850 ['proviso', 'california', 'thatin', 'summary', 'hunter']\n",
      "1851 ['1851', 'austria', 'fraternity', 'problem', 'theyshould']\n",
      "1852 ['mirror', 'nichols', '1852', 'piano', 'thefugitive']\n",
      "1853 ['1853', 'mulatto', 'militia', 'holley', 'constitutionof']\n",
      "1854 ['barker', '1854', 'browne', 'manchester', 'pamphlets']\n",
      "1855 ['faculties', 'veto', 'gardner', 'judiciary', 'residents']\n",
      "1856 ['brooks', 'disunion', 'buchanan', 'kansas', 'oster']\n",
      "1857 ['emerson', 'whiskey', 'oppress', 'strangers', 'baggage']\n",
      "1858 ['ills', 'thyself', 'circuit', 'allen', 'willard']\n",
      "1859 ['census', 'bailey', 'conducting', 'counter', 'atall']\n",
      "1860 ['1860', 'kent', 'systemof', 'crown', 'martyrs']\n",
      "1861 ['hisses', 'hare', 'tremont', 'rabble', 'concede']\n",
      "1862 ['potomac', 'superstition', 'napoleon', 'priesthood', 'rebels']\n",
      "1863 ['ruined', 'enforcement', 'puritans', 'pestilence', 'regiments']\n",
      "1864 ['fremont', 'volunteers', 'lovejoy', 'proclamation', 'lincoln']\n",
      "1865 ['serfs', 'thework', 'rebellious', 'restoration', 'pardon']\n"
     ]
    }
   ],
   "source": [
    "for year in all_years:\n",
    "    print(year,[ivoc[i] for i in get_pmi_year(X_all_years,P_base,P_year,year).argsort()[::-1][:5]])"
   ]
  },
  {
   "cell_type": "markdown",
   "metadata": {},
   "source": [
    "These results suggest possibilities for further research: why was \"drunkenness\" a concern in 1845 and 1846, etc."
   ]
  },
  {
   "cell_type": "code",
   "execution_count": 60,
   "metadata": {
    "collapsed": false
   },
   "outputs": [
    {
     "data": {
      "image/png": "[encoded data removed]",
      "text/plain": [
       "<matplotlib.figure.Figure at 0x108bb1d30>"
      ]
     },
     "metadata": {},
     "output_type": "display_data"
    }
   ],
   "source": [
    "plt.plot(all_years,X_all_years[:,vect.vocabulary_['drunkenness']],'bs:')\n",
    "plt.plot(all_years,X_all_years[:,vect.vocabulary_['kidnappers']],'gd-')\n",
    "plt.plot(all_years,X_all_years[:,vect.vocabulary_['census']],'ro--')\n",
    "plt.legend(['drunkenness','kidnappers','census'])\n",
    "plt.ylabel('count')\n",
    "plt.xlabel('year');"
   ]
  },
  {
   "cell_type": "markdown",
   "metadata": {
    "collapsed": true
   },
   "source": [
    "**Your turn**. Redo this analysis, using only words that appeared at least 50 times in the dataset."
   ]
  },
  {
   "cell_type": "code",
   "execution_count": 65,
   "metadata": {
    "collapsed": true
   },
   "outputs": [],
   "source": [
    "# your code here\n",
    "vect_50 = CountVectorizer(input='filename',min_df=50,binary=False)\n",
    "X_50 = vect_50.fit_transform(files)\n",
    "X_years_50 = [get_X_year(X_50,dates,year) for year in all_years]\n",
    "X_all_years_50 = np.array(X_years_50)"
   ]
  },
  {
   "cell_type": "code",
   "execution_count": 66,
   "metadata": {
    "collapsed": false
   },
   "outputs": [
    {
     "data": {
      "image/png": "[encoded data removed]",
      "text/plain": [
       "<matplotlib.figure.Figure at 0x108cc2b70>"
      ]
     },
     "metadata": {},
     "output_type": "display_data"
    }
   ],
   "source": [
    "plt.plot(all_years,X_all_years_50[:,vect_50.vocabulary_['woman']],'bs:')\n",
    "plt.plot(all_years,X_all_years_50[:,vect_50.vocabulary_['religion']],'gd-')\n",
    "plt.plot(all_years,X_all_years_50[:,vect_50.vocabulary_['african']],'ro--')\n",
    "plt.legend(['woman','religion','african'])\n",
    "plt.ylabel('count')\n",
    "plt.xlabel('year');"
   ]
  },
  {
   "cell_type": "markdown",
   "metadata": {},
   "source": [
    "# Year-to-year similarity\n",
    "\n",
    "Next, let's look for transitions in the data.\n",
    "\n",
    "For each pair of years, we can compute the cosine similarity,\n",
    "\n",
    "$\\cos(x,y) = \\frac{x \\cdot y}{||x|| \\times ||y||}$,\n",
    "\n",
    "with $\\cos(x,y) \\in [0,1]$"
   ]
  },
  {
   "cell_type": "code",
   "execution_count": 67,
   "metadata": {
    "collapsed": true
   },
   "outputs": [],
   "source": [
    "corr = np.zeros(X_all_years.shape[0]-1)\n",
    "for i,X_year in enumerate(X_all_years[:-1,]):\n",
    "    corr[i] = X_year.dot(X_all_years[i+1,]) / ((np.linalg.norm(X_year)) * (np.linalg.norm(X_all_years[i+1,])))"
   ]
  },
  {
   "cell_type": "code",
   "execution_count": 68,
   "metadata": {
    "collapsed": false
   },
   "outputs": [
    {
     "data": {
      "image/png": "[encoded data removed]",
      "text/plain": [
       "<matplotlib.figure.Figure at 0x10923ca58>"
      ]
     },
     "metadata": {},
     "output_type": "display_data"
    }
   ],
   "source": [
    "plt.plot(all_years[1:],corr)\n",
    "plt.xlabel('year')\n",
    "plt.ylabel('year-to-year similarity');"
   ]
  },
  {
   "cell_type": "markdown",
   "metadata": {},
   "source": [
    "**Your turn:** Compute the cosine similarity of each year with the sum over the previous three years (when applicable)"
   ]
  },
  {
   "cell_type": "code",
   "execution_count": 69,
   "metadata": {
    "collapsed": true
   },
   "outputs": [],
   "source": [
    "offset = 3\n",
    "corr_offset = [X_year.dot(X_all_years[i+offset,]) / (np.linalg.norm(X_year) * (np.linalg.norm(X_all_years[i+offset,]))) \n",
    "               for i, X_year in enumerate(X_all_years[:-offset])]"
   ]
  },
  {
   "cell_type": "code",
   "execution_count": 70,
   "metadata": {
    "collapsed": false
   },
   "outputs": [
    {
     "data": {
      "image/png": "[encoded data removed]",
      "text/plain": [
       "<matplotlib.figure.Figure at 0x10c2d4f60>"
      ]
     },
     "metadata": {},
     "output_type": "display_data"
    }
   ],
   "source": [
    "plt.plot(all_years[offset:],corr_offset)\n",
    "plt.xlabel('year')\n",
    "plt.ylabel('year-to-year similarity');"
   ]
  },
  {
   "cell_type": "markdown",
   "metadata": {},
   "source": [
    "We see that these 3-year transitions are \"spikier\" but also contained in a smaller range than the 1-year transitions. More smoothing could separate long-term trends from random fluctuations."
   ]
  },
  {
   "cell_type": "markdown",
   "metadata": {
    "collapsed": true
   },
   "source": [
    "## Lab extension: named entities during natural disaster\n",
    "The dramatic change in social conditions during a natural disaster can result in significant linguistic variation: information shared is at a premium. \n",
    "During a disaster, news coverage often centers on named entities such as location names that are involved in the disaster ([Sarcevic et al. 2010](http://www.ischool.drexel.edu/faculty/aSarcevic/pub/p47-sarcevic.pdf)). \n",
    "Furthermore, if they are able to communicate, the victims of the disaster may provide more specific information about the situation than outside obsevers, including information on specific entities on-the-ground that were affected by the disaster ([Starbird, Muzny, Palen 2012](http://www.iscramlive.org/ISCRAM2012/proceedings/148.pdf)).\n",
    "\n",
    "We pursue two research questions related to named entities in the context of Hurricane Maria, a storm that devastated Puerto Rico in late September 2017.\n",
    "\n",
    "RQ1: Is the amount of named entity usage noticeably higher at the height of the disaster as compared to before and after the disaster?\n",
    "\n",
    "RQ2: Does the distribution of named entity use change noticeably at the height of the disaster as compared to before and after the disaster?\n",
    "\n",
    "Possible language-based RQs:\n",
    "\n",
    "- More Spanish during hurricane?\n",
    "- Bilingual individuals using more Spanish during hurricane?\n",
    "- Less language similarity between days, users during hurricane (more surprising)?"
   ]
  },
  {
   "cell_type": "markdown",
   "metadata": {},
   "source": [
    "To address this question, we use a dataset of tweets tagged with at least one of the hashtags `#Maria`, `#HurricaneMaria`, and `#PuertoRico` collected from September 18, 2017 through October 4, 2017. For reference, Hurricane Maria made landfall on Puerto Rico on September 20, 2017 and dissipated on October 3, 2017. "
   ]
  },
  {
   "cell_type": "markdown",
   "metadata": {},
   "source": [
    "## Load data"
   ]
  },
  {
   "cell_type": "code",
   "execution_count": 41,
   "metadata": {
    "collapsed": false
   },
   "outputs": [
    {
     "name": "stdout",
     "output_type": "stream",
     "text": [
      "loaded 246783 tweets\n"
     ]
    }
   ],
   "source": [
    "import pandas as pd\n",
    "import os\n",
    "import json\n",
    "import gzip\n",
    "data_dir = 'data/'\n",
    "data_files = [os.path.join(data_dir, f) for f in os.listdir(data_dir) if f.endswith('.gz')]\n",
    "tweet_matrix = [[l.decode('utf-8').strip().split('\\t') for l in gzip.open(f, 'r')] for f in data_files]\n",
    "tweet_df = pd.concat([pd.DataFrame(t[1:], columns=t[0]) for t in tweet_matrix], axis=0)\n",
    "# need to reset index\n",
    "tweet_df.reset_index(inplace=True)\n",
    "print('loaded %d tweets'%(tweet_df.shape[0]))"
   ]
  },
  {
   "cell_type": "markdown",
   "metadata": {},
   "source": [
    "Let's remove hyperlinks, which might get mistagged as entities."
   ]
  },
  {
   "cell_type": "code",
   "execution_count": 42,
   "metadata": {
    "collapsed": true
   },
   "outputs": [],
   "source": [
    "import re\n",
    "# url_matcher = re.compile('https*://[\\w\\s\\./]+|pic.twitter.com/[\\w\\./]+')\n",
    "url_matcher = re.compile('https?://\\S+|pic.twitter.com/\\S+')\n",
    "tweet_df.loc[:, 'text'] = tweet_df.loc[:, 'text'].apply(lambda x: url_matcher.sub('', x))\n",
    "# also get rid of extra quotes\n",
    "tweet_df.loc[:, 'text'] = tweet_df.loc[:, 'text'].apply(lambda x: x.replace('\"', ''))"
   ]
  },
  {
   "cell_type": "markdown",
   "metadata": {},
   "source": [
    "There's probably a lot of Spanish in here, but that actually isn't a bad thing because the hypotheses can still apply regardless of language."
   ]
  },
  {
   "cell_type": "code",
   "execution_count": 45,
   "metadata": {
    "collapsed": false
   },
   "outputs": [
    {
     "name": "stdout",
     "output_type": "stream",
     "text": [
      "en    198248\n",
      "es     32417\n",
      "it      5289\n",
      "fr      3965\n",
      "la      1142\n",
      "Name: text, dtype: int64\n"
     ]
    }
   ],
   "source": [
    "from langid import classify\n",
    "tweet_lang_list = tweet_df.loc[:, 'text'].apply(lambda x: classify(x)[0])\n",
    "tweet_df.loc[:, 'lang'] = tweet_lang_list\n",
    "tweet_lang_counts = tweet_lang_list.value_counts().sort_values(inplace=False, ascending=False)\n",
    "print(tweet_lang_counts.head())"
   ]
  },
  {
   "cell_type": "markdown",
   "metadata": {},
   "source": [
    "To stay sane, we will focus on just the English and Spanish tweets."
   ]
  },
  {
   "cell_type": "markdown",
   "metadata": {},
   "source": [
    "Write clean text to file for named entity recognition."
   ]
  },
  {
   "cell_type": "code",
   "execution_count": 61,
   "metadata": {
    "collapsed": false
   },
   "outputs": [],
   "source": [
    "import codecs\n",
    "valid_langs = ['en', 'es']\n",
    "for lang in valid_langs:\n",
    "    tweet_df_lang = tweet_df[tweet_df.loc[:, 'lang'] == lang]\n",
    "    clean_txt_file = 'data/tweet_text_%s.txt'%(lang)\n",
    "    with codecs.open(clean_txt_file, 'w') as clean_txt_output:\n",
    "        N = tweet_df_lang.index.max()\n",
    "        for i, l in zip(tweet_df_lang.index, tweet_df_lang.loc[:, 'text']):\n",
    "            # need to include index to original dataframe\n",
    "            l_clean = l.encode('utf-8').replace('\\n', '')\n",
    "            clean_txt_output.write('%d\\t%s'%(i, l_clean))\n",
    "            # add line break for every line except the last\n",
    "            if(i < N):\n",
    "                clean_txt_output.write('\\n')"
   ]
  },
  {
   "cell_type": "markdown",
   "metadata": {},
   "source": [
    "## Tag named entities"
   ]
  },
  {
   "cell_type": "markdown",
   "metadata": {},
   "source": [
    "To tag named entities in English, we use the model developed by [Ritter et al. (2011)](https://aclanthology.info/pdf/D/D11/D11-1141.pdf), available for download [here](https://github.com/aritter/twitter_nlp).\n",
    "\n",
    "To tag named entities in Spanish, we use the model developed as part of Stanford's CoreNLP package [here](http://nlp.stanford.edu/software/stanford-spanish-corenlp-2017-06-09-models.jar)."
   ]
  },
  {
   "cell_type": "markdown",
   "metadata": {},
   "source": [
    "Outside of the notebook: \n",
    "- We run tag_english_txt.sh for the English data:\n",
    "\n",
    "`bash tag_english_txt.sh`\n",
    "- We run tag_spanish_txt.sh for the Spanish data (setup help [here](https://stackoverflow.com/questions/34037094/setting-nltk-with-stanford-nlp-both-stanfordnertagger-and-stanfordpostagger-fo)):\n",
    "\n",
    "`bash tag_spanish_txt.sh`."
   ]
  },
  {
   "cell_type": "markdown",
   "metadata": {},
   "source": [
    "Let's check the results from both."
   ]
  },
  {
   "cell_type": "code",
   "execution_count": 63,
   "metadata": {
    "collapsed": true
   },
   "outputs": [],
   "source": [
    "tweet_txt_tagged_en_file = 'data/tweet_text_en_ner.txt'\n",
    "tweet_txt_tagged_es_file = 'data/tweet_text_es_ner.txt'\n",
    "tweet_txt_tagged_en = [l.strip() for l in open(tweet_txt_tagged_en_file, 'r')]\n",
    "tweet_txt_tagged_es = [l.strip() for l in open(tweet_txt_tagged_es_file, 'r')]"
   ]
  },
  {
   "cell_type": "markdown",
   "metadata": {},
   "source": [
    "**English tags:**"
   ]
  },
  {
   "cell_type": "code",
   "execution_count": 65,
   "metadata": {
    "collapsed": false
   },
   "outputs": [
    {
     "name": "stdout",
     "output_type": "stream",
     "text": [
      "1\t#HurricaneMaria/O was/O Category/O ONE/O less/O than/O 18/O hours/O ago/O .../O @KRLD/O …/O\n",
      "4\tWill/O be/O a/O close/O call/O ,/O but/O some/O models/O take/O #Maria/O far/O enough/O north/O for/O the/O eyewall/O to/O miss/B-ENTITY Puerto/I-ENTITY Rico/I-ENTITY ./O\n",
      "5\tHere/O we/O go/O again/O Florida/B-ENTITY !/O #HurricaneMaria/O …/O\n",
      "6\t#Maria/B-ENTITY is/O now/O a/O Category/O 5/O with/O sustained/O winds/O of/O 160mph/O ./O Wow/O ./O\n",
      "7\t*/O #CARIBBEAN/O :/O MAJOR/B-ENTITY HURRICANE/I-ENTITY #MARIA/O -/O ALERT/B-ENTITY :/O #Dominica/O #Guadeloupe/O #Montserrat/B-ENTITY :/O Maria/B-ENTITY is/O now/O a/O .../O\n",
      "9\t#HurricaneMaria/O Category/O 5/O\n",
      "10\tDBS/B-ENTITY Radio/I-ENTITY plays/O religious/O music/O and/O talks/O over/O it/O .../O announcer/O just/O declared/O the/O sea/O was/O angry/O ./O #HurricaneMaria/O\n",
      "11\tJUST/O IN/O :/O Hurricane/O hunters/O flying/O through/O #Maria/O find/O sustained/O winds/O of/O 160/O mph/O ;/O the/O storm/O is/O now/O a/O Category/O 5/O\n",
      "12\tTrending/O now/O in/O LATAM/O :/O #NadieSeImaginaQ/O :/O #PERUMIN33/O :/O #PuertoRico/O :/O #SiVotamosGanamos/O\n",
      "13\t#Maria/O is/O now/O a/O Cat/O 5/O hurricane/O with/O sustained/O winds/O at/O 160/O mph/O ./O #tropics/O\n"
     ]
    }
   ],
   "source": [
    "print('\\n'.join(tweet_txt_tagged_en[:10]))"
   ]
  },
  {
   "cell_type": "markdown",
   "metadata": {},
   "source": [
    "**Spanish tags:**"
   ]
  },
  {
   "cell_type": "code",
   "execution_count": 66,
   "metadata": {
    "collapsed": false
   },
   "outputs": [
    {
     "name": "stdout",
     "output_type": "stream",
     "text": [
      "0/O #URGENTE/O -/O HURACÁN/O #MARIA/O :/O Se/O dirige/O ahora/O a/O las/O islas/O Dominica/PERS y/O tiene/O vientos/O sostenidos/O de/O 257/O km/h/O ./O\n",
      "2/O La/O probabilidad/O de/O que/O #María/O no/O nos/O parta/O tiene/O una/O correlación/O proporcional/O e/O inversa/O a/O la/O llegada/O de/O la/O Estadidad/LUG ./O\n",
      "#TweetSerio/O 16/O El/O huracán/O Maria/PERS nos/O va/O a/O partir/O como/O crayola/O de/O kinder/O .../O #PrayForPuertoRico/O #PuertoRico/O #HuracanMaria/O #pauti/O @SOYJOSHUAPAUTA/O 25/O Con/O vientos/O sostenidos/O de/O 160mph/ORG ,/O #Maria/O se/O convierte/O en/O huracán/O categoría/O 5/O ./O\n",
      ".../O 29/O Me/O tinca/O que/O mañana/O comenzarán/O las/O transmisiones/O en/O cadena/O nacional/O del/O huracán/O #Maria/O .../O 30/O a/O las/O 1900h/O #Maria/O es/O ahora/O categoria/O 5/O 37/O @COE_RD/O ordena/O evacuaciones/O preventivas/O a/O partir/O de/O mañana/O por/O huracán/O #María/O 40/O #URGENTE/O HURACÁN/O #MARIA/O :/O El/O Pdte/ORG Trump/ORG declara/O Estado/ORG de/O Emergencia/OTROS para/O Puerto/LUG Rico/LUG ./O\n",
      "53/O #CoberturaEspecial/O :/O Mira/O cómo/O se/O forma/O un/O huracán/O ;/O te/O quedarás/O con/O la/O boca/O abierta/O -LRB-/O National/ORG Geographic/ORG -RRB-/ORG ?/O\n",
      "stor/O y_fbid/O =/O 1533030150052815/O &/O id/O =/O 569319269757246/O &/O _/O rdr/O .../O #María/O 58/O Catalogan/O como/O peligroso/O al/O huracán/O #María/O ./O\n",
      "64/O Los/O científicos/O dicen/O que/O si/O tuitean/O #PrayForPuertoRico/O ,/O #Maria/O se/O va/O a/O desviar/O 69/O !/O\n",
      "CATEGORÍA/O 5/O !/O\n",
      "#María/O se/O fortalece/O y/O alcanza/O la/O mayor/O potencia/O en/O la/O escala/O metereológica/O e/O .../O 82/O #HurricaneMaria/O Categoría/O 5/O 84/O Esto/O dan/O ganas/O de/O llorar/O !/O\n",
      "#HurricaneMaria/O 91/O Los/O que/O se/O quejaron/O por/O la/O comprima/ORG del/ORG #HuracanIrma/ORG que/O vayan/O retocando/O la/O despensa/O que/O el/O #HurricaneMaria/O ya/O es/O categoría/O 5/O ./O\n"
     ]
    }
   ],
   "source": [
    "print('\\n'.join(tweet_txt_tagged_es[:10]))"
   ]
  },
  {
   "cell_type": "code",
   "execution_count": 47,
   "metadata": {
    "collapsed": false
   },
   "outputs": [
    {
     "name": "stdout",
     "output_type": "stream",
     "text": [
      "0. original: #URGENTE - HURACÁN #MARIA : Se dirige ahora a las islas Dominica y tiene vientos sostenidos de 257 km/h.\n",
      "0. tagged: #URGENTE/O -/O HURACÁN/O #MARIA/O :/O Se/O dirige/O ahora/O a/O las/O islas/O Dominica/PERS y/O tiene/O vientos/O sostenidos/O de/O 257/O km/ORG /ORG h/ORG ./O\n",
      "1. original: La probabilidad de que #María no nos parta tiene una correlación proporcional e inversa a la llegada de la Estadidad. #TweetSerio\n",
      "1. tagged: La/O probabilidad/O de/O que/O #María/O no/O nos/O parta/O tiene/O una/O correlación/O proporcional/O e/O inversa/O a/O la/O llegada/O de/O la/O Estadidad/LUG ./O #TweetSerio/O\n",
      "2. original: El huracán Maria nos va a partir como crayola de kinder ... #PrayForPuertoRico #PuertoRico #HuracanMaria #pauti @SOYJOSHUAPAUTA \n",
      "2. tagged: El/O huracán/O Maria/PERS nos/O va/O a/O partir/O como/O crayola/O de/O kinder/O .../O #PrayForPuertoRico/O #PuertoRico/O #HuracanMaria/O #pauti/O @SOYJOSHUAPAUTA/O\n",
      "3. original: Con vientos sostenidos de 160mph, #Maria se convierte en huracán categoría 5. …\n",
      "3. tagged: Con/O vientos/O sostenidos/O de/O 160mph/ORG ,/O #Maria/O se/O convierte/O en/O huracán/O categoría/O 5/O ./O …/O\n",
      "4. original: Me tinca que mañana comenzarán las transmisiones en cadena nacional del huracán #Maria …\n",
      "4. tagged: Me/O tinca/O que/O mañana/O comenzarán/O las/O transmisiones/O en/O cadena/O nacional/O del/O huracán/O #Maria/O …/O\n",
      "5. original: a las 1900h #Maria es ahora categoria 5 \n",
      "5. tagged: a/O las/O 1900h/O #Maria/O es/O ahora/O categoria/O 5/O\n",
      "6. original: @COE_RD ordena evacuaciones preventivas a partir de mañana por huracán #María\n",
      "6. tagged: @COE_RD/O ordena/O evacuaciones/O preventivas/O a/O partir/O de/O mañana/O por/O huracán/O #María/O\n",
      "7. original: #URGENTE HURACÁN #MARIA : El Pdte Trump declara Estado de Emergencia para Puerto Rico.\n",
      "7. tagged: #URGENTE/O HURACÁN/O #MARIA/O :/O El/O Pdte/ORG Trump/ORG declara/O Estado/ORG de/O Emergencia/OTROS para/O Puerto/LUG Rico/LUG ./O\n",
      "8. original: #CoberturaEspecial : Mira cómo se forma un huracán; te quedarás con la boca abierta (National Geographic) ?stor y_fbid=1533030150052815&id=569319269757246&_rdr … #María \n",
      "8. tagged: #CoberturaEspecial/O :/O Mira/O cómo/O se/O forma/O un/O huracán/O ;/O te/O quedarás/O con/O la/O boca/O abierta/O (/O National/ORG Geographic/ORG )/ORG ?/O stor/O y_fbid/O =/O 15330301500/O 52815/O &/O id/O =/O 5693192697/O 57246/O &/O _rdr/O …/O #María/O\n",
      "9. original: Catalogan como peligroso al huracán #María . \n",
      "9. tagged: Catalogan/O como/O peligroso/O al/O huracán/O #María/O ./O\n"
     ]
    }
   ],
   "source": [
    "from nltk.tag import StanfordNERTagger\n",
    "from nltk.tokenize.casual import TweetTokenizer\n",
    "model_file = 'lib/stanford-spanish/edu/stanford/nlp/models/ner/spanish.ancora.distsim.s512.crf.ser.gz'\n",
    "jar_file = 'lib/stanford-ner-2017-06-09/stanford-ner.jar'\n",
    "tagger = StanfordNERTagger(model_filename=model_file, path_to_jar=jar_file)\n",
    "tokenizer = TweetTokenizer()\n",
    "test_sentences = tweet_df[tweet_df.loc[:, 'lang'] == 'es'].loc[:, 'text'][0:10]\n",
    "for i, s in enumerate(test_sentences):\n",
    "    s_tags = tagger.tag(tokenizer.tokenize(s))\n",
    "    print('%d. original: %s'%(i, s))\n",
    "    print('%d. tagged: %s'%(i, ' '.join(['/'.join(t) for t in s_tags])))"
   ]
  },
  {
   "cell_type": "markdown",
   "metadata": {},
   "source": [
    "Some of these are pretty good!\n",
    "\n",
    "- (2) `Maria` => `PERS`\n",
    "- (3) `Estadidad` => `LUG` (lugar = \"location\")\n",
    "- (7) `Pdte Trump` => `ORG`\n",
    "- (7) `Puerto Rico` => `LUG`\n",
    "- (8) `National Geographic` => `ORG`\n",
    "\n",
    "Some are also pretty bad!\n",
    "\n",
    "- (3) `160mph` => `ORG`\n",
    "- (9) `huracán #Maria` => `O`"
   ]
  },
  {
   "cell_type": "markdown",
   "metadata": {},
   "source": [
    "It seems like the good outweighs the bad, so let's do Spanish too."
   ]
  },
  {
   "cell_type": "code",
   "execution_count": null,
   "metadata": {
    "collapsed": true
   },
   "outputs": [],
   "source": []
  },
  {
   "cell_type": "markdown",
   "metadata": {},
   "source": [
    "## Sanity check: look at most popular named entities"
   ]
  },
  {
   "cell_type": "code",
   "execution_count": null,
   "metadata": {
    "collapsed": true
   },
   "outputs": [],
   "source": []
  }
 ],
 "metadata": {
  "kernelspec": {
   "display_name": "Python 2",
   "language": "python",
   "name": "python2"
  },
  "language_info": {
   "codemirror_mode": {
    "name": "ipython",
    "version": 2
   },
   "file_extension": ".py",
   "mimetype": "text/x-python",
   "name": "python",
   "nbconvert_exporter": "python",
   "pygments_lexer": "ipython2",
   "version": "2.7.10"
  }
 },
 "nbformat": 4,
 "nbformat_minor": 2
}
