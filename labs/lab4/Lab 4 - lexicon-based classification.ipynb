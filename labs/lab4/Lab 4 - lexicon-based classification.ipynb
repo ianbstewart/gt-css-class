{
 "cells": [
  {
   "cell_type": "markdown",
   "metadata": {},
   "source": [
    "Lab 4: Lexicon-based text classification\n",
    "=================="
   ]
  },
  {
   "cell_type": "code",
   "execution_count": 1,
   "metadata": {
    "collapsed": true
   },
   "outputs": [],
   "source": [
    "# python 2 compatibility\n",
    "from __future__ import print_function"
   ]
  },
  {
   "cell_type": "markdown",
   "metadata": {},
   "source": [
    "We'll get data and sentiment lexicons from nltk (natural language toolkit)"
   ]
  },
  {
   "cell_type": "code",
   "execution_count": 2,
   "metadata": {
    "collapsed": false
   },
   "outputs": [
    {
     "name": "stdout",
     "output_type": "stream",
     "text": [
      "Collecting nltk\n",
      "  Downloading nltk-3.2.4.tar.gz (1.2MB)\n",
      "\u001b[K    100% |████████████████████████████████| 1.2MB 1.2MB/s \n",
      "\u001b[?25hCollecting six (from nltk)\n",
      "  Downloading six-1.11.0-py2.py3-none-any.whl\n",
      "Building wheels for collected packages: nltk\n",
      "  Running setup.py bdist_wheel for nltk ... \u001b[?25l-\b \b\\\b \b|\b \bdone\n",
      "\u001b[?25h  Stored in directory: /home/jacob/.cache/pip/wheels/79/8b/2a/b2da7fce57a1fd9b20b08fa8800c83b6fde62af9e880722e29\n",
      "Successfully built nltk\n",
      "Installing collected packages: six, nltk\n",
      "Successfully installed nltk-3.2.4 six-1.11.0\n"
     ]
    }
   ],
   "source": [
    "! pip3 install --user nltk"
   ]
  },
  {
   "cell_type": "code",
   "execution_count": 3,
   "metadata": {
    "collapsed": true
   },
   "outputs": [],
   "source": [
    "import nltk"
   ]
  },
  {
   "cell_type": "code",
   "execution_count": 4,
   "metadata": {
    "collapsed": false
   },
   "outputs": [
    {
     "name": "stdout",
     "output_type": "stream",
     "text": [
      "[nltk_data] Downloading package opinion_lexicon to\n",
      "[nltk_data]     /home/jacob/nltk_data...\n",
      "[nltk_data]   Unzipping corpora/opinion_lexicon.zip.\n"
     ]
    },
    {
     "data": {
      "text/plain": [
       "True"
      ]
     },
     "execution_count": 4,
     "metadata": {},
     "output_type": "execute_result"
    }
   ],
   "source": [
    "nltk.download('opinion_lexicon')"
   ]
  },
  {
   "cell_type": "markdown",
   "metadata": {},
   "source": [
    "# Using the opinion lexicon"
   ]
  },
  {
   "cell_type": "code",
   "execution_count": 5,
   "metadata": {
    "collapsed": true
   },
   "outputs": [],
   "source": [
    "from nltk.corpus import opinion_lexicon"
   ]
  },
  {
   "cell_type": "code",
   "execution_count": 6,
   "metadata": {
    "collapsed": false
   },
   "outputs": [
    {
     "data": {
      "text/plain": [
       "['a+', 'abound', 'abounds', 'abundance', 'abundant', ...]"
      ]
     },
     "execution_count": 6,
     "metadata": {},
     "output_type": "execute_result"
    }
   ],
   "source": [
    "opinion_lexicon.positive()"
   ]
  },
  {
   "cell_type": "code",
   "execution_count": 7,
   "metadata": {
    "collapsed": false
   },
   "outputs": [
    {
     "data": {
      "text/plain": [
       "['2-faced', '2-faces', 'abnormal', 'abolish', ...]"
      ]
     },
     "execution_count": 7,
     "metadata": {},
     "output_type": "execute_result"
    }
   ],
   "source": [
    "opinion_lexicon.negative()"
   ]
  },
  {
   "cell_type": "markdown",
   "metadata": {},
   "source": [
    "**Your turn**: think of three positive and negative sentiment words. See if they are in the lexicons."
   ]
  },
  {
   "cell_type": "code",
   "execution_count": 8,
   "metadata": {
    "collapsed": true
   },
   "outputs": [],
   "source": [
    "# replace with your own words\n",
    "my_pos = ['good','great','groovy']\n",
    "my_neg = ['sick','demented','nasty']"
   ]
  },
  {
   "cell_type": "code",
   "execution_count": 9,
   "metadata": {
    "collapsed": false
   },
   "outputs": [
    {
     "name": "stdout",
     "output_type": "stream",
     "text": [
      "good True False\n",
      "great True False\n",
      "groovy False False\n",
      "sick False True\n",
      "demented False False\n",
      "nasty False True\n"
     ]
    }
   ],
   "source": [
    "# run this to see if they are in the lexicons\n",
    "for lex in [my_pos,my_neg]:\n",
    "    for word in lex:\n",
    "        print(word,word in opinion_lexicon.positive(),word in opinion_lexicon.negative())"
   ]
  },
  {
   "cell_type": "markdown",
   "metadata": {},
   "source": [
    "# Loading tweets\n",
    "\n",
    "We'll use the data from the `Semeval 2017` shared task on sentiment analysis. \n",
    "\n",
    "http://alt.qcri.org/semeval2017/task4/"
   ]
  },
  {
   "cell_type": "code",
   "execution_count": 10,
   "metadata": {
    "collapsed": true
   },
   "outputs": [],
   "source": [
    "import pandas as pd"
   ]
  },
  {
   "cell_type": "code",
   "execution_count": 11,
   "metadata": {
    "collapsed": true
   },
   "outputs": [],
   "source": [
    "df = pd.read_csv('twitter-2015train-A.txt',delimiter='\\t',names=['tweet_ID','label','text'])"
   ]
  },
  {
   "cell_type": "code",
   "execution_count": 12,
   "metadata": {
    "collapsed": false
   },
   "outputs": [
    {
     "data": {
      "text/html": [
       "<div>\n",
       "<style>\n",
       "    .dataframe thead tr:only-child th {\n",
       "        text-align: right;\n",
       "    }\n",
       "\n",
       "    .dataframe thead th {\n",
       "        text-align: left;\n",
       "    }\n",
       "\n",
       "    .dataframe tbody tr th {\n",
       "        vertical-align: top;\n",
       "    }\n",
       "</style>\n",
       "<table border=\"1\" class=\"dataframe\">\n",
       "  <thead>\n",
       "    <tr style=\"text-align: right;\">\n",
       "      <th></th>\n",
       "      <th>tweet_ID</th>\n",
       "      <th>label</th>\n",
       "      <th>text</th>\n",
       "    </tr>\n",
       "  </thead>\n",
       "  <tbody>\n",
       "    <tr>\n",
       "      <th>0</th>\n",
       "      <td>105121481662541824</td>\n",
       "      <td>negative</td>\n",
       "      <td>I forgot how sad the first episode of the 5th ...</td>\n",
       "    </tr>\n",
       "    <tr>\n",
       "      <th>1</th>\n",
       "      <td>104319460143415296</td>\n",
       "      <td>negative</td>\n",
       "      <td>Oct. 2 is almost too far away for me to wait f...</td>\n",
       "    </tr>\n",
       "    <tr>\n",
       "      <th>2</th>\n",
       "      <td>103641916586999808</td>\n",
       "      <td>neutral</td>\n",
       "      <td>(OFF TOPIC) - there is only 3 episodes on the ...</td>\n",
       "    </tr>\n",
       "    <tr>\n",
       "      <th>3</th>\n",
       "      <td>100544750414864384</td>\n",
       "      <td>neutral</td>\n",
       "      <td>@iheardavoicesay is finally catching up to me ...</td>\n",
       "    </tr>\n",
       "    <tr>\n",
       "      <th>4</th>\n",
       "      <td>102220476499243008</td>\n",
       "      <td>neutral</td>\n",
       "      <td>I downloaded the first season of #Dexter, gonn...</td>\n",
       "    </tr>\n",
       "  </tbody>\n",
       "</table>\n",
       "</div>"
      ],
      "text/plain": [
       "             tweet_ID     label  \\\n",
       "0  105121481662541824  negative   \n",
       "1  104319460143415296  negative   \n",
       "2  103641916586999808   neutral   \n",
       "3  100544750414864384   neutral   \n",
       "4  102220476499243008   neutral   \n",
       "\n",
       "                                                text  \n",
       "0  I forgot how sad the first episode of the 5th ...  \n",
       "1  Oct. 2 is almost too far away for me to wait f...  \n",
       "2  (OFF TOPIC) - there is only 3 episodes on the ...  \n",
       "3  @iheardavoicesay is finally catching up to me ...  \n",
       "4  I downloaded the first season of #Dexter, gonn...  "
      ]
     },
     "execution_count": 12,
     "metadata": {},
     "output_type": "execute_result"
    }
   ],
   "source": [
    "df.head()"
   ]
  },
  {
   "cell_type": "markdown",
   "metadata": {},
   "source": [
    "We need to break each tweet into **tokens**. To do this, we use a tokenizer."
   ]
  },
  {
   "cell_type": "code",
   "execution_count": 13,
   "metadata": {
    "collapsed": true
   },
   "outputs": [],
   "source": [
    "from nltk.tokenize import TweetTokenizer"
   ]
  },
  {
   "cell_type": "code",
   "execution_count": 15,
   "metadata": {
    "collapsed": true
   },
   "outputs": [],
   "source": [
    "tokenizer = TweetTokenizer()"
   ]
  },
  {
   "cell_type": "code",
   "execution_count": 16,
   "metadata": {
    "collapsed": false
   },
   "outputs": [
    {
     "name": "stdout",
     "output_type": "stream",
     "text": [
      "@lilyeliza1 Bruce Willis\\u002c Bill Murray and Ed Norton all in the same film. I may faint.\n",
      "['@lilyeliza1', 'Bruce', 'Willis', '\\\\', 'u002c', 'Bill', 'Murray', 'and', 'Ed', 'Norton', 'all', 'in', 'the', 'same', 'film', '.', 'I', 'may', 'faint', '.']\n"
     ]
    }
   ],
   "source": [
    "# tweet tokenization\n",
    "print(df.loc[121].text)\n",
    "print(tokenizer.tokenize(df.loc[121].text))"
   ]
  },
  {
   "cell_type": "code",
   "execution_count": 17,
   "metadata": {
    "collapsed": false
   },
   "outputs": [
    {
     "name": "stdout",
     "output_type": "stream",
     "text": [
      "['@lilyeliza1', 'Bruce', 'Willis\\\\u002c', 'Bill', 'Murray', 'and', 'Ed', 'Norton', 'all', 'in', 'the', 'same', 'film.', 'I', 'may', 'faint.']\n"
     ]
    }
   ],
   "source": [
    "# whitespace tokenization\n",
    "print(df.loc[121].text.split())"
   ]
  },
  {
   "cell_type": "markdown",
   "metadata": {},
   "source": [
    "**Discuss**: what are the differences between these two tokenizations?"
   ]
  },
  {
   "cell_type": "markdown",
   "metadata": {},
   "source": [
    "## Counting tokens"
   ]
  },
  {
   "cell_type": "code",
   "execution_count": 59,
   "metadata": {
    "collapsed": false
   },
   "outputs": [],
   "source": [
    "# here is a function to count the tokens in a tweet against a lexicon\n",
    "def count_words(text,lex_list):\n",
    "    assert(type(lex_list) == list)\n",
    "    tokens = [token.lower() for token in tokenizer.tokenize(text)]\n",
    "    return [len([token for token in tokens if token in lex]) for lex in lex_list]"
   ]
  },
  {
   "cell_type": "markdown",
   "metadata": {},
   "source": [
    "This function turned out to be too slow on the full data"
   ]
  },
  {
   "cell_type": "code",
   "execution_count": 83,
   "metadata": {
    "collapsed": false
   },
   "outputs": [
    {
     "name": "stdout",
     "output_type": "stream",
     "text": [
      "10 loops, best of 3: 146 ms per loop\n"
     ]
    }
   ],
   "source": [
    "%%timeit\n",
    "count_words(df.loc[121].text,[opinion_lexicon.negative()])"
   ]
  },
  {
   "cell_type": "code",
   "execution_count": 84,
   "metadata": {
    "collapsed": false
   },
   "outputs": [
    {
     "data": {
      "text/plain": [
       "489"
      ]
     },
     "execution_count": 84,
     "metadata": {},
     "output_type": "execute_result"
    }
   ],
   "source": [
    "len(df)"
   ]
  },
  {
   "cell_type": "markdown",
   "metadata": {},
   "source": [
    "$146ms * 489 \\approx 70 s$ -- too slow!"
   ]
  },
  {
   "cell_type": "code",
   "execution_count": 85,
   "metadata": {
    "collapsed": true
   },
   "outputs": [],
   "source": [
    "# this function uses set intersection instead\n",
    "def count_words_sets(text,lex_list):\n",
    "    assert(type(lex_list) == list)\n",
    "    tokens = set([token.lower() for token in tokenizer.tokenize(text)])\n",
    "    return [len(tokens.intersection(lex)) for lex in lex_list]"
   ]
  },
  {
   "cell_type": "code",
   "execution_count": 86,
   "metadata": {
    "collapsed": true
   },
   "outputs": [],
   "source": [
    "neg_set = set(opinion_lexicon.negative())"
   ]
  },
  {
   "cell_type": "code",
   "execution_count": 87,
   "metadata": {
    "collapsed": false
   },
   "outputs": [
    {
     "data": {
      "text/plain": [
       "[1]"
      ]
     },
     "execution_count": 87,
     "metadata": {},
     "output_type": "execute_result"
    }
   ],
   "source": [
    "count_words_sets(df.loc[121].text,[neg_set])"
   ]
  },
  {
   "cell_type": "code",
   "execution_count": 88,
   "metadata": {
    "collapsed": false
   },
   "outputs": [
    {
     "name": "stdout",
     "output_type": "stream",
     "text": [
      "The slowest run took 9.67 times longer than the fastest. This could mean that an intermediate result is being cached.\n",
      "10000 loops, best of 3: 168 µs per loop\n"
     ]
    }
   ],
   "source": [
    "%%timeit\n",
    "count_words_sets(df.loc[121].text,[neg_set])"
   ]
  },
  {
   "cell_type": "markdown",
   "metadata": {},
   "source": [
    "Much faster"
   ]
  },
  {
   "cell_type": "markdown",
   "metadata": {},
   "source": [
    "**Your turn** Convert the positive lexicon into a set called `pos_set`, and run count_words_sets on the same message"
   ]
  },
  {
   "cell_type": "code",
   "execution_count": 20,
   "metadata": {
    "collapsed": true
   },
   "outputs": [],
   "source": [
    "# your code here"
   ]
  },
  {
   "cell_type": "markdown",
   "metadata": {},
   "source": [
    "Now let's add columns to the data frame for the positive and negative token counts"
   ]
  },
  {
   "cell_type": "code",
   "execution_count": 92,
   "metadata": {
    "collapsed": false
   },
   "outputs": [],
   "source": [
    "counts = [count_words(text,[pos_set,neg_set]) for text in df['text']]"
   ]
  },
  {
   "cell_type": "code",
   "execution_count": 93,
   "metadata": {
    "collapsed": true
   },
   "outputs": [],
   "source": [
    "df = df.assign(pos_words = [count[0] for count in counts])\n",
    "df = df.assign(neg_words = [count[1] for count in counts])"
   ]
  },
  {
   "cell_type": "code",
   "execution_count": 94,
   "metadata": {
    "collapsed": false
   },
   "outputs": [
    {
     "data": {
      "text/html": [
       "<div>\n",
       "<style>\n",
       "    .dataframe thead tr:only-child th {\n",
       "        text-align: right;\n",
       "    }\n",
       "\n",
       "    .dataframe thead th {\n",
       "        text-align: left;\n",
       "    }\n",
       "\n",
       "    .dataframe tbody tr th {\n",
       "        vertical-align: top;\n",
       "    }\n",
       "</style>\n",
       "<table border=\"1\" class=\"dataframe\">\n",
       "  <thead>\n",
       "    <tr style=\"text-align: right;\">\n",
       "      <th></th>\n",
       "      <th>tweet_ID</th>\n",
       "      <th>label</th>\n",
       "      <th>text</th>\n",
       "      <th>pos_words</th>\n",
       "      <th>neg_words</th>\n",
       "    </tr>\n",
       "  </thead>\n",
       "  <tbody>\n",
       "    <tr>\n",
       "      <th>0</th>\n",
       "      <td>105121481662541824</td>\n",
       "      <td>negative</td>\n",
       "      <td>I forgot how sad the first episode of the 5th ...</td>\n",
       "      <td>0</td>\n",
       "      <td>1</td>\n",
       "    </tr>\n",
       "    <tr>\n",
       "      <th>1</th>\n",
       "      <td>104319460143415296</td>\n",
       "      <td>negative</td>\n",
       "      <td>Oct. 2 is almost too far away for me to wait f...</td>\n",
       "      <td>0</td>\n",
       "      <td>0</td>\n",
       "    </tr>\n",
       "    <tr>\n",
       "      <th>2</th>\n",
       "      <td>103641916586999808</td>\n",
       "      <td>neutral</td>\n",
       "      <td>(OFF TOPIC) - there is only 3 episodes on the ...</td>\n",
       "      <td>0</td>\n",
       "      <td>0</td>\n",
       "    </tr>\n",
       "    <tr>\n",
       "      <th>3</th>\n",
       "      <td>100544750414864384</td>\n",
       "      <td>neutral</td>\n",
       "      <td>@iheardavoicesay is finally catching up to me ...</td>\n",
       "      <td>0</td>\n",
       "      <td>0</td>\n",
       "    </tr>\n",
       "    <tr>\n",
       "      <th>4</th>\n",
       "      <td>102220476499243008</td>\n",
       "      <td>neutral</td>\n",
       "      <td>I downloaded the first season of #Dexter, gonn...</td>\n",
       "      <td>0</td>\n",
       "      <td>0</td>\n",
       "    </tr>\n",
       "  </tbody>\n",
       "</table>\n",
       "</div>"
      ],
      "text/plain": [
       "             tweet_ID     label  \\\n",
       "0  105121481662541824  negative   \n",
       "1  104319460143415296  negative   \n",
       "2  103641916586999808   neutral   \n",
       "3  100544750414864384   neutral   \n",
       "4  102220476499243008   neutral   \n",
       "\n",
       "                                                text  pos_words  neg_words  \n",
       "0  I forgot how sad the first episode of the 5th ...          0          1  \n",
       "1  Oct. 2 is almost too far away for me to wait f...          0          0  \n",
       "2  (OFF TOPIC) - there is only 3 episodes on the ...          0          0  \n",
       "3  @iheardavoicesay is finally catching up to me ...          0          0  \n",
       "4  I downloaded the first season of #Dexter, gonn...          0          0  "
      ]
     },
     "execution_count": 94,
     "metadata": {},
     "output_type": "execute_result"
    }
   ],
   "source": [
    "df.head()"
   ]
  },
  {
   "cell_type": "markdown",
   "metadata": {},
   "source": [
    "Apply the following classification rule:\n",
    "\\begin{equation}\n",
    "\\hat{y}_i = \n",
    "\\begin{cases}\n",
    "\\text{positive}, & \\texttt{pos_words} > \\texttt{neg_words}\\\\\n",
    "\\text{negative}, & \\texttt{pos_words} < \\texttt{neg_words}\\\\\n",
    "\\text{neutral}, & \\texttt{pos_words} = \\texttt{neg_words}\n",
    "\\end{cases}\n",
    "\\end{equation}"
   ]
  },
  {
   "cell_type": "code",
   "execution_count": 95,
   "metadata": {
    "collapsed": true
   },
   "outputs": [],
   "source": [
    "preds = pd.Series(['neutral'] * len(df))\n",
    "preds[df['pos_words']>df['neg_words']] = 'positive'\n",
    "preds[df['pos_words']<df['neg_words']] = 'negative'"
   ]
  },
  {
   "cell_type": "markdown",
   "metadata": {},
   "source": [
    "**Your turn**: Use `df.assign` to add a column to the table called `prediction`, reflecting the predictions of this classifier."
   ]
  },
  {
   "cell_type": "code",
   "execution_count": 97,
   "metadata": {
    "collapsed": true
   },
   "outputs": [],
   "source": [
    "# your code here"
   ]
  },
  {
   "cell_type": "markdown",
   "metadata": {},
   "source": [
    "# Measuring classifier performance"
   ]
  },
  {
   "cell_type": "markdown",
   "metadata": {},
   "source": [
    "Let's first compute the accuracy"
   ]
  },
  {
   "cell_type": "code",
   "execution_count": 98,
   "metadata": {
    "collapsed": false
   },
   "outputs": [
    {
     "name": "stdout",
     "output_type": "stream",
     "text": [
      "Accuracy: 0.5481\n"
     ]
    }
   ],
   "source": [
    "acc=(df['prediction']==df['label']).mean()\n",
    "print('Accuracy: %.4f'%acc)"
   ]
  },
  {
   "cell_type": "markdown",
   "metadata": {},
   "source": [
    "Is this good? A weak baseline is the frequency of the most common label. \n",
    "\n",
    "**Your turn** Compute the frequency of each label."
   ]
  },
  {
   "cell_type": "code",
   "execution_count": 128,
   "metadata": {
    "collapsed": true
   },
   "outputs": [],
   "source": [
    "# your code here"
   ]
  },
  {
   "cell_type": "markdown",
   "metadata": {},
   "source": [
    "Now let's compute the recall and precision, for the positive and negative classes."
   ]
  },
  {
   "cell_type": "code",
   "execution_count": 100,
   "metadata": {
    "collapsed": true
   },
   "outputs": [],
   "source": [
    "tp = sum((df['label']=='positive') & (df['prediction']=='positive'))\n",
    "fp = sum((df['label']!='positive') & (df['prediction']=='positive'))"
   ]
  },
  {
   "cell_type": "code",
   "execution_count": 101,
   "metadata": {
    "collapsed": false
   },
   "outputs": [
    {
     "name": "stdout",
     "output_type": "stream",
     "text": [
      "precision: 0.593\n"
     ]
    }
   ],
   "source": [
    "prec = tp/(tp+fp)\n",
    "print('precision: %.3f'%(prec))"
   ]
  },
  {
   "cell_type": "markdown",
   "metadata": {},
   "source": [
    "**Your turn**: compute the recall for the positive class"
   ]
  },
  {
   "cell_type": "code",
   "execution_count": 135,
   "metadata": {
    "collapsed": true
   },
   "outputs": [],
   "source": [
    "# your code here"
   ]
  },
  {
   "cell_type": "code",
   "execution_count": 103,
   "metadata": {
    "collapsed": false
   },
   "outputs": [
    {
     "name": "stdout",
     "output_type": "stream",
     "text": [
      "f1: 0.596\n"
     ]
    }
   ],
   "source": [
    "f1 = 2 * prec * rec / (prec + rec)\n",
    "print('f1: %.3f'%(f1))"
   ]
  },
  {
   "cell_type": "markdown",
   "metadata": {},
   "source": [
    "**Your turn**: compute recall, precision, and F1 for the negative class."
   ]
  },
  {
   "cell_type": "code",
   "execution_count": 246,
   "metadata": {
    "collapsed": true
   },
   "outputs": [],
   "source": [
    "# your code here. should be p = .31, r = .36"
   ]
  },
  {
   "cell_type": "markdown",
   "metadata": {
    "collapsed": true
   },
   "source": [
    "# Sentiment over time\n",
    "\n",
    "Let's try and replicate the Golder and Macy result about sentiment over time. \n",
    "\n",
    "Copy or link in the `ebola-tweets-short.json` file from lab 2."
   ]
  },
  {
   "cell_type": "code",
   "execution_count": 108,
   "metadata": {
    "collapsed": true
   },
   "outputs": [],
   "source": [
    "import json"
   ]
  },
  {
   "cell_type": "code",
   "execution_count": 109,
   "metadata": {
    "collapsed": true
   },
   "outputs": [],
   "source": [
    "dec = json.JSONDecoder()"
   ]
  },
  {
   "cell_type": "code",
   "execution_count": 112,
   "metadata": {
    "collapsed": false
   },
   "outputs": [],
   "source": [
    "with open('ebola-tweets-short.json') as fin:\n",
    "    objs = [dec.decode(line) for line in fin]"
   ]
  },
  {
   "cell_type": "code",
   "execution_count": 117,
   "metadata": {
    "collapsed": false
   },
   "outputs": [],
   "source": [
    "df_tweets = pd.DataFrame(objs)"
   ]
  },
  {
   "cell_type": "code",
   "execution_count": 120,
   "metadata": {
    "collapsed": false
   },
   "outputs": [
    {
     "data": {
      "text/plain": [
       "Index(['contributors', 'coordinates', 'created_at', 'entities',\n",
       "       'extended_entities', 'favorite_count', 'favorited', 'filter_level',\n",
       "       'geo', 'id', 'id_str', 'in_reply_to_screen_name',\n",
       "       'in_reply_to_status_id', 'in_reply_to_status_id_str',\n",
       "       'in_reply_to_user_id', 'in_reply_to_user_id_str', 'lang', 'place',\n",
       "       'possibly_sensitive', 'retweet_count', 'retweeted', 'retweeted_status',\n",
       "       'source', 'text', 'timestamp_ms', 'truncated', 'user'],\n",
       "      dtype='object')"
      ]
     },
     "execution_count": 120,
     "metadata": {},
     "output_type": "execute_result"
    }
   ],
   "source": [
    "df_tweets.keys()"
   ]
  },
  {
   "cell_type": "code",
   "execution_count": 121,
   "metadata": {
    "collapsed": false
   },
   "outputs": [],
   "source": [
    "counts_tw = [count_words(text,[pos_set,neg_set]) for text in df_tweets['text']]"
   ]
  },
  {
   "cell_type": "code",
   "execution_count": 123,
   "metadata": {
    "collapsed": false
   },
   "outputs": [
    {
     "data": {
      "text/plain": [
       "[[0, 0], [0, 0], [0, 2], [1, 0]]"
      ]
     },
     "execution_count": 123,
     "metadata": {},
     "output_type": "execute_result"
    }
   ],
   "source": [
    "counts_tw[:4]"
   ]
  },
  {
   "cell_type": "markdown",
   "metadata": {},
   "source": [
    "**Your turn** create columns `pos_count` and `neg_count` in `df_tweets`"
   ]
  },
  {
   "cell_type": "code",
   "execution_count": null,
   "metadata": {
    "collapsed": true
   },
   "outputs": [],
   "source": [
    "# your code here"
   ]
  },
  {
   "cell_type": "code",
   "execution_count": 172,
   "metadata": {
    "collapsed": false
   },
   "outputs": [
    {
     "data": {
      "text/plain": [
       "0    0\n",
       "1    0\n",
       "2    2\n",
       "3    0\n",
       "4    0\n",
       "Name: neg_count, dtype: int64"
      ]
     },
     "execution_count": 172,
     "metadata": {},
     "output_type": "execute_result"
    }
   ],
   "source": [
    "df_tweets['neg_count'].head()"
   ]
  },
  {
   "cell_type": "markdown",
   "metadata": {},
   "source": [
    "To compute the rate per hour, we also need the total number of tokens in each tweet."
   ]
  },
  {
   "cell_type": "code",
   "execution_count": 243,
   "metadata": {
    "collapsed": false
   },
   "outputs": [],
   "source": [
    "num_toks = [len(tokenizer.tokenize(tweet)) for tweet in df_tweets['text']]"
   ]
  },
  {
   "cell_type": "code",
   "execution_count": 244,
   "metadata": {
    "collapsed": false
   },
   "outputs": [
    {
     "name": "stdout",
     "output_type": "stream",
     "text": [
      "[4, 8, 29, 8, 1]\n"
     ]
    }
   ],
   "source": [
    "print(num_toks[:5])"
   ]
  },
  {
   "cell_type": "code",
   "execution_count": 176,
   "metadata": {
    "collapsed": true
   },
   "outputs": [],
   "source": [
    "df_tweets = df_tweets.assign(num_toks=num_toks)"
   ]
  },
  {
   "cell_type": "markdown",
   "metadata": {},
   "source": [
    "## Time stamps\n",
    "\n",
    "Now we need to handle the timestamps. These are stored in the `created_at` field in the json.\n",
    "\n",
    "**Note**: unfortunately these are GMT. To replicate the Golder/Macy analysis, you'd have to convert to the user's own time zone, using the `user.utc_offset` field of the json object."
   ]
  },
  {
   "cell_type": "code",
   "execution_count": 245,
   "metadata": {
    "collapsed": false
   },
   "outputs": [
    {
     "data": {
      "text/plain": [
       "'Thu Aug 28 15:36:29 +0000 2014'"
      ]
     },
     "execution_count": 245,
     "metadata": {},
     "output_type": "execute_result"
    }
   ],
   "source": [
    "df_tweets['created_at'][1]"
   ]
  },
  {
   "cell_type": "code",
   "execution_count": 242,
   "metadata": {
    "collapsed": false
   },
   "outputs": [
    {
     "data": {
      "text/plain": [
       "-10800"
      ]
     },
     "execution_count": 242,
     "metadata": {},
     "output_type": "execute_result"
    }
   ],
   "source": [
    "df_tweets['user'][1]['utc_offset']"
   ]
  },
  {
   "cell_type": "code",
   "execution_count": 178,
   "metadata": {
    "collapsed": false
   },
   "outputs": [
    {
     "data": {
      "text/plain": [
       "dtype('O')"
      ]
     },
     "execution_count": 178,
     "metadata": {},
     "output_type": "execute_result"
    }
   ],
   "source": [
    "df_tweets.created_at.dtype"
   ]
  },
  {
   "cell_type": "markdown",
   "metadata": {},
   "source": [
    "This means the 'created_at' field is just a string. We need to convert to a structured object, `datetime`"
   ]
  },
  {
   "cell_type": "code",
   "execution_count": 179,
   "metadata": {
    "collapsed": false
   },
   "outputs": [],
   "source": [
    "from datetime import datetime\n",
    "import re"
   ]
  },
  {
   "cell_type": "markdown",
   "metadata": {},
   "source": [
    "First, remove the +0000, which marks the number of milliseconds. Regexp from \n",
    "https://stackoverflow.com/questions/41818264/convert-twitter-time-into-datetime-in-specific-format-to-count-frequency-of-twee"
   ]
  },
  {
   "cell_type": "code",
   "execution_count": 180,
   "metadata": {
    "collapsed": true
   },
   "outputs": [],
   "source": [
    "remove_ms = lambda x:re.sub(\"\\+\\d+\\s\",\"\",x)"
   ]
  },
  {
   "cell_type": "code",
   "execution_count": 181,
   "metadata": {
    "collapsed": false
   },
   "outputs": [
    {
     "data": {
      "text/plain": [
       "'Thu Aug 28 15:36:29 2014'"
      ]
     },
     "execution_count": 181,
     "metadata": {},
     "output_type": "execute_result"
    }
   ],
   "source": [
    "remove_ms(df_tweets['created_at'][1])"
   ]
  },
  {
   "cell_type": "markdown",
   "metadata": {},
   "source": [
    "Now call datetime.strptime to convert to an object"
   ]
  },
  {
   "cell_type": "code",
   "execution_count": 163,
   "metadata": {
    "collapsed": false
   },
   "outputs": [],
   "source": [
    "date_obj = datetime.strptime(remove_ms(df_tweets['created_at'][1]),\"%a %b %d %H:%M:%S %Y\")"
   ]
  },
  {
   "cell_type": "code",
   "execution_count": 164,
   "metadata": {
    "collapsed": false
   },
   "outputs": [
    {
     "name": "stdout",
     "output_type": "stream",
     "text": [
      "2014-08-28 15:36:29\n"
     ]
    }
   ],
   "source": [
    "print(date_obj)"
   ]
  },
  {
   "cell_type": "markdown",
   "metadata": {},
   "source": [
    "Now we can get the hour"
   ]
  },
  {
   "cell_type": "code",
   "execution_count": 165,
   "metadata": {
    "collapsed": false
   },
   "outputs": [
    {
     "data": {
      "text/plain": [
       "15"
      ]
     },
     "execution_count": 165,
     "metadata": {},
     "output_type": "execute_result"
    }
   ],
   "source": [
    "date_obj.hour"
   ]
  },
  {
   "cell_type": "markdown",
   "metadata": {},
   "source": [
    "**Your turn**: add the hour as a column to the dataframe, `df_tweets['hour']`"
   ]
  },
  {
   "cell_type": "code",
   "execution_count": 190,
   "metadata": {
    "collapsed": true
   },
   "outputs": [],
   "source": [
    "# your code here"
   ]
  },
  {
   "cell_type": "code",
   "execution_count": 191,
   "metadata": {
    "collapsed": false
   },
   "outputs": [
    {
     "data": {
      "text/plain": [
       "0    15\n",
       "1    15\n",
       "2    15\n",
       "3    15\n",
       "4    15\n",
       "Name: hour, dtype: int64"
      ]
     },
     "execution_count": 191,
     "metadata": {},
     "output_type": "execute_result"
    }
   ],
   "source": [
    "df_tweets['hour'].head()"
   ]
  },
  {
   "cell_type": "markdown",
   "metadata": {},
   "source": [
    "# Plots"
   ]
  },
  {
   "cell_type": "markdown",
   "metadata": {},
   "source": [
    "Let's first aggregate by hour"
   ]
  },
  {
   "cell_type": "code",
   "execution_count": 207,
   "metadata": {
    "collapsed": false
   },
   "outputs": [],
   "source": [
    "df_agg = df_tweets.groupby('hour').aggregate('sum')[['pos_count','neg_count','num_toks']]"
   ]
  },
  {
   "cell_type": "code",
   "execution_count": 209,
   "metadata": {
    "collapsed": false
   },
   "outputs": [
    {
     "data": {
      "text/html": [
       "<div>\n",
       "<style>\n",
       "    .dataframe thead tr:only-child th {\n",
       "        text-align: right;\n",
       "    }\n",
       "\n",
       "    .dataframe thead th {\n",
       "        text-align: left;\n",
       "    }\n",
       "\n",
       "    .dataframe tbody tr th {\n",
       "        vertical-align: top;\n",
       "    }\n",
       "</style>\n",
       "<table border=\"1\" class=\"dataframe\">\n",
       "  <thead>\n",
       "    <tr style=\"text-align: right;\">\n",
       "      <th></th>\n",
       "      <th>pos_count</th>\n",
       "      <th>neg_count</th>\n",
       "      <th>num_toks</th>\n",
       "    </tr>\n",
       "    <tr>\n",
       "      <th>hour</th>\n",
       "      <th></th>\n",
       "      <th></th>\n",
       "      <th></th>\n",
       "    </tr>\n",
       "  </thead>\n",
       "  <tbody>\n",
       "    <tr>\n",
       "      <th>0</th>\n",
       "      <td>12.0</td>\n",
       "      <td>10.0</td>\n",
       "      <td>793.0</td>\n",
       "    </tr>\n",
       "    <tr>\n",
       "      <th>1</th>\n",
       "      <td>4.0</td>\n",
       "      <td>7.0</td>\n",
       "      <td>304.0</td>\n",
       "    </tr>\n",
       "    <tr>\n",
       "      <th>2</th>\n",
       "      <td>0.0</td>\n",
       "      <td>16.0</td>\n",
       "      <td>444.0</td>\n",
       "    </tr>\n",
       "    <tr>\n",
       "      <th>3</th>\n",
       "      <td>1.0</td>\n",
       "      <td>15.0</td>\n",
       "      <td>339.0</td>\n",
       "    </tr>\n",
       "    <tr>\n",
       "      <th>4</th>\n",
       "      <td>1.0</td>\n",
       "      <td>4.0</td>\n",
       "      <td>270.0</td>\n",
       "    </tr>\n",
       "  </tbody>\n",
       "</table>\n",
       "</div>"
      ],
      "text/plain": [
       "      pos_count  neg_count  num_toks\n",
       "hour                                \n",
       "0          12.0       10.0     793.0\n",
       "1           4.0        7.0     304.0\n",
       "2           0.0       16.0     444.0\n",
       "3           1.0       15.0     339.0\n",
       "4           1.0        4.0     270.0"
      ]
     },
     "execution_count": 209,
     "metadata": {},
     "output_type": "execute_result"
    }
   ],
   "source": [
    "df_agg.head()"
   ]
  },
  {
   "cell_type": "markdown",
   "metadata": {},
   "source": [
    "In this data frame, each entry is the sum over all tweets in that hour."
   ]
  },
  {
   "cell_type": "code",
   "execution_count": 247,
   "metadata": {
    "collapsed": true
   },
   "outputs": [],
   "source": [
    "import matplotlib.pyplot as plt\n",
    "%matplotlib inline"
   ]
  },
  {
   "cell_type": "code",
   "execution_count": 225,
   "metadata": {
    "collapsed": false
   },
   "outputs": [
    {
     "data": {
      "image/png": "[encoded data removed]",
      "text/plain": [
       "<matplotlib.figure.Figure at 0x7efcf534e748>"
      ]
     },
     "metadata": {},
     "output_type": "display_data"
    }
   ],
   "source": [
    "plt.plot(df_agg.index,df_agg['pos_count']/df_agg['num_toks']);\n",
    "plt.plot(df_agg.index,df_agg['neg_count']/df_agg['num_toks']);\n",
    "plt.xlabel('hour')\n",
    "plt.ylabel('sentiment rate')\n",
    "plt.legend(['positive','negative']);"
   ]
  },
  {
   "cell_type": "markdown",
   "metadata": {},
   "source": [
    "Pretty noisy, but it looks like sentiment is especially negative at 2-3AM GMT."
   ]
  },
  {
   "cell_type": "markdown",
   "metadata": {},
   "source": [
    "# Possible extensions\n",
    "\n",
    "- Try the temporal analysis on more/different data\n",
    "- Try other sentiment lexicons\n",
    "- Compare various tokenizers\n",
    "- Try lexicon expansion"
   ]
  }
 ],
 "metadata": {
  "kernelspec": {
   "display_name": "Python 3",
   "language": "python",
   "name": "python3"
  },
  "language_info": {
   "codemirror_mode": {
    "name": "ipython",
    "version": 3
   },
   "file_extension": ".py",
   "mimetype": "text/x-python",
   "name": "python",
   "nbconvert_exporter": "python",
   "pygments_lexer": "ipython3",
   "version": "3.5.3"
  }
 },
 "nbformat": 4,
 "nbformat_minor": 2
}
